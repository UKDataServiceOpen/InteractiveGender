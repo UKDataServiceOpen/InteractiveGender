{
 "cells": [
  {
   "cell_type": "markdown",
   "id": "61fa3f10",
   "metadata": {},
   "source": [
    "# Sex\n",
    "\n",
    "This notebook will focus on calculating the male and female non-response rate for gender identity."
   ]
  },
  {
   "cell_type": "markdown",
   "id": "34076f6c",
   "metadata": {},
   "source": [
    "## Import libraries"
   ]
  },
  {
   "cell_type": "code",
   "execution_count": 2,
   "id": "f22f5c2f",
   "metadata": {},
   "outputs": [],
   "source": [
    "import pandas as pd"
   ]
  },
  {
   "cell_type": "markdown",
   "id": "1d783a72",
   "metadata": {},
   "source": [
    "## Read-in data"
   ]
  },
  {
   "cell_type": "code",
   "execution_count": 3,
   "id": "49ca1af0",
   "metadata": {},
   "outputs": [],
   "source": [
    "sex = pd.read_excel('../Data/Sex_GI.xlsx')"
   ]
  },
  {
   "cell_type": "code",
   "execution_count": 4,
   "id": "ce183397",
   "metadata": {},
   "outputs": [
    {
     "data": {
      "text/html": [
       "<div>\n",
       "<style scoped>\n",
       "    .dataframe tbody tr th:only-of-type {\n",
       "        vertical-align: middle;\n",
       "    }\n",
       "\n",
       "    .dataframe tbody tr th {\n",
       "        vertical-align: top;\n",
       "    }\n",
       "\n",
       "    .dataframe thead th {\n",
       "        text-align: right;\n",
       "    }\n",
       "</style>\n",
       "<table border=\"1\" class=\"dataframe\">\n",
       "  <thead>\n",
       "    <tr style=\"text-align: right;\">\n",
       "      <th></th>\n",
       "      <th>Lower tier local authorities Code</th>\n",
       "      <th>Lower tier local authorities</th>\n",
       "      <th>Gender identity (7 categories) Code</th>\n",
       "      <th>Gender identity (7 categories)</th>\n",
       "      <th>Sex (2 categories) Code</th>\n",
       "      <th>Sex (2 categories)</th>\n",
       "      <th>Observation</th>\n",
       "    </tr>\n",
       "  </thead>\n",
       "  <tbody>\n",
       "    <tr>\n",
       "      <th>0</th>\n",
       "      <td>E06000001</td>\n",
       "      <td>Hartlepool</td>\n",
       "      <td>-8</td>\n",
       "      <td>Does not apply</td>\n",
       "      <td>1</td>\n",
       "      <td>Female</td>\n",
       "      <td>0</td>\n",
       "    </tr>\n",
       "    <tr>\n",
       "      <th>1</th>\n",
       "      <td>E06000001</td>\n",
       "      <td>Hartlepool</td>\n",
       "      <td>-8</td>\n",
       "      <td>Does not apply</td>\n",
       "      <td>2</td>\n",
       "      <td>Male</td>\n",
       "      <td>0</td>\n",
       "    </tr>\n",
       "    <tr>\n",
       "      <th>2</th>\n",
       "      <td>E06000001</td>\n",
       "      <td>Hartlepool</td>\n",
       "      <td>1</td>\n",
       "      <td>Gender identity the same as sex registered at ...</td>\n",
       "      <td>1</td>\n",
       "      <td>Female</td>\n",
       "      <td>36936</td>\n",
       "    </tr>\n",
       "    <tr>\n",
       "      <th>3</th>\n",
       "      <td>E06000001</td>\n",
       "      <td>Hartlepool</td>\n",
       "      <td>1</td>\n",
       "      <td>Gender identity the same as sex registered at ...</td>\n",
       "      <td>2</td>\n",
       "      <td>Male</td>\n",
       "      <td>33652</td>\n",
       "    </tr>\n",
       "    <tr>\n",
       "      <th>4</th>\n",
       "      <td>E06000001</td>\n",
       "      <td>Hartlepool</td>\n",
       "      <td>2</td>\n",
       "      <td>Gender identity different from sex registered ...</td>\n",
       "      <td>1</td>\n",
       "      <td>Female</td>\n",
       "      <td>93</td>\n",
       "    </tr>\n",
       "  </tbody>\n",
       "</table>\n",
       "</div>"
      ],
      "text/plain": [
       "  Lower tier local authorities Code Lower tier local authorities  \\\n",
       "0                         E06000001                   Hartlepool   \n",
       "1                         E06000001                   Hartlepool   \n",
       "2                         E06000001                   Hartlepool   \n",
       "3                         E06000001                   Hartlepool   \n",
       "4                         E06000001                   Hartlepool   \n",
       "\n",
       "   Gender identity (7 categories) Code  \\\n",
       "0                                   -8   \n",
       "1                                   -8   \n",
       "2                                    1   \n",
       "3                                    1   \n",
       "4                                    2   \n",
       "\n",
       "                      Gender identity (7 categories)  Sex (2 categories) Code  \\\n",
       "0                                     Does not apply                        1   \n",
       "1                                     Does not apply                        2   \n",
       "2  Gender identity the same as sex registered at ...                        1   \n",
       "3  Gender identity the same as sex registered at ...                        2   \n",
       "4  Gender identity different from sex registered ...                        1   \n",
       "\n",
       "  Sex (2 categories)  Observation  \n",
       "0             Female            0  \n",
       "1               Male            0  \n",
       "2             Female        36936  \n",
       "3               Male        33652  \n",
       "4             Female           93  "
      ]
     },
     "execution_count": 4,
     "metadata": {},
     "output_type": "execute_result"
    }
   ],
   "source": [
    "# Let's take a look...\n",
    "\n",
    "sex.head()"
   ]
  },
  {
   "cell_type": "code",
   "execution_count": 5,
   "id": "60258d98",
   "metadata": {},
   "outputs": [],
   "source": [
    "# Let's drop some unnecessary columns\n",
    "\n",
    "sex.drop(sex.columns[[0,1,4]], axis = 1, inplace = True)"
   ]
  },
  {
   "cell_type": "code",
   "execution_count": 6,
   "id": "28866ffa",
   "metadata": {},
   "outputs": [],
   "source": [
    "# Let's subset by the column we want\n",
    "\n",
    "sex_nr = sex[sex['Gender identity (7 categories) Code'] == 6]"
   ]
  },
  {
   "cell_type": "code",
   "execution_count": 8,
   "id": "fc8d8fd5",
   "metadata": {},
   "outputs": [
    {
     "data": {
      "text/html": [
       "<div>\n",
       "<style scoped>\n",
       "    .dataframe tbody tr th:only-of-type {\n",
       "        vertical-align: middle;\n",
       "    }\n",
       "\n",
       "    .dataframe tbody tr th {\n",
       "        vertical-align: top;\n",
       "    }\n",
       "\n",
       "    .dataframe thead th {\n",
       "        text-align: right;\n",
       "    }\n",
       "</style>\n",
       "<table border=\"1\" class=\"dataframe\">\n",
       "  <thead>\n",
       "    <tr style=\"text-align: right;\">\n",
       "      <th></th>\n",
       "      <th>Gender identity (7 categories) Code</th>\n",
       "      <th>Gender identity (7 categories)</th>\n",
       "      <th>Sex (2 categories)</th>\n",
       "      <th>Observation</th>\n",
       "    </tr>\n",
       "  </thead>\n",
       "  <tbody>\n",
       "    <tr>\n",
       "      <th>12</th>\n",
       "      <td>6</td>\n",
       "      <td>Not answered</td>\n",
       "      <td>Female</td>\n",
       "      <td>1948</td>\n",
       "    </tr>\n",
       "    <tr>\n",
       "      <th>13</th>\n",
       "      <td>6</td>\n",
       "      <td>Not answered</td>\n",
       "      <td>Male</td>\n",
       "      <td>1829</td>\n",
       "    </tr>\n",
       "    <tr>\n",
       "      <th>26</th>\n",
       "      <td>6</td>\n",
       "      <td>Not answered</td>\n",
       "      <td>Female</td>\n",
       "      <td>3380</td>\n",
       "    </tr>\n",
       "    <tr>\n",
       "      <th>27</th>\n",
       "      <td>6</td>\n",
       "      <td>Not answered</td>\n",
       "      <td>Male</td>\n",
       "      <td>3611</td>\n",
       "    </tr>\n",
       "    <tr>\n",
       "      <th>40</th>\n",
       "      <td>6</td>\n",
       "      <td>Not answered</td>\n",
       "      <td>Female</td>\n",
       "      <td>2802</td>\n",
       "    </tr>\n",
       "  </tbody>\n",
       "</table>\n",
       "</div>"
      ],
      "text/plain": [
       "    Gender identity (7 categories) Code Gender identity (7 categories)  \\\n",
       "12                                    6                   Not answered   \n",
       "13                                    6                   Not answered   \n",
       "26                                    6                   Not answered   \n",
       "27                                    6                   Not answered   \n",
       "40                                    6                   Not answered   \n",
       "\n",
       "   Sex (2 categories)  Observation  \n",
       "12             Female         1948  \n",
       "13               Male         1829  \n",
       "26             Female         3380  \n",
       "27               Male         3611  \n",
       "40             Female         2802  "
      ]
     },
     "execution_count": 8,
     "metadata": {},
     "output_type": "execute_result"
    }
   ],
   "source": [
    "# Neat, it worked.\n",
    "\n",
    "sex_nr.head()"
   ]
  },
  {
   "cell_type": "markdown",
   "id": "863acdb3",
   "metadata": {},
   "source": [
    "# Analysis"
   ]
  },
  {
   "cell_type": "code",
   "execution_count": 14,
   "id": "26d182bb",
   "metadata": {},
   "outputs": [],
   "source": [
    "# Use groupby to create dataframe with total non_response observations for each sex\n",
    "\n",
    "sex_grouped = sex_nr.groupby('Sex (2 categories)')['Observation'].sum().reset_index(name = 'NR_Total')"
   ]
  },
  {
   "cell_type": "code",
   "execution_count": 15,
   "id": "5aa8c644",
   "metadata": {},
   "outputs": [
    {
     "data": {
      "text/html": [
       "<div>\n",
       "<style scoped>\n",
       "    .dataframe tbody tr th:only-of-type {\n",
       "        vertical-align: middle;\n",
       "    }\n",
       "\n",
       "    .dataframe tbody tr th {\n",
       "        vertical-align: top;\n",
       "    }\n",
       "\n",
       "    .dataframe thead th {\n",
       "        text-align: right;\n",
       "    }\n",
       "</style>\n",
       "<table border=\"1\" class=\"dataframe\">\n",
       "  <thead>\n",
       "    <tr style=\"text-align: right;\">\n",
       "      <th></th>\n",
       "      <th>Sex (2 categories)</th>\n",
       "      <th>NR_Total</th>\n",
       "    </tr>\n",
       "  </thead>\n",
       "  <tbody>\n",
       "    <tr>\n",
       "      <th>0</th>\n",
       "      <td>Female</td>\n",
       "      <td>1449457</td>\n",
       "    </tr>\n",
       "    <tr>\n",
       "      <th>1</th>\n",
       "      <td>Male</td>\n",
       "      <td>1465166</td>\n",
       "    </tr>\n",
       "  </tbody>\n",
       "</table>\n",
       "</div>"
      ],
      "text/plain": [
       "  Sex (2 categories)  NR_Total\n",
       "0             Female   1449457\n",
       "1               Male   1465166"
      ]
     },
     "execution_count": 15,
     "metadata": {},
     "output_type": "execute_result"
    }
   ],
   "source": [
    "sex_grouped"
   ]
  },
  {
   "cell_type": "code",
   "execution_count": 16,
   "id": "1c055a2e",
   "metadata": {},
   "outputs": [],
   "source": [
    "# Group the original dataset by the sex category and get the total observations for each sex category\n",
    "\n",
    "total_obs = sex.groupby('Sex (2 categories)')['Observation'].sum().reset_index(name = 'Total_Observations')"
   ]
  },
  {
   "cell_type": "code",
   "execution_count": 17,
   "id": "2b578630",
   "metadata": {},
   "outputs": [
    {
     "data": {
      "text/html": [
       "<div>\n",
       "<style scoped>\n",
       "    .dataframe tbody tr th:only-of-type {\n",
       "        vertical-align: middle;\n",
       "    }\n",
       "\n",
       "    .dataframe tbody tr th {\n",
       "        vertical-align: top;\n",
       "    }\n",
       "\n",
       "    .dataframe thead th {\n",
       "        text-align: right;\n",
       "    }\n",
       "</style>\n",
       "<table border=\"1\" class=\"dataframe\">\n",
       "  <thead>\n",
       "    <tr style=\"text-align: right;\">\n",
       "      <th></th>\n",
       "      <th>Sex (2 categories)</th>\n",
       "      <th>Total_Observations</th>\n",
       "    </tr>\n",
       "  </thead>\n",
       "  <tbody>\n",
       "    <tr>\n",
       "      <th>0</th>\n",
       "      <td>Female</td>\n",
       "      <td>25039033</td>\n",
       "    </tr>\n",
       "    <tr>\n",
       "      <th>1</th>\n",
       "      <td>Male</td>\n",
       "      <td>23527378</td>\n",
       "    </tr>\n",
       "  </tbody>\n",
       "</table>\n",
       "</div>"
      ],
      "text/plain": [
       "  Sex (2 categories)  Total_Observations\n",
       "0             Female            25039033\n",
       "1               Male            23527378"
      ]
     },
     "execution_count": 17,
     "metadata": {},
     "output_type": "execute_result"
    }
   ],
   "source": [
    "total_obs"
   ]
  },
  {
   "cell_type": "code",
   "execution_count": 18,
   "id": "4f90268d",
   "metadata": {},
   "outputs": [],
   "source": [
    "# Divide non-response totals by total observations overall\n",
    "\n",
    "sex_grouped['NR_rate'] = (sex_grouped['NR_Total'] / total_obs['Total_Observations'] * 100).round(2)"
   ]
  },
  {
   "cell_type": "code",
   "execution_count": 19,
   "id": "c4506d97",
   "metadata": {},
   "outputs": [
    {
     "data": {
      "text/html": [
       "<div>\n",
       "<style scoped>\n",
       "    .dataframe tbody tr th:only-of-type {\n",
       "        vertical-align: middle;\n",
       "    }\n",
       "\n",
       "    .dataframe tbody tr th {\n",
       "        vertical-align: top;\n",
       "    }\n",
       "\n",
       "    .dataframe thead th {\n",
       "        text-align: right;\n",
       "    }\n",
       "</style>\n",
       "<table border=\"1\" class=\"dataframe\">\n",
       "  <thead>\n",
       "    <tr style=\"text-align: right;\">\n",
       "      <th></th>\n",
       "      <th>Sex (2 categories)</th>\n",
       "      <th>NR_Total</th>\n",
       "      <th>NR_rate</th>\n",
       "    </tr>\n",
       "  </thead>\n",
       "  <tbody>\n",
       "    <tr>\n",
       "      <th>0</th>\n",
       "      <td>Female</td>\n",
       "      <td>1449457</td>\n",
       "      <td>5.79</td>\n",
       "    </tr>\n",
       "    <tr>\n",
       "      <th>1</th>\n",
       "      <td>Male</td>\n",
       "      <td>1465166</td>\n",
       "      <td>6.23</td>\n",
       "    </tr>\n",
       "  </tbody>\n",
       "</table>\n",
       "</div>"
      ],
      "text/plain": [
       "  Sex (2 categories)  NR_Total  NR_rate\n",
       "0             Female   1449457     5.79\n",
       "1               Male   1465166     6.23"
      ]
     },
     "execution_count": 19,
     "metadata": {},
     "output_type": "execute_result"
    }
   ],
   "source": [
    "# Done!\n",
    "\n",
    "sex_grouped"
   ]
  },
  {
   "cell_type": "markdown",
   "id": "0cc8b62d",
   "metadata": {},
   "source": [
    "# Output"
   ]
  },
  {
   "cell_type": "code",
   "execution_count": 22,
   "id": "4b6156ee",
   "metadata": {},
   "outputs": [],
   "source": [
    "sex_grouped.to_csv('../Data/sex_totals_GI.csv')"
   ]
  }
 ],
 "metadata": {
  "kernelspec": {
   "display_name": "newenv",
   "language": "python",
   "name": "newenv"
  },
  "language_info": {
   "codemirror_mode": {
    "name": "ipython",
    "version": 3
   },
   "file_extension": ".py",
   "mimetype": "text/x-python",
   "name": "python",
   "nbconvert_exporter": "python",
   "pygments_lexer": "ipython3",
   "version": "3.9.16"
  },
  "toc": {
   "base_numbering": 1,
   "nav_menu": {},
   "number_sections": true,
   "sideBar": true,
   "skip_h1_title": false,
   "title_cell": "Table of Contents",
   "title_sidebar": "Contents",
   "toc_cell": false,
   "toc_position": {},
   "toc_section_display": true,
   "toc_window_display": true
  },
  "varInspector": {
   "cols": {
    "lenName": 16,
    "lenType": 16,
    "lenVar": 40
   },
   "kernels_config": {
    "python": {
     "delete_cmd_postfix": "",
     "delete_cmd_prefix": "del ",
     "library": "var_list.py",
     "varRefreshCmd": "print(var_dic_list())"
    },
    "r": {
     "delete_cmd_postfix": ") ",
     "delete_cmd_prefix": "rm(",
     "library": "var_list.r",
     "varRefreshCmd": "cat(var_dic_list()) "
    }
   },
   "types_to_exclude": [
    "module",
    "function",
    "builtin_function_or_method",
    "instance",
    "_Feature"
   ],
   "window_display": false
  }
 },
 "nbformat": 4,
 "nbformat_minor": 5
}
