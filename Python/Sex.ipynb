{
 "cells": [
  {
   "cell_type": "code",
   "execution_count": 1,
   "id": "91969706",
   "metadata": {},
   "outputs": [
    {
     "name": "stdout",
     "output_type": "stream",
     "text": [
      "Intel MKL WARNING: Support of Intel(R) Streaming SIMD Extensions 4.2 (Intel(R) SSE4.2) enabled only processors has been deprecated. Intel oneAPI Math Kernel Library 2025.0 will require Intel(R) Advanced Vector Extensions (Intel(R) AVX) instructions.\n",
      "Intel MKL WARNING: Support of Intel(R) Streaming SIMD Extensions 4.2 (Intel(R) SSE4.2) enabled only processors has been deprecated. Intel oneAPI Math Kernel Library 2025.0 will require Intel(R) Advanced Vector Extensions (Intel(R) AVX) instructions.\n"
     ]
    }
   ],
   "source": [
    "import pandas as pd"
   ]
  },
  {
   "cell_type": "markdown",
   "id": "e845533d",
   "metadata": {},
   "source": [
    "# Sexual orientation"
   ]
  },
  {
   "cell_type": "code",
   "execution_count": 2,
   "id": "a5190be2",
   "metadata": {},
   "outputs": [],
   "source": [
    "sex_s = pd.read_excel('/Users/loucap/Documents/GitWork/InteractiveGender/Data/Sex_SO.xlsx')"
   ]
  },
  {
   "cell_type": "code",
   "execution_count": 3,
   "id": "ab5aac45",
   "metadata": {},
   "outputs": [],
   "source": [
    "sex_s.rename(columns={'Lower tier local authorities Code':'LA_code', 'Lower tier local authorities':'LA_name', 'Sexual orientation (6 categories) Code': 'SO_code', 'Sexual orientation (6 categories)': 'SO_categories', 'Sex (2 categories) Code': 'Sex_c', 'Sex (2 categories)': 'Sex'}, inplace=True)"
   ]
  },
  {
   "cell_type": "code",
   "execution_count": 4,
   "id": "bb36ac55",
   "metadata": {},
   "outputs": [],
   "source": [
    "sex_s = sex_s[sex_s.SO_code != -8]"
   ]
  },
  {
   "cell_type": "code",
   "execution_count": 5,
   "id": "099382ae",
   "metadata": {},
   "outputs": [],
   "source": [
    "# Let's first get %'s of responses for each LA\n",
    "\n",
    "sex_s['Percentages'] = ''\n",
    "\n",
    "\n",
    "for i in sex_s.LA_code.unique():\n",
    "    b = sex_s[sex_s.LA_code == i]\n",
    "    percent = b['Observation'] / b['Observation'].sum() * 100\n",
    "    sex_s.loc[b.index, 'Percentages'] = percent"
   ]
  },
  {
   "cell_type": "code",
   "execution_count": 6,
   "id": "ed610c43",
   "metadata": {},
   "outputs": [],
   "source": [
    "# Now let's subset to get our non-response % for each LA\n",
    "\n",
    "non_res = sex_s[sex_s.SO_code == 5]"
   ]
  },
  {
   "cell_type": "code",
   "execution_count": 7,
   "id": "f311e8a3",
   "metadata": {},
   "outputs": [
    {
     "data": {
      "text/plain": [
       "1897782"
      ]
     },
     "execution_count": 7,
     "metadata": {},
     "output_type": "execute_result"
    }
   ],
   "source": [
    "w_nr_total = non_res[non_res.Sex == 'Female'].Observation.sum()\n",
    "w_nr_total"
   ]
  },
  {
   "cell_type": "code",
   "execution_count": 8,
   "id": "c16e9eb8",
   "metadata": {},
   "outputs": [
    {
     "data": {
      "text/plain": [
       "1728861"
      ]
     },
     "execution_count": 8,
     "metadata": {},
     "output_type": "execute_result"
    }
   ],
   "source": [
    "m_nr_total = non_res[non_res.Sex == 'Male'].Observation.sum()\n",
    "m_nr_total"
   ]
  },
  {
   "cell_type": "code",
   "execution_count": 9,
   "id": "d174de05",
   "metadata": {},
   "outputs": [
    {
     "data": {
      "text/plain": [
       "25039027"
      ]
     },
     "execution_count": 9,
     "metadata": {},
     "output_type": "execute_result"
    }
   ],
   "source": [
    "w_Total = sex_s[sex_s.Sex == 'Female'].Observation.sum()\n",
    "w_Total"
   ]
  },
  {
   "cell_type": "code",
   "execution_count": 10,
   "id": "efc33491",
   "metadata": {},
   "outputs": [
    {
     "data": {
      "text/plain": [
       "7.58"
      ]
     },
     "execution_count": 10,
     "metadata": {},
     "output_type": "execute_result"
    }
   ],
   "source": [
    "w_nr_percent = round(w_nr_total / w_Total * 100,2)\n",
    "w_nr_percent"
   ]
  },
  {
   "cell_type": "code",
   "execution_count": 11,
   "id": "10b01793",
   "metadata": {},
   "outputs": [
    {
     "data": {
      "text/plain": [
       "23527349"
      ]
     },
     "execution_count": 11,
     "metadata": {},
     "output_type": "execute_result"
    }
   ],
   "source": [
    "m_Total = sex_s[sex_s.Sex == 'Male'].Observation.sum()\n",
    "m_Total"
   ]
  },
  {
   "cell_type": "code",
   "execution_count": 12,
   "id": "eb0e64cb",
   "metadata": {},
   "outputs": [
    {
     "data": {
      "text/plain": [
       "7.35"
      ]
     },
     "execution_count": 12,
     "metadata": {},
     "output_type": "execute_result"
    }
   ],
   "source": [
    "m_nr_percent = round(m_nr_total / m_Total * 100,2)\n",
    "m_nr_percent"
   ]
  },
  {
   "cell_type": "code",
   "execution_count": 13,
   "id": "daf01f47",
   "metadata": {},
   "outputs": [],
   "source": [
    "# Calculate the total number of survey respondents for each sex\n",
    "total_by_sex = sex_s.groupby('Sex')['Observation'].sum().reset_index()"
   ]
  },
  {
   "cell_type": "code",
   "execution_count": 14,
   "id": "47f75bf2",
   "metadata": {},
   "outputs": [
    {
     "data": {
      "text/html": [
       "<div>\n",
       "<style scoped>\n",
       "    .dataframe tbody tr th:only-of-type {\n",
       "        vertical-align: middle;\n",
       "    }\n",
       "\n",
       "    .dataframe tbody tr th {\n",
       "        vertical-align: top;\n",
       "    }\n",
       "\n",
       "    .dataframe thead th {\n",
       "        text-align: right;\n",
       "    }\n",
       "</style>\n",
       "<table border=\"1\" class=\"dataframe\">\n",
       "  <thead>\n",
       "    <tr style=\"text-align: right;\">\n",
       "      <th></th>\n",
       "      <th>Sex</th>\n",
       "      <th>Observation</th>\n",
       "    </tr>\n",
       "  </thead>\n",
       "  <tbody>\n",
       "    <tr>\n",
       "      <th>0</th>\n",
       "      <td>Female</td>\n",
       "      <td>25039027</td>\n",
       "    </tr>\n",
       "    <tr>\n",
       "      <th>1</th>\n",
       "      <td>Male</td>\n",
       "      <td>23527349</td>\n",
       "    </tr>\n",
       "  </tbody>\n",
       "</table>\n",
       "</div>"
      ],
      "text/plain": [
       "      Sex  Observation\n",
       "0  Female     25039027\n",
       "1    Male     23527349"
      ]
     },
     "execution_count": 14,
     "metadata": {},
     "output_type": "execute_result"
    }
   ],
   "source": [
    "total_by_sex"
   ]
  },
  {
   "cell_type": "code",
   "execution_count": 15,
   "id": "61b0f1b4",
   "metadata": {},
   "outputs": [],
   "source": [
    "nr_by_sex = non_res.groupby('Sex')['Observation'].sum().reset_index()"
   ]
  },
  {
   "cell_type": "code",
   "execution_count": 16,
   "id": "a8ca4b0d",
   "metadata": {},
   "outputs": [
    {
     "data": {
      "text/html": [
       "<div>\n",
       "<style scoped>\n",
       "    .dataframe tbody tr th:only-of-type {\n",
       "        vertical-align: middle;\n",
       "    }\n",
       "\n",
       "    .dataframe tbody tr th {\n",
       "        vertical-align: top;\n",
       "    }\n",
       "\n",
       "    .dataframe thead th {\n",
       "        text-align: right;\n",
       "    }\n",
       "</style>\n",
       "<table border=\"1\" class=\"dataframe\">\n",
       "  <thead>\n",
       "    <tr style=\"text-align: right;\">\n",
       "      <th></th>\n",
       "      <th>Sex</th>\n",
       "      <th>Observation</th>\n",
       "    </tr>\n",
       "  </thead>\n",
       "  <tbody>\n",
       "    <tr>\n",
       "      <th>0</th>\n",
       "      <td>Female</td>\n",
       "      <td>1897782</td>\n",
       "    </tr>\n",
       "    <tr>\n",
       "      <th>1</th>\n",
       "      <td>Male</td>\n",
       "      <td>1728861</td>\n",
       "    </tr>\n",
       "  </tbody>\n",
       "</table>\n",
       "</div>"
      ],
      "text/plain": [
       "      Sex  Observation\n",
       "0  Female      1897782\n",
       "1    Male      1728861"
      ]
     },
     "execution_count": 16,
     "metadata": {},
     "output_type": "execute_result"
    }
   ],
   "source": [
    "nr_by_sex"
   ]
  },
  {
   "cell_type": "code",
   "execution_count": 17,
   "id": "ae7024b3",
   "metadata": {},
   "outputs": [],
   "source": [
    "nr_by_sex['Non_response_%'] = nr_by_sex.apply(lambda row: round(row['Observation'] / w_Total * 100, 2) if row['Sex'] == 'Female' else round(row['Observation'] / m_Total * 100, 2), axis=1)\n"
   ]
  },
  {
   "cell_type": "code",
   "execution_count": 18,
   "id": "4f507306",
   "metadata": {},
   "outputs": [
    {
     "data": {
      "text/html": [
       "<div>\n",
       "<style scoped>\n",
       "    .dataframe tbody tr th:only-of-type {\n",
       "        vertical-align: middle;\n",
       "    }\n",
       "\n",
       "    .dataframe tbody tr th {\n",
       "        vertical-align: top;\n",
       "    }\n",
       "\n",
       "    .dataframe thead th {\n",
       "        text-align: right;\n",
       "    }\n",
       "</style>\n",
       "<table border=\"1\" class=\"dataframe\">\n",
       "  <thead>\n",
       "    <tr style=\"text-align: right;\">\n",
       "      <th></th>\n",
       "      <th>Sex</th>\n",
       "      <th>Observation</th>\n",
       "      <th>Non_response_%</th>\n",
       "    </tr>\n",
       "  </thead>\n",
       "  <tbody>\n",
       "    <tr>\n",
       "      <th>0</th>\n",
       "      <td>Female</td>\n",
       "      <td>1897782</td>\n",
       "      <td>7.58</td>\n",
       "    </tr>\n",
       "    <tr>\n",
       "      <th>1</th>\n",
       "      <td>Male</td>\n",
       "      <td>1728861</td>\n",
       "      <td>7.35</td>\n",
       "    </tr>\n",
       "  </tbody>\n",
       "</table>\n",
       "</div>"
      ],
      "text/plain": [
       "      Sex  Observation  Non_response_%\n",
       "0  Female      1897782            7.58\n",
       "1    Male      1728861            7.35"
      ]
     },
     "execution_count": 18,
     "metadata": {},
     "output_type": "execute_result"
    }
   ],
   "source": [
    "nr_by_sex"
   ]
  },
  {
   "cell_type": "code",
   "execution_count": 19,
   "id": "ad866a9b",
   "metadata": {},
   "outputs": [],
   "source": [
    "from bokeh.layouts import column, row\n",
    "from bokeh.models import ColumnDataSource, Select, HTMLTemplateFormatter\n",
    "from bokeh.models.widgets import DataTable, TableColumn, Div\n",
    "from bokeh.plotting import figure, show, curdoc\n",
    "\n",
    "def create_datatable(source, columns):\n",
    "    heading = Div(text=f\"<h1>{columns[0].title}</h1>\", width=300)\n",
    "    data_table = DataTable(source=source, columns=columns, editable=False, width=500, index_position=None)\n",
    "    return column(heading, data_table), data_table\n",
    "\n",
    "source1 = ColumnDataSource(total_by_sex)\n",
    "\n",
    "columns1 = [\n",
    "    TableColumn(field=\"Sex\", title=\"Sex\"),\n",
    "    TableColumn(field=\"Observation\", title=\"Observation\")]\n",
    "\n",
    "layout, d_table1 = create_datatable(source1, columns1)\n",
    "\n",
    "source2 = ColumnDataSource(nr_by_sex)\n",
    "\n",
    "columns2 = [\n",
    "    TableColumn(field=\"Sex\", title=\"Sex\"),\n",
    "    TableColumn(field=\"Observation\", title=\"Observation\"),\n",
    "    TableColumn(field=\"Non_response_%\", title=\"Non response rate\")]\n",
    "\n",
    "layout1, d_table2 = create_datatable(source2, columns2)"
   ]
  },
  {
   "cell_type": "markdown",
   "id": "2ba3132a",
   "metadata": {},
   "source": [
    "# Gender identity"
   ]
  },
  {
   "cell_type": "code",
   "execution_count": 20,
   "id": "1b27cd5d",
   "metadata": {},
   "outputs": [],
   "source": [
    "sex_g = pd.read_excel('/Users/loucap/Documents/GitWork/InteractiveGender/Data/Sex_GI.xlsx')"
   ]
  },
  {
   "cell_type": "code",
   "execution_count": 21,
   "id": "924d0655",
   "metadata": {},
   "outputs": [],
   "source": [
    "sex_g.rename(columns={'Lower tier local authorities Code':'LA_code', 'Lower tier local authorities':'LA_name', 'Gender identity (7 categories) Code': 'GI_code', 'Gender identity (7 categories)': 'GI_categories', 'Sex (2 categories) Code': 'Sex_c', 'Sex (2 categories)': 'Sex'}, inplace=True)"
   ]
  },
  {
   "cell_type": "code",
   "execution_count": 22,
   "id": "c8d7920a",
   "metadata": {},
   "outputs": [],
   "source": [
    "sex_g = sex_g[sex_g.GI_code != -8]"
   ]
  },
  {
   "cell_type": "code",
   "execution_count": 23,
   "id": "00cc2d08",
   "metadata": {},
   "outputs": [],
   "source": [
    "# Let's first get %'s of responses for each LA\n",
    "\n",
    "sex_g['Percentages'] = ''\n",
    "\n",
    "\n",
    "for i in sex_g.LA_code.unique():\n",
    "    b = sex_g[sex_g.LA_code == i]\n",
    "    percent = b['Observation'] / b['Observation'].sum() * 100\n",
    "    sex_g.loc[b.index, 'Percentages'] = percent"
   ]
  },
  {
   "cell_type": "code",
   "execution_count": 24,
   "id": "27ada194",
   "metadata": {},
   "outputs": [],
   "source": [
    "# Now let's subset to get our non-response % for each LA\n",
    "\n",
    "non_res_g = sex_g[sex_g.GI_code == 6]"
   ]
  },
  {
   "cell_type": "code",
   "execution_count": 25,
   "id": "3fd07829",
   "metadata": {},
   "outputs": [],
   "source": [
    "# Calculate the total number of survey respondents for each religion\n",
    "total_by_sex_g = sex_g.groupby('Sex')['Observation'].sum().reset_index()"
   ]
  },
  {
   "cell_type": "code",
   "execution_count": 26,
   "id": "d76a0cca",
   "metadata": {},
   "outputs": [
    {
     "data": {
      "text/html": [
       "<div>\n",
       "<style scoped>\n",
       "    .dataframe tbody tr th:only-of-type {\n",
       "        vertical-align: middle;\n",
       "    }\n",
       "\n",
       "    .dataframe tbody tr th {\n",
       "        vertical-align: top;\n",
       "    }\n",
       "\n",
       "    .dataframe thead th {\n",
       "        text-align: right;\n",
       "    }\n",
       "</style>\n",
       "<table border=\"1\" class=\"dataframe\">\n",
       "  <thead>\n",
       "    <tr style=\"text-align: right;\">\n",
       "      <th></th>\n",
       "      <th>Sex</th>\n",
       "      <th>Observation</th>\n",
       "    </tr>\n",
       "  </thead>\n",
       "  <tbody>\n",
       "    <tr>\n",
       "      <th>0</th>\n",
       "      <td>Female</td>\n",
       "      <td>25039033</td>\n",
       "    </tr>\n",
       "    <tr>\n",
       "      <th>1</th>\n",
       "      <td>Male</td>\n",
       "      <td>23527378</td>\n",
       "    </tr>\n",
       "  </tbody>\n",
       "</table>\n",
       "</div>"
      ],
      "text/plain": [
       "      Sex  Observation\n",
       "0  Female     25039033\n",
       "1    Male     23527378"
      ]
     },
     "execution_count": 26,
     "metadata": {},
     "output_type": "execute_result"
    }
   ],
   "source": [
    "total_by_sex_g"
   ]
  },
  {
   "cell_type": "code",
   "execution_count": 27,
   "id": "0b2dcff4",
   "metadata": {},
   "outputs": [
    {
     "data": {
      "text/html": [
       "<div>\n",
       "<style scoped>\n",
       "    .dataframe tbody tr th:only-of-type {\n",
       "        vertical-align: middle;\n",
       "    }\n",
       "\n",
       "    .dataframe tbody tr th {\n",
       "        vertical-align: top;\n",
       "    }\n",
       "\n",
       "    .dataframe thead th {\n",
       "        text-align: right;\n",
       "    }\n",
       "</style>\n",
       "<table border=\"1\" class=\"dataframe\">\n",
       "  <thead>\n",
       "    <tr style=\"text-align: right;\">\n",
       "      <th></th>\n",
       "      <th>Sex</th>\n",
       "      <th>Observation</th>\n",
       "    </tr>\n",
       "  </thead>\n",
       "  <tbody>\n",
       "    <tr>\n",
       "      <th>0</th>\n",
       "      <td>Female</td>\n",
       "      <td>1449457</td>\n",
       "    </tr>\n",
       "    <tr>\n",
       "      <th>1</th>\n",
       "      <td>Male</td>\n",
       "      <td>1465166</td>\n",
       "    </tr>\n",
       "  </tbody>\n",
       "</table>\n",
       "</div>"
      ],
      "text/plain": [
       "      Sex  Observation\n",
       "0  Female      1449457\n",
       "1    Male      1465166"
      ]
     },
     "execution_count": 27,
     "metadata": {},
     "output_type": "execute_result"
    }
   ],
   "source": [
    "nr_by_sex_g = non_res_g.groupby('Sex')['Observation'].sum().reset_index()\n",
    "\n",
    "nr_by_sex_g"
   ]
  },
  {
   "cell_type": "code",
   "execution_count": 28,
   "id": "13346196",
   "metadata": {},
   "outputs": [],
   "source": [
    "w_Total_g = sex_g[sex_g.Sex == 'Female'].Observation.sum()\n",
    "m_Total_g = sex_g[sex_g.Sex == 'Male'].Observation.sum()"
   ]
  },
  {
   "cell_type": "code",
   "execution_count": 29,
   "id": "921d1487",
   "metadata": {},
   "outputs": [],
   "source": [
    "nr_by_sex_g['Non_response_%'] = nr_by_sex_g.apply(lambda row: round(row['Observation'] / w_Total_g * 100, 2) if row['Sex'] == 'Female' else round(row['Observation'] / m_Total_g * 100, 2), axis=1)\n"
   ]
  },
  {
   "cell_type": "code",
   "execution_count": 30,
   "id": "6e73ad8e",
   "metadata": {},
   "outputs": [
    {
     "data": {
      "text/html": [
       "<div>\n",
       "<style scoped>\n",
       "    .dataframe tbody tr th:only-of-type {\n",
       "        vertical-align: middle;\n",
       "    }\n",
       "\n",
       "    .dataframe tbody tr th {\n",
       "        vertical-align: top;\n",
       "    }\n",
       "\n",
       "    .dataframe thead th {\n",
       "        text-align: right;\n",
       "    }\n",
       "</style>\n",
       "<table border=\"1\" class=\"dataframe\">\n",
       "  <thead>\n",
       "    <tr style=\"text-align: right;\">\n",
       "      <th></th>\n",
       "      <th>Sex</th>\n",
       "      <th>Observation</th>\n",
       "      <th>Non_response_%</th>\n",
       "    </tr>\n",
       "  </thead>\n",
       "  <tbody>\n",
       "    <tr>\n",
       "      <th>0</th>\n",
       "      <td>Female</td>\n",
       "      <td>1449457</td>\n",
       "      <td>5.79</td>\n",
       "    </tr>\n",
       "    <tr>\n",
       "      <th>1</th>\n",
       "      <td>Male</td>\n",
       "      <td>1465166</td>\n",
       "      <td>6.23</td>\n",
       "    </tr>\n",
       "  </tbody>\n",
       "</table>\n",
       "</div>"
      ],
      "text/plain": [
       "      Sex  Observation  Non_response_%\n",
       "0  Female      1449457            5.79\n",
       "1    Male      1465166            6.23"
      ]
     },
     "execution_count": 30,
     "metadata": {},
     "output_type": "execute_result"
    }
   ],
   "source": [
    "nr_by_sex_g"
   ]
  },
  {
   "cell_type": "code",
   "execution_count": 31,
   "id": "f1ccf4c8",
   "metadata": {},
   "outputs": [
    {
     "data": {
      "text/html": [
       "<div>\n",
       "<style scoped>\n",
       "    .dataframe tbody tr th:only-of-type {\n",
       "        vertical-align: middle;\n",
       "    }\n",
       "\n",
       "    .dataframe tbody tr th {\n",
       "        vertical-align: top;\n",
       "    }\n",
       "\n",
       "    .dataframe thead th {\n",
       "        text-align: right;\n",
       "    }\n",
       "</style>\n",
       "<table border=\"1\" class=\"dataframe\">\n",
       "  <thead>\n",
       "    <tr style=\"text-align: right;\">\n",
       "      <th></th>\n",
       "      <th>Sex</th>\n",
       "      <th>Observation</th>\n",
       "      <th>Non_response_%</th>\n",
       "    </tr>\n",
       "  </thead>\n",
       "  <tbody>\n",
       "    <tr>\n",
       "      <th>0</th>\n",
       "      <td>Female</td>\n",
       "      <td>1449457</td>\n",
       "      <td>5.79</td>\n",
       "    </tr>\n",
       "    <tr>\n",
       "      <th>1</th>\n",
       "      <td>Male</td>\n",
       "      <td>1465166</td>\n",
       "      <td>6.23</td>\n",
       "    </tr>\n",
       "  </tbody>\n",
       "</table>\n",
       "</div>"
      ],
      "text/plain": [
       "      Sex  Observation  Non_response_%\n",
       "0  Female      1449457            5.79\n",
       "1    Male      1465166            6.23"
      ]
     },
     "execution_count": 31,
     "metadata": {},
     "output_type": "execute_result"
    }
   ],
   "source": [
    "nr_by_sex_g"
   ]
  },
  {
   "cell_type": "code",
   "execution_count": 32,
   "id": "a284d1ed",
   "metadata": {},
   "outputs": [],
   "source": [
    "source1 = ColumnDataSource(total_by_sex_g)\n",
    "\n",
    "columns1 = [\n",
    "    TableColumn(field=\"Sex\", title=\"Sex\"),\n",
    "    TableColumn(field=\"Observation\", title=\"Observation\")]\n",
    "\n",
    "layout, d_table1 = create_datatable(source1, columns1)\n",
    "\n",
    "source2 = ColumnDataSource(nr_by_sex_g)\n",
    "\n",
    "columns2 = [\n",
    "    TableColumn(field=\"Sex\", title=\"Sex\"),\n",
    "    TableColumn(field=\"Observation\", title=\"Observation\"),\n",
    "    TableColumn(field=\"Non_response_%\", title=\"Non response rate\")]\n",
    "\n",
    "layout1, d_table2 = create_datatable(source2, columns2)"
   ]
  },
  {
   "cell_type": "code",
   "execution_count": 33,
   "id": "53dd97f3",
   "metadata": {},
   "outputs": [],
   "source": [
    "show(d_table2)"
   ]
  },
  {
   "cell_type": "markdown",
   "id": "f3a0db08",
   "metadata": {},
   "source": [
    "# Outputs\n"
   ]
  },
  {
   "cell_type": "code",
   "execution_count": 34,
   "id": "73e46fe9",
   "metadata": {},
   "outputs": [],
   "source": [
    "total_by_sex.to_csv('/Users/loucap/Documents/GitWork/InteractiveGender/Data/sex_totals_SO_2.csv', index = False)\n",
    "nr_by_sex.to_csv('/Users/loucap/Documents/GitWork/InteractiveGender/Data/nr_totals_SO_2.csv', index = False)\n",
    "total_by_sex_g.to_csv('/Users/loucap/Documents/GitWork/InteractiveGender/Data/sex_totals_GI_2.csv', index = False)\n",
    "nr_by_sex_g.to_csv('/Users/loucap/Documents/GitWork/InteractiveGender/Data/nr_totals_GI_2.csv', index = False)"
   ]
  }
 ],
 "metadata": {
  "kernelspec": {
   "display_name": "newenv",
   "language": "python",
   "name": "newenv"
  },
  "language_info": {
   "codemirror_mode": {
    "name": "ipython",
    "version": 3
   },
   "file_extension": ".py",
   "mimetype": "text/x-python",
   "name": "python",
   "nbconvert_exporter": "python",
   "pygments_lexer": "ipython3",
   "version": "3.9.16"
  },
  "toc": {
   "base_numbering": 1,
   "nav_menu": {},
   "number_sections": true,
   "sideBar": true,
   "skip_h1_title": false,
   "title_cell": "Table of Contents",
   "title_sidebar": "Contents",
   "toc_cell": false,
   "toc_position": {},
   "toc_section_display": true,
   "toc_window_display": false
  },
  "varInspector": {
   "cols": {
    "lenName": 16,
    "lenType": 16,
    "lenVar": 40
   },
   "kernels_config": {
    "python": {
     "delete_cmd_postfix": "",
     "delete_cmd_prefix": "del ",
     "library": "var_list.py",
     "varRefreshCmd": "print(var_dic_list())"
    },
    "r": {
     "delete_cmd_postfix": ") ",
     "delete_cmd_prefix": "rm(",
     "library": "var_list.r",
     "varRefreshCmd": "cat(var_dic_list()) "
    }
   },
   "types_to_exclude": [
    "module",
    "function",
    "builtin_function_or_method",
    "instance",
    "_Feature"
   ],
   "window_display": false
  }
 },
 "nbformat": 4,
 "nbformat_minor": 5
}
