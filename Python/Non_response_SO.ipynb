{
 "cells": [
  {
   "cell_type": "markdown",
   "id": "6e3e4436",
   "metadata": {
    "toc": true
   },
   "source": [
    "<h1>Table of Contents<span class=\"tocSkip\"></span></h1>\n",
    "<div class=\"toc\"><ul class=\"toc-item\"><li><span><a href=\"#Read-in-data\" data-toc-modified-id=\"Read-in-data-1\"><span class=\"toc-item-num\">1&nbsp;&nbsp;</span>Read-in data</a></span></li><li><span><a href=\"#Read-in-language-dataset\" data-toc-modified-id=\"Read-in-language-dataset-2\"><span class=\"toc-item-num\">2&nbsp;&nbsp;</span>Read-in language dataset</a></span></li><li><span><a href=\"#Main-language\" data-toc-modified-id=\"Main-language-3\"><span class=\"toc-item-num\">3&nbsp;&nbsp;</span>Main language</a></span><ul class=\"toc-item\"><li><span><a href=\"#Read-in-region-data---additional-column\" data-toc-modified-id=\"Read-in-region-data---additional-column-3.1\"><span class=\"toc-item-num\">3.1&nbsp;&nbsp;</span>Read-in region data - additional column</a></span><ul class=\"toc-item\"><li><span><a href=\"#Top-20-LAs-by-Non-Response---hued-by-region\" data-toc-modified-id=\"Top-20-LAs-by-Non-Response---hued-by-region-3.1.1\"><span class=\"toc-item-num\">3.1.1&nbsp;&nbsp;</span>Top 20 LAs by Non-Response - hued by region</a></span></li></ul></li><li><span><a href=\"#Exploring-language-dataset\" data-toc-modified-id=\"Exploring-language-dataset-3.2\"><span class=\"toc-item-num\">3.2&nbsp;&nbsp;</span>Exploring language dataset</a></span><ul class=\"toc-item\"><li><span><a href=\"#Top-20-LAs-by-%-of-Non-English-as-Main-Language\" data-toc-modified-id=\"Top-20-LAs-by-%-of-Non-English-as-Main-Language-3.2.1\"><span class=\"toc-item-num\">3.2.1&nbsp;&nbsp;</span>Top 20 LAs by % of Non-English as Main Language</a></span></li></ul></li><li><span><a href=\"#Scatterplot---relationship-between-NR-rate-and-%-of-Non-English-speakers\" data-toc-modified-id=\"Scatterplot---relationship-between-NR-rate-and-%-of-Non-English-speakers-3.3\"><span class=\"toc-item-num\">3.3&nbsp;&nbsp;</span>Scatterplot - relationship between NR rate and % of Non-English speakers</a></span></li><li><span><a href=\"#Read-in-urban-vs-rural-dataset\" data-toc-modified-id=\"Read-in-urban-vs-rural-dataset-3.4\"><span class=\"toc-item-num\">3.4&nbsp;&nbsp;</span>Read-in urban vs rural dataset</a></span></li></ul></li><li><span><a href=\"#Religion\" data-toc-modified-id=\"Religion-4\"><span class=\"toc-item-num\">4&nbsp;&nbsp;</span>Religion</a></span></li><li><span><a href=\"#Total-numbers---table\" data-toc-modified-id=\"Total-numbers---table-5\"><span class=\"toc-item-num\">5&nbsp;&nbsp;</span>Total numbers - table</a></span><ul class=\"toc-item\"><li><span><a href=\"#Shannon-index\" data-toc-modified-id=\"Shannon-index-5.1\"><span class=\"toc-item-num\">5.1&nbsp;&nbsp;</span>Shannon index</a></span></li><li><span><a href=\"#%-Non-response-per-religious-category\" data-toc-modified-id=\"%-Non-response-per-religious-category-5.2\"><span class=\"toc-item-num\">5.2&nbsp;&nbsp;</span>% Non-response per religious category</a></span><ul class=\"toc-item\"><li><span><a href=\"#ATHEISTS\" data-toc-modified-id=\"ATHEISTS-5.2.1\"><span class=\"toc-item-num\">5.2.1&nbsp;&nbsp;</span>ATHEISTS</a></span></li></ul></li><li><span><a href=\"#Total-number-of-atheists-/-total-number-of-respondents\" data-toc-modified-id=\"Total-number-of-atheists-/-total-number-of-respondents-5.3\"><span class=\"toc-item-num\">5.3&nbsp;&nbsp;</span>Total number of atheists / total number of respondents</a></span></li><li><span><a href=\"#NR-rate-for-Atheists\" data-toc-modified-id=\"NR-rate-for-Atheists-5.4\"><span class=\"toc-item-num\">5.4&nbsp;&nbsp;</span>NR rate for Atheists</a></span><ul class=\"toc-item\"><li><span><a href=\"#CHRISTIAN\" data-toc-modified-id=\"CHRISTIAN-5.4.1\"><span class=\"toc-item-num\">5.4.1&nbsp;&nbsp;</span>CHRISTIAN</a></span></li></ul></li><li><span><a href=\"#Total-number-of-Christians-/-total-number-of-respondents\" data-toc-modified-id=\"Total-number-of-Christians-/-total-number-of-respondents-5.5\"><span class=\"toc-item-num\">5.5&nbsp;&nbsp;</span>Total number of Christians / total number of respondents</a></span></li><li><span><a href=\"#NR-rate-for-Atheists\" data-toc-modified-id=\"NR-rate-for-Atheists-5.6\"><span class=\"toc-item-num\">5.6&nbsp;&nbsp;</span>NR rate for Atheists</a></span><ul class=\"toc-item\"><li><span><a href=\"#MUSLIMS\" data-toc-modified-id=\"MUSLIMS-5.6.1\"><span class=\"toc-item-num\">5.6.1&nbsp;&nbsp;</span>MUSLIMS</a></span></li><li><span><a href=\"#OTHER-RELIGION\" data-toc-modified-id=\"OTHER-RELIGION-5.6.2\"><span class=\"toc-item-num\">5.6.2&nbsp;&nbsp;</span>OTHER RELIGION</a></span></li><li><span><a href=\"#BUDDHIST\" data-toc-modified-id=\"BUDDHIST-5.6.3\"><span class=\"toc-item-num\">5.6.3&nbsp;&nbsp;</span>BUDDHIST</a></span></li><li><span><a href=\"#JEWISH\" data-toc-modified-id=\"JEWISH-5.6.4\"><span class=\"toc-item-num\">5.6.4&nbsp;&nbsp;</span>JEWISH</a></span></li><li><span><a href=\"#HINDU\" data-toc-modified-id=\"HINDU-5.6.5\"><span class=\"toc-item-num\">5.6.5&nbsp;&nbsp;</span>HINDU</a></span></li><li><span><a href=\"#SIKH\" data-toc-modified-id=\"SIKH-5.6.6\"><span class=\"toc-item-num\">5.6.6&nbsp;&nbsp;</span>SIKH</a></span></li></ul></li></ul></li><li><span><a href=\"#Outputs\" data-toc-modified-id=\"Outputs-6\"><span class=\"toc-item-num\">6&nbsp;&nbsp;</span>Outputs</a></span></li></ul></div>"
   ]
  },
  {
   "cell_type": "code",
   "execution_count": 1,
   "id": "4f0897ec",
   "metadata": {},
   "outputs": [],
   "source": [
    "import pandas as pd\n",
    "import seaborn as sns\n",
    "import matplotlib.pylab as plt\n",
    "from bokeh.plotting import figure, show\n",
    "from bokeh.io import output_notebook\n",
    "import numpy as np"
   ]
  },
  {
   "cell_type": "markdown",
   "id": "026bd70e",
   "metadata": {},
   "source": [
    "# Read-in data"
   ]
  },
  {
   "cell_type": "code",
   "execution_count": 2,
   "id": "8c421a36",
   "metadata": {},
   "outputs": [],
   "source": [
    "# Let's also read in SO data\n",
    "\n",
    "so = pd.read_csv('/Users/loucap/Documents/GitWork/InteractiveGender/Data/so_renamed.csv')\n",
    "so.head()"
   ]
  },
  {
   "cell_type": "code",
   "execution_count": 3,
   "id": "9622de3e",
   "metadata": {},
   "outputs": [],
   "source": [
    "\n",
    "# Let's calculate the SO_category percentages for each local authority\n",
    "\n",
    "so['Percentages'] = ''\n",
    "\n",
    "\n",
    "for i in so.LA_code.unique():\n",
    "    b = so[so.LA_code == i]\n",
    "    percent = b['Observation'] / b['Observation'].sum() * 100\n",
    "    so.loc[b.index, 'Percentages'] = percent"
   ]
  },
  {
   "cell_type": "code",
   "execution_count": 4,
   "id": "20591fb9",
   "metadata": {},
   "outputs": [],
   "source": [
    "def top10(df, column_name, n):\n",
    "    \n",
    "    top_dfs = []\n",
    "    \n",
    "    for i in df[column_name].unique():\n",
    "        if i != 'Does not apply' and i != 'Straight or Heterosexual':\n",
    "            b = df[df[column_name] == i]\n",
    "            top_df = b.sort_values(by = 'Percentages', ascending = False)[:n]\n",
    "            top_dfs.append(top_df)\n",
    "        \n",
    "    result_df = pd.concat(top_dfs, ignore_index = True)\n",
    "        \n",
    "    return result_df"
   ]
  },
  {
   "cell_type": "code",
   "execution_count": 5,
   "id": "4593b1d9",
   "metadata": {},
   "outputs": [],
   "source": [
    "b = top10(so, 'SO_categories', n = 5)\n",
    "\n",
    "b"
   ]
  },
  {
   "cell_type": "code",
   "execution_count": 6,
   "id": "0ebc97cc",
   "metadata": {},
   "outputs": [],
   "source": [
    "# Create a custom color palette\n",
    "custom_palette = sns.color_palette(\"husl\", n_colors=b['LA_name'].nunique())\n",
    "\n",
    "# Create a color mapping dictionary\n",
    "color_mapping = {LA_name: color for LA_name, color in zip(b['LA_name'].unique(), custom_palette)}\n",
    "# Create a FacetGrid with subplots for each unique value in the 'SO_categories' column\n",
    "g = sns.FacetGrid(b, col='SO_categories', col_wrap=2, height=4, aspect=1, sharex = False)\n",
    "\n",
    "# Define a custom function to be used inside the FacetGrid\n",
    "def custom_barplot(x, y, **kwargs):\n",
    "    so_category = kwargs.pop('label')\n",
    "    order = b[b['SO_categories'] == so_category]['LA_name'].unique()\n",
    "    \n",
    "    if len(order) > 0:\n",
    "        sns.barplot(x=x, y=y, order=order, **kwargs)\n",
    "    else:\n",
    "        sns.barplot(x=x, y=y, **kwargs)\n",
    "\n",
    "# Use the custom function to create bar plots for each SO_category with the correct ordering\n",
    "g.map(custom_barplot, 'LA_name', 'Percentages', label='SO_categories', hue = b['LA_name'], dodge = False, palette = color_mapping)\n",
    "\n",
    "# Rotate x-axis labels\n",
    "for ax in g.axes.flat:\n",
    "    ax.set_xticklabels(ax.get_xticklabels(), rotation=45, horizontalalignment='right')\n",
    "\n",
    "# Customize the chart\n",
    "g.set_axis_labels(\"LA_name\", \"Percentages\")\n",
    "g.fig.tight_layout()\n",
    "g.add_legend()"
   ]
  },
  {
   "cell_type": "markdown",
   "id": "17bc5094",
   "metadata": {},
   "source": [
    "# Read-in language dataset"
   ]
  },
  {
   "cell_type": "code",
   "execution_count": 7,
   "id": "a935a57a",
   "metadata": {},
   "outputs": [],
   "source": [
    "lang = pd.read_csv('/Users/loucap/Documents/GitWork/InteractiveGender/Data/Language_2021.csv')"
   ]
  },
  {
   "cell_type": "code",
   "execution_count": 8,
   "id": "35fd9650",
   "metadata": {},
   "outputs": [],
   "source": [
    "lang.head()"
   ]
  },
  {
   "cell_type": "code",
   "execution_count": 9,
   "id": "b1c969ff",
   "metadata": {},
   "outputs": [],
   "source": [
    "lang = lang.rename(columns={'Lower Tier Local Authorities Code':'LA_code', 'Lower Tier Local Authorities':'LA_name', 'Main language (detailed) (95 categories)': 'ML_categories', 'Main language (detailed) (95 categories) Code': 'ML_code'})"
   ]
  },
  {
   "cell_type": "code",
   "execution_count": 10,
   "id": "b468d779",
   "metadata": {},
   "outputs": [],
   "source": [
    "lang.head()"
   ]
  },
  {
   "cell_type": "markdown",
   "id": "17c2f6b1",
   "metadata": {},
   "source": [
    "# Main language"
   ]
  },
  {
   "cell_type": "code",
   "execution_count": 11,
   "id": "5c7d2b75",
   "metadata": {},
   "outputs": [],
   "source": [
    "# Let's calculate our non-response rate...\n",
    "# Probably didn't need to do this.. but meh, will clean later!\n",
    "\n",
    "so['Non-response_rate'] = ''\n",
    "\n",
    "for i in so.LA_code.unique():\n",
    "    b = so[so.LA_code == i]\n",
    "#     print(b.index)\n",
    "    percent = b['Observation'].where(b['SO_code'] == 5) / b['Observation'].sum() * 100\n",
    "    so.loc[b.index, 'Non-response_rate'] = percent"
   ]
  },
  {
   "cell_type": "code",
   "execution_count": 12,
   "id": "f9687339",
   "metadata": {},
   "outputs": [],
   "source": [
    "# Let's go ahead and select only a subset of our dataframe where our SO_code == 5\n",
    "\n",
    "not_ans = so[so['SO_code'] == 5]"
   ]
  },
  {
   "cell_type": "markdown",
   "id": "a1fe4859",
   "metadata": {},
   "source": [
    "## Read-in region data - additional column"
   ]
  },
  {
   "cell_type": "code",
   "execution_count": 13,
   "id": "f4f5b9c9",
   "metadata": {},
   "outputs": [],
   "source": [
    "# Incorporating region - adding it as another column\n",
    "# Read-in region data\n",
    "\n",
    "region = pd.read_csv('/Users/loucap/Documents/GitWork/InteractiveGender/Data/Local_Authority__to_Region.csv')"
   ]
  },
  {
   "cell_type": "code",
   "execution_count": 14,
   "id": "27bd8deb",
   "metadata": {},
   "outputs": [],
   "source": [
    "# Create a key-value dictionary using zip() and a dictionary comprehension\n",
    "key_value_dict = {key: value for key, value in zip(region['LAD22NM'], region['RGN22NM'])}\n",
    "\n",
    "# Create a new column titled 'region' and set it to empty\n",
    "not_ans['region'] = ''\n",
    "\n",
    "\n",
    "for key, value in key_value_dict.items():\n",
    "#     Creates a boolean series where key = True\n",
    "    matching_rows = not_ans['LA_name'] == key\n",
    "# Use .loc to access the row in which key = True, i.e. where the 'LA_name' column matches the current key\n",
    "# We then access the region column and set it's value to match the corresponding value for our key.\n",
    "    not_ans.loc[matching_rows, 'region'] = value\n",
    "    \n",
    "    \n",
    "# Manual matching for those that couldn't be filled in\n",
    "\n",
    "\n",
    "not_ans.loc[not_ans['LA_name'] == 'Herefordshire', 'region'] = 'West Midlands'\n",
    "not_ans.loc[not_ans['LA_name'] == 'Kingston upon Hull', 'region'] = 'Yorkshire and The Humber'\n",
    "not_ans.loc[not_ans['LA_name'] == 'Bristol', 'region'] = 'South West'\n",
    "\n",
    "# The rest of the LA_names that weren't filled in all belong to the Wales region\n",
    "# So we subset the dataframe so we only have those rows where the region column is empty\n",
    "b = not_ans[not_ans.region == '']\n",
    "\n",
    "# Then we create a list from those unique values\n",
    "la_names = b.LA_name.unique().tolist()\n",
    "\n",
    "# We iterate through each value in the list\n",
    "for i in la_names:\n",
    "#     Again, we use the same method...\n",
    "# Creates a boolean series where the rows in LA_name are set to True if they match i\n",
    "    matching_rows = not_ans['LA_name'] == i\n",
    "#     Use .loc to access the rows where LA_name matches i\n",
    "# We then access the region column and set it's value to 'Wales'\n",
    "    not_ans.loc[matching_rows, 'region'] = 'Wales'"
   ]
  },
  {
   "cell_type": "code",
   "execution_count": 15,
   "id": "a30727e3",
   "metadata": {},
   "outputs": [],
   "source": [
    "# Sorted not_ans dataframe values by non-response rate, and grabbed the highest 20 values by...\n",
    "# setting ascending to False and slicing the dataframe \n",
    "\n",
    "top20 = not_ans.sort_values(by = 'Non-response_rate', ascending = False)[:20]\n",
    "\n",
    "# Here we have it.. this can now be plotted\n",
    "top20"
   ]
  },
  {
   "cell_type": "markdown",
   "id": "fd79a9ef",
   "metadata": {},
   "source": [
    "### Top 20 LAs by Non-Response - hued by region "
   ]
  },
  {
   "cell_type": "code",
   "execution_count": 16,
   "id": "f0529cef",
   "metadata": {},
   "outputs": [],
   "source": [
    "unique_hue_values = top20['region'].unique()\n",
    "custom_palette = sns.color_palette(\"deep\", n_colors=len(unique_hue_values))\n",
    "\n",
    "# Create a color mapping dictionary\n",
    "color_mapping = {hue_value: color for hue_value, color in zip(unique_hue_values, custom_palette)}\n",
    "\n",
    "\n",
    "\n",
    "# Initially the graph was very small, so I set the size using figure.figsize\n",
    "sns.set(rc={'figure.figsize':(11.7,8.27)})\n",
    "# Simply entered my x value and y value from my top20 dataset, and set the hue to region...\n",
    "\n",
    "sns.barplot(x = 'Non-response_rate', y = 'LA_name', data = top20, dodge = False, hue = 'region', palette = color_mapping)"
   ]
  },
  {
   "cell_type": "markdown",
   "id": "64fc6816",
   "metadata": {},
   "source": [
    "## Exploring language dataset"
   ]
  },
  {
   "cell_type": "code",
   "execution_count": 17,
   "id": "8ca84c0d",
   "metadata": {},
   "outputs": [],
   "source": [
    "lang['Percentages'] = ''\n",
    "\n",
    "\n",
    "for i in lang.LA_code.unique():\n",
    "    b = lang[lang.LA_code == i]\n",
    "    percent = b['Observation'] / b['Observation'].sum() * 100\n",
    "    lang.loc[b.index, 'Percentages'] = percent\n",
    "    \n",
    "lang['Non-English'] = (lang['ML_code'] != 1) & (lang['ML_code'] != -8)"
   ]
  },
  {
   "cell_type": "code",
   "execution_count": 18,
   "id": "c9296519",
   "metadata": {},
   "outputs": [],
   "source": [
    "lang2 = lang[lang['Non-English'] == True]"
   ]
  },
  {
   "cell_type": "code",
   "execution_count": 19,
   "id": "66505bc0",
   "metadata": {},
   "outputs": [],
   "source": [
    "# Aggregate the data by local authority, summing the 'Observation' column\n",
    "la_agg = lang2.groupby('LA_name')['Observation'].sum().reset_index()\n",
    "\n",
    "# Merge the aggregated data with the total number of observations for each local authority\n",
    "la_totals = lang.groupby('LA_name')['Observation'].sum().reset_index()\n",
    "la_agg = la_agg.merge(la_totals, on='LA_name', suffixes=('', '_total'))"
   ]
  },
  {
   "cell_type": "code",
   "execution_count": 20,
   "id": "99252dce",
   "metadata": {},
   "outputs": [],
   "source": [
    "# Calculate the percentage of Non-English speakers for each local authority\n",
    "la_agg['Percentage'] = (la_agg['Observation'] / la_agg['Observation_total']) * 100"
   ]
  },
  {
   "cell_type": "code",
   "execution_count": 21,
   "id": "0bb169b6",
   "metadata": {},
   "outputs": [],
   "source": [
    "# Create a key-value dictionary using zip() and a dictionary comprehension\n",
    "key_value_dict = {key: value for key, value in zip(region['LAD22NM'], region['RGN22NM'])}\n",
    "\n",
    "la_agg['region'] = ''\n",
    "\n",
    "\n",
    "for key, value in key_value_dict.items():\n",
    "    matching_rows = la_agg['LA_name'] == key\n",
    "#     print(matching_rows)\n",
    "    la_agg.loc[matching_rows, 'region'] = value\n",
    "    \n",
    "    \n",
    "# Manual matching for those that couldn't be filled in\n",
    "\n",
    "# df.loc[df['LA_name'] == [['Kingston upon Hull', 'Herefordshire'], 'region']] = ['Yorkshire and The Humber', 'West Midlands']\n",
    "la_agg.loc[la_agg['LA_name'] == 'Herefordshire', 'region'] = 'West Midlands'\n",
    "la_agg.loc[la_agg['LA_name'] == 'Kingston upon Hull', 'region'] = 'Yorkshire and The Humber'\n",
    "la_agg.loc[la_agg['LA_name'] == 'Bristol', 'region'] = 'South West'\n",
    "\n",
    "b = la_agg[la_agg.region == '']\n",
    "la_names = b.LA_name.unique().tolist()\n",
    "\n",
    "for i in la_names:\n",
    "    matching_rows = la_agg['LA_name'] == i\n",
    "#     print(matching_rows)\n",
    "    la_agg.loc[matching_rows, 'region'] = 'Wales'"
   ]
  },
  {
   "cell_type": "code",
   "execution_count": 22,
   "id": "e72f6c0a",
   "metadata": {},
   "outputs": [],
   "source": [
    "# Sort the local authorities based on the percentage of Non-English speakers, in descending order\n",
    "la_agg_sorted = la_agg.sort_values(by='Percentage', ascending=False)"
   ]
  },
  {
   "cell_type": "code",
   "execution_count": 23,
   "id": "16165292",
   "metadata": {},
   "outputs": [],
   "source": [
    "top20_lang = la_agg_sorted[:30]"
   ]
  },
  {
   "cell_type": "code",
   "execution_count": 24,
   "id": "1f5abfbc",
   "metadata": {},
   "outputs": [],
   "source": [
    "top20_lang"
   ]
  },
  {
   "cell_type": "markdown",
   "id": "873512ae",
   "metadata": {},
   "source": [
    "### Top 20 LAs by % of Non-English as Main Language"
   ]
  },
  {
   "cell_type": "code",
   "execution_count": 25,
   "id": "79fe797f",
   "metadata": {},
   "outputs": [],
   "source": [
    "sns.set(rc={'figure.figsize':(11.7,8.27)})\n",
    "sns.barplot(x = 'Percentage', y = 'LA_name', hue = \"region\", data = top20_lang, dodge = False)\n",
    "# plt.xticks(rotation=55)"
   ]
  },
  {
   "cell_type": "code",
   "execution_count": 26,
   "id": "da8f4212",
   "metadata": {},
   "outputs": [],
   "source": [
    "merged_df = not_ans.merge(la_agg, on = ['LA_name'])"
   ]
  },
  {
   "cell_type": "markdown",
   "id": "a3c88924",
   "metadata": {},
   "source": [
    "## Scatterplot - relationship between NR rate and % of Non-English speakers"
   ]
  },
  {
   "cell_type": "code",
   "execution_count": 27,
   "id": "7d3a1abe",
   "metadata": {},
   "outputs": [],
   "source": [
    "# Create a scatterplot to visualize the relationship between non-response rates and the percentage of non-English speakers\n",
    "import matplotlib.pyplot as plt\n",
    "from sklearn.neighbors import NearestNeighbors\n",
    "import numpy as np\n",
    "\n",
    "plt.scatter(merged_df['Percentage'], merged_df['Non-response_rate'])\n",
    "\n",
    "\n",
    "# Find nearest neighbors\n",
    "X = merged_df[['Percentage', 'Non-response_rate']].values\n",
    "nbrs = NearestNeighbors(n_neighbors=2).fit(X)\n",
    "distances, indices = nbrs.kneighbors(X)\n",
    "min_distance = 0.4\n",
    "\n",
    "for i, row in merged_df.iterrows():\n",
    "    if distances[i][1] >= min_distance:\n",
    "        plt.annotate(row['LA_name'], (row['Percentage'], row['Non-response_rate']), fontsize=8, alpha=0.6)\n",
    "\n",
    "plt.xlabel('Percentage of Non-English Speakers')\n",
    "plt.ylabel('Non-response Rate')\n",
    "plt.title('Relationship between Non-response Rate and Non-English Speakers')\n",
    "plt.show()"
   ]
  },
  {
   "cell_type": "code",
   "execution_count": 28,
   "id": "386337fe",
   "metadata": {},
   "outputs": [],
   "source": [
    "from bokeh.models.annotations import LabelSet\n",
    "from bokeh.models import ColumnDataSource, Label, LabelSet\n",
    "from bokeh.palettes import Category10\n",
    "from bokeh.io import show\n",
    "from bokeh.models import CheckboxGroup, CustomJS\n",
    "from bokeh.layouts import column\n",
    "from bokeh.models import Button\n",
    "from bokeh.plotting import figure, curdoc\n",
    "\n",
    "LABELS = [\"Labels\"]\n",
    "checkbox_group = CheckboxGroup(labels=LABELS, active=[0, 1])\n",
    "# urban = rural_df.Urb_Rur.unique()\n",
    "\n",
    "\n",
    "source=ColumnDataSource(merged_df)\n",
    "\n",
    "tool = [\n",
    "    (\"index\", \"$index\"),\n",
    "    (\"(x,y)\", \"($x, $y)\"),\n",
    "    (\"name\",\"@LA_name\"),\n",
    "]\n",
    "\n",
    "p1 = figure(title=\"Relationship between Non-response Rate and Non-English Speakers\", x_axis_label=\"Percentage of Non-English Speakers\", y_axis_label= \"Non-response Rate\", tooltips = tool)\n",
    "output_notebook()\n",
    "\n",
    "for region, color in zip(merged_df.region_x.unique(), Category10[10]):\n",
    "    b = merged_df[merged_df.region_x == region]\n",
    "    p1.circle(x = 'Percentage', y = 'Non-response_rate', size = 10, alpha = 0.5, color = color, legend_label = region, muted_color = color, muted_alpha = 0.1, source = b)\n",
    "\n",
    "labels = LabelSet(x='Percentage', y='Non-response_rate', text='LA_name',x_offset=5, y_offset=5, text_font_size = \"5pt\",source=ColumnDataSource(merged_df))\n",
    "tool = [\n",
    "    (\"Name\",\"$LA_name\"),\n",
    "]\n",
    "\n",
    "# p1.add_layout(labels)\n",
    "p1.legend.location = \"bottom_right\"\n",
    "p1.legend.click_policy=\"hide\"\n",
    "p1.legend.title = \"Regions\"\n",
    "\n",
    "def callback():\n",
    "    p1.add_layout(labels)\n",
    "\n",
    "\n",
    "    \n",
    "# add a button widget and configure with the call back\n",
    "button = Button(label=\"Labels\")\n",
    "button.on_event('button_click', callback)\n",
    "show(p1)\n",
    "\n",
    "curdoc().add_root(column(button, p1))"
   ]
  },
  {
   "cell_type": "markdown",
   "id": "828576a3",
   "metadata": {},
   "source": [
    "## Read-in urban vs rural dataset"
   ]
  },
  {
   "cell_type": "code",
   "execution_count": 29,
   "id": "0d4f908f",
   "metadata": {},
   "outputs": [],
   "source": [
    "# Read-in data from urban vs rural\n",
    "\n",
    "rural = pd.read_excel('/Users/loucap/Documents/GitWork/InteractiveGender/Data/Rural_Urban_2011.xlsx')\n",
    "rural.head()"
   ]
  },
  {
   "cell_type": "code",
   "execution_count": 30,
   "id": "1edfede8",
   "metadata": {},
   "outputs": [],
   "source": [
    "rural = rural[['LAD18NM', 'Broad RUC11']]\n",
    "rural = rural.rename(columns = {\"LAD18NM\": \"LA_name\", \"Broad RUC11\": \"Urb_Rur\"})"
   ]
  },
  {
   "cell_type": "code",
   "execution_count": 31,
   "id": "19938b23",
   "metadata": {},
   "outputs": [],
   "source": [
    "rural_df = merged_df.merge(rural, on=['LA_name'], how='left')"
   ]
  },
  {
   "cell_type": "code",
   "execution_count": 32,
   "id": "4e671530",
   "metadata": {},
   "outputs": [],
   "source": [
    "for i in rural_df.LA_name.unique():\n",
    "    b = rural_df[rural_df.region_x == 'Wales']\n",
    "    \n",
    "    rural_df.loc[b.index, 'Urb_Rur'] = 'Welsh/not specified'"
   ]
  },
  {
   "cell_type": "code",
   "execution_count": 33,
   "id": "5f757624",
   "metadata": {},
   "outputs": [],
   "source": [
    "rural_df['Urb_Rur'] = rural_df['Urb_Rur'].fillna('Not specified')\n"
   ]
  },
  {
   "cell_type": "code",
   "execution_count": 34,
   "id": "f0fe1519",
   "metadata": {},
   "outputs": [],
   "source": [
    "rural_df[rural_df.Urb_Rur == 'Not specified']"
   ]
  },
  {
   "cell_type": "code",
   "execution_count": 35,
   "id": "284a6c3e",
   "metadata": {},
   "outputs": [],
   "source": [
    "rural_df.Urb_Rur.unique()"
   ]
  },
  {
   "cell_type": "code",
   "execution_count": 36,
   "id": "9c36fdbd",
   "metadata": {},
   "outputs": [],
   "source": [
    "from bokeh.transform import factor_cmap, factor_mark\n",
    "from bokeh.plotting import figure, show\n",
    "from bokeh.palettes import Category10\n",
    "\n",
    "tool = [\n",
    "    (\"index\", \"$index\"),\n",
    "    (\"(x,y)\", \"($x, $y)\"),\n",
    "    (\"name\",\"@LA_name\"),\n",
    "]\n",
    "\n",
    "# p1.legend.click_policy=\"hide\"\n",
    "# p1.legend.title = \"Regions\"\n",
    "\n",
    "regions = rural_df.region_x.unique()\n",
    "urban = rural_df.Urb_Rur.unique()\n",
    "\n",
    "\n",
    "p2 = figure(title=\"Relationship between Non-response Rate and Non-English Speakers\", y_axis_label=\"Non-response Rate\", x_axis_label=\"Percentage of Non-English Speakers\", tooltips = tool)\n",
    "output_notebook()\n",
    "\n",
    "for urban, color in zip(rural_df.Urb_Rur.unique(), Category10[10]):\n",
    "    b = rural_df[rural_df.Urb_Rur == urban]\n",
    "    p2.circle(x = 'Percentage', y = 'Non-response_rate', size = 10, fill_alpha = 0.5, color = color, legend_label = str(urban), muted_color = color, muted_alpha = 0.1, source = b)\n",
    "\n",
    "# p2.scatter(\"Percentage\", \"Non-response_rate\", source = rural_df, fill_alpha = 0.5, size = 10, color = factor_cmap('Urb_Rur', Category10[10], urban), legend_field = 'Urb_Rur')\n",
    "\n",
    "p2.legend.location = \"bottom_right\"\n",
    "p2.legend.click_policy=\"hide\"\n",
    "p2.legend.title = \"Urban-Rural classification\"\n",
    "show(p2)"
   ]
  },
  {
   "cell_type": "markdown",
   "id": "8e93f4fd",
   "metadata": {},
   "source": [
    "# Religion"
   ]
  },
  {
   "cell_type": "code",
   "execution_count": 37,
   "id": "3fda02f8",
   "metadata": {},
   "outputs": [],
   "source": [
    "# Read-in dataset for religion + sexual orientation\n",
    "\n",
    "rel = pd.read_excel('/Users/loucap/Documents/GitWork/InteractiveGender/Data/religion_so.xlsx')\n",
    "rel.rename(columns={'Lower tier local authorities Code': 'LA_code', 'Lower tier local authorities': 'LA_name', 'Sexual orientation (6 categories) Code': 'SO_code', 'Sexual orientation (6 categories)': 'SO_categories', 'Religion (10 categories) Code': 'Religion_code', 'Religion (10 categories)': 'Religion_categories'}, inplace=True)\n",
    "rel = rel[(rel.SO_code != -8) & (rel.Religion_code != -8) & (rel.Religion_code != 9)]\n",
    "\n",
    "# Calculate the total number of survey respondents for each religion\n",
    "total_by_religion = rel.groupby('Religion_categories')['Observation'].sum().reset_index()\n",
    "\n",
    "# Calculate the percentage of respondents for each religion\n",
    "total_respondents = rel['Observation'].sum()\n",
    "total_by_religion['Percent_of_survey_respondents'] = ((total_by_religion['Observation'] / total_respondents) * 100).round(2)\n",
    "\n",
    "# Calculate the total non-response for each religion\n",
    "non_response_rel = rel[rel['SO_categories'] == 'Not answered']\n",
    "non_response_by_religion = non_response_rel.groupby('Religion_categories')['Observation'].sum().reset_index()\n",
    "\n",
    "# Merge the total_by_religion and non_response_by_religion DataFrames\n",
    "# merged_rel = total_by_religion.merge(non_response_by_religion, on='Religion_categories', suffixes=('', '_non_response'))\n",
    "\n",
    "total_by_religion.head(9)\n",
    "# merged_rel.head()"
   ]
  },
  {
   "cell_type": "code",
   "execution_count": 38,
   "id": "427d90ea",
   "metadata": {},
   "outputs": [],
   "source": [
    "# Calculate the non-response rate for each religion\n",
    "non_response_by_religion['Non_response_rate'] = ((non_response_by_religion['Observation'] / total_by_religion['Observation']) * 100).round(2)\n",
    "\n",
    "total_non_response = non_response_by_religion['Observation'].sum()\n",
    "non_response_by_religion['Contribution_to_overall_non_response_rate'] = ((non_response_by_religion['Observation'] / total_non_response) * 100).round(2)\n"
   ]
  },
  {
   "cell_type": "code",
   "execution_count": 39,
   "id": "53462bfe",
   "metadata": {},
   "outputs": [],
   "source": [
    "non_response_by_religion.head(9)"
   ]
  },
  {
   "cell_type": "code",
   "execution_count": 40,
   "id": "33b98d61",
   "metadata": {},
   "outputs": [],
   "source": [
    "rel1 = pd.read_excel('/Users/loucap/Documents/GitWork/InteractiveGender/Data/religion_so.xlsx')"
   ]
  },
  {
   "cell_type": "code",
   "execution_count": 41,
   "id": "b73e957f",
   "metadata": {},
   "outputs": [],
   "source": [
    "# These column names are too wordy, let's rename them.\n",
    "\n",
    "rel1.rename(columns={'Lower tier local authorities Code': 'LA_code', 'Lower tier local authorities': 'LA_name', 'Sexual orientation (6 categories) Code': 'SO_code', 'Sexual orientation (6 categories)': 'SO_categories', 'Religion (10 categories) Code': 'Religion_code', 'Religion (10 categories)': 'Religion_categories'}, inplace=True)"
   ]
  },
  {
   "cell_type": "code",
   "execution_count": 42,
   "id": "b40f378e",
   "metadata": {},
   "outputs": [],
   "source": [
    "rel1.SO_categories.unique()"
   ]
  },
  {
   "cell_type": "code",
   "execution_count": 43,
   "id": "daaa6460",
   "metadata": {},
   "outputs": [],
   "source": [
    "rel1.SO_code.unique()"
   ]
  },
  {
   "cell_type": "markdown",
   "id": "45037e93",
   "metadata": {},
   "source": [
    "# Total numbers - table"
   ]
  },
  {
   "cell_type": "code",
   "execution_count": 44,
   "id": "ac7fe110",
   "metadata": {},
   "outputs": [],
   "source": [
    "# Nice. Lets now subset it, as we're only interested in non-response\n",
    "# Let's also get rid of our empty 'Does not apply' category\n",
    "# For now let's ignore our 'Non-response' for our rel1igious category\n",
    "\n",
    "non_resp = rel1[(rel1.SO_code == 5) & (rel1.SO_code != -8) & (rel1.Religion_code != -8) & (rel1.Religion_code != 9)]\n",
    "\n",
    "# Let's have a look...\n",
    "\n",
    "non_resp.head(10)"
   ]
  },
  {
   "cell_type": "code",
   "execution_count": 45,
   "id": "740720fc",
   "metadata": {},
   "outputs": [],
   "source": [
    "# Created an empty column to hold percentages of religions within each LA\n",
    "\n",
    "non_resp['Percentages'] = ''\n",
    "\n",
    "for i in non_resp.LA_name.unique():\n",
    "    \n",
    "    b = non_resp[non_resp.LA_name == i]\n",
    "    \n",
    "    perc = b.Observation / b.Observation.sum() * 100\n",
    "    \n",
    "    non_resp.loc[b.index, 'Percentages'] = round(perc, 2)"
   ]
  },
  {
   "cell_type": "code",
   "execution_count": 46,
   "id": "21eedb18",
   "metadata": {},
   "outputs": [],
   "source": [
    "sorted_df = non_resp.sort_values(by = [\"LA_name\", \"Percentages\"], ascending = [True, False])\n",
    "\n",
    "sorted_df"
   ]
  },
  {
   "cell_type": "markdown",
   "id": "2061e348",
   "metadata": {},
   "source": [
    "## Shannon index"
   ]
  },
  {
   "cell_type": "code",
   "execution_count": 47,
   "id": "60db2af1",
   "metadata": {},
   "outputs": [],
   "source": [
    "# Let's now calculate the proportions\n",
    "# To get better precision and not lose valuable insights I opted to round to 4 decimal places\n",
    "sorted_df['Proportions'] = (sorted_df['Percentages'].astype(float) / 100).round(4)"
   ]
  },
  {
   "cell_type": "code",
   "execution_count": 48,
   "id": "cf17eb69",
   "metadata": {},
   "outputs": [],
   "source": [
    "sorted_df.head()"
   ]
  },
  {
   "cell_type": "code",
   "execution_count": 49,
   "id": "e50740a7",
   "metadata": {},
   "outputs": [],
   "source": [
    "sorted_df['Calc'] = np.where(sorted_df['Proportions'] > 0, - sorted_df['Proportions'] * np.log(sorted_df['Proportions']), 0)"
   ]
  },
  {
   "cell_type": "code",
   "execution_count": 50,
   "id": "b5a4aa48",
   "metadata": {},
   "outputs": [],
   "source": [
    "# Created an empty column titled Shannon_idx\n",
    "sorted_df['Shannon_idx'] = ''\n",
    "\n",
    "for i in sorted_df.LA_code.unique():\n",
    "    \n",
    "    b = sorted_df[sorted_df.LA_code == i]\n",
    "    summed = sum(b.Calc)\n",
    "    \n",
    "    sorted_df.loc[b.index, 'Shannon_idx'] = summed"
   ]
  },
  {
   "cell_type": "code",
   "execution_count": 51,
   "id": "7d03b1b4",
   "metadata": {},
   "outputs": [],
   "source": [
    "sorted_df.head()"
   ]
  },
  {
   "cell_type": "code",
   "execution_count": 52,
   "id": "2ecd11a2",
   "metadata": {},
   "outputs": [],
   "source": [
    "unique_shannon_df = sorted_df[['LA_name', 'Shannon_idx']].drop_duplicates(subset=['LA_name'])\n",
    "unique_shannon_df.sort_values(by = 'Shannon_idx', ascending = False).head()"
   ]
  },
  {
   "cell_type": "code",
   "execution_count": 53,
   "id": "81cb80fd",
   "metadata": {},
   "outputs": [],
   "source": [
    "cmap = plt.get_cmap(\"viridis\")\n",
    "cmap"
   ]
  },
  {
   "cell_type": "code",
   "execution_count": 54,
   "id": "169509e8",
   "metadata": {},
   "outputs": [],
   "source": [
    "normalized_shannon = (sorted_df['Shannon_idx'] - sorted_df['Shannon_idx'].min()) / (sorted_df['Shannon_idx'].max() - sorted_df['Shannon_idx'].min())\n",
    "normalized_shannon"
   ]
  },
  {
   "cell_type": "code",
   "execution_count": 55,
   "id": "202c2460",
   "metadata": {},
   "outputs": [],
   "source": [
    "from bokeh.models import LogColorMapper\n",
    "\n",
    "color_map = LogColorMapper(palette=\"Viridis256\", low=sorted_df.Shannon_idx.min(), high=sorted_df.Shannon_idx.max())\n",
    "\n",
    "color_map"
   ]
  },
  {
   "cell_type": "code",
   "execution_count": 56,
   "id": "59a6fa5d",
   "metadata": {},
   "outputs": [],
   "source": [
    "# Create a mapping between LA_code and Shannon_idx\n",
    "la_code_to_shannon_idx = sorted_df.set_index('LA_code')['Shannon_idx'].to_dict()"
   ]
  },
  {
   "cell_type": "code",
   "execution_count": 57,
   "id": "b721b4dd",
   "metadata": {},
   "outputs": [],
   "source": [
    "merged_df"
   ]
  },
  {
   "cell_type": "code",
   "execution_count": 58,
   "id": "9b76f510",
   "metadata": {},
   "outputs": [],
   "source": [
    "merged_df['Shannon_idx'] = merged_df['LA_code'].map(la_code_to_shannon_idx)"
   ]
  },
  {
   "cell_type": "code",
   "execution_count": 59,
   "id": "1d5500de",
   "metadata": {
    "scrolled": false
   },
   "outputs": [],
   "source": [
    "from bokeh.transform import factor_cmap, factor_mark\n",
    "from bokeh.plotting import figure, show\n",
    "from bokeh.palettes import Category10\n",
    "from bokeh.models import ColorBar, BasicTicker, PrintfTickFormatter\n",
    "\n",
    "tool = [\n",
    "    (\"index\", \"$index\"),\n",
    "    (\"(x,y)\", \"($x, $y)\"),\n",
    "    (\"name\",\"@LA_name\"),\n",
    "    (\"Shannon_idx\", \"@Shannon_idx\")\n",
    "]\n",
    "\n",
    "\n",
    "p2 = figure(title=\"Relationship between Non-response Rate and Non-English Speakers\", x_axis_label=\"Non-response Rate\", y_axis_label=\"Percentage of Non-English Speakers\", tooltips = tool)\n",
    "output_notebook()\n",
    "\n",
    "p2.scatter(\"Percentage\", \"Non-response_rate\", source = merged_df, fill_alpha = 0.5, size = 10,  color={'field': 'Shannon_idx', 'transform': color_map})\n",
    "\n",
    "color_bar = ColorBar(color_mapper=color_map,\n",
    "                     title='Shannon Index',\n",
    "                     ticker=BasicTicker(desired_num_ticks=5),\n",
    "                     formatter=PrintfTickFormatter(format='%.2f'))\n",
    "\n",
    "# Add the color bar to the plot\n",
    "p2.add_layout(color_bar, 'right')\n",
    "\n",
    "\n",
    "show(p2)"
   ]
  },
  {
   "cell_type": "markdown",
   "id": "ce472f0b",
   "metadata": {},
   "source": [
    "## % Non-response per religious category"
   ]
  },
  {
   "cell_type": "code",
   "execution_count": 60,
   "id": "bc38b50f",
   "metadata": {},
   "outputs": [],
   "source": [
    "# Get rid of categories which are N/A and have 0 counts\n",
    "# Also got rid of 'Not answered' category for rel1igion...is this wise?\n",
    "# Will artificially inflate numbers of other rel1igious groups?\n",
    "\n",
    "rel1 = rel1[(rel1.SO_code != -8) & (rel1.Religion_code != -8) & (rel1.Religion_code != 9)]\n"
   ]
  },
  {
   "cell_type": "code",
   "execution_count": 61,
   "id": "f34b37fc",
   "metadata": {},
   "outputs": [],
   "source": [
    "# Let's calc the % of each rel1igious group and their SO answers for each LA\n",
    "\n",
    "rel1['Group_Percentages'] = ''\n",
    "\n",
    "for i in rel1.LA_name.unique():\n",
    "    \n",
    "    b = rel1[rel1.LA_name == i]\n",
    "    \n",
    "    perc = b.Observation / b.Observation.sum() * 100\n",
    "    \n",
    "    rel1.loc[b.index, 'Group_Percentages'] = round(perc, 2)"
   ]
  },
  {
   "cell_type": "code",
   "execution_count": 62,
   "id": "4c39c235",
   "metadata": {},
   "outputs": [],
   "source": [
    "rel1.head()"
   ]
  },
  {
   "cell_type": "code",
   "execution_count": 63,
   "id": "bea87842",
   "metadata": {},
   "outputs": [],
   "source": [
    "# Created a column which holds the total amount of people in each LA e.g. in Hartlepool there's 70898 people\n",
    "# This will help me with next calculation\n",
    "\n",
    "rel1['Total_LA_counts'] = ''\n",
    "\n",
    "for i in rel1.LA_name.unique():\n",
    "    \n",
    "    b = rel1[rel1.LA_name == i]\n",
    "    \n",
    "    tot = b.Observation.sum()\n",
    "    \n",
    "    rel1.loc[b.index, 'Total_LA_counts'] = tot"
   ]
  },
  {
   "cell_type": "code",
   "execution_count": 64,
   "id": "7ce733cb",
   "metadata": {},
   "outputs": [],
   "source": [
    "rel1.head()"
   ]
  },
  {
   "cell_type": "markdown",
   "id": "0ca2fa8f",
   "metadata": {},
   "source": [
    "### ATHEISTS"
   ]
  },
  {
   "cell_type": "code",
   "execution_count": 65,
   "id": "28ea6396",
   "metadata": {},
   "outputs": [],
   "source": [
    "# First, we subset our dataframe to only get data where rel1igion_category == No rel1igion\n",
    "\n",
    "atheist = rel1[(rel1.Religion_categories == 'No religion')]\n",
    "atheist.head(10)"
   ]
  },
  {
   "cell_type": "code",
   "execution_count": 66,
   "id": "4e80a8a3",
   "metadata": {},
   "outputs": [],
   "source": [
    "# So, whilst we have the % of atheists for each SO category for each individual LA...\n",
    "# We now want to know the total % of atheists in each LA\n",
    "\n",
    "atheist['No religion_%'] = ''\n",
    "\n",
    "for i in atheist.LA_code.unique():\n",
    "    \n",
    "    v = atheist[atheist.LA_code == i]\n",
    "    \n",
    "    perc = v.Group_Percentages.sum()\n",
    "    \n",
    "    atheist.loc[v.index, 'No religion_%'] = perc"
   ]
  },
  {
   "cell_type": "code",
   "execution_count": 67,
   "id": "6cf0b523",
   "metadata": {},
   "outputs": [],
   "source": [
    "# Now we have...\n",
    "# e.g. Hartlepool, our total % of atheists is 38.76% and out of that number...\n",
    "# our non-response rate for atheists in this LA is 1.61%\n",
    "\n",
    "atheist.head()"
   ]
  },
  {
   "cell_type": "markdown",
   "id": "4dd4ad3a",
   "metadata": {},
   "source": [
    "## Total number of atheists / total number of respondents"
   ]
  },
  {
   "cell_type": "code",
   "execution_count": 68,
   "id": "790d0a70",
   "metadata": {},
   "outputs": [],
   "source": [
    "atheist.Observation.sum() / rel.Observation.sum() * 100"
   ]
  },
  {
   "cell_type": "code",
   "execution_count": 69,
   "id": "8b5e3957",
   "metadata": {},
   "outputs": [],
   "source": [
    "rel.Observation.sum()"
   ]
  },
  {
   "cell_type": "code",
   "execution_count": 70,
   "id": "6b373be2",
   "metadata": {},
   "outputs": [],
   "source": [
    "# In terms of my scatterplot, I want to subset my dataframe again so that I'm only looking at non-response for GI\n",
    "\n",
    "x = atheist[atheist.SO_categories == 'Not answered']"
   ]
  },
  {
   "cell_type": "markdown",
   "id": "eda27f5e",
   "metadata": {},
   "source": [
    "## NR rate for Atheists"
   ]
  },
  {
   "cell_type": "code",
   "execution_count": 71,
   "id": "07db65e6",
   "metadata": {},
   "outputs": [],
   "source": [
    " atheist.Observation.sum()"
   ]
  },
  {
   "cell_type": "code",
   "execution_count": 72,
   "id": "7ccea0e5",
   "metadata": {},
   "outputs": [],
   "source": [
    "x.Observation.sum()"
   ]
  },
  {
   "cell_type": "code",
   "execution_count": 73,
   "id": "84c17f29",
   "metadata": {},
   "outputs": [],
   "source": [
    "x.Observation.sum() / atheist.Observation.sum() * 100"
   ]
  },
  {
   "cell_type": "code",
   "execution_count": 74,
   "id": "b8aa0742",
   "metadata": {},
   "outputs": [],
   "source": [
    "from bokeh.transform import factor_cmap, factor_mark\n",
    "from bokeh.plotting import figure, show\n",
    "from bokeh.palettes import Category10\n",
    "\n",
    "tool = [\n",
    "    (\"index\", \"$index\"),\n",
    "    (\"(x,y)\", \"($x, $y)\"),\n",
    "    (\"name\",\"@LA_name\"),\n",
    "]\n",
    "# p1.legend.location = \"bottom_right\"\n",
    "# p1.legend.click_policy=\"hide\"\n",
    "# p1.legend.title = \"Regions\"\n",
    "\n",
    "# regions = df.region_x.unique()\n",
    "# urban = df.Urb_Rur.unique()\n",
    "\n",
    "\n",
    "p2 = figure(title=\"Relationship between % of Atheists in given LA, and their Non-response rate\", y_axis_label=\"Non-response Rate\", x_axis_label=\"Percentage of Atheists in given LA\", tooltips = tool)\n",
    "output_notebook()\n",
    "\n",
    "p2.scatter(\"No religion_%\", \"Group_Percentages\", source = x, fill_alpha = 0.5, size = 10)\n",
    "\n",
    "show(p2)"
   ]
  },
  {
   "cell_type": "code",
   "execution_count": 75,
   "id": "c0738673",
   "metadata": {},
   "outputs": [],
   "source": [
    "from scipy.stats import pearsonr\n",
    "\n",
    "\n",
    "correlation, _ = pearsonr(x['No religion_%'], x.Group_Percentages)\n",
    "\n",
    "print(f\"Pearson correlation coefficient: {correlation:.2f}\")"
   ]
  },
  {
   "cell_type": "code",
   "execution_count": 76,
   "id": "620fe451",
   "metadata": {},
   "outputs": [],
   "source": [
    "from scipy.stats import spearmanr\n",
    "\n",
    "correlation_coefficient, p_value = spearmanr(x['No religion_%'], x.Group_Percentages)\n",
    "\n",
    "print(f\"Spearman's rank correlation coefficient: {correlation_coefficient}\")\n",
    "print(f\"P-value: {p_value}\")"
   ]
  },
  {
   "cell_type": "markdown",
   "id": "687a5ec6",
   "metadata": {},
   "source": [
    "### CHRISTIAN"
   ]
  },
  {
   "cell_type": "code",
   "execution_count": 77,
   "id": "480ea939",
   "metadata": {},
   "outputs": [],
   "source": [
    "def subset_rel(religion):\n",
    "    a = rel1[(rel1.Religion_categories == religion)]\n",
    "    \n",
    "    a[religion+'_%'] = ''\n",
    "\n",
    "    for i in a.LA_code.unique():\n",
    "    \n",
    "        v = a[a.LA_code == i]\n",
    "    \n",
    "        perc = v.Group_Percentages.sum()\n",
    "    \n",
    "        a.loc[v.index, religion+'_%'] = perc\n",
    "        \n",
    "        x = a[a.SO_categories == 'Not answered']\n",
    "        \n",
    "    return a,x"
   ]
  },
  {
   "cell_type": "code",
   "execution_count": 78,
   "id": "6928d211",
   "metadata": {},
   "outputs": [],
   "source": [
    "christian, b = subset_rel('Christian')"
   ]
  },
  {
   "cell_type": "markdown",
   "id": "e53bad92",
   "metadata": {},
   "source": [
    "## Total number of Christians / total number of respondents"
   ]
  },
  {
   "cell_type": "code",
   "execution_count": 79,
   "id": "1c037eb3",
   "metadata": {},
   "outputs": [],
   "source": [
    "christian.Observation.sum() / rel.Observation.sum() * 100"
   ]
  },
  {
   "cell_type": "markdown",
   "id": "7b737a0b",
   "metadata": {},
   "source": [
    "## NR rate for Atheists"
   ]
  },
  {
   "cell_type": "code",
   "execution_count": 80,
   "id": "72604342",
   "metadata": {},
   "outputs": [],
   "source": [
    "b.Observation.sum() "
   ]
  },
  {
   "cell_type": "code",
   "execution_count": 81,
   "id": "1aa80f55",
   "metadata": {},
   "outputs": [],
   "source": [
    "b.head()"
   ]
  },
  {
   "cell_type": "code",
   "execution_count": null,
   "id": "1137a17f",
   "metadata": {},
   "outputs": [],
   "source": []
  },
  {
   "cell_type": "code",
   "execution_count": 82,
   "id": "13349920",
   "metadata": {},
   "outputs": [],
   "source": [
    "from bokeh.transform import factor_cmap, factor_mark\n",
    "from bokeh.plotting import figure, show\n",
    "from bokeh.palettes import Category10\n",
    "\n",
    "tool = [\n",
    "    (\"index\", \"$index\"),\n",
    "    (\"(x,y)\", \"($x, $y)\"),\n",
    "    (\"name\",\"@LA_name\"),\n",
    "]\n",
    "# p1.legend.location = \"bottom_right\"\n",
    "# p1.legend.click_policy=\"hide\"\n",
    "# p1.legend.title = \"Regions\"\n",
    "\n",
    "# regions = df.region_x.unique()\n",
    "# urban = df.Urb_Rur.unique()\n",
    "\n",
    "\n",
    "p2 = figure(title=\"Relationship between % of Christians in given LA, and their Non-response rate\", y_axis_label=\"Non-response Rate\", x_axis_label=\"Percentage of Christians in given LA\", tooltips = tool)\n",
    "output_notebook()\n",
    "\n",
    "p2.scatter(\"Christian_%\", \"Group_Percentages\", source = b, fill_alpha = 0.5, size = 10)\n",
    "\n",
    "show(p2)"
   ]
  },
  {
   "cell_type": "code",
   "execution_count": 83,
   "id": "caed6979",
   "metadata": {},
   "outputs": [],
   "source": [
    "from scipy.stats import pearsonr\n",
    "\n",
    "\n",
    "correlation, _ = pearsonr(b['Christian_%'], b.Group_Percentages)\n",
    "\n",
    "print(f\"Pearson correlation coefficient: {correlation:.2f}\")"
   ]
  },
  {
   "cell_type": "code",
   "execution_count": 84,
   "id": "f4d99454",
   "metadata": {},
   "outputs": [],
   "source": [
    "from scipy.stats import spearmanr\n",
    "\n",
    "correlation_coefficient, p_value = spearmanr(b['Christian_%'], b.Group_Percentages)\n",
    "\n",
    "print(f\"Spearman's rank correlation coefficient: {correlation_coefficient}\")\n",
    "print(f\"P-value: {p_value}\")"
   ]
  },
  {
   "cell_type": "markdown",
   "id": "86d0ae44",
   "metadata": {},
   "source": [
    "### MUSLIMS"
   ]
  },
  {
   "cell_type": "code",
   "execution_count": 85,
   "id": "fa18aae1",
   "metadata": {},
   "outputs": [],
   "source": [
    "muslim, c = subset_rel('Muslim')"
   ]
  },
  {
   "cell_type": "code",
   "execution_count": 86,
   "id": "d4fdd767",
   "metadata": {},
   "outputs": [],
   "source": [
    "c.head()"
   ]
  },
  {
   "cell_type": "code",
   "execution_count": 87,
   "id": "f336c1a6",
   "metadata": {},
   "outputs": [],
   "source": [
    "muslim.Observation.sum() / rel.Observation.sum() * 100"
   ]
  },
  {
   "cell_type": "code",
   "execution_count": 88,
   "id": "1c342c3d",
   "metadata": {},
   "outputs": [],
   "source": [
    "c.Observation.sum()"
   ]
  },
  {
   "cell_type": "code",
   "execution_count": 89,
   "id": "07ed24d9",
   "metadata": {},
   "outputs": [],
   "source": [
    "from bokeh.transform import factor_cmap, factor_mark\n",
    "from bokeh.plotting import figure, show\n",
    "from bokeh.palettes import Category10\n",
    "\n",
    "tool = [\n",
    "    (\"index\", \"$index\"),\n",
    "    (\"(x,y)\", \"($x, $y)\"),\n",
    "    (\"name\",\"@LA_name\"),\n",
    "]\n",
    "# p1.legend.location = \"bottom_right\"\n",
    "# p1.legend.click_policy=\"hide\"\n",
    "# p1.legend.title = \"Regions\"\n",
    "\n",
    "# regions = df.region_x.unique()\n",
    "# urban = df.Urb_Rur.unique()\n",
    "\n",
    "\n",
    "p2 = figure(title=\"Relationship between % of Muslims in given LA, and their Non-response rate\", y_axis_label=\"Non-response Rate\", x_axis_label=\"Percentage of Muslims in given LA\", tooltips = tool)\n",
    "output_notebook()\n",
    "\n",
    "p2.scatter(\"Muslim_%\", \"Group_Percentages\", source = c, fill_alpha = 0.5, size = 10)\n",
    "\n",
    "show(p2)"
   ]
  },
  {
   "cell_type": "code",
   "execution_count": 90,
   "id": "76fc65cd",
   "metadata": {},
   "outputs": [],
   "source": [
    "correlation, _ = pearsonr(c['Muslim_%'], c.Group_Percentages)\n",
    "\n",
    "print(f\"Pearson correlation coefficient: {correlation:.2f}\")"
   ]
  },
  {
   "cell_type": "code",
   "execution_count": 91,
   "id": "10dd433c",
   "metadata": {},
   "outputs": [],
   "source": [
    "correlation_coefficient, p_value = spearmanr(c['Muslim_%'], c.Group_Percentages)\n",
    "\n",
    "print(f\"Spearman's rank correlation coefficient: {correlation_coefficient}\")\n",
    "print(f\"P-value: {p_value}\")"
   ]
  },
  {
   "cell_type": "markdown",
   "id": "387cdbac",
   "metadata": {},
   "source": [
    "### OTHER RELIGION"
   ]
  },
  {
   "cell_type": "code",
   "execution_count": 92,
   "id": "ed68d46e",
   "metadata": {},
   "outputs": [],
   "source": [
    "other = rel1[(rel1.Religion_categories == 'Other religion')]\n",
    "other.head(10)"
   ]
  },
  {
   "cell_type": "code",
   "execution_count": 93,
   "id": "093e0716",
   "metadata": {},
   "outputs": [],
   "source": [
    "other['Other_%'] = ''\n",
    "\n",
    "for i in other.LA_code.unique():\n",
    "    \n",
    "    v = other[other.LA_code == i]\n",
    "    \n",
    "    perc = v.Group_Percentages.sum()\n",
    "    \n",
    "    other.loc[v.index, 'Other_%'] = perc"
   ]
  },
  {
   "cell_type": "code",
   "execution_count": 94,
   "id": "3279ee1b",
   "metadata": {},
   "outputs": [],
   "source": [
    "d = other[other.SO_categories == 'Not answered']"
   ]
  },
  {
   "cell_type": "code",
   "execution_count": 95,
   "id": "a5a4bfd7",
   "metadata": {},
   "outputs": [],
   "source": [
    "from bokeh.transform import factor_cmap, factor_mark\n",
    "from bokeh.plotting import figure, show\n",
    "from bokeh.palettes import Category10\n",
    "\n",
    "tool = [\n",
    "    (\"index\", \"$index\"),\n",
    "    (\"(x,y)\", \"($x, $y)\"),\n",
    "    (\"name\",\"@LA_name\"),\n",
    "]\n",
    "# p1.legend.location = \"bottom_right\"\n",
    "# p1.legend.click_policy=\"hide\"\n",
    "# p1.legend.title = \"Regions\"\n",
    "\n",
    "# regions = df.region_x.unique()\n",
    "# urban = df.Urb_Rur.unique()\n",
    "\n",
    "\n",
    "p2 = figure(title=\"Relationship between % of Other religions in given LA, and their Non-response rate\", y_axis_label=\"Non-response Rate\", x_axis_label=\"Percentage of Other religions in given LA\", tooltips = tool)\n",
    "output_notebook()\n",
    "\n",
    "p2.scatter(\"Other_%\", \"Group_Percentages\", source = d, fill_alpha = 0.5, size = 10)\n",
    "\n",
    "show(p2)\n"
   ]
  },
  {
   "cell_type": "code",
   "execution_count": 96,
   "id": "a4a59c43",
   "metadata": {},
   "outputs": [],
   "source": [
    "correlation, _ = pearsonr(d['Other_%'], d.Group_Percentages)\n",
    "\n",
    "print(f\"Pearson correlation coefficient: {correlation:.2f}\")"
   ]
  },
  {
   "cell_type": "code",
   "execution_count": 97,
   "id": "bdc7a9d6",
   "metadata": {},
   "outputs": [],
   "source": [
    "correlation_coefficient, p_value = spearmanr(d['Other_%'], d.Group_Percentages)\n",
    "\n",
    "print(f\"Spearman's rank correlation coefficient: {correlation_coefficient}\")\n",
    "print(f\"P-value: {p_value}\")"
   ]
  },
  {
   "cell_type": "markdown",
   "id": "356eeba2",
   "metadata": {},
   "source": [
    "### BUDDHIST"
   ]
  },
  {
   "cell_type": "code",
   "execution_count": 98,
   "id": "deb9b0c5",
   "metadata": {},
   "outputs": [],
   "source": [
    "buddhist, e = subset_rel('Buddhist')"
   ]
  },
  {
   "cell_type": "code",
   "execution_count": 99,
   "id": "7b7ffd48",
   "metadata": {},
   "outputs": [],
   "source": [
    "from bokeh.transform import factor_cmap, factor_mark\n",
    "from bokeh.plotting import figure, show\n",
    "from bokeh.palettes import Category10\n",
    "\n",
    "tool = [\n",
    "    (\"index\", \"$index\"),\n",
    "    (\"(x,y)\", \"($x, $y)\"),\n",
    "    (\"name\",\"@LA_name\"),\n",
    "]\n",
    "# p1.legend.location = \"bottom_right\"\n",
    "# p1.legend.click_policy=\"hide\"\n",
    "# p1.legend.title = \"Regions\"\n",
    "\n",
    "# regions = df.region_x.unique()\n",
    "# urban = df.Urb_Rur.unique()\n",
    "\n",
    "\n",
    "p2 = figure(title=\"Relationship between % of Buddhists in given LA, and their Non-response rate\", y_axis_label=\"Non-response Rate\", x_axis_label=\"Percentage of Buddhists in given LA\", tooltips = tool)\n",
    "output_notebook()\n",
    "\n",
    "p2.scatter(\"Buddhist_%\", \"Group_Percentages\", source = e, fill_alpha = 0.5, size = 10)\n",
    "\n",
    "show(p2)\n"
   ]
  },
  {
   "cell_type": "code",
   "execution_count": 100,
   "id": "746eacce",
   "metadata": {},
   "outputs": [],
   "source": [
    "correlation, _ = pearsonr(e['Buddhist_%'], e.Group_Percentages)\n",
    "\n",
    "print(f\"Pearson correlation coefficient: {correlation:.2f}\")"
   ]
  },
  {
   "cell_type": "code",
   "execution_count": 101,
   "id": "16fc5259",
   "metadata": {},
   "outputs": [],
   "source": [
    "correlation_coefficient, p_value = spearmanr(e['Buddhist_%'], e.Group_Percentages)\n",
    "\n",
    "print(f\"Spearman's rank correlation coefficient: {correlation_coefficient}\")\n",
    "print(f\"P-value: {p_value}\")"
   ]
  },
  {
   "cell_type": "markdown",
   "id": "e214e3ea",
   "metadata": {},
   "source": [
    "### JEWISH"
   ]
  },
  {
   "cell_type": "code",
   "execution_count": 102,
   "id": "0d95c410",
   "metadata": {},
   "outputs": [],
   "source": [
    "jewish, f = subset_rel('Jewish')"
   ]
  },
  {
   "cell_type": "code",
   "execution_count": 103,
   "id": "442a977a",
   "metadata": {},
   "outputs": [],
   "source": [
    "from bokeh.transform import factor_cmap, factor_mark\n",
    "from bokeh.plotting import figure, show\n",
    "from bokeh.palettes import Category10\n",
    "\n",
    "tool = [\n",
    "    (\"index\", \"$index\"),\n",
    "    (\"(x,y)\", \"($x, $y)\"),\n",
    "    (\"name\",\"@LA_name\"),\n",
    "]\n",
    "# p1.legend.location = \"bottom_right\"\n",
    "# p1.legend.click_policy=\"hide\"\n",
    "# p1.legend.title = \"Regions\"\n",
    "\n",
    "# regions = df.region_x.unique()\n",
    "# urban = df.Urb_Rur.unique()\n",
    "\n",
    "\n",
    "p2 = figure(title=\"Relationship between % of Jewish people in given LA, and their Non-response rate\", y_axis_label=\"Non-response Rate\", x_axis_label=\"Percentage of Jewish people in given LA\", tooltips = tool)\n",
    "output_notebook()\n",
    "\n",
    "p2.scatter(\"Jewish_%\", \"Group_Percentages\", source = f, fill_alpha = 0.5, size = 10)\n",
    "\n",
    "show(p2)"
   ]
  },
  {
   "cell_type": "code",
   "execution_count": 104,
   "id": "159d7be8",
   "metadata": {},
   "outputs": [],
   "source": [
    "correlation, _ = pearsonr(f['Jewish_%'], f.Group_Percentages)\n",
    "\n",
    "print(f\"Pearson correlation coefficient: {correlation:.2f}\")"
   ]
  },
  {
   "cell_type": "code",
   "execution_count": 105,
   "id": "09e420c1",
   "metadata": {},
   "outputs": [],
   "source": [
    "correlation_coefficient, p_value = spearmanr(f['Jewish_%'], f.Group_Percentages)\n",
    "\n",
    "print(f\"Spearman's rank correlation coefficient: {correlation_coefficient}\")\n",
    "print(f\"P-value: {p_value}\")"
   ]
  },
  {
   "cell_type": "markdown",
   "id": "375f0ce3",
   "metadata": {},
   "source": [
    "### HINDU"
   ]
  },
  {
   "cell_type": "code",
   "execution_count": 106,
   "id": "c8181eaa",
   "metadata": {},
   "outputs": [],
   "source": [
    "hindu, g = subset_rel('Hindu')"
   ]
  },
  {
   "cell_type": "code",
   "execution_count": 107,
   "id": "5d0f80b5",
   "metadata": {},
   "outputs": [],
   "source": [
    "from bokeh.transform import factor_cmap, factor_mark\n",
    "from bokeh.plotting import figure, show\n",
    "from bokeh.palettes import Category10\n",
    "\n",
    "tool = [\n",
    "    (\"index\", \"$index\"),\n",
    "    (\"(x,y)\", \"($x, $y)\"),\n",
    "    (\"name\",\"@LA_name\"),\n",
    "]\n",
    "# p1.legend.location = \"bottom_right\"\n",
    "# p1.legend.click_policy=\"hide\"\n",
    "# p1.legend.title = \"Regions\"\n",
    "\n",
    "# regions = df.region_x.unique()\n",
    "# urban = df.Urb_Rur.unique()\n",
    "\n",
    "\n",
    "p2 = figure(title=\"Relationship between % of Hindus in given LA, and their Non-response rate\", y_axis_label=\"Non-response Rate\", x_axis_label=\"Percentage of Hindus in given LA\", tooltips = tool)\n",
    "output_notebook()\n",
    "\n",
    "p2.scatter(\"Hindu_%\", \"Group_Percentages\", source = g, fill_alpha = 0.5, size = 10)\n",
    "\n",
    "show(p2)"
   ]
  },
  {
   "cell_type": "code",
   "execution_count": 108,
   "id": "95c85f31",
   "metadata": {},
   "outputs": [],
   "source": [
    "correlation, _ = pearsonr(g[\"Hindu_%\"], g[\"Group_Percentages\"])\n",
    "\n",
    "print(f\"Pearson correlation coefficient: {correlation:.2f}\")"
   ]
  },
  {
   "cell_type": "code",
   "execution_count": 109,
   "id": "22bf66a4",
   "metadata": {},
   "outputs": [],
   "source": [
    "correlation_coefficient, p_value = spearmanr(g[\"Hindu_%\"], g[\"Group_Percentages\"])\n",
    "\n",
    "print(f\"Spearman's rank correlation coefficient: {correlation_coefficient}\")\n",
    "print(f\"P-value: {p_value}\")"
   ]
  },
  {
   "cell_type": "markdown",
   "id": "85955dd0",
   "metadata": {},
   "source": [
    "### SIKH"
   ]
  },
  {
   "cell_type": "code",
   "execution_count": 110,
   "id": "62ef5f10",
   "metadata": {},
   "outputs": [],
   "source": [
    "sikh, h = subset_rel('Sikh')"
   ]
  },
  {
   "cell_type": "code",
   "execution_count": 111,
   "id": "6ab62d9a",
   "metadata": {},
   "outputs": [],
   "source": [
    "from bokeh.transform import factor_cmap, factor_mark\n",
    "from bokeh.plotting import figure, show\n",
    "from bokeh.palettes import Category10\n",
    "\n",
    "tool = [\n",
    "    (\"index\", \"$index\"),\n",
    "    (\"(x,y)\", \"($x, $y)\"),\n",
    "    (\"name\",\"@LA_name\"),\n",
    "]\n",
    "# p1.legend.location = \"bottom_right\"\n",
    "# p1.legend.click_policy=\"hide\"\n",
    "# p1.legend.title = \"Regions\"\n",
    "\n",
    "# regions = df.region_x.unique()\n",
    "# urban = df.Urb_Rur.unique()\n",
    "\n",
    "\n",
    "p2 = figure(title=\"Relationship between % of Sikhs in given LA, and their Non-response rate\", y_axis_label=\"Non-response Rate\", x_axis_label=\"Percentage of Sikhs in given LA\", tooltips = tool)\n",
    "output_notebook()\n",
    "\n",
    "p2.scatter(\"Sikh_%\", \"Group_Percentages\", source = h, fill_alpha = 0.5, size = 10)\n",
    "\n",
    "show(p2)"
   ]
  },
  {
   "cell_type": "code",
   "execution_count": 112,
   "id": "b66ddc9a",
   "metadata": {},
   "outputs": [],
   "source": [
    "correlation, _ = pearsonr(h[\"Sikh_%\"], h[\"Group_Percentages\"])\n",
    "\n",
    "print(f\"Pearson correlation coefficient: {correlation:.2f}\")"
   ]
  },
  {
   "cell_type": "code",
   "execution_count": 113,
   "id": "13da4d3b",
   "metadata": {},
   "outputs": [],
   "source": [
    "correlation_coefficient, p_value = spearmanr(h[\"Sikh_%\"], h[\"Group_Percentages\"])\n",
    "\n",
    "print(f\"Spearman's rank correlation coefficient: {correlation_coefficient}\")\n",
    "print(f\"P-value: {p_value}\")"
   ]
  },
  {
   "cell_type": "code",
   "execution_count": 114,
   "id": "ff2caf0d",
   "metadata": {},
   "outputs": [],
   "source": [
    "# List of DataFrames and their corresponding suffixes\n",
    "dataframes = [(x, '_Atheist'), (b, '_Christian'), (c, '_Muslim'), (d, '_Other'), (e, '_Buddhist'), (f, '_Jewish'), (g, '_Hindu'), (h, '_Sikh')]\n",
    "\n",
    "# Merge the DataFrames one by one\n",
    "merged_df2 = dataframes[0][0]  # Initialize with the first DataFrame\n",
    "for df, suffix in dataframes[1:]:\n",
    "    merged_df2 = merged_df2.merge(df, on=['LA_code', 'LA_name', 'SO_code', 'SO_categories'], suffixes=('', suffix))\n",
    "    merged_df2 = merged_df2.rename(columns={'Total_counts': f'Total_counts{suffix}', 'Total': f'Total{suffix}'})"
   ]
  },
  {
   "cell_type": "code",
   "execution_count": 115,
   "id": "7807c2ee",
   "metadata": {},
   "outputs": [],
   "source": [
    "merged_df2 = merged_df2.rename(columns = {'Group_Percentages': 'Group_Percentages_No religion'})"
   ]
  },
  {
   "cell_type": "code",
   "execution_count": 116,
   "id": "dd5ebf15",
   "metadata": {},
   "outputs": [],
   "source": [
    "merged_df2.columns"
   ]
  },
  {
   "cell_type": "markdown",
   "id": "901ab296",
   "metadata": {},
   "source": [
    "# Outputs"
   ]
  },
  {
   "cell_type": "code",
   "execution_count": 117,
   "id": "e3fe3d73",
   "metadata": {},
   "outputs": [],
   "source": [
    "# Dfs for scatterplots - will be imported into SO_outputs notebook\n",
    "\n",
    "non_response_by_religion.to_csv('/Users/loucap/Documents/GitWork/InteractiveGender/Data/nr_totals_SO.csv', index = False)\n",
    "total_by_religion.to_csv('/Users/loucap/Documents/GitWork/InteractiveGender/Data/gen_totals_SO.csv', index = False)\n",
    "merged_df.to_csv('/Users/loucap/Documents/GitWork/InteractiveGender/Data/cleaned_lang_SO.csv', index = False)\n",
    "merged_df2.to_csv('/Users/loucap/Documents/GitWork/InteractiveGender/Data/cleaned_religion_SO.csv', index = False)\n",
    "rural_df.to_csv('/Users/loucap/Documents/GitWork/InteractiveGender/Data/urban_rural_SO.csv', index = False)"
   ]
  }
 ],
 "metadata": {
  "kernelspec": {
   "display_name": "Python 3 (ipykernel)",
   "language": "python",
   "name": "python3"
  },
  "language_info": {
   "codemirror_mode": {
    "name": "ipython",
    "version": 3
   },
   "file_extension": ".py",
   "mimetype": "text/x-python",
   "name": "python",
   "nbconvert_exporter": "python",
   "pygments_lexer": "ipython3",
   "version": "3.8.8"
  },
  "toc": {
   "base_numbering": 1,
   "nav_menu": {},
   "number_sections": true,
   "sideBar": true,
   "skip_h1_title": false,
   "title_cell": "Table of Contents",
   "title_sidebar": "Contents",
   "toc_cell": true,
   "toc_position": {},
   "toc_section_display": true,
   "toc_window_display": true
  },
  "varInspector": {
   "cols": {
    "lenName": 16,
    "lenType": 16,
    "lenVar": 40
   },
   "kernels_config": {
    "python": {
     "delete_cmd_postfix": "",
     "delete_cmd_prefix": "del ",
     "library": "var_list.py",
     "varRefreshCmd": "print(var_dic_list())"
    },
    "r": {
     "delete_cmd_postfix": ") ",
     "delete_cmd_prefix": "rm(",
     "library": "var_list.r",
     "varRefreshCmd": "cat(var_dic_list()) "
    }
   },
   "types_to_exclude": [
    "module",
    "function",
    "builtin_function_or_method",
    "instance",
    "_Feature"
   ],
   "window_display": false
  }
 },
 "nbformat": 4,
 "nbformat_minor": 5
}
