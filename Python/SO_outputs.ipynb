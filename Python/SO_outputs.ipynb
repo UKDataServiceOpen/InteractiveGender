{
 "cells": [
  {
   "cell_type": "markdown",
   "id": "e81ebb5c",
   "metadata": {},
   "source": [
    "# Load packages, read-in pre-processed data"
   ]
  },
  {
   "cell_type": "code",
   "execution_count": 1,
   "id": "6d98c5d4",
   "metadata": {},
   "outputs": [],
   "source": [
    "import os"
   ]
  },
  {
   "cell_type": "code",
   "execution_count": 2,
   "id": "90030a0c",
   "metadata": {},
   "outputs": [],
   "source": [
    "os.chdir('/Users/loucap/Documents/GitWork/InteractiveGender/')"
   ]
  },
  {
   "cell_type": "code",
   "execution_count": 3,
   "id": "b2dbd515",
   "metadata": {},
   "outputs": [
    {
     "ename": "NameError",
     "evalue": "name 'pd' is not defined",
     "output_type": "error",
     "traceback": [
      "\u001b[0;31m---------------------------------------------------------------------------\u001b[0m",
      "\u001b[0;31mNameError\u001b[0m                                 Traceback (most recent call last)",
      "\u001b[0;32m/var/folders/dm/468m4xf52c71yhldz5ck50pw0000gn/T/ipykernel_2005/1276881692.py\u001b[0m in \u001b[0;36m<module>\u001b[0;34m\u001b[0m\n\u001b[1;32m      2\u001b[0m \u001b[0;34m\u001b[0m\u001b[0m\n\u001b[1;32m      3\u001b[0m \u001b[0;31m# df without urban-rural classification\u001b[0m\u001b[0;34m\u001b[0m\u001b[0;34m\u001b[0m\u001b[0;34m\u001b[0m\u001b[0m\n\u001b[0;32m----> 4\u001b[0;31m \u001b[0mdf\u001b[0m \u001b[0;34m=\u001b[0m \u001b[0mpd\u001b[0m\u001b[0;34m.\u001b[0m\u001b[0mread_csv\u001b[0m\u001b[0;34m(\u001b[0m\u001b[0;34m'Data/cleaned_lang_SO.csv'\u001b[0m\u001b[0;34m)\u001b[0m\u001b[0;34m\u001b[0m\u001b[0;34m\u001b[0m\u001b[0m\n\u001b[0m\u001b[1;32m      5\u001b[0m \u001b[0;34m\u001b[0m\u001b[0m\n\u001b[1;32m      6\u001b[0m \u001b[0;31m# Let's take a quick glance\u001b[0m\u001b[0;34m\u001b[0m\u001b[0;34m\u001b[0m\u001b[0;34m\u001b[0m\u001b[0m\n",
      "\u001b[0;31mNameError\u001b[0m: name 'pd' is not defined"
     ]
    }
   ],
   "source": [
    "#  Read-in the pre-processed data\n",
    "\n",
    "# df without urban-rural classification\n",
    "df = pd.read_csv('Data/cleaned_lang_SO.csv')\n",
    "\n",
    "# Let's take a quick glance\n",
    "\n",
    "df.head()"
   ]
  },
  {
   "cell_type": "code",
   "execution_count": null,
   "id": "7b130f1d",
   "metadata": {},
   "outputs": [],
   "source": [
    "# df with urban-rural classification\n",
    "df2 = pd.read_csv('Data/urban_rural_SO.csv')\n",
    "\n",
    "# Let's take a quick glance\n",
    "# IMPORTANT: we only have urb_rural classification for ENGLISH LA's\n",
    "df2.head()"
   ]
  },
  {
   "cell_type": "markdown",
   "id": "060c5bf6",
   "metadata": {},
   "source": [
    "# Interactive scatterplots\n",
    "\n",
    "## Shows the relationship between the % of Non-English speakers and % of Non-response for our 331 Local Authorities in England and Wales.\n",
    "\n",
    "### COLOURED BY REGION"
   ]
  },
  {
   "cell_type": "code",
   "execution_count": null,
   "id": "49cb9964",
   "metadata": {},
   "outputs": [],
   "source": [
    "df['Urb_Rur'] = df2['Urb_Rur']"
   ]
  },
  {
   "cell_type": "code",
   "execution_count": null,
   "id": "567916c0",
   "metadata": {},
   "outputs": [],
   "source": [
    "df"
   ]
  },
  {
   "cell_type": "code",
   "execution_count": null,
   "id": "89b455b6",
   "metadata": {},
   "outputs": [],
   "source": [
    "df.Urb_Rur.unique()"
   ]
  },
  {
   "cell_type": "code",
   "execution_count": null,
   "id": "a3336684",
   "metadata": {},
   "outputs": [],
   "source": [
    "import pandas as pd\n",
    "from bokeh.layouts import column\n",
    "from bokeh.models import ColumnDataSource, Select\n",
    "from bokeh.plotting import figure, curdoc\n",
    "from bokeh.palettes import Category10\n",
    "from bokeh.transform import factor_cmap\n",
    "from bokeh.models import ColorBar, BasicTicker, PrintfTickFormatter, LogColorMapper\n",
    "\n",
    "\n",
    "output_notebook()\n",
    "\n",
    "# Prepare data sources\n",
    "df['Urb_Rur'] = df['Urb_Rur'].astype(str)\n",
    "source = ColumnDataSource(df)\n",
    "\n",
    "\n",
    "# Define tooltips\n",
    "tool = [\n",
    "    (\"index\", \"$index\"),\n",
    "    (\"(x,y)\", \"($x, $y)\"),\n",
    "    (\"name\", \"@LA_name\"),\n",
    "]\n",
    "\n",
    "p0 = figure(title = \"Relationship between Non-response Rate and Non-English Speakers\", x_axis_label = \"Percentage of Non-English Speakers\",\n",
    "           y_axis_label = \"Non-response rate\", tooltips = tool)\n",
    "\n",
    "p0.scatter(\"Percentage\", \"Non-response_rate\", source=source, fill_alpha=0.5, size=10)\n",
    "\n",
    "# Plot 1 (By Region)\n",
    "p1 = figure(title=\"Relationship between Non-response Rate and Non-English Speakers\",\n",
    "            x_axis_label=\"Percentage of Non-English Speakers\",\n",
    "            y_axis_label=\"Non-response Rate\",\n",
    "            tooltips=tool)\n",
    "\n",
    "for region, color in zip(df.region_x.unique(), Category10[10]):\n",
    "    b = df[df.region_x == region]\n",
    "    p1.circle(x='Percentage', y='Non-response_rate', size=10, alpha=0.5, color=color,\n",
    "              legend_label=region, muted_color=color, muted_alpha=0.1, source=ColumnDataSource(b))\n",
    "\n",
    "p1.legend.location = \"bottom_right\"\n",
    "p1.legend.click_policy = \"hide\"\n",
    "p1.legend.title = \"Regions\"\n",
    "\n",
    "# Plot 2 (Urban vs Rural)\n",
    "p_2 = figure(title=\"Relationship between Non-response Rate and Non-English Speakers\",\n",
    "            x_axis_label=\"Percentage of Non-English Speakers\",\n",
    "            y_axis_label=\"Non-response Rate\",\n",
    "            tooltips=tool)\n",
    "\n",
    "urban_rural_sources = {}  # Create a dictionary to store the ColumnDataSource objects\n",
    "for urb_rur in df.Urb_Rur.unique():\n",
    "    urban_rural_sources[urb_rur] = ColumnDataSource(df[df.Urb_Rur == urb_rur])\n",
    "\n",
    "for urb_rur, color in zip(df.Urb_Rur.unique(), Category10[10]):\n",
    "    p_2.circle(x='Percentage', y='Non-response_rate', size=10, alpha=0.5, color=color,\n",
    "              legend_label=urb_rur, muted_color=color, muted_alpha=0.1, source=urban_rural_sources[urb_rur])\n",
    "\n",
    "p_2.legend.location = \"bottom_right\"\n",
    "p_2.legend.click_policy = \"hide\"\n",
    "p_2.legend.title = \"Urban-Rural\"\n",
    "\n",
    "\n",
    "\n",
    "# Plot 3 (Shannon Index)\n",
    "color_map = LogColorMapper(palette=\"Viridis256\", low=df.Shannon_idx.min(), high=df.Shannon_idx.max())\n",
    "\n",
    "p3 = figure(title=\"Relationship between Non-response Rate and Non-English Speakers\",\n",
    "            x_axis_label=\"Non-response Rate\",\n",
    "            y_axis_label=\"Percentage of Non-English Speakers\",\n",
    "            tooltips=tool)\n",
    "\n",
    "p3.scatter(\"Percentage\", \"Non-response_rate\", source=source, fill_alpha=0.5, size=10,\n",
    "           color={'field': 'Shannon_idx', 'transform': color_map})\n",
    "\n",
    "color_bar = ColorBar(color_mapper=color_map,\n",
    "                     title='Shannon Index',\n",
    "                     ticker=BasicTicker(desired_num_ticks=5),\n",
    "                     formatter=PrintfTickFormatter(format='%.2f'))\n",
    "\n",
    "p3.add_layout(color_bar, 'right')\n",
    "\n",
    "# Dropdown menu\n",
    "dropdown = Select(title=\"Color By:\", value=\"None\", options=[\"Default\", \"Region\", \"Urban\", \"Shannon Index\"])\n",
    "\n",
    "# Define the update function\n",
    "def update_scatterplots(attr, old, new):\n",
    "    if dropdown.value == \"Default\":\n",
    "        p0.visible = True\n",
    "        p1.visible = False\n",
    "        p_2.visible = False\n",
    "        p3.visible = False\n",
    "    elif dropdown.value == \"Region\":\n",
    "        p0.visible = False\n",
    "        p1.visible = True\n",
    "        p_2.visible = False\n",
    "        p3.visible = False\n",
    "    elif dropdown.value == \"Urban\":\n",
    "        p0.visible = False\n",
    "        p1.visible = False\n",
    "        p_2.visible = True\n",
    "        p3.visible = False\n",
    "    elif dropdown.value == \"Shannon Index\":\n",
    "        p0.visible = False\n",
    "        p1.visible = False\n",
    "        p_2.visible = False\n",
    "        p3.visible = True\n",
    "\n",
    "# Set initial visibility\n",
    "p0.visible = True\n",
    "p1.visible = False\n",
    "p_2.visible = False\n",
    "p3.visible = False\n",
    "\n",
    "# Add the callback to the dropdown menu\n",
    "dropdown.on_change('value', update_scatterplots)\n",
    "\n",
    "# Create a layout with the dropdown menu and the scatterplots\n",
    "layout = column(dropdown, p0, p1, p_2, p3)\n",
    "\n",
    "# Add the layout to the document\n",
    "curdoc().add_root(layout)\n",
    "\n",
    "# show(p2)"
   ]
  },
  {
   "cell_type": "code",
   "execution_count": null,
   "id": "8b75e0e0",
   "metadata": {},
   "outputs": [],
   "source": [
    "# Read-in pre-processed data for religion\n",
    "\n",
    "rel = pd.read_csv('Data/cleaned_religion_SO.csv')"
   ]
  },
  {
   "cell_type": "code",
   "execution_count": null,
   "id": "8fb15481",
   "metadata": {},
   "outputs": [],
   "source": [
    "rel"
   ]
  },
  {
   "cell_type": "code",
   "execution_count": null,
   "id": "b0f42a21",
   "metadata": {},
   "outputs": [],
   "source": [
    "rel.columns"
   ]
  },
  {
   "cell_type": "code",
   "execution_count": null,
   "id": "2bcb2d29",
   "metadata": {},
   "outputs": [],
   "source": [
    "# Read-in totals and non-response by religion\n",
    "\n",
    "totals = pd.read_csv('/Users/loucap/Documents/GitWork/InteractiveGender/Data/gen_totals_SO.csv')"
   ]
  },
  {
   "cell_type": "code",
   "execution_count": null,
   "id": "d9de87db",
   "metadata": {},
   "outputs": [],
   "source": [
    "totals.head()"
   ]
  },
  {
   "cell_type": "code",
   "execution_count": null,
   "id": "76b22023",
   "metadata": {},
   "outputs": [],
   "source": [
    "totals = totals.sort_values(by = \"Percent_of_survey_respondents\", ascending = False)"
   ]
  },
  {
   "cell_type": "code",
   "execution_count": null,
   "id": "1b8f4d2c",
   "metadata": {},
   "outputs": [],
   "source": [
    "# Read-in Non-response table\n",
    "\n",
    "nr_totals = pd.read_csv('Data/nr_totals_SO.csv')\n",
    "\n",
    "nr_totals.head()"
   ]
  },
  {
   "cell_type": "code",
   "execution_count": null,
   "id": "161f146a",
   "metadata": {},
   "outputs": [],
   "source": [
    "nr_totals = nr_totals.sort_values(by = \"Contribution_to_overall_non_response_rate\", ascending = False)"
   ]
  },
  {
   "cell_type": "code",
   "execution_count": null,
   "id": "c48b8a1f",
   "metadata": {},
   "outputs": [],
   "source": [
    "import pandas as pd\n",
    "from bokeh.layouts import column, row\n",
    "from bokeh.models import ColumnDataSource, Select, HTMLTemplateFormatter\n",
    "from bokeh.models.widgets import DataTable, TableColumn, Div\n",
    "from bokeh.plotting import figure, show, curdoc\n",
    "from bokeh.io import output_notebook\n",
    "\n",
    "# Custom cell formatter\n",
    "template = \"\"\"\n",
    "<% if (Religion_categories == selected_religion) { %>\n",
    "    <span style=\"color: red; font-weight: bold\"><%= value %></span>\n",
    "<% } else { %>\n",
    "    <span style=\"font-weight: bold\"><%= value %></span>\n",
    "<% } %>\n",
    "\"\"\"\n",
    "\n",
    "def create_formatter(selected_religion):\n",
    "    formatter = HTMLTemplateFormatter(template=template.replace(\"selected_religion\", f\"'{selected_religion}'\"))\n",
    "    return formatter\n",
    "\n",
    "# Create DataTable for layout1\n",
    "source1 = ColumnDataSource(totals)\n",
    "\n",
    "columns1 = [\n",
    "    TableColumn(field=\"Religion_categories\", title=\"Religion\", formatter=create_formatter('Christian')),\n",
    "    TableColumn(field=\"Observation\", title=\"Observation\", formatter=create_formatter('Christian')),\n",
    "    TableColumn(field=\"Percent_of_survey_respondents\", title=\"% of respondents\", formatter=create_formatter('Christian')),\n",
    "]\n",
    "\n",
    "heading1 = Div(text=\"<h1>Totals</h1>\", width=300)\n",
    "\n",
    "data_table1 = DataTable(source=source1, columns=columns1, editable=False, width=500, index_position=None)\n",
    "\n",
    "layout1 = column(heading1, data_table1)\n",
    "\n",
    "# Create DataTable for layout2\n",
    "source2 = ColumnDataSource(nr_totals)\n",
    "\n",
    "columns2 = [\n",
    "    TableColumn(field=\"Religion_categories\", title=\"Religion\", formatter=create_formatter('Christian')),\n",
    "    TableColumn(field=\"Observation\", title=\"Observation\", formatter=create_formatter('Christian')),\n",
    "    TableColumn(field=\"Non_response_rate\", title=\"Non response rate\", formatter=create_formatter('Christian')),\n",
    "    TableColumn(field=\"Contribution_to_overall_non_response_rate\", title=\"% of total Non-response rate\", formatter=create_formatter('Christian')),\n",
    "]\n",
    "\n",
    "heading2 = Div(text=\"<h1>Non-response rates</h1>\", width=300)\n",
    "\n",
    "data_table2 = DataTable(source=source2, columns=columns2, editable=False, width=700, index_position=None)\n",
    "\n",
    "layout2 = column(heading2, data_table2)\n",
    "\n",
    "# Scatter plot\n",
    "output_notebook()\n",
    "\n",
    "# Prepare data\n",
    "rel['selected_religion'] = rel['Christian_%']  # Default religion\n",
    "rel['selected_percentages'] = rel['Group_Percentages_Christian']\n",
    "\n",
    "source = ColumnDataSource(rel)\n",
    "\n",
    "# Define tooltips\n",
    "tool = [\n",
    "    (\"index\", \"$index\"),\n",
    "    (\"(x,y)\", \"($x, $y)\"),\n",
    "    (\"name\", \"@LA_name\"),\n",
    "]\n",
    "\n",
    "# Create figure\n",
    "p4 = figure(title=\"Relationship between % of religious group in given LA, and their non-response rate\",\n",
    "            y_axis_label=\"Non-response Rate\", x_axis_label=\"Percentage of religious group in given LA\", tooltips=tool)\n",
    "\n",
    "# Scatter plot\n",
    "p4.scatter(\"selected_religion\", \"selected_percentages\", source=source, fill_alpha=0.5, size=10)\n",
    "\n",
    "def update_highlighted_rows(selected_religion):\n",
    "    formatter = create_formatter(selected_religion)\n",
    "    for col in columns1:\n",
    "        col.formatter = formatter\n",
    "    for col in columns2:\n",
    "        col.formatter = formatter\n",
    "    data_table1.columns = columns1\n",
    "    data_table2.columns = columns2\n",
    "\n",
    "# Define callback for updating data source\n",
    "\n",
    "def update_plot(attr, old, new):\n",
    "    selected_religion = select_religion.value\n",
    "    rel['selected_religion'] = rel[f'{selected_religion}_%']\n",
    "    rel['selected_percentages'] = rel[f'Group_Percentages_{selected_religion}']\n",
    "    source.data = source.from_df(rel)\n",
    "    update_highlighted_rows(selected_religion)\n",
    "\n",
    "# Create select widget\n",
    "options = ['Christian', 'No religion', 'Muslim', 'Jewish', 'Buddhist', 'Hindu', 'Sikh', 'Other']\n",
    "select_religion = Select(title=\"Religious Group:\", value='Christian', options=options)\n",
    "select_religion.on_change('value', update_plot)\n",
    "\n",
    "# Initial update of the highlighted rows\n",
    "update_highlighted_rows(select_religion.value)\n",
    "\n",
    "# Layout\n",
    "layout = column(select_religion, p4)\n",
    "l = row(layout1, layout2)\n",
    "\n",
    "# Show plot\n",
    "curdoc().add_root(column(layout, l))"
   ]
  }
 ],
 "metadata": {
  "kernelspec": {
   "display_name": "Python 3 (ipykernel)",
   "language": "python",
   "name": "python3"
  },
  "language_info": {
   "codemirror_mode": {
    "name": "ipython",
    "version": 3
   },
   "file_extension": ".py",
   "mimetype": "text/x-python",
   "name": "python",
   "nbconvert_exporter": "python",
   "pygments_lexer": "ipython3",
   "version": "3.8.13"
  },
  "toc": {
   "base_numbering": 1,
   "nav_menu": {},
   "number_sections": true,
   "sideBar": true,
   "skip_h1_title": false,
   "title_cell": "Table of Contents",
   "title_sidebar": "Contents",
   "toc_cell": false,
   "toc_position": {},
   "toc_section_display": true,
   "toc_window_display": false
  },
  "varInspector": {
   "cols": {
    "lenName": 16,
    "lenType": 16,
    "lenVar": 40
   },
   "kernels_config": {
    "python": {
     "delete_cmd_postfix": "",
     "delete_cmd_prefix": "del ",
     "library": "var_list.py",
     "varRefreshCmd": "print(var_dic_list())"
    },
    "r": {
     "delete_cmd_postfix": ") ",
     "delete_cmd_prefix": "rm(",
     "library": "var_list.r",
     "varRefreshCmd": "cat(var_dic_list()) "
    }
   },
   "types_to_exclude": [
    "module",
    "function",
    "builtin_function_or_method",
    "instance",
    "_Feature"
   ],
   "window_display": false
  }
 },
 "nbformat": 4,
 "nbformat_minor": 5
}
