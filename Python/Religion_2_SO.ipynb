{
 "cells": [
  {
   "cell_type": "markdown",
   "id": "f1587ba3",
   "metadata": {},
   "source": [
    "# Aim\n",
    "\n",
    "In 'Religion_1_SO.ipynb' we focused on adding some new data to explore the relationship between SO non-response and the % of Non-English speakers in our LA's. However, in this notebook, we will now dive deeper into our religion dataset to explore the relationship between religious group % and contribution to non-response rates in LAs. Our aim will be to create some scatterplots."
   ]
  },
  {
   "cell_type": "markdown",
   "id": "4570e305",
   "metadata": {},
   "source": [
    "# Religion"
   ]
  },
  {
   "cell_type": "markdown",
   "id": "0157e923",
   "metadata": {},
   "source": [
    "## Import libraries"
   ]
  },
  {
   "cell_type": "code",
   "execution_count": 1,
   "id": "95fe6f4b",
   "metadata": {},
   "outputs": [],
   "source": [
    "# used to manipulate dataframes\n",
    "import pandas as pd\n",
    "\n",
    "# used to create visualisations\n",
    "import matplotlib.pyplot as plt\n",
    "\n",
    "# used to create interactive visualisations\n",
    "from bokeh.plotting import figure, show\n",
    "from bokeh.io import output_notebook\n",
    "from bokeh.models import ColumnDataSource\n",
    "from bokeh.models.widgets import DataTable, TableColumn"
   ]
  },
  {
   "cell_type": "markdown",
   "id": "2f4ea79a",
   "metadata": {},
   "source": [
    "## Read-in data"
   ]
  },
  {
   "cell_type": "code",
   "execution_count": 2,
   "id": "8eecbfa8",
   "metadata": {},
   "outputs": [],
   "source": [
    "rel = pd.read_excel('../Data/religion_so.xlsx')"
   ]
  },
  {
   "cell_type": "markdown",
   "id": "b1b44d1e",
   "metadata": {},
   "source": [
    "## Clean data"
   ]
  },
  {
   "cell_type": "code",
   "execution_count": 3,
   "id": "c2b7290e",
   "metadata": {},
   "outputs": [],
   "source": [
    "# Let's rename our columns and give them less clunky names\n",
    "\n",
    "rel.rename(columns={'Lower tier local authorities Code': 'LA_code', 'Lower tier local authorities': 'LA_name', 'Sexual orientation (6 categories) Code': 'SO_code', 'Sexual orientation (6 categories)': 'SO_categories', 'Religion (10 categories) Code': 'Religion_code', 'Religion (10 categories)': 'Religion_categories'}, inplace=True)"
   ]
  },
  {
   "cell_type": "code",
   "execution_count": 4,
   "id": "3a8c27e7",
   "metadata": {},
   "outputs": [],
   "source": [
    "# Filter dataframe so that we don't include 'Does not apply' categories\n",
    "# These categories have counts of 0\n",
    "# We'll also get rid of the non-response category for religion \n",
    "\n",
    "rel = rel[(rel.SO_code != -8) & (rel.Religion_code != -8) & (rel.Religion_code != 9)]"
   ]
  },
  {
   "cell_type": "code",
   "execution_count": 5,
   "id": "9b3d47bd",
   "metadata": {},
   "outputs": [
    {
     "data": {
      "text/html": [
       "<div>\n",
       "<style scoped>\n",
       "    .dataframe tbody tr th:only-of-type {\n",
       "        vertical-align: middle;\n",
       "    }\n",
       "\n",
       "    .dataframe tbody tr th {\n",
       "        vertical-align: top;\n",
       "    }\n",
       "\n",
       "    .dataframe thead th {\n",
       "        text-align: right;\n",
       "    }\n",
       "</style>\n",
       "<table border=\"1\" class=\"dataframe\">\n",
       "  <thead>\n",
       "    <tr style=\"text-align: right;\">\n",
       "      <th></th>\n",
       "      <th>LA_code</th>\n",
       "      <th>LA_name</th>\n",
       "      <th>SO_code</th>\n",
       "      <th>SO_categories</th>\n",
       "      <th>Religion_code</th>\n",
       "      <th>Religion_categories</th>\n",
       "      <th>Observation</th>\n",
       "    </tr>\n",
       "  </thead>\n",
       "  <tbody>\n",
       "    <tr>\n",
       "      <th>11</th>\n",
       "      <td>E06000001</td>\n",
       "      <td>Hartlepool</td>\n",
       "      <td>1</td>\n",
       "      <td>Straight or Heterosexual</td>\n",
       "      <td>1</td>\n",
       "      <td>No religion</td>\n",
       "      <td>25028</td>\n",
       "    </tr>\n",
       "    <tr>\n",
       "      <th>12</th>\n",
       "      <td>E06000001</td>\n",
       "      <td>Hartlepool</td>\n",
       "      <td>1</td>\n",
       "      <td>Straight or Heterosexual</td>\n",
       "      <td>2</td>\n",
       "      <td>Christian</td>\n",
       "      <td>39649</td>\n",
       "    </tr>\n",
       "    <tr>\n",
       "      <th>13</th>\n",
       "      <td>E06000001</td>\n",
       "      <td>Hartlepool</td>\n",
       "      <td>1</td>\n",
       "      <td>Straight or Heterosexual</td>\n",
       "      <td>3</td>\n",
       "      <td>Buddhist</td>\n",
       "      <td>139</td>\n",
       "    </tr>\n",
       "    <tr>\n",
       "      <th>14</th>\n",
       "      <td>E06000001</td>\n",
       "      <td>Hartlepool</td>\n",
       "      <td>1</td>\n",
       "      <td>Straight or Heterosexual</td>\n",
       "      <td>4</td>\n",
       "      <td>Hindu</td>\n",
       "      <td>144</td>\n",
       "    </tr>\n",
       "    <tr>\n",
       "      <th>15</th>\n",
       "      <td>E06000001</td>\n",
       "      <td>Hartlepool</td>\n",
       "      <td>1</td>\n",
       "      <td>Straight or Heterosexual</td>\n",
       "      <td>5</td>\n",
       "      <td>Jewish</td>\n",
       "      <td>15</td>\n",
       "    </tr>\n",
       "    <tr>\n",
       "      <th>16</th>\n",
       "      <td>E06000001</td>\n",
       "      <td>Hartlepool</td>\n",
       "      <td>1</td>\n",
       "      <td>Straight or Heterosexual</td>\n",
       "      <td>6</td>\n",
       "      <td>Muslim</td>\n",
       "      <td>675</td>\n",
       "    </tr>\n",
       "    <tr>\n",
       "      <th>17</th>\n",
       "      <td>E06000001</td>\n",
       "      <td>Hartlepool</td>\n",
       "      <td>1</td>\n",
       "      <td>Straight or Heterosexual</td>\n",
       "      <td>7</td>\n",
       "      <td>Sikh</td>\n",
       "      <td>112</td>\n",
       "    </tr>\n",
       "    <tr>\n",
       "      <th>18</th>\n",
       "      <td>E06000001</td>\n",
       "      <td>Hartlepool</td>\n",
       "      <td>1</td>\n",
       "      <td>Straight or Heterosexual</td>\n",
       "      <td>8</td>\n",
       "      <td>Other religion</td>\n",
       "      <td>175</td>\n",
       "    </tr>\n",
       "    <tr>\n",
       "      <th>21</th>\n",
       "      <td>E06000001</td>\n",
       "      <td>Hartlepool</td>\n",
       "      <td>2</td>\n",
       "      <td>Gay or Lesbian</td>\n",
       "      <td>1</td>\n",
       "      <td>No religion</td>\n",
       "      <td>677</td>\n",
       "    </tr>\n",
       "    <tr>\n",
       "      <th>22</th>\n",
       "      <td>E06000001</td>\n",
       "      <td>Hartlepool</td>\n",
       "      <td>2</td>\n",
       "      <td>Gay or Lesbian</td>\n",
       "      <td>2</td>\n",
       "      <td>Christian</td>\n",
       "      <td>384</td>\n",
       "    </tr>\n",
       "  </tbody>\n",
       "</table>\n",
       "</div>"
      ],
      "text/plain": [
       "      LA_code     LA_name  SO_code             SO_categories  Religion_code  \\\n",
       "11  E06000001  Hartlepool        1  Straight or Heterosexual              1   \n",
       "12  E06000001  Hartlepool        1  Straight or Heterosexual              2   \n",
       "13  E06000001  Hartlepool        1  Straight or Heterosexual              3   \n",
       "14  E06000001  Hartlepool        1  Straight or Heterosexual              4   \n",
       "15  E06000001  Hartlepool        1  Straight or Heterosexual              5   \n",
       "16  E06000001  Hartlepool        1  Straight or Heterosexual              6   \n",
       "17  E06000001  Hartlepool        1  Straight or Heterosexual              7   \n",
       "18  E06000001  Hartlepool        1  Straight or Heterosexual              8   \n",
       "21  E06000001  Hartlepool        2            Gay or Lesbian              1   \n",
       "22  E06000001  Hartlepool        2            Gay or Lesbian              2   \n",
       "\n",
       "   Religion_categories  Observation  \n",
       "11         No religion        25028  \n",
       "12           Christian        39649  \n",
       "13            Buddhist          139  \n",
       "14               Hindu          144  \n",
       "15              Jewish           15  \n",
       "16              Muslim          675  \n",
       "17                Sikh          112  \n",
       "18      Other religion          175  \n",
       "21         No religion          677  \n",
       "22           Christian          384  "
      ]
     },
     "execution_count": 5,
     "metadata": {},
     "output_type": "execute_result"
    }
   ],
   "source": [
    "# Let's check it out\n",
    "\n",
    "rel.head(10)"
   ]
  },
  {
   "cell_type": "markdown",
   "id": "a95ee4e9",
   "metadata": {},
   "source": [
    "# Pre-processing\n",
    "\n",
    "What we want to do is caclulate the total observation for each LA, regardless of religious category. Then we will calculate the non-response total for each religious category within each LA, and divide it by the total observations for the LA.\n",
    "\n",
    "This will allow us to move onto the data processing phase where we can explore how different religious categories contribute to the overall non-response rates of our LA's. We can then look at which groups have a larger impact on overall NR, especially in LAs where they make up a larger % of the population."
   ]
  },
  {
   "cell_type": "markdown",
   "id": "93840ed0",
   "metadata": {},
   "source": [
    "## Step 1\n",
    "\n",
    "Calculate the % of each religious group for each LA."
   ]
  },
  {
   "cell_type": "code",
   "execution_count": 6,
   "id": "f891e908",
   "metadata": {},
   "outputs": [
    {
     "data": {
      "text/html": [
       "<div>\n",
       "<style scoped>\n",
       "    .dataframe tbody tr th:only-of-type {\n",
       "        vertical-align: middle;\n",
       "    }\n",
       "\n",
       "    .dataframe tbody tr th {\n",
       "        vertical-align: top;\n",
       "    }\n",
       "\n",
       "    .dataframe thead th {\n",
       "        text-align: right;\n",
       "    }\n",
       "</style>\n",
       "<table border=\"1\" class=\"dataframe\">\n",
       "  <thead>\n",
       "    <tr style=\"text-align: right;\">\n",
       "      <th></th>\n",
       "      <th>LA_name</th>\n",
       "      <th>Total_Observation</th>\n",
       "      <th>No religion_Percentage</th>\n",
       "      <th>No religion_Observation</th>\n",
       "      <th>Christian_Percentage</th>\n",
       "      <th>Christian_Observation</th>\n",
       "      <th>Buddhist_Percentage</th>\n",
       "      <th>Buddhist_Observation</th>\n",
       "      <th>Hindu_Percentage</th>\n",
       "      <th>Hindu_Observation</th>\n",
       "      <th>Jewish_Percentage</th>\n",
       "      <th>Jewish_Observation</th>\n",
       "      <th>Muslim_Percentage</th>\n",
       "      <th>Muslim_Observation</th>\n",
       "      <th>Sikh_Percentage</th>\n",
       "      <th>Sikh_Observation</th>\n",
       "      <th>Other religion_Percentage</th>\n",
       "      <th>Other religion_Observation</th>\n",
       "    </tr>\n",
       "  </thead>\n",
       "  <tbody>\n",
       "    <tr>\n",
       "      <th>0</th>\n",
       "      <td>Adur</td>\n",
       "      <td>49935</td>\n",
       "      <td>47.51</td>\n",
       "      <td>23725</td>\n",
       "      <td>49.18</td>\n",
       "      <td>24556</td>\n",
       "      <td>0.51</td>\n",
       "      <td>256</td>\n",
       "      <td>0.34</td>\n",
       "      <td>169</td>\n",
       "      <td>0.43</td>\n",
       "      <td>216</td>\n",
       "      <td>1.23</td>\n",
       "      <td>615</td>\n",
       "      <td>0.07</td>\n",
       "      <td>33</td>\n",
       "      <td>0.73</td>\n",
       "      <td>365</td>\n",
       "    </tr>\n",
       "    <tr>\n",
       "      <th>1</th>\n",
       "      <td>Allerdale</td>\n",
       "      <td>75914</td>\n",
       "      <td>33.10</td>\n",
       "      <td>25129</td>\n",
       "      <td>65.88</td>\n",
       "      <td>50010</td>\n",
       "      <td>0.27</td>\n",
       "      <td>205</td>\n",
       "      <td>0.08</td>\n",
       "      <td>57</td>\n",
       "      <td>0.04</td>\n",
       "      <td>33</td>\n",
       "      <td>0.23</td>\n",
       "      <td>175</td>\n",
       "      <td>0.03</td>\n",
       "      <td>20</td>\n",
       "      <td>0.38</td>\n",
       "      <td>285</td>\n",
       "    </tr>\n",
       "    <tr>\n",
       "      <th>2</th>\n",
       "      <td>Amber Valley</td>\n",
       "      <td>99179</td>\n",
       "      <td>46.62</td>\n",
       "      <td>46233</td>\n",
       "      <td>51.74</td>\n",
       "      <td>51318</td>\n",
       "      <td>0.26</td>\n",
       "      <td>261</td>\n",
       "      <td>0.18</td>\n",
       "      <td>179</td>\n",
       "      <td>0.06</td>\n",
       "      <td>55</td>\n",
       "      <td>0.25</td>\n",
       "      <td>246</td>\n",
       "      <td>0.20</td>\n",
       "      <td>202</td>\n",
       "      <td>0.69</td>\n",
       "      <td>685</td>\n",
       "    </tr>\n",
       "    <tr>\n",
       "      <th>3</th>\n",
       "      <td>Arun</td>\n",
       "      <td>131265</td>\n",
       "      <td>39.56</td>\n",
       "      <td>51925</td>\n",
       "      <td>58.34</td>\n",
       "      <td>76574</td>\n",
       "      <td>0.36</td>\n",
       "      <td>468</td>\n",
       "      <td>0.23</td>\n",
       "      <td>303</td>\n",
       "      <td>0.19</td>\n",
       "      <td>246</td>\n",
       "      <td>0.66</td>\n",
       "      <td>866</td>\n",
       "      <td>0.05</td>\n",
       "      <td>61</td>\n",
       "      <td>0.63</td>\n",
       "      <td>822</td>\n",
       "    </tr>\n",
       "    <tr>\n",
       "      <th>4</th>\n",
       "      <td>Ashfield</td>\n",
       "      <td>96859</td>\n",
       "      <td>49.49</td>\n",
       "      <td>47936</td>\n",
       "      <td>48.56</td>\n",
       "      <td>47038</td>\n",
       "      <td>0.24</td>\n",
       "      <td>235</td>\n",
       "      <td>0.32</td>\n",
       "      <td>313</td>\n",
       "      <td>0.04</td>\n",
       "      <td>39</td>\n",
       "      <td>0.53</td>\n",
       "      <td>517</td>\n",
       "      <td>0.23</td>\n",
       "      <td>222</td>\n",
       "      <td>0.58</td>\n",
       "      <td>559</td>\n",
       "    </tr>\n",
       "    <tr>\n",
       "      <th>...</th>\n",
       "      <td>...</td>\n",
       "      <td>...</td>\n",
       "      <td>...</td>\n",
       "      <td>...</td>\n",
       "      <td>...</td>\n",
       "      <td>...</td>\n",
       "      <td>...</td>\n",
       "      <td>...</td>\n",
       "      <td>...</td>\n",
       "      <td>...</td>\n",
       "      <td>...</td>\n",
       "      <td>...</td>\n",
       "      <td>...</td>\n",
       "      <td>...</td>\n",
       "      <td>...</td>\n",
       "      <td>...</td>\n",
       "      <td>...</td>\n",
       "      <td>...</td>\n",
       "    </tr>\n",
       "    <tr>\n",
       "      <th>326</th>\n",
       "      <td>Wrexham</td>\n",
       "      <td>103237</td>\n",
       "      <td>41.62</td>\n",
       "      <td>42968</td>\n",
       "      <td>56.16</td>\n",
       "      <td>57981</td>\n",
       "      <td>0.35</td>\n",
       "      <td>361</td>\n",
       "      <td>0.26</td>\n",
       "      <td>264</td>\n",
       "      <td>0.05</td>\n",
       "      <td>50</td>\n",
       "      <td>1.04</td>\n",
       "      <td>1077</td>\n",
       "      <td>0.06</td>\n",
       "      <td>66</td>\n",
       "      <td>0.46</td>\n",
       "      <td>470</td>\n",
       "    </tr>\n",
       "    <tr>\n",
       "      <th>327</th>\n",
       "      <td>Wychavon</td>\n",
       "      <td>104730</td>\n",
       "      <td>34.63</td>\n",
       "      <td>36263</td>\n",
       "      <td>63.55</td>\n",
       "      <td>66551</td>\n",
       "      <td>0.30</td>\n",
       "      <td>311</td>\n",
       "      <td>0.15</td>\n",
       "      <td>160</td>\n",
       "      <td>0.10</td>\n",
       "      <td>105</td>\n",
       "      <td>0.54</td>\n",
       "      <td>567</td>\n",
       "      <td>0.24</td>\n",
       "      <td>256</td>\n",
       "      <td>0.49</td>\n",
       "      <td>517</td>\n",
       "    </tr>\n",
       "    <tr>\n",
       "      <th>328</th>\n",
       "      <td>Wyre</td>\n",
       "      <td>89649</td>\n",
       "      <td>32.76</td>\n",
       "      <td>29367</td>\n",
       "      <td>65.81</td>\n",
       "      <td>58994</td>\n",
       "      <td>0.31</td>\n",
       "      <td>280</td>\n",
       "      <td>0.14</td>\n",
       "      <td>128</td>\n",
       "      <td>0.09</td>\n",
       "      <td>80</td>\n",
       "      <td>0.37</td>\n",
       "      <td>336</td>\n",
       "      <td>0.02</td>\n",
       "      <td>19</td>\n",
       "      <td>0.50</td>\n",
       "      <td>445</td>\n",
       "    </tr>\n",
       "    <tr>\n",
       "      <th>329</th>\n",
       "      <td>Wyre Forest</td>\n",
       "      <td>79812</td>\n",
       "      <td>37.88</td>\n",
       "      <td>30229</td>\n",
       "      <td>60.03</td>\n",
       "      <td>47914</td>\n",
       "      <td>0.27</td>\n",
       "      <td>213</td>\n",
       "      <td>0.14</td>\n",
       "      <td>113</td>\n",
       "      <td>0.05</td>\n",
       "      <td>39</td>\n",
       "      <td>0.83</td>\n",
       "      <td>662</td>\n",
       "      <td>0.26</td>\n",
       "      <td>206</td>\n",
       "      <td>0.55</td>\n",
       "      <td>436</td>\n",
       "    </tr>\n",
       "    <tr>\n",
       "      <th>330</th>\n",
       "      <td>York</td>\n",
       "      <td>160298</td>\n",
       "      <td>47.70</td>\n",
       "      <td>76460</td>\n",
       "      <td>49.01</td>\n",
       "      <td>78555</td>\n",
       "      <td>0.60</td>\n",
       "      <td>962</td>\n",
       "      <td>0.54</td>\n",
       "      <td>864</td>\n",
       "      <td>0.15</td>\n",
       "      <td>248</td>\n",
       "      <td>1.18</td>\n",
       "      <td>1892</td>\n",
       "      <td>0.09</td>\n",
       "      <td>147</td>\n",
       "      <td>0.73</td>\n",
       "      <td>1170</td>\n",
       "    </tr>\n",
       "  </tbody>\n",
       "</table>\n",
       "<p>331 rows × 18 columns</p>\n",
       "</div>"
      ],
      "text/plain": [
       "          LA_name  Total_Observation  No religion_Percentage  \\\n",
       "0            Adur              49935                   47.51   \n",
       "1       Allerdale              75914                   33.10   \n",
       "2    Amber Valley              99179                   46.62   \n",
       "3            Arun             131265                   39.56   \n",
       "4        Ashfield              96859                   49.49   \n",
       "..            ...                ...                     ...   \n",
       "326       Wrexham             103237                   41.62   \n",
       "327      Wychavon             104730                   34.63   \n",
       "328          Wyre              89649                   32.76   \n",
       "329   Wyre Forest              79812                   37.88   \n",
       "330          York             160298                   47.70   \n",
       "\n",
       "     No religion_Observation  Christian_Percentage  Christian_Observation  \\\n",
       "0                      23725                 49.18                  24556   \n",
       "1                      25129                 65.88                  50010   \n",
       "2                      46233                 51.74                  51318   \n",
       "3                      51925                 58.34                  76574   \n",
       "4                      47936                 48.56                  47038   \n",
       "..                       ...                   ...                    ...   \n",
       "326                    42968                 56.16                  57981   \n",
       "327                    36263                 63.55                  66551   \n",
       "328                    29367                 65.81                  58994   \n",
       "329                    30229                 60.03                  47914   \n",
       "330                    76460                 49.01                  78555   \n",
       "\n",
       "     Buddhist_Percentage  Buddhist_Observation  Hindu_Percentage  \\\n",
       "0                   0.51                   256              0.34   \n",
       "1                   0.27                   205              0.08   \n",
       "2                   0.26                   261              0.18   \n",
       "3                   0.36                   468              0.23   \n",
       "4                   0.24                   235              0.32   \n",
       "..                   ...                   ...               ...   \n",
       "326                 0.35                   361              0.26   \n",
       "327                 0.30                   311              0.15   \n",
       "328                 0.31                   280              0.14   \n",
       "329                 0.27                   213              0.14   \n",
       "330                 0.60                   962              0.54   \n",
       "\n",
       "     Hindu_Observation  Jewish_Percentage  Jewish_Observation  \\\n",
       "0                  169               0.43                 216   \n",
       "1                   57               0.04                  33   \n",
       "2                  179               0.06                  55   \n",
       "3                  303               0.19                 246   \n",
       "4                  313               0.04                  39   \n",
       "..                 ...                ...                 ...   \n",
       "326                264               0.05                  50   \n",
       "327                160               0.10                 105   \n",
       "328                128               0.09                  80   \n",
       "329                113               0.05                  39   \n",
       "330                864               0.15                 248   \n",
       "\n",
       "     Muslim_Percentage  Muslim_Observation  Sikh_Percentage  Sikh_Observation  \\\n",
       "0                 1.23                 615             0.07                33   \n",
       "1                 0.23                 175             0.03                20   \n",
       "2                 0.25                 246             0.20               202   \n",
       "3                 0.66                 866             0.05                61   \n",
       "4                 0.53                 517             0.23               222   \n",
       "..                 ...                 ...              ...               ...   \n",
       "326               1.04                1077             0.06                66   \n",
       "327               0.54                 567             0.24               256   \n",
       "328               0.37                 336             0.02                19   \n",
       "329               0.83                 662             0.26               206   \n",
       "330               1.18                1892             0.09               147   \n",
       "\n",
       "     Other religion_Percentage  Other religion_Observation  \n",
       "0                         0.73                         365  \n",
       "1                         0.38                         285  \n",
       "2                         0.69                         685  \n",
       "3                         0.63                         822  \n",
       "4                         0.58                         559  \n",
       "..                         ...                         ...  \n",
       "326                       0.46                         470  \n",
       "327                       0.49                         517  \n",
       "328                       0.50                         445  \n",
       "329                       0.55                         436  \n",
       "330                       0.73                        1170  \n",
       "\n",
       "[331 rows x 18 columns]"
      ]
     },
     "execution_count": 6,
     "metadata": {},
     "output_type": "execute_result"
    }
   ],
   "source": [
    "\n",
    "# We will group by LA name and observation, then sum the counts\n",
    "# Column name for this new df will be 'Total_Observation'\n",
    "total_population = rel.groupby('LA_name')['Observation'].sum().reset_index(name='Total_Observation')\n",
    "\n",
    "# Create a dataframe to store the results\n",
    "final_df = total_population.copy()\n",
    "\n",
    "# Iterate through each unique religion category\n",
    "for rel_category in rel['Religion_categories'].unique():\n",
    "    \n",
    "#     Subset dataframe by that religious category and assign results to new df\n",
    "    spec = rel[rel.Religion_categories == rel_category]\n",
    "    \n",
    "#     Create a new df which holds the total observations for that religious category\n",
    "# ..within each LA\n",
    "    spec_tot = spec.groupby('LA_name')['Observation'].sum().reset_index(name=f'{rel_category}_Observation')\n",
    "#     Then calculate the % of each religious group by dividing category observation by total LA population\n",
    "    spec_tot[f'{rel_category}_Percentage'] = (spec_tot[f'{rel_category}_Observation'] / total_population['Total_Observation'] * 100).round(2)\n",
    "#     Merge df where we will store results with spec_tot \n",
    "    final_df = pd.merge(final_df, spec_tot[['LA_name', f'{rel_category}_Percentage', f'{rel_category}_Observation']], on = 'LA_name', how = 'left')\n",
    "\n",
    "# Print the final_df to see the results\n",
    "final_df\n"
   ]
  },
  {
   "cell_type": "markdown",
   "id": "30bf6ef3",
   "metadata": {},
   "source": [
    "## Step 2\n",
    "\n",
    "Calculate the non-response rate contributions for each religious group for each LA."
   ]
  },
  {
   "cell_type": "code",
   "execution_count": 7,
   "id": "d19f279c",
   "metadata": {},
   "outputs": [],
   "source": [
    "# Start by creating a new df which subsets our original df according to our condition\n",
    "\n",
    "non_response_data = rel[rel.SO_categories == 'Not answered']"
   ]
  },
  {
   "cell_type": "code",
   "execution_count": 8,
   "id": "0799e531",
   "metadata": {},
   "outputs": [],
   "source": [
    "# Calculate total non-response counts for each religious category by grouping observations\n",
    "\n",
    "non_resp_totals = non_response_data.groupby(['LA_name', 'Religion_categories'])['Observation'].sum().reset_index(name='Non_Response_Observation')\n"
   ]
  },
  {
   "cell_type": "code",
   "execution_count": 9,
   "id": "f2a3107a",
   "metadata": {},
   "outputs": [
    {
     "data": {
      "text/html": [
       "<div>\n",
       "<style scoped>\n",
       "    .dataframe tbody tr th:only-of-type {\n",
       "        vertical-align: middle;\n",
       "    }\n",
       "\n",
       "    .dataframe tbody tr th {\n",
       "        vertical-align: top;\n",
       "    }\n",
       "\n",
       "    .dataframe thead th {\n",
       "        text-align: right;\n",
       "    }\n",
       "</style>\n",
       "<table border=\"1\" class=\"dataframe\">\n",
       "  <thead>\n",
       "    <tr style=\"text-align: right;\">\n",
       "      <th></th>\n",
       "      <th>LA_name</th>\n",
       "      <th>Religion_categories</th>\n",
       "      <th>Non_Response_Observation</th>\n",
       "    </tr>\n",
       "  </thead>\n",
       "  <tbody>\n",
       "    <tr>\n",
       "      <th>0</th>\n",
       "      <td>Adur</td>\n",
       "      <td>Buddhist</td>\n",
       "      <td>19</td>\n",
       "    </tr>\n",
       "    <tr>\n",
       "      <th>1</th>\n",
       "      <td>Adur</td>\n",
       "      <td>Christian</td>\n",
       "      <td>1023</td>\n",
       "    </tr>\n",
       "    <tr>\n",
       "      <th>2</th>\n",
       "      <td>Adur</td>\n",
       "      <td>Hindu</td>\n",
       "      <td>9</td>\n",
       "    </tr>\n",
       "    <tr>\n",
       "      <th>3</th>\n",
       "      <td>Adur</td>\n",
       "      <td>Jewish</td>\n",
       "      <td>7</td>\n",
       "    </tr>\n",
       "    <tr>\n",
       "      <th>4</th>\n",
       "      <td>Adur</td>\n",
       "      <td>Muslim</td>\n",
       "      <td>27</td>\n",
       "    </tr>\n",
       "  </tbody>\n",
       "</table>\n",
       "</div>"
      ],
      "text/plain": [
       "  LA_name Religion_categories  Non_Response_Observation\n",
       "0    Adur            Buddhist                        19\n",
       "1    Adur           Christian                      1023\n",
       "2    Adur               Hindu                         9\n",
       "3    Adur              Jewish                         7\n",
       "4    Adur              Muslim                        27"
      ]
     },
     "execution_count": 9,
     "metadata": {},
     "output_type": "execute_result"
    }
   ],
   "source": [
    "# Let's check it out...\n",
    "\n",
    "non_resp_totals.head()"
   ]
  },
  {
   "cell_type": "code",
   "execution_count": 10,
   "id": "4f5da047",
   "metadata": {},
   "outputs": [],
   "source": [
    "# Create a copy of non_resp_totals to store the results\n",
    "non_resp_results = non_resp_totals.copy()\n",
    "\n",
    "# Merge the Non_Response_Observation and Total_Observation columns\n",
    "merged_df = pd.merge(non_resp_totals, final_df[['LA_name', 'Total_Observation']], on='LA_name', how='left')\n"
   ]
  },
  {
   "cell_type": "code",
   "execution_count": 11,
   "id": "08c204b0",
   "metadata": {},
   "outputs": [
    {
     "data": {
      "text/html": [
       "<div>\n",
       "<style scoped>\n",
       "    .dataframe tbody tr th:only-of-type {\n",
       "        vertical-align: middle;\n",
       "    }\n",
       "\n",
       "    .dataframe tbody tr th {\n",
       "        vertical-align: top;\n",
       "    }\n",
       "\n",
       "    .dataframe thead th {\n",
       "        text-align: right;\n",
       "    }\n",
       "</style>\n",
       "<table border=\"1\" class=\"dataframe\">\n",
       "  <thead>\n",
       "    <tr style=\"text-align: right;\">\n",
       "      <th></th>\n",
       "      <th>LA_name</th>\n",
       "      <th>Religion_categories</th>\n",
       "      <th>Non_Response_Observation</th>\n",
       "      <th>Total_Observation</th>\n",
       "    </tr>\n",
       "  </thead>\n",
       "  <tbody>\n",
       "    <tr>\n",
       "      <th>0</th>\n",
       "      <td>Adur</td>\n",
       "      <td>Buddhist</td>\n",
       "      <td>19</td>\n",
       "      <td>49935</td>\n",
       "    </tr>\n",
       "    <tr>\n",
       "      <th>1</th>\n",
       "      <td>Adur</td>\n",
       "      <td>Christian</td>\n",
       "      <td>1023</td>\n",
       "      <td>49935</td>\n",
       "    </tr>\n",
       "    <tr>\n",
       "      <th>2</th>\n",
       "      <td>Adur</td>\n",
       "      <td>Hindu</td>\n",
       "      <td>9</td>\n",
       "      <td>49935</td>\n",
       "    </tr>\n",
       "    <tr>\n",
       "      <th>3</th>\n",
       "      <td>Adur</td>\n",
       "      <td>Jewish</td>\n",
       "      <td>7</td>\n",
       "      <td>49935</td>\n",
       "    </tr>\n",
       "    <tr>\n",
       "      <th>4</th>\n",
       "      <td>Adur</td>\n",
       "      <td>Muslim</td>\n",
       "      <td>27</td>\n",
       "      <td>49935</td>\n",
       "    </tr>\n",
       "  </tbody>\n",
       "</table>\n",
       "</div>"
      ],
      "text/plain": [
       "  LA_name Religion_categories  Non_Response_Observation  Total_Observation\n",
       "0    Adur            Buddhist                        19              49935\n",
       "1    Adur           Christian                      1023              49935\n",
       "2    Adur               Hindu                         9              49935\n",
       "3    Adur              Jewish                         7              49935\n",
       "4    Adur              Muslim                        27              49935"
      ]
     },
     "execution_count": 11,
     "metadata": {},
     "output_type": "execute_result"
    }
   ],
   "source": [
    "merged_df.head()"
   ]
  },
  {
   "cell_type": "code",
   "execution_count": 12,
   "id": "fcc986aa",
   "metadata": {},
   "outputs": [],
   "source": [
    "# Calculate the non-response percentage for each religion category\n",
    "\n",
    "merged_df['NR_Percentage'] = (merged_df['Non_Response_Observation'] / merged_df['Total_Observation'] * 100).round(2)"
   ]
  },
  {
   "cell_type": "code",
   "execution_count": 13,
   "id": "43fc6e3d",
   "metadata": {},
   "outputs": [],
   "source": [
    "# Pivot the dataframe to create the columns for each religion category\n",
    "\n",
    "pivot_df = pd.pivot_table(merged_df, values='NR_Percentage', index='LA_name', columns='Religion_categories', fill_value=0)"
   ]
  },
  {
   "cell_type": "code",
   "execution_count": 14,
   "id": "ab38d6da",
   "metadata": {},
   "outputs": [],
   "source": [
    "# Looking good, all we need to do now is fix our column names\n",
    "# We want them suffixed by _NR\n",
    "\n",
    "pivot_df.head()"
   ]
  },
  {
   "cell_type": "code",
   "execution_count": 15,
   "id": "f05305af",
   "metadata": {},
   "outputs": [],
   "source": [
    "pivot_df.columns = [f'{col}_NR' for col in pivot_df.columns]\n",
    "\n",
    "pivot_df.head()"
   ]
  },
  {
   "cell_type": "code",
   "execution_count": 16,
   "id": "d0617d11",
   "metadata": {},
   "outputs": [],
   "source": [
    "# Merge the pivot_df with the final_df, which we created in phase 1\n",
    "# Reset index too\n",
    "\n",
    "final_df = pd.merge(final_df, pivot_df.reset_index(), on='LA_name', how='left')"
   ]
  },
  {
   "cell_type": "code",
   "execution_count": 17,
   "id": "78038d2b",
   "metadata": {},
   "outputs": [],
   "source": [
    "# Nice! Now we can create some scatterplots\n",
    "\n",
    "final_df.head()"
   ]
  },
  {
   "cell_type": "markdown",
   "id": "b95c52c8",
   "metadata": {},
   "source": [
    "# Data processing\n",
    "\n",
    "Let's create some visualisations."
   ]
  },
  {
   "cell_type": "markdown",
   "id": "6e7b2e3a",
   "metadata": {},
   "source": [
    "## Matplotlib\n",
    "\n",
    "Before we work with Bokeh, let's just see a matplotlib example."
   ]
  },
  {
   "cell_type": "code",
   "execution_count": 18,
   "id": "961801da",
   "metadata": {},
   "outputs": [],
   "source": [
    "plt.scatter(final_df['Muslim_Percentage'], final_df['Muslim_NR'])"
   ]
  },
  {
   "cell_type": "code",
   "execution_count": 19,
   "id": "c2176a7a",
   "metadata": {},
   "outputs": [],
   "source": [
    "plt.scatter(final_df['Christian_Percentage'], final_df['Christian_NR'])"
   ]
  },
  {
   "cell_type": "markdown",
   "id": "0f2f44f1",
   "metadata": {},
   "source": [
    "## Bokeh\n",
    "\n",
    "Let's see if we can make a standalone Bokeh plot for some of this data."
   ]
  },
  {
   "cell_type": "code",
   "execution_count": 20,
   "id": "3dcd6191",
   "metadata": {},
   "outputs": [],
   "source": [
    "# Bokeh has a hover tool, allowing you to scroll over dps to reveal info\n",
    "# To configure the tool, we must set our tooltips arguments...\n",
    "\n",
    "# We simply define a list of tuples which refer to column values in our final_df \n",
    "\n",
    "tool = [\n",
    "    (\"index\", \"$index\"),\n",
    "    (\"(x,y)\", \"(@Muslim_NR, @Muslim_Percentage)\"),\n",
    "    (\"name\",\"@LA_name\"),\n",
    "]\n",
    "\n",
    "# Create graph figure, set title and x and y labels\n",
    "\n",
    "p2 = figure(title=\"Relationship between Muslim Population Proportion and Their Contribution to Overall\\nNon-response Rate\", y_axis_label=\"Contribution to Overall Non-response Rate in Local Authority\", x_axis_label=\"Percentage of Muslims in Local Authority\", tooltips = tool)\n",
    "\n",
    "# Create scatterplot for x and y column\n",
    "\n",
    "p2.scatter(\"Muslim_NR\", \"Muslim_Percentage\", source = final_df, fill_alpha = 0.5, size = 10)\n",
    "\n",
    "\n",
    "# Display output\n",
    "output_notebook()\n",
    "show(p2)"
   ]
  },
  {
   "cell_type": "markdown",
   "id": "6c8fe9ef",
   "metadata": {},
   "source": [
    "# Data Tables\n",
    "\n",
    "Now what we want to do is create some dataframes which contain information on our total observations for each religious category, i.e., let's get the %'s for each in total. Then, we'll also create a dataframe which has info about the non-response rate for each religious category. We're doing this so that our final app can contain some interactive datatables, which will be demonstrated in Bokeh below!"
   ]
  },
  {
   "cell_type": "markdown",
   "id": "199faa42",
   "metadata": {},
   "source": [
    "## Pre-processing"
   ]
  },
  {
   "cell_type": "markdown",
   "id": "a0c5f244",
   "metadata": {},
   "source": [
    "### Totals"
   ]
  },
  {
   "cell_type": "code",
   "execution_count": 21,
   "id": "af89c833",
   "metadata": {},
   "outputs": [],
   "source": [
    "rel"
   ]
  },
  {
   "cell_type": "code",
   "execution_count": 22,
   "id": "ddbe9596",
   "metadata": {},
   "outputs": [],
   "source": [
    "tot = rel.groupby('Religion_categories')['Observation'].sum().reset_index()"
   ]
  },
  {
   "cell_type": "code",
   "execution_count": 23,
   "id": "9c51975e",
   "metadata": {},
   "outputs": [],
   "source": [
    "tot['Percentages'] = (tot['Observation'] / tot['Observation'].sum() * 100).round(2)"
   ]
  },
  {
   "cell_type": "code",
   "execution_count": 24,
   "id": "eea6b1e2",
   "metadata": {},
   "outputs": [],
   "source": [
    "tot = tot.sort_values(by = 'Religion_categories')\n",
    "tot"
   ]
  },
  {
   "cell_type": "markdown",
   "id": "7b5dd946",
   "metadata": {},
   "source": [
    "### Non-response rates"
   ]
  },
  {
   "cell_type": "code",
   "execution_count": 25,
   "id": "ffb058b5",
   "metadata": {},
   "outputs": [],
   "source": [
    "# First we subset \n",
    "\n",
    "non_ans = rel[rel.SO_categories == 'Not answered']"
   ]
  },
  {
   "cell_type": "code",
   "execution_count": 26,
   "id": "79d8fc78",
   "metadata": {},
   "outputs": [],
   "source": [
    "non_tot = non_ans.groupby('Religion_categories')['Observation'].sum().reset_index()"
   ]
  },
  {
   "cell_type": "code",
   "execution_count": 27,
   "id": "c258b631",
   "metadata": {},
   "outputs": [],
   "source": [
    "non_tot['NR_rate'] = (non_tot['Observation'] / tot['Observation'] * 100).round(2)"
   ]
  },
  {
   "cell_type": "code",
   "execution_count": 28,
   "id": "37ba3792",
   "metadata": {},
   "outputs": [],
   "source": [
    "non_tot['Per_Total'] = (non_tot['Observation'] / non_tot['Observation'].sum() * 100).round(2)"
   ]
  },
  {
   "cell_type": "code",
   "execution_count": 29,
   "id": "cb0d7038",
   "metadata": {},
   "outputs": [],
   "source": [
    "non_tot"
   ]
  },
  {
   "cell_type": "markdown",
   "id": "2bdbf1dd",
   "metadata": {},
   "source": [
    "## Data processing \n",
    "\n",
    "Let's make a standalone, interactive Bokeh DataTable with our non-response dataframe.\n",
    "\n",
    "### Bokeh"
   ]
  },
  {
   "cell_type": "code",
   "execution_count": 30,
   "id": "a7cada49",
   "metadata": {},
   "outputs": [],
   "source": [
    "# Create DataTable for layout1\n",
    "source = ColumnDataSource(non_tot)\n",
    "\n",
    "columns = [\n",
    "    TableColumn(field=\"Religion_categories\", title=\"Religion\"),\n",
    "    TableColumn(field=\"Observation\", title=\"Observation\"),\n",
    "    TableColumn(field=\"NR_rate\", title=\"Non response rate\"),\n",
    "    TableColumn(field=\"Per_Total\", title = \"% of total NR\")\n",
    "]\n",
    "\n",
    "data_table1 = DataTable(source=source, columns=columns, editable=False, width=500, index_position=None)"
   ]
  },
  {
   "cell_type": "markdown",
   "id": "7ccf38c1",
   "metadata": {},
   "source": [
    "Sweet. Now we have a Bokeh 'DataTable' that we can interact with. Give it a go, try clicking one of the column headings twice to sort values in ascending and descending order. This will be a nice addition to our final product."
   ]
  },
  {
   "cell_type": "code",
   "execution_count": 31,
   "id": "61960582",
   "metadata": {},
   "outputs": [],
   "source": [
    "# Display output\n",
    "\n",
    "show(data_table1)"
   ]
  },
  {
   "cell_type": "markdown",
   "id": "8b1caf9f",
   "metadata": {},
   "source": [
    "# Output\n",
    "\n",
    "Let's save our final_df to a csv so that we can use it in other jupyter notebooks.\n",
    "We'll also save the dataframes with our totals and non-response info."
   ]
  },
  {
   "cell_type": "code",
   "execution_count": 32,
   "id": "8f36b212",
   "metadata": {},
   "outputs": [],
   "source": [
    "r_so_cleaned = final_df.to_csv('../Data/religion_so_cleaned.csv', index = False)\n",
    "rel_totals_so = tot.to_csv('../Data/rel_totals_so.csv', index = False)\n",
    "rel_nr_totals_so = non_tot.to_csv('../Data/rel_nr_totals_so.csv', index = False)"
   ]
  },
  {
   "cell_type": "markdown",
   "id": "341f9ac1",
   "metadata": {},
   "source": [
    "# Conclusion\n",
    "\n",
    "Now that we've created our first standalone Bokeh scatterplot and DataTable exploring the relationship between religious group % and contribution to NR rate, we can now proceed to [SO_Outputs.ipynb](./SO_Outputs.ipynb) where we take our visualisations to the next level. This involves adding drop-downs for our scatterplots and hooking up our visualisations to a local Bokeh server. "
   ]
  }
 ],
 "metadata": {
  "kernelspec": {
   "display_name": "newenv",
   "language": "python",
   "name": "newenv"
  },
  "language_info": {
   "codemirror_mode": {
    "name": "ipython",
    "version": 3
   },
   "file_extension": ".py",
   "mimetype": "text/x-python",
   "name": "python",
   "nbconvert_exporter": "python",
   "pygments_lexer": "ipython3",
   "version": "3.9.16"
  },
  "toc": {
   "base_numbering": 1,
   "nav_menu": {},
   "number_sections": true,
   "sideBar": true,
   "skip_h1_title": false,
   "title_cell": "Table of Contents",
   "title_sidebar": "Contents",
   "toc_cell": false,
   "toc_position": {},
   "toc_section_display": true,
   "toc_window_display": true
  },
  "varInspector": {
   "cols": {
    "lenName": 16,
    "lenType": 16,
    "lenVar": 40
   },
   "kernels_config": {
    "python": {
     "delete_cmd_postfix": "",
     "delete_cmd_prefix": "del ",
     "library": "var_list.py",
     "varRefreshCmd": "print(var_dic_list())"
    },
    "r": {
     "delete_cmd_postfix": ") ",
     "delete_cmd_prefix": "rm(",
     "library": "var_list.r",
     "varRefreshCmd": "cat(var_dic_list()) "
    }
   },
   "types_to_exclude": [
    "module",
    "function",
    "builtin_function_or_method",
    "instance",
    "_Feature"
   ],
   "window_display": false
  }
 },
 "nbformat": 4,
 "nbformat_minor": 5
}
