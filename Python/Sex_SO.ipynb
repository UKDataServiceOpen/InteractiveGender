{
 "cells": [
  {
   "cell_type": "markdown",
   "id": "28992aea",
   "metadata": {},
   "source": [
    "# Aim\n",
    "\n",
    "# Sex\n",
    "\n",
    "This notebook will focus on calculating the male and female non-response rate for sexual orientation. These dataframes will then be incorporated into Bokeh DataTables in [SO_Outputs.ipynb](./SO_Outputs.ipynb), and [main.py](../main.py)."
   ]
  },
  {
   "cell_type": "markdown",
   "id": "147e1b21",
   "metadata": {},
   "source": [
    "## Import libraries"
   ]
  },
  {
   "cell_type": "code",
   "execution_count": 1,
   "id": "05074264",
   "metadata": {},
   "outputs": [
    {
     "name": "stdout",
     "output_type": "stream",
     "text": [
      "Intel MKL WARNING: Support of Intel(R) Streaming SIMD Extensions 4.2 (Intel(R) SSE4.2) enabled only processors has been deprecated. Intel oneAPI Math Kernel Library 2025.0 will require Intel(R) Advanced Vector Extensions (Intel(R) AVX) instructions.\n",
      "Intel MKL WARNING: Support of Intel(R) Streaming SIMD Extensions 4.2 (Intel(R) SSE4.2) enabled only processors has been deprecated. Intel oneAPI Math Kernel Library 2025.0 will require Intel(R) Advanced Vector Extensions (Intel(R) AVX) instructions.\n"
     ]
    }
   ],
   "source": [
    "import pandas as pd"
   ]
  },
  {
   "cell_type": "markdown",
   "id": "0f2c1f41",
   "metadata": {},
   "source": [
    "## Read-in data"
   ]
  },
  {
   "cell_type": "code",
   "execution_count": 2,
   "id": "e3fad2d2",
   "metadata": {},
   "outputs": [],
   "source": [
    "sex = pd.read_excel('../Data/Sex_SO.xlsx')"
   ]
  },
  {
   "cell_type": "code",
   "execution_count": 3,
   "id": "42d992f6",
   "metadata": {},
   "outputs": [
    {
     "data": {
      "text/html": [
       "<div>\n",
       "<style scoped>\n",
       "    .dataframe tbody tr th:only-of-type {\n",
       "        vertical-align: middle;\n",
       "    }\n",
       "\n",
       "    .dataframe tbody tr th {\n",
       "        vertical-align: top;\n",
       "    }\n",
       "\n",
       "    .dataframe thead th {\n",
       "        text-align: right;\n",
       "    }\n",
       "</style>\n",
       "<table border=\"1\" class=\"dataframe\">\n",
       "  <thead>\n",
       "    <tr style=\"text-align: right;\">\n",
       "      <th></th>\n",
       "      <th>Lower tier local authorities Code</th>\n",
       "      <th>Lower tier local authorities</th>\n",
       "      <th>Sexual orientation (6 categories) Code</th>\n",
       "      <th>Sexual orientation (6 categories)</th>\n",
       "      <th>Sex (2 categories) Code</th>\n",
       "      <th>Sex (2 categories)</th>\n",
       "      <th>Observation</th>\n",
       "    </tr>\n",
       "  </thead>\n",
       "  <tbody>\n",
       "    <tr>\n",
       "      <th>0</th>\n",
       "      <td>E06000001</td>\n",
       "      <td>Hartlepool</td>\n",
       "      <td>-8</td>\n",
       "      <td>Does not apply</td>\n",
       "      <td>1</td>\n",
       "      <td>Female</td>\n",
       "      <td>0</td>\n",
       "    </tr>\n",
       "    <tr>\n",
       "      <th>1</th>\n",
       "      <td>E06000001</td>\n",
       "      <td>Hartlepool</td>\n",
       "      <td>-8</td>\n",
       "      <td>Does not apply</td>\n",
       "      <td>2</td>\n",
       "      <td>Male</td>\n",
       "      <td>0</td>\n",
       "    </tr>\n",
       "    <tr>\n",
       "      <th>2</th>\n",
       "      <td>E06000001</td>\n",
       "      <td>Hartlepool</td>\n",
       "      <td>1</td>\n",
       "      <td>Straight or Heterosexual</td>\n",
       "      <td>1</td>\n",
       "      <td>Female</td>\n",
       "      <td>35414</td>\n",
       "    </tr>\n",
       "    <tr>\n",
       "      <th>3</th>\n",
       "      <td>E06000001</td>\n",
       "      <td>Hartlepool</td>\n",
       "      <td>1</td>\n",
       "      <td>Straight or Heterosexual</td>\n",
       "      <td>2</td>\n",
       "      <td>Male</td>\n",
       "      <td>32656</td>\n",
       "    </tr>\n",
       "    <tr>\n",
       "      <th>4</th>\n",
       "      <td>E06000001</td>\n",
       "      <td>Hartlepool</td>\n",
       "      <td>2</td>\n",
       "      <td>Gay or Lesbian</td>\n",
       "      <td>1</td>\n",
       "      <td>Female</td>\n",
       "      <td>563</td>\n",
       "    </tr>\n",
       "  </tbody>\n",
       "</table>\n",
       "</div>"
      ],
      "text/plain": [
       "  Lower tier local authorities Code Lower tier local authorities  \\\n",
       "0                         E06000001                   Hartlepool   \n",
       "1                         E06000001                   Hartlepool   \n",
       "2                         E06000001                   Hartlepool   \n",
       "3                         E06000001                   Hartlepool   \n",
       "4                         E06000001                   Hartlepool   \n",
       "\n",
       "   Sexual orientation (6 categories) Code Sexual orientation (6 categories)  \\\n",
       "0                                      -8                    Does not apply   \n",
       "1                                      -8                    Does not apply   \n",
       "2                                       1          Straight or Heterosexual   \n",
       "3                                       1          Straight or Heterosexual   \n",
       "4                                       2                    Gay or Lesbian   \n",
       "\n",
       "   Sex (2 categories) Code Sex (2 categories)  Observation  \n",
       "0                        1             Female            0  \n",
       "1                        2               Male            0  \n",
       "2                        1             Female        35414  \n",
       "3                        2               Male        32656  \n",
       "4                        1             Female          563  "
      ]
     },
     "execution_count": 3,
     "metadata": {},
     "output_type": "execute_result"
    }
   ],
   "source": [
    "# Let's take a look...\n",
    "\n",
    "sex.head()"
   ]
  },
  {
   "cell_type": "code",
   "execution_count": 4,
   "id": "0cc99970",
   "metadata": {},
   "outputs": [],
   "source": [
    "# Let's drop some unnecessary columns\n",
    "\n",
    "\n",
    "sex.drop(sex.columns[[0,1,4]], axis = 1, inplace = True)"
   ]
  },
  {
   "cell_type": "code",
   "execution_count": 5,
   "id": "0b7fee31",
   "metadata": {},
   "outputs": [
    {
     "data": {
      "text/plain": [
       "array(['Does not apply', 'Straight or Heterosexual', 'Gay or Lesbian',\n",
       "       'Bisexual', 'All other sexual orientations', 'Not answered'],\n",
       "      dtype=object)"
      ]
     },
     "execution_count": 5,
     "metadata": {},
     "output_type": "execute_result"
    }
   ],
   "source": [
    "sex['Sexual orientation (6 categories)'].unique()"
   ]
  },
  {
   "cell_type": "code",
   "execution_count": 6,
   "id": "6e533a25",
   "metadata": {},
   "outputs": [
    {
     "data": {
      "text/plain": [
       "array([-8,  1,  2,  3,  4,  5])"
      ]
     },
     "execution_count": 6,
     "metadata": {},
     "output_type": "execute_result"
    }
   ],
   "source": [
    "sex['Sexual orientation (6 categories) Code'].unique()"
   ]
  },
  {
   "cell_type": "code",
   "execution_count": 7,
   "id": "bca9b4c1",
   "metadata": {},
   "outputs": [],
   "source": [
    "# Let's subset by the column we want\n",
    "\n",
    "sex_nr = sex[sex['Sexual orientation (6 categories) Code'] == 5]"
   ]
  },
  {
   "cell_type": "code",
   "execution_count": 8,
   "id": "a8978cc1",
   "metadata": {},
   "outputs": [
    {
     "data": {
      "text/html": [
       "<div>\n",
       "<style scoped>\n",
       "    .dataframe tbody tr th:only-of-type {\n",
       "        vertical-align: middle;\n",
       "    }\n",
       "\n",
       "    .dataframe tbody tr th {\n",
       "        vertical-align: top;\n",
       "    }\n",
       "\n",
       "    .dataframe thead th {\n",
       "        text-align: right;\n",
       "    }\n",
       "</style>\n",
       "<table border=\"1\" class=\"dataframe\">\n",
       "  <thead>\n",
       "    <tr style=\"text-align: right;\">\n",
       "      <th></th>\n",
       "      <th>Sexual orientation (6 categories) Code</th>\n",
       "      <th>Sexual orientation (6 categories)</th>\n",
       "      <th>Sex (2 categories)</th>\n",
       "      <th>Observation</th>\n",
       "    </tr>\n",
       "  </thead>\n",
       "  <tbody>\n",
       "    <tr>\n",
       "      <th>10</th>\n",
       "      <td>5</td>\n",
       "      <td>Not answered</td>\n",
       "      <td>Female</td>\n",
       "      <td>2430</td>\n",
       "    </tr>\n",
       "    <tr>\n",
       "      <th>11</th>\n",
       "      <td>5</td>\n",
       "      <td>Not answered</td>\n",
       "      <td>Male</td>\n",
       "      <td>2124</td>\n",
       "    </tr>\n",
       "    <tr>\n",
       "      <th>22</th>\n",
       "      <td>5</td>\n",
       "      <td>Not answered</td>\n",
       "      <td>Female</td>\n",
       "      <td>4225</td>\n",
       "    </tr>\n",
       "    <tr>\n",
       "      <th>23</th>\n",
       "      <td>5</td>\n",
       "      <td>Not answered</td>\n",
       "      <td>Male</td>\n",
       "      <td>4072</td>\n",
       "    </tr>\n",
       "    <tr>\n",
       "      <th>34</th>\n",
       "      <td>5</td>\n",
       "      <td>Not answered</td>\n",
       "      <td>Female</td>\n",
       "      <td>3720</td>\n",
       "    </tr>\n",
       "  </tbody>\n",
       "</table>\n",
       "</div>"
      ],
      "text/plain": [
       "    Sexual orientation (6 categories) Code Sexual orientation (6 categories)  \\\n",
       "10                                       5                      Not answered   \n",
       "11                                       5                      Not answered   \n",
       "22                                       5                      Not answered   \n",
       "23                                       5                      Not answered   \n",
       "34                                       5                      Not answered   \n",
       "\n",
       "   Sex (2 categories)  Observation  \n",
       "10             Female         2430  \n",
       "11               Male         2124  \n",
       "22             Female         4225  \n",
       "23               Male         4072  \n",
       "34             Female         3720  "
      ]
     },
     "execution_count": 8,
     "metadata": {},
     "output_type": "execute_result"
    }
   ],
   "source": [
    "# Neat, it worked.\n",
    "\n",
    "sex_nr.head()"
   ]
  },
  {
   "cell_type": "markdown",
   "id": "9d4bb991",
   "metadata": {},
   "source": [
    "# Analysis"
   ]
  },
  {
   "cell_type": "code",
   "execution_count": 9,
   "id": "28f31096",
   "metadata": {},
   "outputs": [],
   "source": [
    "# Use groupby to create dataframe with total non_response observations for each sex\n",
    "\n",
    "sex_grouped = sex_nr.groupby('Sex (2 categories)')['Observation'].sum().reset_index(name = 'NR_Total')"
   ]
  },
  {
   "cell_type": "code",
   "execution_count": 10,
   "id": "9bf32fc6",
   "metadata": {},
   "outputs": [
    {
     "data": {
      "text/html": [
       "<div>\n",
       "<style scoped>\n",
       "    .dataframe tbody tr th:only-of-type {\n",
       "        vertical-align: middle;\n",
       "    }\n",
       "\n",
       "    .dataframe tbody tr th {\n",
       "        vertical-align: top;\n",
       "    }\n",
       "\n",
       "    .dataframe thead th {\n",
       "        text-align: right;\n",
       "    }\n",
       "</style>\n",
       "<table border=\"1\" class=\"dataframe\">\n",
       "  <thead>\n",
       "    <tr style=\"text-align: right;\">\n",
       "      <th></th>\n",
       "      <th>Sex (2 categories)</th>\n",
       "      <th>NR_Total</th>\n",
       "    </tr>\n",
       "  </thead>\n",
       "  <tbody>\n",
       "    <tr>\n",
       "      <th>0</th>\n",
       "      <td>Female</td>\n",
       "      <td>1897782</td>\n",
       "    </tr>\n",
       "    <tr>\n",
       "      <th>1</th>\n",
       "      <td>Male</td>\n",
       "      <td>1728861</td>\n",
       "    </tr>\n",
       "  </tbody>\n",
       "</table>\n",
       "</div>"
      ],
      "text/plain": [
       "  Sex (2 categories)  NR_Total\n",
       "0             Female   1897782\n",
       "1               Male   1728861"
      ]
     },
     "execution_count": 10,
     "metadata": {},
     "output_type": "execute_result"
    }
   ],
   "source": [
    "sex_grouped"
   ]
  },
  {
   "cell_type": "code",
   "execution_count": 11,
   "id": "78bf2ec7",
   "metadata": {},
   "outputs": [],
   "source": [
    "# Group the original dataset by the sex category and get the total observations for each sex category\n",
    "\n",
    "total_obs = sex.groupby('Sex (2 categories)')['Observation'].sum().reset_index(name = 'Total_Observations')"
   ]
  },
  {
   "cell_type": "code",
   "execution_count": 12,
   "id": "b3b67b89",
   "metadata": {},
   "outputs": [
    {
     "data": {
      "text/html": [
       "<div>\n",
       "<style scoped>\n",
       "    .dataframe tbody tr th:only-of-type {\n",
       "        vertical-align: middle;\n",
       "    }\n",
       "\n",
       "    .dataframe tbody tr th {\n",
       "        vertical-align: top;\n",
       "    }\n",
       "\n",
       "    .dataframe thead th {\n",
       "        text-align: right;\n",
       "    }\n",
       "</style>\n",
       "<table border=\"1\" class=\"dataframe\">\n",
       "  <thead>\n",
       "    <tr style=\"text-align: right;\">\n",
       "      <th></th>\n",
       "      <th>Sex (2 categories)</th>\n",
       "      <th>Total_Observations</th>\n",
       "    </tr>\n",
       "  </thead>\n",
       "  <tbody>\n",
       "    <tr>\n",
       "      <th>0</th>\n",
       "      <td>Female</td>\n",
       "      <td>25039027</td>\n",
       "    </tr>\n",
       "    <tr>\n",
       "      <th>1</th>\n",
       "      <td>Male</td>\n",
       "      <td>23527349</td>\n",
       "    </tr>\n",
       "  </tbody>\n",
       "</table>\n",
       "</div>"
      ],
      "text/plain": [
       "  Sex (2 categories)  Total_Observations\n",
       "0             Female            25039027\n",
       "1               Male            23527349"
      ]
     },
     "execution_count": 12,
     "metadata": {},
     "output_type": "execute_result"
    }
   ],
   "source": [
    "total_obs"
   ]
  },
  {
   "cell_type": "code",
   "execution_count": 13,
   "id": "f724371e",
   "metadata": {},
   "outputs": [],
   "source": [
    "# Divide non-response totals by total observations overall\n",
    "\n",
    "sex_grouped['NR_rate'] = (sex_grouped['NR_Total'] / total_obs['Total_Observations'] * 100).round(2)"
   ]
  },
  {
   "cell_type": "code",
   "execution_count": 14,
   "id": "6ba25a5d",
   "metadata": {},
   "outputs": [
    {
     "data": {
      "text/html": [
       "<div>\n",
       "<style scoped>\n",
       "    .dataframe tbody tr th:only-of-type {\n",
       "        vertical-align: middle;\n",
       "    }\n",
       "\n",
       "    .dataframe tbody tr th {\n",
       "        vertical-align: top;\n",
       "    }\n",
       "\n",
       "    .dataframe thead th {\n",
       "        text-align: right;\n",
       "    }\n",
       "</style>\n",
       "<table border=\"1\" class=\"dataframe\">\n",
       "  <thead>\n",
       "    <tr style=\"text-align: right;\">\n",
       "      <th></th>\n",
       "      <th>Sex (2 categories)</th>\n",
       "      <th>NR_Total</th>\n",
       "      <th>NR_rate</th>\n",
       "    </tr>\n",
       "  </thead>\n",
       "  <tbody>\n",
       "    <tr>\n",
       "      <th>0</th>\n",
       "      <td>Female</td>\n",
       "      <td>1897782</td>\n",
       "      <td>7.58</td>\n",
       "    </tr>\n",
       "    <tr>\n",
       "      <th>1</th>\n",
       "      <td>Male</td>\n",
       "      <td>1728861</td>\n",
       "      <td>7.35</td>\n",
       "    </tr>\n",
       "  </tbody>\n",
       "</table>\n",
       "</div>"
      ],
      "text/plain": [
       "  Sex (2 categories)  NR_Total  NR_rate\n",
       "0             Female   1897782     7.58\n",
       "1               Male   1728861     7.35"
      ]
     },
     "execution_count": 14,
     "metadata": {},
     "output_type": "execute_result"
    }
   ],
   "source": [
    "# Done!\n",
    "\n",
    "sex_grouped"
   ]
  },
  {
   "cell_type": "markdown",
   "id": "4d8afa64",
   "metadata": {},
   "source": [
    "# Output"
   ]
  },
  {
   "cell_type": "code",
   "execution_count": 15,
   "id": "8027bbfd",
   "metadata": {},
   "outputs": [],
   "source": [
    "sex_grouped.to_csv('../Data/sex_nr_SO.csv', index = False)\n",
    "total_obs.to_csv('../Data/sex_tot_SO.csv', index = False)"
   ]
  }
 ],
 "metadata": {
  "kernelspec": {
   "display_name": "newenv",
   "language": "python",
   "name": "newenv"
  },
  "language_info": {
   "codemirror_mode": {
    "name": "ipython",
    "version": 3
   },
   "file_extension": ".py",
   "mimetype": "text/x-python",
   "name": "python",
   "nbconvert_exporter": "python",
   "pygments_lexer": "ipython3",
   "version": "3.9.16"
  },
  "toc": {
   "base_numbering": 1,
   "nav_menu": {},
   "number_sections": true,
   "sideBar": true,
   "skip_h1_title": false,
   "title_cell": "Table of Contents",
   "title_sidebar": "Contents",
   "toc_cell": false,
   "toc_position": {},
   "toc_section_display": true,
   "toc_window_display": true
  },
  "varInspector": {
   "cols": {
    "lenName": 16,
    "lenType": 16,
    "lenVar": 40
   },
   "kernels_config": {
    "python": {
     "delete_cmd_postfix": "",
     "delete_cmd_prefix": "del ",
     "library": "var_list.py",
     "varRefreshCmd": "print(var_dic_list())"
    },
    "r": {
     "delete_cmd_postfix": ") ",
     "delete_cmd_prefix": "rm(",
     "library": "var_list.r",
     "varRefreshCmd": "cat(var_dic_list()) "
    }
   },
   "types_to_exclude": [
    "module",
    "function",
    "builtin_function_or_method",
    "instance",
    "_Feature"
   ],
   "window_display": false
  }
 },
 "nbformat": 4,
 "nbformat_minor": 5
}
