{
 "cells": [
  {
   "cell_type": "markdown",
   "id": "af6e9bb8",
   "metadata": {
    "toc": true
   },
   "source": [
    "<h1>Table of Contents<span class=\"tocSkip\"></span></h1>\n",
    "<div class=\"toc\"><ul class=\"toc-item\"><li><span><a href=\"#Aim\" data-toc-modified-id=\"Aim-1\"><span class=\"toc-item-num\">1&nbsp;&nbsp;</span>Aim</a></span></li><li><span><a href=\"#Religion\" data-toc-modified-id=\"Religion-2\"><span class=\"toc-item-num\">2&nbsp;&nbsp;</span>Religion</a></span><ul class=\"toc-item\"><li><span><a href=\"#Import-libraries\" data-toc-modified-id=\"Import-libraries-2.1\"><span class=\"toc-item-num\">2.1&nbsp;&nbsp;</span>Import libraries</a></span></li><li><span><a href=\"#Read-in-data\" data-toc-modified-id=\"Read-in-data-2.2\"><span class=\"toc-item-num\">2.2&nbsp;&nbsp;</span>Read-in data</a></span></li><li><span><a href=\"#Clean-data\" data-toc-modified-id=\"Clean-data-2.3\"><span class=\"toc-item-num\">2.3&nbsp;&nbsp;</span>Clean data</a></span></li></ul></li><li><span><a href=\"#Pre-processing\" data-toc-modified-id=\"Pre-processing-3\"><span class=\"toc-item-num\">3&nbsp;&nbsp;</span>Pre-processing</a></span><ul class=\"toc-item\"><li><span><a href=\"#Step-1\" data-toc-modified-id=\"Step-1-3.1\"><span class=\"toc-item-num\">3.1&nbsp;&nbsp;</span>Step 1</a></span></li><li><span><a href=\"#Step-2\" data-toc-modified-id=\"Step-2-3.2\"><span class=\"toc-item-num\">3.2&nbsp;&nbsp;</span>Step 2</a></span></li></ul></li><li><span><a href=\"#Data-processing\" data-toc-modified-id=\"Data-processing-4\"><span class=\"toc-item-num\">4&nbsp;&nbsp;</span>Data processing</a></span><ul class=\"toc-item\"><li><span><a href=\"#Matplotlib\" data-toc-modified-id=\"Matplotlib-4.1\"><span class=\"toc-item-num\">4.1&nbsp;&nbsp;</span>Matplotlib</a></span></li><li><span><a href=\"#Bokeh\" data-toc-modified-id=\"Bokeh-4.2\"><span class=\"toc-item-num\">4.2&nbsp;&nbsp;</span>Bokeh</a></span></li></ul></li><li><span><a href=\"#Data-Tables\" data-toc-modified-id=\"Data-Tables-5\"><span class=\"toc-item-num\">5&nbsp;&nbsp;</span>Data Tables</a></span><ul class=\"toc-item\"><li><span><a href=\"#Pre-processing\" data-toc-modified-id=\"Pre-processing-5.1\"><span class=\"toc-item-num\">5.1&nbsp;&nbsp;</span>Pre-processing</a></span></li><li><span><a href=\"#Data-processing\" data-toc-modified-id=\"Data-processing-5.2\"><span class=\"toc-item-num\">5.2&nbsp;&nbsp;</span>Data processing</a></span></li></ul></li><li><span><a href=\"#Output\" data-toc-modified-id=\"Output-6\"><span class=\"toc-item-num\">6&nbsp;&nbsp;</span>Output</a></span></li><li><span><a href=\"#Conclusion\" data-toc-modified-id=\"Conclusion-7\"><span class=\"toc-item-num\">7&nbsp;&nbsp;</span>Conclusion</a></span></li></ul></div>"
   ]
  },
  {
   "cell_type": "markdown",
   "id": "4951515f",
   "metadata": {},
   "source": [
    "# Aim\n",
    "\n",
    "In [Religion_1_GI.ipynb](./Religion_1_GI.ipynb) we focused on adding some new data to explore the relationship between GI non-response and the % of Non-English speakers in our LA's. However, in this notebook, we will now dive deeper into our religion dataset to explore the relationship between religious group % and contribution to non-response rates in LAs. Our aim will be to create some scatterplots."
   ]
  },
  {
   "cell_type": "markdown",
   "id": "872f2e54",
   "metadata": {},
   "source": [
    "# Religion"
   ]
  },
  {
   "cell_type": "markdown",
   "id": "56a2d626",
   "metadata": {},
   "source": [
    "## Import libraries"
   ]
  },
  {
   "cell_type": "code",
   "execution_count": 1,
   "id": "c420e9ea",
   "metadata": {},
   "outputs": [
    {
     "name": "stdout",
     "output_type": "stream",
     "text": [
      "Intel MKL WARNING: Support of Intel(R) Streaming SIMD Extensions 4.2 (Intel(R) SSE4.2) enabled only processors has been deprecated. Intel oneAPI Math Kernel Library 2025.0 will require Intel(R) Advanced Vector Extensions (Intel(R) AVX) instructions.\n",
      "Intel MKL WARNING: Support of Intel(R) Streaming SIMD Extensions 4.2 (Intel(R) SSE4.2) enabled only processors has been deprecated. Intel oneAPI Math Kernel Library 2025.0 will require Intel(R) Advanced Vector Extensions (Intel(R) AVX) instructions.\n"
     ]
    }
   ],
   "source": [
    "# used to manipulate dataframes\n",
    "import pandas as pd\n",
    "\n",
    "# used to create visualisations\n",
    "import matplotlib.pyplot as plt\n",
    "\n",
    "# used to create interactive visualisations\n",
    "from bokeh.plotting import figure, show\n",
    "from bokeh.io import output_notebook\n",
    "from bokeh.models import ColumnDataSource\n",
    "from bokeh.models.widgets import DataTable, TableColumn"
   ]
  },
  {
   "cell_type": "markdown",
   "id": "3078266d",
   "metadata": {},
   "source": [
    "## Read-in data"
   ]
  },
  {
   "cell_type": "code",
   "execution_count": 2,
   "id": "a8391c17",
   "metadata": {},
   "outputs": [],
   "source": [
    "rel = pd.read_excel('../Data/religion_gi.xlsx')"
   ]
  },
  {
   "cell_type": "markdown",
   "id": "a4e55cdd",
   "metadata": {},
   "source": [
    "## Clean data"
   ]
  },
  {
   "cell_type": "code",
   "execution_count": 3,
   "id": "6b699d39",
   "metadata": {},
   "outputs": [],
   "source": [
    "# Let's rename our columns and give them less clunky names\n",
    "\n",
    "rel.rename(columns={'Lower tier local authorities Code': 'LA_code', 'Lower tier local authorities': 'LA_name', 'Gender identity (4 categories) Code': 'GI_code', 'Gender identity (4 categories)': 'GI_categories', 'Religion (10 categories) Code': 'Religion_code', 'Religion (10 categories)': 'Religion_categories'}, inplace=True)"
   ]
  },
  {
   "cell_type": "code",
   "execution_count": 4,
   "id": "43e3f36d",
   "metadata": {},
   "outputs": [
    {
     "data": {
      "text/plain": [
       "array(['Does not apply',\n",
       "       'Gender identity the same as sex registered at birth',\n",
       "       'Gender identity different from sex registered at birth',\n",
       "       'Not answered'], dtype=object)"
      ]
     },
     "execution_count": 4,
     "metadata": {},
     "output_type": "execute_result"
    }
   ],
   "source": [
    "rel.GI_categories.unique()"
   ]
  },
  {
   "cell_type": "code",
   "execution_count": 5,
   "id": "814350b8",
   "metadata": {},
   "outputs": [],
   "source": [
    "# Filter dataframe so that we don't include 'Does not apply' categories\n",
    "# These categories have counts of 0\n",
    "\n",
    "rel = rel[(rel.GI_code != -8) & (rel.Religion_code != -8) & (rel.Religion_code != 9)]"
   ]
  },
  {
   "cell_type": "code",
   "execution_count": 6,
   "id": "444f3a7c",
   "metadata": {},
   "outputs": [
    {
     "data": {
      "text/html": [
       "<div>\n",
       "<style scoped>\n",
       "    .dataframe tbody tr th:only-of-type {\n",
       "        vertical-align: middle;\n",
       "    }\n",
       "\n",
       "    .dataframe tbody tr th {\n",
       "        vertical-align: top;\n",
       "    }\n",
       "\n",
       "    .dataframe thead th {\n",
       "        text-align: right;\n",
       "    }\n",
       "</style>\n",
       "<table border=\"1\" class=\"dataframe\">\n",
       "  <thead>\n",
       "    <tr style=\"text-align: right;\">\n",
       "      <th></th>\n",
       "      <th>LA_code</th>\n",
       "      <th>LA_name</th>\n",
       "      <th>GI_code</th>\n",
       "      <th>GI_categories</th>\n",
       "      <th>Religion_code</th>\n",
       "      <th>Religion_categories</th>\n",
       "      <th>Observation</th>\n",
       "    </tr>\n",
       "  </thead>\n",
       "  <tbody>\n",
       "    <tr>\n",
       "      <th>11</th>\n",
       "      <td>E06000001</td>\n",
       "      <td>Hartlepool</td>\n",
       "      <td>1</td>\n",
       "      <td>Gender identity the same as sex registered at ...</td>\n",
       "      <td>1</td>\n",
       "      <td>No religion</td>\n",
       "      <td>26470</td>\n",
       "    </tr>\n",
       "    <tr>\n",
       "      <th>12</th>\n",
       "      <td>E06000001</td>\n",
       "      <td>Hartlepool</td>\n",
       "      <td>1</td>\n",
       "      <td>Gender identity the same as sex registered at ...</td>\n",
       "      <td>2</td>\n",
       "      <td>Christian</td>\n",
       "      <td>40406</td>\n",
       "    </tr>\n",
       "    <tr>\n",
       "      <th>13</th>\n",
       "      <td>E06000001</td>\n",
       "      <td>Hartlepool</td>\n",
       "      <td>1</td>\n",
       "      <td>Gender identity the same as sex registered at ...</td>\n",
       "      <td>3</td>\n",
       "      <td>Buddhist</td>\n",
       "      <td>145</td>\n",
       "    </tr>\n",
       "    <tr>\n",
       "      <th>14</th>\n",
       "      <td>E06000001</td>\n",
       "      <td>Hartlepool</td>\n",
       "      <td>1</td>\n",
       "      <td>Gender identity the same as sex registered at ...</td>\n",
       "      <td>4</td>\n",
       "      <td>Hindu</td>\n",
       "      <td>132</td>\n",
       "    </tr>\n",
       "    <tr>\n",
       "      <th>15</th>\n",
       "      <td>E06000001</td>\n",
       "      <td>Hartlepool</td>\n",
       "      <td>1</td>\n",
       "      <td>Gender identity the same as sex registered at ...</td>\n",
       "      <td>5</td>\n",
       "      <td>Jewish</td>\n",
       "      <td>19</td>\n",
       "    </tr>\n",
       "    <tr>\n",
       "      <th>16</th>\n",
       "      <td>E06000001</td>\n",
       "      <td>Hartlepool</td>\n",
       "      <td>1</td>\n",
       "      <td>Gender identity the same as sex registered at ...</td>\n",
       "      <td>6</td>\n",
       "      <td>Muslim</td>\n",
       "      <td>672</td>\n",
       "    </tr>\n",
       "    <tr>\n",
       "      <th>17</th>\n",
       "      <td>E06000001</td>\n",
       "      <td>Hartlepool</td>\n",
       "      <td>1</td>\n",
       "      <td>Gender identity the same as sex registered at ...</td>\n",
       "      <td>7</td>\n",
       "      <td>Sikh</td>\n",
       "      <td>120</td>\n",
       "    </tr>\n",
       "    <tr>\n",
       "      <th>18</th>\n",
       "      <td>E06000001</td>\n",
       "      <td>Hartlepool</td>\n",
       "      <td>1</td>\n",
       "      <td>Gender identity the same as sex registered at ...</td>\n",
       "      <td>8</td>\n",
       "      <td>Other religion</td>\n",
       "      <td>235</td>\n",
       "    </tr>\n",
       "    <tr>\n",
       "      <th>21</th>\n",
       "      <td>E06000001</td>\n",
       "      <td>Hartlepool</td>\n",
       "      <td>2</td>\n",
       "      <td>Gender identity different from sex registered ...</td>\n",
       "      <td>1</td>\n",
       "      <td>No religion</td>\n",
       "      <td>160</td>\n",
       "    </tr>\n",
       "    <tr>\n",
       "      <th>22</th>\n",
       "      <td>E06000001</td>\n",
       "      <td>Hartlepool</td>\n",
       "      <td>2</td>\n",
       "      <td>Gender identity different from sex registered ...</td>\n",
       "      <td>2</td>\n",
       "      <td>Christian</td>\n",
       "      <td>105</td>\n",
       "    </tr>\n",
       "  </tbody>\n",
       "</table>\n",
       "</div>"
      ],
      "text/plain": [
       "      LA_code     LA_name  GI_code  \\\n",
       "11  E06000001  Hartlepool        1   \n",
       "12  E06000001  Hartlepool        1   \n",
       "13  E06000001  Hartlepool        1   \n",
       "14  E06000001  Hartlepool        1   \n",
       "15  E06000001  Hartlepool        1   \n",
       "16  E06000001  Hartlepool        1   \n",
       "17  E06000001  Hartlepool        1   \n",
       "18  E06000001  Hartlepool        1   \n",
       "21  E06000001  Hartlepool        2   \n",
       "22  E06000001  Hartlepool        2   \n",
       "\n",
       "                                        GI_categories  Religion_code  \\\n",
       "11  Gender identity the same as sex registered at ...              1   \n",
       "12  Gender identity the same as sex registered at ...              2   \n",
       "13  Gender identity the same as sex registered at ...              3   \n",
       "14  Gender identity the same as sex registered at ...              4   \n",
       "15  Gender identity the same as sex registered at ...              5   \n",
       "16  Gender identity the same as sex registered at ...              6   \n",
       "17  Gender identity the same as sex registered at ...              7   \n",
       "18  Gender identity the same as sex registered at ...              8   \n",
       "21  Gender identity different from sex registered ...              1   \n",
       "22  Gender identity different from sex registered ...              2   \n",
       "\n",
       "   Religion_categories  Observation  \n",
       "11         No religion        26470  \n",
       "12           Christian        40406  \n",
       "13            Buddhist          145  \n",
       "14               Hindu          132  \n",
       "15              Jewish           19  \n",
       "16              Muslim          672  \n",
       "17                Sikh          120  \n",
       "18      Other religion          235  \n",
       "21         No religion          160  \n",
       "22           Christian          105  "
      ]
     },
     "execution_count": 6,
     "metadata": {},
     "output_type": "execute_result"
    }
   ],
   "source": [
    "# Let's check it out\n",
    "\n",
    "rel.head(10)"
   ]
  },
  {
   "cell_type": "markdown",
   "id": "1ce19097",
   "metadata": {},
   "source": [
    "# Pre-processing\n",
    "\n",
    "What we want to do is caclulate the total observation for each LA, regardless of religious category. Then we will calculate the non-response total for each religious category within each LA, and divide it by the total observations for the LA.\n",
    "\n",
    "This will allow us to move onto the data processing phase where we can explore how different religious categories contribute to the overall non-response rates of our LA's. We can then look at which groups have a larger impact on overall NR, especially in LAs where they make up a larger % of the population."
   ]
  },
  {
   "cell_type": "markdown",
   "id": "3b043b88",
   "metadata": {},
   "source": [
    "## Step 1\n",
    "\n",
    "Calculate the % of each religious group for each LA."
   ]
  },
  {
   "cell_type": "code",
   "execution_count": 7,
   "id": "641366b1",
   "metadata": {},
   "outputs": [
    {
     "data": {
      "text/html": [
       "<div>\n",
       "<style scoped>\n",
       "    .dataframe tbody tr th:only-of-type {\n",
       "        vertical-align: middle;\n",
       "    }\n",
       "\n",
       "    .dataframe tbody tr th {\n",
       "        vertical-align: top;\n",
       "    }\n",
       "\n",
       "    .dataframe thead th {\n",
       "        text-align: right;\n",
       "    }\n",
       "</style>\n",
       "<table border=\"1\" class=\"dataframe\">\n",
       "  <thead>\n",
       "    <tr style=\"text-align: right;\">\n",
       "      <th></th>\n",
       "      <th>LA_name</th>\n",
       "      <th>Total_Observation</th>\n",
       "      <th>No religion_Percentage</th>\n",
       "      <th>No religion_Observation</th>\n",
       "      <th>Christian_Percentage</th>\n",
       "      <th>Christian_Observation</th>\n",
       "      <th>Buddhist_Percentage</th>\n",
       "      <th>Buddhist_Observation</th>\n",
       "      <th>Hindu_Percentage</th>\n",
       "      <th>Hindu_Observation</th>\n",
       "      <th>Jewish_Percentage</th>\n",
       "      <th>Jewish_Observation</th>\n",
       "      <th>Muslim_Percentage</th>\n",
       "      <th>Muslim_Observation</th>\n",
       "      <th>Sikh_Percentage</th>\n",
       "      <th>Sikh_Observation</th>\n",
       "      <th>Other religion_Percentage</th>\n",
       "      <th>Other religion_Observation</th>\n",
       "    </tr>\n",
       "  </thead>\n",
       "  <tbody>\n",
       "    <tr>\n",
       "      <th>0</th>\n",
       "      <td>Adur</td>\n",
       "      <td>49937</td>\n",
       "      <td>47.51</td>\n",
       "      <td>23725</td>\n",
       "      <td>49.18</td>\n",
       "      <td>24557</td>\n",
       "      <td>0.51</td>\n",
       "      <td>256</td>\n",
       "      <td>0.34</td>\n",
       "      <td>170</td>\n",
       "      <td>0.43</td>\n",
       "      <td>215</td>\n",
       "      <td>1.23</td>\n",
       "      <td>615</td>\n",
       "      <td>0.07</td>\n",
       "      <td>33</td>\n",
       "      <td>0.73</td>\n",
       "      <td>366</td>\n",
       "    </tr>\n",
       "    <tr>\n",
       "      <th>1</th>\n",
       "      <td>Allerdale</td>\n",
       "      <td>75913</td>\n",
       "      <td>33.10</td>\n",
       "      <td>25128</td>\n",
       "      <td>65.88</td>\n",
       "      <td>50010</td>\n",
       "      <td>0.27</td>\n",
       "      <td>205</td>\n",
       "      <td>0.08</td>\n",
       "      <td>57</td>\n",
       "      <td>0.04</td>\n",
       "      <td>33</td>\n",
       "      <td>0.23</td>\n",
       "      <td>175</td>\n",
       "      <td>0.03</td>\n",
       "      <td>20</td>\n",
       "      <td>0.38</td>\n",
       "      <td>285</td>\n",
       "    </tr>\n",
       "    <tr>\n",
       "      <th>2</th>\n",
       "      <td>Amber Valley</td>\n",
       "      <td>99178</td>\n",
       "      <td>46.62</td>\n",
       "      <td>46233</td>\n",
       "      <td>51.74</td>\n",
       "      <td>51317</td>\n",
       "      <td>0.26</td>\n",
       "      <td>261</td>\n",
       "      <td>0.18</td>\n",
       "      <td>178</td>\n",
       "      <td>0.06</td>\n",
       "      <td>55</td>\n",
       "      <td>0.25</td>\n",
       "      <td>246</td>\n",
       "      <td>0.20</td>\n",
       "      <td>203</td>\n",
       "      <td>0.69</td>\n",
       "      <td>685</td>\n",
       "    </tr>\n",
       "    <tr>\n",
       "      <th>3</th>\n",
       "      <td>Arun</td>\n",
       "      <td>131269</td>\n",
       "      <td>39.56</td>\n",
       "      <td>51925</td>\n",
       "      <td>58.33</td>\n",
       "      <td>76574</td>\n",
       "      <td>0.36</td>\n",
       "      <td>469</td>\n",
       "      <td>0.23</td>\n",
       "      <td>303</td>\n",
       "      <td>0.19</td>\n",
       "      <td>246</td>\n",
       "      <td>0.66</td>\n",
       "      <td>866</td>\n",
       "      <td>0.05</td>\n",
       "      <td>64</td>\n",
       "      <td>0.63</td>\n",
       "      <td>822</td>\n",
       "    </tr>\n",
       "    <tr>\n",
       "      <th>4</th>\n",
       "      <td>Ashfield</td>\n",
       "      <td>96860</td>\n",
       "      <td>49.49</td>\n",
       "      <td>47936</td>\n",
       "      <td>48.56</td>\n",
       "      <td>47039</td>\n",
       "      <td>0.24</td>\n",
       "      <td>236</td>\n",
       "      <td>0.32</td>\n",
       "      <td>312</td>\n",
       "      <td>0.04</td>\n",
       "      <td>39</td>\n",
       "      <td>0.53</td>\n",
       "      <td>518</td>\n",
       "      <td>0.23</td>\n",
       "      <td>223</td>\n",
       "      <td>0.58</td>\n",
       "      <td>557</td>\n",
       "    </tr>\n",
       "    <tr>\n",
       "      <th>...</th>\n",
       "      <td>...</td>\n",
       "      <td>...</td>\n",
       "      <td>...</td>\n",
       "      <td>...</td>\n",
       "      <td>...</td>\n",
       "      <td>...</td>\n",
       "      <td>...</td>\n",
       "      <td>...</td>\n",
       "      <td>...</td>\n",
       "      <td>...</td>\n",
       "      <td>...</td>\n",
       "      <td>...</td>\n",
       "      <td>...</td>\n",
       "      <td>...</td>\n",
       "      <td>...</td>\n",
       "      <td>...</td>\n",
       "      <td>...</td>\n",
       "      <td>...</td>\n",
       "    </tr>\n",
       "    <tr>\n",
       "      <th>326</th>\n",
       "      <td>Wrexham</td>\n",
       "      <td>103236</td>\n",
       "      <td>41.62</td>\n",
       "      <td>42968</td>\n",
       "      <td>56.16</td>\n",
       "      <td>57980</td>\n",
       "      <td>0.35</td>\n",
       "      <td>361</td>\n",
       "      <td>0.26</td>\n",
       "      <td>264</td>\n",
       "      <td>0.05</td>\n",
       "      <td>50</td>\n",
       "      <td>1.04</td>\n",
       "      <td>1077</td>\n",
       "      <td>0.06</td>\n",
       "      <td>66</td>\n",
       "      <td>0.46</td>\n",
       "      <td>470</td>\n",
       "    </tr>\n",
       "    <tr>\n",
       "      <th>327</th>\n",
       "      <td>Wychavon</td>\n",
       "      <td>104729</td>\n",
       "      <td>34.63</td>\n",
       "      <td>36263</td>\n",
       "      <td>63.55</td>\n",
       "      <td>66551</td>\n",
       "      <td>0.30</td>\n",
       "      <td>309</td>\n",
       "      <td>0.15</td>\n",
       "      <td>157</td>\n",
       "      <td>0.10</td>\n",
       "      <td>108</td>\n",
       "      <td>0.54</td>\n",
       "      <td>568</td>\n",
       "      <td>0.24</td>\n",
       "      <td>256</td>\n",
       "      <td>0.49</td>\n",
       "      <td>517</td>\n",
       "    </tr>\n",
       "    <tr>\n",
       "      <th>328</th>\n",
       "      <td>Wyre</td>\n",
       "      <td>89649</td>\n",
       "      <td>32.76</td>\n",
       "      <td>29371</td>\n",
       "      <td>65.81</td>\n",
       "      <td>58994</td>\n",
       "      <td>0.31</td>\n",
       "      <td>280</td>\n",
       "      <td>0.14</td>\n",
       "      <td>128</td>\n",
       "      <td>0.09</td>\n",
       "      <td>80</td>\n",
       "      <td>0.37</td>\n",
       "      <td>331</td>\n",
       "      <td>0.02</td>\n",
       "      <td>19</td>\n",
       "      <td>0.50</td>\n",
       "      <td>446</td>\n",
       "    </tr>\n",
       "    <tr>\n",
       "      <th>329</th>\n",
       "      <td>Wyre Forest</td>\n",
       "      <td>79812</td>\n",
       "      <td>37.87</td>\n",
       "      <td>30225</td>\n",
       "      <td>60.03</td>\n",
       "      <td>47913</td>\n",
       "      <td>0.27</td>\n",
       "      <td>214</td>\n",
       "      <td>0.14</td>\n",
       "      <td>112</td>\n",
       "      <td>0.05</td>\n",
       "      <td>40</td>\n",
       "      <td>0.83</td>\n",
       "      <td>661</td>\n",
       "      <td>0.26</td>\n",
       "      <td>206</td>\n",
       "      <td>0.55</td>\n",
       "      <td>441</td>\n",
       "    </tr>\n",
       "    <tr>\n",
       "      <th>330</th>\n",
       "      <td>York</td>\n",
       "      <td>160299</td>\n",
       "      <td>47.70</td>\n",
       "      <td>76460</td>\n",
       "      <td>49.01</td>\n",
       "      <td>78555</td>\n",
       "      <td>0.60</td>\n",
       "      <td>962</td>\n",
       "      <td>0.54</td>\n",
       "      <td>864</td>\n",
       "      <td>0.15</td>\n",
       "      <td>248</td>\n",
       "      <td>1.18</td>\n",
       "      <td>1892</td>\n",
       "      <td>0.09</td>\n",
       "      <td>148</td>\n",
       "      <td>0.73</td>\n",
       "      <td>1170</td>\n",
       "    </tr>\n",
       "  </tbody>\n",
       "</table>\n",
       "<p>331 rows × 18 columns</p>\n",
       "</div>"
      ],
      "text/plain": [
       "          LA_name  Total_Observation  No religion_Percentage  \\\n",
       "0            Adur              49937                   47.51   \n",
       "1       Allerdale              75913                   33.10   \n",
       "2    Amber Valley              99178                   46.62   \n",
       "3            Arun             131269                   39.56   \n",
       "4        Ashfield              96860                   49.49   \n",
       "..            ...                ...                     ...   \n",
       "326       Wrexham             103236                   41.62   \n",
       "327      Wychavon             104729                   34.63   \n",
       "328          Wyre              89649                   32.76   \n",
       "329   Wyre Forest              79812                   37.87   \n",
       "330          York             160299                   47.70   \n",
       "\n",
       "     No religion_Observation  Christian_Percentage  Christian_Observation  \\\n",
       "0                      23725                 49.18                  24557   \n",
       "1                      25128                 65.88                  50010   \n",
       "2                      46233                 51.74                  51317   \n",
       "3                      51925                 58.33                  76574   \n",
       "4                      47936                 48.56                  47039   \n",
       "..                       ...                   ...                    ...   \n",
       "326                    42968                 56.16                  57980   \n",
       "327                    36263                 63.55                  66551   \n",
       "328                    29371                 65.81                  58994   \n",
       "329                    30225                 60.03                  47913   \n",
       "330                    76460                 49.01                  78555   \n",
       "\n",
       "     Buddhist_Percentage  Buddhist_Observation  Hindu_Percentage  \\\n",
       "0                   0.51                   256              0.34   \n",
       "1                   0.27                   205              0.08   \n",
       "2                   0.26                   261              0.18   \n",
       "3                   0.36                   469              0.23   \n",
       "4                   0.24                   236              0.32   \n",
       "..                   ...                   ...               ...   \n",
       "326                 0.35                   361              0.26   \n",
       "327                 0.30                   309              0.15   \n",
       "328                 0.31                   280              0.14   \n",
       "329                 0.27                   214              0.14   \n",
       "330                 0.60                   962              0.54   \n",
       "\n",
       "     Hindu_Observation  Jewish_Percentage  Jewish_Observation  \\\n",
       "0                  170               0.43                 215   \n",
       "1                   57               0.04                  33   \n",
       "2                  178               0.06                  55   \n",
       "3                  303               0.19                 246   \n",
       "4                  312               0.04                  39   \n",
       "..                 ...                ...                 ...   \n",
       "326                264               0.05                  50   \n",
       "327                157               0.10                 108   \n",
       "328                128               0.09                  80   \n",
       "329                112               0.05                  40   \n",
       "330                864               0.15                 248   \n",
       "\n",
       "     Muslim_Percentage  Muslim_Observation  Sikh_Percentage  Sikh_Observation  \\\n",
       "0                 1.23                 615             0.07                33   \n",
       "1                 0.23                 175             0.03                20   \n",
       "2                 0.25                 246             0.20               203   \n",
       "3                 0.66                 866             0.05                64   \n",
       "4                 0.53                 518             0.23               223   \n",
       "..                 ...                 ...              ...               ...   \n",
       "326               1.04                1077             0.06                66   \n",
       "327               0.54                 568             0.24               256   \n",
       "328               0.37                 331             0.02                19   \n",
       "329               0.83                 661             0.26               206   \n",
       "330               1.18                1892             0.09               148   \n",
       "\n",
       "     Other religion_Percentage  Other religion_Observation  \n",
       "0                         0.73                         366  \n",
       "1                         0.38                         285  \n",
       "2                         0.69                         685  \n",
       "3                         0.63                         822  \n",
       "4                         0.58                         557  \n",
       "..                         ...                         ...  \n",
       "326                       0.46                         470  \n",
       "327                       0.49                         517  \n",
       "328                       0.50                         446  \n",
       "329                       0.55                         441  \n",
       "330                       0.73                        1170  \n",
       "\n",
       "[331 rows x 18 columns]"
      ]
     },
     "execution_count": 7,
     "metadata": {},
     "output_type": "execute_result"
    }
   ],
   "source": [
    "\n",
    "# We will group by LA name and observation, then sum the counts\n",
    "# Column name for this new df will be 'Total_Observation'\n",
    "total_population = rel.groupby('LA_name')['Observation'].sum().reset_index(name='Total_Observation')\n",
    "\n",
    "# Create a dataframe to store the results\n",
    "final_df = total_population.copy()\n",
    "\n",
    "# Iterate through each unique religion category\n",
    "for rel_category in rel['Religion_categories'].unique():\n",
    "    \n",
    "#     Subset dataframe by that religious category and assign results to new df\n",
    "    spec = rel[rel.Religion_categories == rel_category]\n",
    "    \n",
    "#     Create a new df which holds the total observations for that religious category\n",
    "# ..within each LA\n",
    "    spec_tot = spec.groupby('LA_name')['Observation'].sum().reset_index(name=f'{rel_category}_Observation')\n",
    "#     Then calculate the % of each religious group by dividing category observation by total LA population\n",
    "    spec_tot[f'{rel_category}_Percentage'] = (spec_tot[f'{rel_category}_Observation'] / total_population['Total_Observation'] * 100).round(2)\n",
    "#     Merge df where we will store results with spec_tot \n",
    "    final_df = pd.merge(final_df, spec_tot[['LA_name', f'{rel_category}_Percentage', f'{rel_category}_Observation']], on = 'LA_name', how = 'left')\n",
    "\n",
    "# Print the final_df to see the results\n",
    "final_df\n"
   ]
  },
  {
   "cell_type": "markdown",
   "id": "d5e7d5e4",
   "metadata": {},
   "source": [
    "## Step 2\n",
    "\n",
    "Calculate the non-response rate contributions for each religious group for each LA."
   ]
  },
  {
   "cell_type": "code",
   "execution_count": 8,
   "id": "73eb462b",
   "metadata": {},
   "outputs": [],
   "source": [
    "# Start by creating a new df which subsets our original df according to our condition\n",
    "\n",
    "non_response_data = rel[rel.GI_categories == 'Not answered']"
   ]
  },
  {
   "cell_type": "code",
   "execution_count": 9,
   "id": "b7a49915",
   "metadata": {},
   "outputs": [],
   "source": [
    "# Calculate total non-response counts for each religious category by grouping observations\n",
    "\n",
    "non_resp_totals = non_response_data.groupby(['LA_name', 'Religion_categories'])['Observation'].sum().reset_index(name='Non_Response_Observation')\n"
   ]
  },
  {
   "cell_type": "code",
   "execution_count": 10,
   "id": "2a2f6402",
   "metadata": {},
   "outputs": [
    {
     "data": {
      "text/html": [
       "<div>\n",
       "<style scoped>\n",
       "    .dataframe tbody tr th:only-of-type {\n",
       "        vertical-align: middle;\n",
       "    }\n",
       "\n",
       "    .dataframe tbody tr th {\n",
       "        vertical-align: top;\n",
       "    }\n",
       "\n",
       "    .dataframe thead th {\n",
       "        text-align: right;\n",
       "    }\n",
       "</style>\n",
       "<table border=\"1\" class=\"dataframe\">\n",
       "  <thead>\n",
       "    <tr style=\"text-align: right;\">\n",
       "      <th></th>\n",
       "      <th>LA_name</th>\n",
       "      <th>Religion_categories</th>\n",
       "      <th>Non_Response_Observation</th>\n",
       "    </tr>\n",
       "  </thead>\n",
       "  <tbody>\n",
       "    <tr>\n",
       "      <th>0</th>\n",
       "      <td>Adur</td>\n",
       "      <td>Buddhist</td>\n",
       "      <td>10</td>\n",
       "    </tr>\n",
       "    <tr>\n",
       "      <th>1</th>\n",
       "      <td>Adur</td>\n",
       "      <td>Christian</td>\n",
       "      <td>728</td>\n",
       "    </tr>\n",
       "    <tr>\n",
       "      <th>2</th>\n",
       "      <td>Adur</td>\n",
       "      <td>Hindu</td>\n",
       "      <td>1</td>\n",
       "    </tr>\n",
       "    <tr>\n",
       "      <th>3</th>\n",
       "      <td>Adur</td>\n",
       "      <td>Jewish</td>\n",
       "      <td>2</td>\n",
       "    </tr>\n",
       "    <tr>\n",
       "      <th>4</th>\n",
       "      <td>Adur</td>\n",
       "      <td>Muslim</td>\n",
       "      <td>31</td>\n",
       "    </tr>\n",
       "  </tbody>\n",
       "</table>\n",
       "</div>"
      ],
      "text/plain": [
       "  LA_name Religion_categories  Non_Response_Observation\n",
       "0    Adur            Buddhist                        10\n",
       "1    Adur           Christian                       728\n",
       "2    Adur               Hindu                         1\n",
       "3    Adur              Jewish                         2\n",
       "4    Adur              Muslim                        31"
      ]
     },
     "execution_count": 10,
     "metadata": {},
     "output_type": "execute_result"
    }
   ],
   "source": [
    "# Let's check it out...\n",
    "\n",
    "non_resp_totals.head()"
   ]
  },
  {
   "cell_type": "code",
   "execution_count": 11,
   "id": "f2c16261",
   "metadata": {},
   "outputs": [],
   "source": [
    "# Create a copy of non_resp_totals to store the results\n",
    "non_resp_results = non_resp_totals.copy()\n",
    "\n",
    "# Merge the Non_Response_Observation and Total_Observation columns\n",
    "merged_df = pd.merge(non_resp_totals, final_df[['LA_name', 'Total_Observation']], on='LA_name', how='left')\n"
   ]
  },
  {
   "cell_type": "code",
   "execution_count": 12,
   "id": "8fa49670",
   "metadata": {},
   "outputs": [],
   "source": [
    "\n",
    "# Calculate the non-response percentage for each religion category\n",
    "\n",
    "merged_df['NR_Percentage'] = (merged_df['Non_Response_Observation'] / merged_df['Total_Observation'] * 100).round(2)"
   ]
  },
  {
   "cell_type": "code",
   "execution_count": 13,
   "id": "eb64cb10",
   "metadata": {},
   "outputs": [],
   "source": [
    "# Pivot the dataframe to create the columns for each religion category\n",
    "\n",
    "pivot_df = pd.pivot_table(merged_df, values='NR_Percentage', index='LA_name', columns='Religion_categories', fill_value=0)"
   ]
  },
  {
   "cell_type": "code",
   "execution_count": 14,
   "id": "44820e29",
   "metadata": {},
   "outputs": [
    {
     "data": {
      "text/html": [
       "<div>\n",
       "<style scoped>\n",
       "    .dataframe tbody tr th:only-of-type {\n",
       "        vertical-align: middle;\n",
       "    }\n",
       "\n",
       "    .dataframe tbody tr th {\n",
       "        vertical-align: top;\n",
       "    }\n",
       "\n",
       "    .dataframe thead th {\n",
       "        text-align: right;\n",
       "    }\n",
       "</style>\n",
       "<table border=\"1\" class=\"dataframe\">\n",
       "  <thead>\n",
       "    <tr style=\"text-align: right;\">\n",
       "      <th>Religion_categories</th>\n",
       "      <th>Buddhist</th>\n",
       "      <th>Christian</th>\n",
       "      <th>Hindu</th>\n",
       "      <th>Jewish</th>\n",
       "      <th>Muslim</th>\n",
       "      <th>No religion</th>\n",
       "      <th>Other religion</th>\n",
       "      <th>Sikh</th>\n",
       "    </tr>\n",
       "    <tr>\n",
       "      <th>LA_name</th>\n",
       "      <th></th>\n",
       "      <th></th>\n",
       "      <th></th>\n",
       "      <th></th>\n",
       "      <th></th>\n",
       "      <th></th>\n",
       "      <th></th>\n",
       "      <th></th>\n",
       "    </tr>\n",
       "  </thead>\n",
       "  <tbody>\n",
       "    <tr>\n",
       "      <th>Adur</th>\n",
       "      <td>0.02</td>\n",
       "      <td>1.46</td>\n",
       "      <td>0.00</td>\n",
       "      <td>0.00</td>\n",
       "      <td>0.06</td>\n",
       "      <td>1.34</td>\n",
       "      <td>0.03</td>\n",
       "      <td>0.00</td>\n",
       "    </tr>\n",
       "    <tr>\n",
       "      <th>Allerdale</th>\n",
       "      <td>0.01</td>\n",
       "      <td>1.72</td>\n",
       "      <td>0.00</td>\n",
       "      <td>0.00</td>\n",
       "      <td>0.02</td>\n",
       "      <td>0.97</td>\n",
       "      <td>0.03</td>\n",
       "      <td>0.01</td>\n",
       "    </tr>\n",
       "    <tr>\n",
       "      <th>Amber Valley</th>\n",
       "      <td>0.02</td>\n",
       "      <td>1.92</td>\n",
       "      <td>0.00</td>\n",
       "      <td>0.00</td>\n",
       "      <td>0.01</td>\n",
       "      <td>1.39</td>\n",
       "      <td>0.05</td>\n",
       "      <td>0.01</td>\n",
       "    </tr>\n",
       "    <tr>\n",
       "      <th>Arun</th>\n",
       "      <td>0.03</td>\n",
       "      <td>2.06</td>\n",
       "      <td>0.02</td>\n",
       "      <td>0.01</td>\n",
       "      <td>0.04</td>\n",
       "      <td>1.22</td>\n",
       "      <td>0.05</td>\n",
       "      <td>0.00</td>\n",
       "    </tr>\n",
       "    <tr>\n",
       "      <th>Ashfield</th>\n",
       "      <td>0.03</td>\n",
       "      <td>1.87</td>\n",
       "      <td>0.02</td>\n",
       "      <td>0.00</td>\n",
       "      <td>0.05</td>\n",
       "      <td>1.67</td>\n",
       "      <td>0.04</td>\n",
       "      <td>0.02</td>\n",
       "    </tr>\n",
       "  </tbody>\n",
       "</table>\n",
       "</div>"
      ],
      "text/plain": [
       "Religion_categories  Buddhist  Christian  Hindu  Jewish  Muslim  No religion  \\\n",
       "LA_name                                                                        \n",
       "Adur                     0.02       1.46   0.00    0.00    0.06         1.34   \n",
       "Allerdale                0.01       1.72   0.00    0.00    0.02         0.97   \n",
       "Amber Valley             0.02       1.92   0.00    0.00    0.01         1.39   \n",
       "Arun                     0.03       2.06   0.02    0.01    0.04         1.22   \n",
       "Ashfield                 0.03       1.87   0.02    0.00    0.05         1.67   \n",
       "\n",
       "Religion_categories  Other religion  Sikh  \n",
       "LA_name                                    \n",
       "Adur                           0.03  0.00  \n",
       "Allerdale                      0.03  0.01  \n",
       "Amber Valley                   0.05  0.01  \n",
       "Arun                           0.05  0.00  \n",
       "Ashfield                       0.04  0.02  "
      ]
     },
     "execution_count": 14,
     "metadata": {},
     "output_type": "execute_result"
    }
   ],
   "source": [
    "# Looking good, all we need to do now is fix our column names\n",
    "# We want them suffixed by _NR\n",
    "\n",
    "pivot_df.head()"
   ]
  },
  {
   "cell_type": "code",
   "execution_count": 15,
   "id": "7dbbee0a",
   "metadata": {},
   "outputs": [],
   "source": [
    "pivot_df.columns = [f'{col}_NR' for col in pivot_df.columns]\n",
    "\n",
    "# Merge the pivot_df with the final_df, which we created in phase 1\n",
    "final_df = pd.merge(final_df, pivot_df.reset_index(), on='LA_name', how='left')\n"
   ]
  },
  {
   "cell_type": "code",
   "execution_count": 16,
   "id": "eece063b",
   "metadata": {},
   "outputs": [
    {
     "data": {
      "text/html": [
       "<div>\n",
       "<style scoped>\n",
       "    .dataframe tbody tr th:only-of-type {\n",
       "        vertical-align: middle;\n",
       "    }\n",
       "\n",
       "    .dataframe tbody tr th {\n",
       "        vertical-align: top;\n",
       "    }\n",
       "\n",
       "    .dataframe thead th {\n",
       "        text-align: right;\n",
       "    }\n",
       "</style>\n",
       "<table border=\"1\" class=\"dataframe\">\n",
       "  <thead>\n",
       "    <tr style=\"text-align: right;\">\n",
       "      <th></th>\n",
       "      <th>LA_name</th>\n",
       "      <th>Total_Observation</th>\n",
       "      <th>No religion_Percentage</th>\n",
       "      <th>No religion_Observation</th>\n",
       "      <th>Christian_Percentage</th>\n",
       "      <th>Christian_Observation</th>\n",
       "      <th>Buddhist_Percentage</th>\n",
       "      <th>Buddhist_Observation</th>\n",
       "      <th>Hindu_Percentage</th>\n",
       "      <th>Hindu_Observation</th>\n",
       "      <th>...</th>\n",
       "      <th>Other religion_Percentage</th>\n",
       "      <th>Other religion_Observation</th>\n",
       "      <th>Buddhist_NR</th>\n",
       "      <th>Christian_NR</th>\n",
       "      <th>Hindu_NR</th>\n",
       "      <th>Jewish_NR</th>\n",
       "      <th>Muslim_NR</th>\n",
       "      <th>No religion_NR</th>\n",
       "      <th>Other religion_NR</th>\n",
       "      <th>Sikh_NR</th>\n",
       "    </tr>\n",
       "  </thead>\n",
       "  <tbody>\n",
       "    <tr>\n",
       "      <th>0</th>\n",
       "      <td>Adur</td>\n",
       "      <td>49937</td>\n",
       "      <td>47.51</td>\n",
       "      <td>23725</td>\n",
       "      <td>49.18</td>\n",
       "      <td>24557</td>\n",
       "      <td>0.51</td>\n",
       "      <td>256</td>\n",
       "      <td>0.34</td>\n",
       "      <td>170</td>\n",
       "      <td>...</td>\n",
       "      <td>0.73</td>\n",
       "      <td>366</td>\n",
       "      <td>0.02</td>\n",
       "      <td>1.46</td>\n",
       "      <td>0.00</td>\n",
       "      <td>0.00</td>\n",
       "      <td>0.06</td>\n",
       "      <td>1.34</td>\n",
       "      <td>0.03</td>\n",
       "      <td>0.00</td>\n",
       "    </tr>\n",
       "    <tr>\n",
       "      <th>1</th>\n",
       "      <td>Allerdale</td>\n",
       "      <td>75913</td>\n",
       "      <td>33.10</td>\n",
       "      <td>25128</td>\n",
       "      <td>65.88</td>\n",
       "      <td>50010</td>\n",
       "      <td>0.27</td>\n",
       "      <td>205</td>\n",
       "      <td>0.08</td>\n",
       "      <td>57</td>\n",
       "      <td>...</td>\n",
       "      <td>0.38</td>\n",
       "      <td>285</td>\n",
       "      <td>0.01</td>\n",
       "      <td>1.72</td>\n",
       "      <td>0.00</td>\n",
       "      <td>0.00</td>\n",
       "      <td>0.02</td>\n",
       "      <td>0.97</td>\n",
       "      <td>0.03</td>\n",
       "      <td>0.01</td>\n",
       "    </tr>\n",
       "    <tr>\n",
       "      <th>2</th>\n",
       "      <td>Amber Valley</td>\n",
       "      <td>99178</td>\n",
       "      <td>46.62</td>\n",
       "      <td>46233</td>\n",
       "      <td>51.74</td>\n",
       "      <td>51317</td>\n",
       "      <td>0.26</td>\n",
       "      <td>261</td>\n",
       "      <td>0.18</td>\n",
       "      <td>178</td>\n",
       "      <td>...</td>\n",
       "      <td>0.69</td>\n",
       "      <td>685</td>\n",
       "      <td>0.02</td>\n",
       "      <td>1.92</td>\n",
       "      <td>0.00</td>\n",
       "      <td>0.00</td>\n",
       "      <td>0.01</td>\n",
       "      <td>1.39</td>\n",
       "      <td>0.05</td>\n",
       "      <td>0.01</td>\n",
       "    </tr>\n",
       "    <tr>\n",
       "      <th>3</th>\n",
       "      <td>Arun</td>\n",
       "      <td>131269</td>\n",
       "      <td>39.56</td>\n",
       "      <td>51925</td>\n",
       "      <td>58.33</td>\n",
       "      <td>76574</td>\n",
       "      <td>0.36</td>\n",
       "      <td>469</td>\n",
       "      <td>0.23</td>\n",
       "      <td>303</td>\n",
       "      <td>...</td>\n",
       "      <td>0.63</td>\n",
       "      <td>822</td>\n",
       "      <td>0.03</td>\n",
       "      <td>2.06</td>\n",
       "      <td>0.02</td>\n",
       "      <td>0.01</td>\n",
       "      <td>0.04</td>\n",
       "      <td>1.22</td>\n",
       "      <td>0.05</td>\n",
       "      <td>0.00</td>\n",
       "    </tr>\n",
       "    <tr>\n",
       "      <th>4</th>\n",
       "      <td>Ashfield</td>\n",
       "      <td>96860</td>\n",
       "      <td>49.49</td>\n",
       "      <td>47936</td>\n",
       "      <td>48.56</td>\n",
       "      <td>47039</td>\n",
       "      <td>0.24</td>\n",
       "      <td>236</td>\n",
       "      <td>0.32</td>\n",
       "      <td>312</td>\n",
       "      <td>...</td>\n",
       "      <td>0.58</td>\n",
       "      <td>557</td>\n",
       "      <td>0.03</td>\n",
       "      <td>1.87</td>\n",
       "      <td>0.02</td>\n",
       "      <td>0.00</td>\n",
       "      <td>0.05</td>\n",
       "      <td>1.67</td>\n",
       "      <td>0.04</td>\n",
       "      <td>0.02</td>\n",
       "    </tr>\n",
       "  </tbody>\n",
       "</table>\n",
       "<p>5 rows × 26 columns</p>\n",
       "</div>"
      ],
      "text/plain": [
       "        LA_name  Total_Observation  No religion_Percentage  \\\n",
       "0          Adur              49937                   47.51   \n",
       "1     Allerdale              75913                   33.10   \n",
       "2  Amber Valley              99178                   46.62   \n",
       "3          Arun             131269                   39.56   \n",
       "4      Ashfield              96860                   49.49   \n",
       "\n",
       "   No religion_Observation  Christian_Percentage  Christian_Observation  \\\n",
       "0                    23725                 49.18                  24557   \n",
       "1                    25128                 65.88                  50010   \n",
       "2                    46233                 51.74                  51317   \n",
       "3                    51925                 58.33                  76574   \n",
       "4                    47936                 48.56                  47039   \n",
       "\n",
       "   Buddhist_Percentage  Buddhist_Observation  Hindu_Percentage  \\\n",
       "0                 0.51                   256              0.34   \n",
       "1                 0.27                   205              0.08   \n",
       "2                 0.26                   261              0.18   \n",
       "3                 0.36                   469              0.23   \n",
       "4                 0.24                   236              0.32   \n",
       "\n",
       "   Hindu_Observation  ...  Other religion_Percentage  \\\n",
       "0                170  ...                       0.73   \n",
       "1                 57  ...                       0.38   \n",
       "2                178  ...                       0.69   \n",
       "3                303  ...                       0.63   \n",
       "4                312  ...                       0.58   \n",
       "\n",
       "   Other religion_Observation  Buddhist_NR  Christian_NR  Hindu_NR  Jewish_NR  \\\n",
       "0                         366         0.02          1.46      0.00       0.00   \n",
       "1                         285         0.01          1.72      0.00       0.00   \n",
       "2                         685         0.02          1.92      0.00       0.00   \n",
       "3                         822         0.03          2.06      0.02       0.01   \n",
       "4                         557         0.03          1.87      0.02       0.00   \n",
       "\n",
       "   Muslim_NR  No religion_NR  Other religion_NR  Sikh_NR  \n",
       "0       0.06            1.34               0.03     0.00  \n",
       "1       0.02            0.97               0.03     0.01  \n",
       "2       0.01            1.39               0.05     0.01  \n",
       "3       0.04            1.22               0.05     0.00  \n",
       "4       0.05            1.67               0.04     0.02  \n",
       "\n",
       "[5 rows x 26 columns]"
      ]
     },
     "execution_count": 16,
     "metadata": {},
     "output_type": "execute_result"
    }
   ],
   "source": [
    "# Nice! Now we can create some scatterplots\n",
    "\n",
    "final_df.head()"
   ]
  },
  {
   "cell_type": "markdown",
   "id": "238c5381",
   "metadata": {},
   "source": [
    "# Data processing\n",
    "\n",
    "Let's create some visualisations.\n",
    "\n",
    "## Matplotlib\n",
    "\n",
    "Before we work with Bokeh, let's just see a matplotlib example."
   ]
  },
  {
   "cell_type": "code",
   "execution_count": 17,
   "id": "584c72de",
   "metadata": {
    "scrolled": false
   },
   "outputs": [
    {
     "data": {
      "text/plain": [
       "<matplotlib.collections.PathCollection at 0x7fdf2bfb44f0>"
      ]
     },
     "execution_count": 17,
     "metadata": {},
     "output_type": "execute_result"
    },
    {
     "data": {
      "image/png": "[encoded data removed]",
      "text/plain": [
       "<Figure size 640x480 with 1 Axes>"
      ]
     },
     "metadata": {},
     "output_type": "display_data"
    }
   ],
   "source": [
    "plt.scatter(final_df['Muslim_Percentage'], final_df['Muslim_NR'])"
   ]
  },
  {
   "cell_type": "code",
   "execution_count": 18,
   "id": "3d4c41ed",
   "metadata": {},
   "outputs": [
    {
     "data": {
      "text/plain": [
       "<matplotlib.collections.PathCollection at 0x7fdf2bf1a5b0>"
      ]
     },
     "execution_count": 18,
     "metadata": {},
     "output_type": "execute_result"
    },
    {
     "data": {
      "image/png": "[encoded data removed]",
      "text/plain": [
       "<Figure size 640x480 with 1 Axes>"
      ]
     },
     "metadata": {},
     "output_type": "display_data"
    }
   ],
   "source": [
    "plt.scatter(final_df['Christian_Percentage'], final_df['Christian_NR'])\n",
    "\n"
   ]
  },
  {
   "cell_type": "code",
   "execution_count": 27,
   "id": "b8774f8f",
   "metadata": {},
   "outputs": [
    {
     "name": "stderr",
     "output_type": "stream",
     "text": [
      "/var/folders/dm/468m4xf52c71yhldz5ck50pw0000gn/T/ipykernel_5047/1291190870.py:13: UserWarning: Ignoring `palette` because no `hue` variable has been assigned.\n",
      "  ax = sns.scatterplot(data=final_df, x='Muslim_Percentage', y='Muslim_NR', palette=colours, s = 70)\n"
     ]
    },
    {
     "data": {
      "image/png": "[encoded data removed]",
      "text/plain": [
       "<Figure size 827x827 with 1 Axes>"
      ]
     },
     "metadata": {},
     "output_type": "display_data"
    }
   ],
   "source": [
    "import seaborn as sns\n",
    "\n",
    "from bokeh.palettes import Category10\n",
    "\n",
    "# Accessing the Category10 palette\n",
    "colours = '##1f77b4'\n",
    "\n",
    "sns.set(rc={'figure.figsize':(8.27,8.27)})\n",
    "\n",
    "# Now we can visualise the relationship between GI NR and % of Non-Eng speakers\n",
    "# Setting our hue to region, colours each dp by its corresponding region\n",
    "\n",
    "ax = sns.scatterplot(data=final_df, x='Muslim_Percentage', y='Muslim_NR', palette=colours, s = 70)\n",
    "\n",
    "\n",
    "plt.xlabel('Percentage of religious group in given LA', labelpad=15)\n",
    "plt.ylabel('Non-response rate', labelpad=15)\n",
    "plt.title('Relationship between % of Muslims in given LA, and their non-response rate', pad = 15)\n",
    "\n",
    "# Display output\n",
    "\n",
    "\n",
    "plt.show()"
   ]
  },
  {
   "cell_type": "code",
   "execution_count": null,
   "id": "9aa8a38d",
   "metadata": {},
   "outputs": [],
   "source": [
    "dvsvd"
   ]
  },
  {
   "cell_type": "markdown",
   "id": "fe71faf0",
   "metadata": {},
   "source": [
    "## Bokeh\n",
    "\n",
    "Let's see if we can make a standalone Bokeh plot for some of this data"
   ]
  },
  {
   "cell_type": "code",
   "execution_count": null,
   "id": "0742edf2",
   "metadata": {},
   "outputs": [],
   "source": [
    "# Bokeh has a hover tool, allowing you to scroll over dps to reveal info\n",
    "# To configure the tool, we must set our tooltips arguments...\n",
    "\n",
    "# We simply define a list of tuples which refer to column values in our final_df \n",
    "\n",
    "tool = [\n",
    "    (\"index\", \"$index\"),\n",
    "    (\"(x,y)\", \"(@Muslim_NR, @Muslim_Percentage)\"),\n",
    "    (\"name\",\"@LA_name\"),\n",
    "]\n",
    "\n",
    "# Create graph figure, set title and x and y labels\n",
    "\n",
    "p2 = figure(title=\"Relationship between Muslim Population Proportion and Their Contribution to Overall\\nNon-response Rate\", y_axis_label=\"Contribution to Overall Non-response Rate in Local Authority\", x_axis_label=\"Percentage of Muslims in Local Authority\", tooltips = tool)\n",
    "\n",
    "# Create scatterplot for x and y column\n",
    "\n",
    "p2.scatter(\"Muslim_NR\", \"Muslim_Percentage\", source = final_df, fill_alpha = 0.5, size = 10)\n",
    "\n",
    "\n",
    "# Display output\n",
    "output_notebook()\n",
    "show(p2)"
   ]
  },
  {
   "cell_type": "markdown",
   "id": "2a592113",
   "metadata": {},
   "source": [
    "# Data Tables\n",
    "\n",
    "Now what we want to do is create some dataframes which contain information on our total observations for each religious category, i.e., let's get the %'s for each in total. Then, we'll also create a dataframe which has info about the non-response rate for each religious category. We're doing this so that our final app can contain some interactive datatables, which will be demonstrated in Bokeh below!"
   ]
  },
  {
   "cell_type": "markdown",
   "id": "08e50353",
   "metadata": {},
   "source": [
    "## Pre-processing"
   ]
  },
  {
   "cell_type": "markdown",
   "id": "7a5bb99c",
   "metadata": {},
   "source": [
    "### Totals"
   ]
  },
  {
   "cell_type": "code",
   "execution_count": null,
   "id": "4740b0d8",
   "metadata": {},
   "outputs": [],
   "source": [
    "rel"
   ]
  },
  {
   "cell_type": "code",
   "execution_count": null,
   "id": "16b3d6c6",
   "metadata": {},
   "outputs": [],
   "source": [
    "tot = rel.groupby('Religion_categories')['Observation'].sum().reset_index()"
   ]
  },
  {
   "cell_type": "code",
   "execution_count": null,
   "id": "d08a5af4",
   "metadata": {},
   "outputs": [],
   "source": [
    "tot['Percentages'] = (tot['Observation'] / tot['Observation'].sum() * 100).round(2)"
   ]
  },
  {
   "cell_type": "code",
   "execution_count": null,
   "id": "43d1fdd9",
   "metadata": {},
   "outputs": [],
   "source": [
    "tot = tot.sort_values(by = 'Religion_categories', ascending = False)"
   ]
  },
  {
   "cell_type": "code",
   "execution_count": null,
   "id": "cbd59907",
   "metadata": {},
   "outputs": [],
   "source": [
    "tot"
   ]
  },
  {
   "cell_type": "markdown",
   "id": "49f089a2",
   "metadata": {},
   "source": [
    "### Non-response rates"
   ]
  },
  {
   "cell_type": "code",
   "execution_count": null,
   "id": "c4ee31c9",
   "metadata": {},
   "outputs": [],
   "source": [
    "# First we subset\n",
    "\n",
    "non_ans = rel[rel.GI_categories == 'Not answered']"
   ]
  },
  {
   "cell_type": "code",
   "execution_count": null,
   "id": "bd501725",
   "metadata": {},
   "outputs": [],
   "source": [
    "non_tot = non_ans.groupby('Religion_categories')['Observation'].sum().reset_index()"
   ]
  },
  {
   "cell_type": "code",
   "execution_count": null,
   "id": "9cada1f8",
   "metadata": {},
   "outputs": [],
   "source": [
    "alph = tot.sort_values(by = 'Religion_categories')\n",
    "\n",
    "alph"
   ]
  },
  {
   "cell_type": "code",
   "execution_count": null,
   "id": "bd892dca",
   "metadata": {},
   "outputs": [],
   "source": [
    "non_tot['NR_rate'] = (non_tot['Observation'] / alph['Observation'] * 100).round(2)"
   ]
  },
  {
   "cell_type": "code",
   "execution_count": null,
   "id": "230899fb",
   "metadata": {},
   "outputs": [],
   "source": [
    "non_tot['Per_Total'] = (non_tot['Observation'] / non_tot['Observation'].sum() * 100).round(2)"
   ]
  },
  {
   "cell_type": "code",
   "execution_count": null,
   "id": "5f726661",
   "metadata": {},
   "outputs": [],
   "source": [
    "non_tot"
   ]
  },
  {
   "cell_type": "markdown",
   "id": "f7ca9ca8",
   "metadata": {},
   "source": [
    "## Data processing\n",
    "\n",
    "Let's make a standalone, interactive Bokeh DataTable with our non-response dataframe."
   ]
  },
  {
   "cell_type": "markdown",
   "id": "bb9fd2ca",
   "metadata": {},
   "source": [
    "### Bokeh"
   ]
  },
  {
   "cell_type": "code",
   "execution_count": null,
   "id": "29020a91",
   "metadata": {},
   "outputs": [],
   "source": [
    "# Create DataTable for layout1\n",
    "source = ColumnDataSource(non_tot)\n",
    "\n",
    "columns = [\n",
    "    TableColumn(field=\"Religion_categories\", title=\"Religion\"),\n",
    "    TableColumn(field=\"Observation\", title=\"Observation\"),\n",
    "    TableColumn(field=\"NR_rate\", title=\"Non response rate\"),\n",
    "    TableColumn(field=\"Per_Total\", title = \"% of total NR\")\n",
    "]\n",
    "\n",
    "data_table1 = DataTable(source=source, columns=columns, editable=False, width=500, index_position=None)"
   ]
  },
  {
   "cell_type": "markdown",
   "id": "82e4f2ac",
   "metadata": {},
   "source": [
    "Sweet. Now we have a Bokeh 'DataTable' that we can interact with. Give it a go, try clicking one of the column headings twice to sort values in ascending and descending order. This will be a nice addition to our final product."
   ]
  },
  {
   "cell_type": "code",
   "execution_count": null,
   "id": "d6077bc5",
   "metadata": {},
   "outputs": [],
   "source": [
    "# Display output\n",
    "\n",
    "show(data_table1)"
   ]
  },
  {
   "cell_type": "markdown",
   "id": "693ead5e",
   "metadata": {},
   "source": [
    "# Output\n",
    "\n",
    "Let's save our final_df to a csv so that we can use it in other jupyter notebooks.\n",
    "We'll also save the dataframes with our totals and non-response info."
   ]
  },
  {
   "cell_type": "code",
   "execution_count": null,
   "id": "ebfdf979",
   "metadata": {},
   "outputs": [],
   "source": [
    "r_gi_cleaned = final_df.to_csv('../Data/religion_gi_cleaned.csv', index = False)\n",
    "rel_totals_gi = alph.to_csv('../Data/rel_totals_gi.csv', index = False)\n",
    "rel_nr_totals_gi = non_tot.to_csv('../Data/rel_nr_totals_gi.csv', index = False)"
   ]
  },
  {
   "cell_type": "markdown",
   "id": "a6518c42",
   "metadata": {},
   "source": [
    "# Conclusion\n",
    "\n",
    "Now that we've created our first standalone Bokeh scatterplot and DataTable exploring the relationship between religious group % and contribution to NR rate, we can now proceed to [GI_Outputs.ipynb](./GI_Outputs.ipynb) where we take our visualisations to the next level. This involves adding drop-downs for our scatterplots and hooking up our visualisations to a local Bokeh server. "
   ]
  }
 ],
 "metadata": {
  "kernelspec": {
   "display_name": "newenv",
   "language": "python",
   "name": "newenv"
  },
  "language_info": {
   "codemirror_mode": {
    "name": "ipython",
    "version": 3
   },
   "file_extension": ".py",
   "mimetype": "text/x-python",
   "name": "python",
   "nbconvert_exporter": "python",
   "pygments_lexer": "ipython3",
   "version": "3.9.16"
  },
  "toc": {
   "base_numbering": 1,
   "nav_menu": {},
   "number_sections": true,
   "sideBar": false,
   "skip_h1_title": false,
   "title_cell": "Table of Contents",
   "title_sidebar": "Contents",
   "toc_cell": true,
   "toc_position": {
    "height": "calc(100% - 180px)",
    "left": "10px",
    "top": "150px",
    "width": "229.172791px"
   },
   "toc_section_display": true,
   "toc_window_display": false
  },
  "varInspector": {
   "cols": {
    "lenName": 16,
    "lenType": 16,
    "lenVar": 40
   },
   "kernels_config": {
    "python": {
     "delete_cmd_postfix": "",
     "delete_cmd_prefix": "del ",
     "library": "var_list.py",
     "varRefreshCmd": "print(var_dic_list())"
    },
    "r": {
     "delete_cmd_postfix": ") ",
     "delete_cmd_prefix": "rm(",
     "library": "var_list.r",
     "varRefreshCmd": "cat(var_dic_list()) "
    }
   },
   "types_to_exclude": [
    "module",
    "function",
    "builtin_function_or_method",
    "instance",
    "_Feature"
   ],
   "window_display": false
  }
 },
 "nbformat": 4,
 "nbformat_minor": 5
}
