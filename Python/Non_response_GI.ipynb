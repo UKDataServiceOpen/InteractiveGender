{
 "cells": [
  {
   "cell_type": "markdown",
   "id": "e640860d",
   "metadata": {
    "toc": true
   },
   "source": [
    "<h1>Table of Contents<span class=\"tocSkip\"></span></h1>\n",
    "<div class=\"toc\"><ul class=\"toc-item\"><li><span><a href=\"#Read-in-data\" data-toc-modified-id=\"Read-in-data-1\"><span class=\"toc-item-num\">1&nbsp;&nbsp;</span>Read-in data</a></span></li><li><span><a href=\"#Read-in-language-dataset\" data-toc-modified-id=\"Read-in-language-dataset-2\"><span class=\"toc-item-num\">2&nbsp;&nbsp;</span>Read-in language dataset</a></span></li><li><span><a href=\"#Main-language\" data-toc-modified-id=\"Main-language-3\"><span class=\"toc-item-num\">3&nbsp;&nbsp;</span>Main language</a></span><ul class=\"toc-item\"><li><span><a href=\"#Read-in-region-data---additional-column\" data-toc-modified-id=\"Read-in-region-data---additional-column-3.1\"><span class=\"toc-item-num\">3.1&nbsp;&nbsp;</span>Read-in region data - additional column</a></span></li><li><span><a href=\"#Exploring-language-dataset\" data-toc-modified-id=\"Exploring-language-dataset-3.2\"><span class=\"toc-item-num\">3.2&nbsp;&nbsp;</span>Exploring language dataset</a></span></li><li><span><a href=\"#Scatterplot---relationship-between-NR-rate-and-%-of-Non-English-speakers\" data-toc-modified-id=\"Scatterplot---relationship-between-NR-rate-and-%-of-Non-English-speakers-3.3\"><span class=\"toc-item-num\">3.3&nbsp;&nbsp;</span>Scatterplot - relationship between NR rate and % of Non-English speakers</a></span></li><li><span><a href=\"#Read-in-urban-vs-rural-dataset\" data-toc-modified-id=\"Read-in-urban-vs-rural-dataset-3.4\"><span class=\"toc-item-num\">3.4&nbsp;&nbsp;</span>Read-in urban vs rural dataset</a></span></li><li><span><a href=\"#Age-and-sex\" data-toc-modified-id=\"Age-and-sex-3.5\"><span class=\"toc-item-num\">3.5&nbsp;&nbsp;</span>Age and sex</a></span></li></ul></li><li><span><a href=\"#Religion\" data-toc-modified-id=\"Religion-4\"><span class=\"toc-item-num\">4&nbsp;&nbsp;</span>Religion</a></span></li><li><span><a href=\"#Total-numbers---table\" data-toc-modified-id=\"Total-numbers---table-5\"><span class=\"toc-item-num\">5&nbsp;&nbsp;</span>Total numbers - table</a></span><ul class=\"toc-item\"><li><span><a href=\"#Shannon-index\" data-toc-modified-id=\"Shannon-index-5.1\"><span class=\"toc-item-num\">5.1&nbsp;&nbsp;</span>Shannon index</a></span></li><li><span><a href=\"#%-Non-response-per-religious-category\" data-toc-modified-id=\"%-Non-response-per-religious-category-5.2\"><span class=\"toc-item-num\">5.2&nbsp;&nbsp;</span>% Non-response per religious category</a></span></li></ul></li><li><span><a href=\"#Outputs\" data-toc-modified-id=\"Outputs-6\"><span class=\"toc-item-num\">6&nbsp;&nbsp;</span>Outputs</a></span><ul class=\"toc-item\"><li><span><a href=\"#Ignore-beyond...\" data-toc-modified-id=\"Ignore-beyond...-6.1\"><span class=\"toc-item-num\">6.1&nbsp;&nbsp;</span>Ignore beyond...</a></span></li></ul></li><li><span><a href=\"#Other-interesting-stuff...\" data-toc-modified-id=\"Other-interesting-stuff...-7\"><span class=\"toc-item-num\">7&nbsp;&nbsp;</span>Other interesting stuff...</a></span><ul class=\"toc-item\"><li><span><a href=\"#Percentage-wise\" data-toc-modified-id=\"Percentage-wise-7.1\"><span class=\"toc-item-num\">7.1&nbsp;&nbsp;</span>Percentage-wise</a></span></li></ul></li></ul></div>"
   ]
  },
  {
   "cell_type": "code",
   "execution_count": 1,
   "id": "4753d79e",
   "metadata": {},
   "outputs": [
    {
     "name": "stdout",
     "output_type": "stream",
     "text": [
      "Intel MKL WARNING: Support of Intel(R) Streaming SIMD Extensions 4.2 (Intel(R) SSE4.2) enabled only processors has been deprecated. Intel oneAPI Math Kernel Library 2025.0 will require Intel(R) Advanced Vector Extensions (Intel(R) AVX) instructions.\n",
      "Intel MKL WARNING: Support of Intel(R) Streaming SIMD Extensions 4.2 (Intel(R) SSE4.2) enabled only processors has been deprecated. Intel oneAPI Math Kernel Library 2025.0 will require Intel(R) Advanced Vector Extensions (Intel(R) AVX) instructions.\n"
     ]
    }
   ],
   "source": [
    "import pandas as pd\n",
    "import seaborn as sns\n",
    "import matplotlib.pylab as plt\n",
    "from bokeh.plotting import figure, show\n",
    "from bokeh.io import output_notebook\n",
    "import numpy as np"
   ]
  },
  {
   "cell_type": "markdown",
   "id": "2f6e104c",
   "metadata": {},
   "source": [
    "Interactive scatterplot...\n",
    "\n",
    "Showing the effects of other variables on non-response rates (e.g. speaking another language, non-native to UK, age, urban-rural, etc.)  \n",
    "\n",
    "a.\tHypothesis is that there are factors that may make people feel they don’t understand the question or may worry that there is a consequence for answering incorrectly. \n",
    "\n",
    "b.\tHard to disprove, but a relationship between factors like language or age and non-answering rates may suggest that the questions would benefit from more elaborate discussion or additional materials.  \n",
    "\n",
    "c.\tNot sure how this might graph.\n"
   ]
  },
  {
   "cell_type": "markdown",
   "id": "514b243b",
   "metadata": {},
   "source": [
    "# Read-in data\n",
    "\n",
    "Import cleaned data. Let's start with gender identity."
   ]
  },
  {
   "cell_type": "code",
   "execution_count": 2,
   "id": "966b2785",
   "metadata": {},
   "outputs": [],
   "source": [
    "df = pd.read_csv('/Users/loucap/Documents/GitWork/InteractiveGender/Data/gi_renamed.csv')"
   ]
  },
  {
   "cell_type": "code",
   "execution_count": 3,
   "id": "e61b82e8",
   "metadata": {},
   "outputs": [
    {
     "data": {
      "text/html": [
       "<div>\n",
       "<style scoped>\n",
       "    .dataframe tbody tr th:only-of-type {\n",
       "        vertical-align: middle;\n",
       "    }\n",
       "\n",
       "    .dataframe tbody tr th {\n",
       "        vertical-align: top;\n",
       "    }\n",
       "\n",
       "    .dataframe thead th {\n",
       "        text-align: right;\n",
       "    }\n",
       "</style>\n",
       "<table border=\"1\" class=\"dataframe\">\n",
       "  <thead>\n",
       "    <tr style=\"text-align: right;\">\n",
       "      <th></th>\n",
       "      <th>LA_code</th>\n",
       "      <th>LA_name</th>\n",
       "      <th>GI_code</th>\n",
       "      <th>GI_categories</th>\n",
       "      <th>Observation</th>\n",
       "    </tr>\n",
       "  </thead>\n",
       "  <tbody>\n",
       "    <tr>\n",
       "      <th>0</th>\n",
       "      <td>E06000001</td>\n",
       "      <td>Hartlepool</td>\n",
       "      <td>-8</td>\n",
       "      <td>Does not apply</td>\n",
       "      <td>0</td>\n",
       "    </tr>\n",
       "    <tr>\n",
       "      <th>1</th>\n",
       "      <td>E06000001</td>\n",
       "      <td>Hartlepool</td>\n",
       "      <td>1</td>\n",
       "      <td>Gender identity the same as sex registered at ...</td>\n",
       "      <td>70588</td>\n",
       "    </tr>\n",
       "    <tr>\n",
       "      <th>2</th>\n",
       "      <td>E06000001</td>\n",
       "      <td>Hartlepool</td>\n",
       "      <td>2</td>\n",
       "      <td>Gender identity different from sex registered ...</td>\n",
       "      <td>167</td>\n",
       "    </tr>\n",
       "    <tr>\n",
       "      <th>3</th>\n",
       "      <td>E06000001</td>\n",
       "      <td>Hartlepool</td>\n",
       "      <td>3</td>\n",
       "      <td>Trans woman</td>\n",
       "      <td>49</td>\n",
       "    </tr>\n",
       "    <tr>\n",
       "      <th>4</th>\n",
       "      <td>E06000001</td>\n",
       "      <td>Hartlepool</td>\n",
       "      <td>4</td>\n",
       "      <td>Trans man</td>\n",
       "      <td>51</td>\n",
       "    </tr>\n",
       "  </tbody>\n",
       "</table>\n",
       "</div>"
      ],
      "text/plain": [
       "     LA_code     LA_name  GI_code  \\\n",
       "0  E06000001  Hartlepool       -8   \n",
       "1  E06000001  Hartlepool        1   \n",
       "2  E06000001  Hartlepool        2   \n",
       "3  E06000001  Hartlepool        3   \n",
       "4  E06000001  Hartlepool        4   \n",
       "\n",
       "                                       GI_categories  Observation  \n",
       "0                                     Does not apply            0  \n",
       "1  Gender identity the same as sex registered at ...        70588  \n",
       "2  Gender identity different from sex registered ...          167  \n",
       "3                                        Trans woman           49  \n",
       "4                                          Trans man           51  "
      ]
     },
     "execution_count": 3,
     "metadata": {},
     "output_type": "execute_result"
    }
   ],
   "source": [
    "df.head()"
   ]
  },
  {
   "cell_type": "code",
   "execution_count": 4,
   "id": "f7cd045c",
   "metadata": {},
   "outputs": [
    {
     "name": "stdout",
     "output_type": "stream",
     "text": [
      "<class 'pandas.core.frame.DataFrame'>\n",
      "RangeIndex: 2317 entries, 0 to 2316\n",
      "Data columns (total 5 columns):\n",
      " #   Column         Non-Null Count  Dtype \n",
      "---  ------         --------------  ----- \n",
      " 0   LA_code        2317 non-null   object\n",
      " 1   LA_name        2317 non-null   object\n",
      " 2   GI_code        2317 non-null   int64 \n",
      " 3   GI_categories  2317 non-null   object\n",
      " 4   Observation    2317 non-null   int64 \n",
      "dtypes: int64(2), object(3)\n",
      "memory usage: 90.6+ KB\n"
     ]
    }
   ],
   "source": [
    "df.info()"
   ]
  },
  {
   "cell_type": "code",
   "execution_count": 5,
   "id": "f7843682",
   "metadata": {},
   "outputs": [
    {
     "data": {
      "text/plain": [
       "array([-8,  1,  2,  3,  4,  5,  6])"
      ]
     },
     "execution_count": 5,
     "metadata": {},
     "output_type": "execute_result"
    }
   ],
   "source": [
    "df.GI_code.unique()"
   ]
  },
  {
   "cell_type": "code",
   "execution_count": 6,
   "id": "416f16c3",
   "metadata": {},
   "outputs": [
    {
     "data": {
      "text/plain": [
       "array(['Does not apply',\n",
       "       'Gender identity the same as sex registered at birth',\n",
       "       'Gender identity different from sex registered at birth but no specific identity given',\n",
       "       'Trans woman', 'Trans man', 'All other gender identities',\n",
       "       'Not answered'], dtype=object)"
      ]
     },
     "execution_count": 6,
     "metadata": {},
     "output_type": "execute_result"
    }
   ],
   "source": [
    "df.GI_categories.unique()"
   ]
  },
  {
   "cell_type": "code",
   "execution_count": null,
   "id": "bee479e7",
   "metadata": {},
   "outputs": [],
   "source": [
    "df.LA_name.nunique()"
   ]
  },
  {
   "cell_type": "code",
   "execution_count": null,
   "id": "4387550f",
   "metadata": {},
   "outputs": [],
   "source": [
    "df.head(10)"
   ]
  },
  {
   "cell_type": "code",
   "execution_count": null,
   "id": "effba74f",
   "metadata": {},
   "outputs": [],
   "source": [
    "### Gender identity dataset first...\n",
    "\n",
    "# Let's calculate the GI_category percentages for each local authority\n",
    "\n",
    "df['Percentages'] = ''\n",
    "\n",
    "\n",
    "for i in df.LA_code.unique():\n",
    "    b = df[df.LA_code == i]\n",
    "    percent = b['Observation'] / b['Observation'].sum() * 100\n",
    "    df.loc[b.index, 'Percentages'] = percent"
   ]
  },
  {
   "cell_type": "markdown",
   "id": "88b3b5af",
   "metadata": {},
   "source": [
    "# Read-in language dataset\n",
    "\n",
    "Let's start with language - look at those speaking another language than English"
   ]
  },
  {
   "cell_type": "code",
   "execution_count": null,
   "id": "9c2ef421",
   "metadata": {},
   "outputs": [],
   "source": [
    "lang = pd.read_csv('/Users/loucap/Documents/GitWork/InteractiveGender/Data/Language_2021.csv')"
   ]
  },
  {
   "cell_type": "code",
   "execution_count": null,
   "id": "8d6e870f",
   "metadata": {},
   "outputs": [],
   "source": [
    "lang.head()"
   ]
  },
  {
   "cell_type": "code",
   "execution_count": null,
   "id": "c8cb5e42",
   "metadata": {},
   "outputs": [],
   "source": [
    "lang.rename(columns={'Lower Tier Local Authorities Code':'LA_code', 'Lower Tier Local Authorities':'LA_name', 'Main language (detailed) (95 categories) Code': 'ML_code', 'Main language (detailed) (95 categories)': 'ML_categories'}, inplace=True)"
   ]
  },
  {
   "cell_type": "code",
   "execution_count": null,
   "id": "43ba269f",
   "metadata": {},
   "outputs": [],
   "source": [
    "lang.head()"
   ]
  },
  {
   "cell_type": "markdown",
   "id": "7fe374b9",
   "metadata": {},
   "source": [
    "# Main language"
   ]
  },
  {
   "cell_type": "code",
   "execution_count": null,
   "id": "612067be",
   "metadata": {},
   "outputs": [],
   "source": [
    "# Let's calculate our non-response rate...\n",
    "# Probably didn't need to do this.. but meh, will clean later!\n",
    "\n",
    "df['Non-response_rate'] = ''\n",
    "\n",
    "for i in df.LA_code.unique():\n",
    "    b = df[df.LA_code == i]\n",
    "#     print(b.index)\n",
    "    percent = b['Observation'].where(b['GI_code'] == 6) / b['Observation'].sum() * 100\n",
    "    df.loc[b.index, 'Non-response_rate'] = percent"
   ]
  },
  {
   "cell_type": "code",
   "execution_count": null,
   "id": "339b9c4b",
   "metadata": {},
   "outputs": [],
   "source": [
    "# Let's go ahead and select only a subset of our dataframe where our GI_code == 6\n",
    "\n",
    "not_ans = df[df['GI_code'] == 6]"
   ]
  },
  {
   "cell_type": "markdown",
   "id": "455dfaf9",
   "metadata": {},
   "source": [
    "## Read-in region data - additional column"
   ]
  },
  {
   "cell_type": "code",
   "execution_count": null,
   "id": "8443f263",
   "metadata": {},
   "outputs": [],
   "source": [
    "# Incorporating region - adding it as another column\n",
    "# Read-in region data\n",
    "\n",
    "region = pd.read_csv('/Users/loucap/Documents/GitWork/InteractiveGender/Data/Local_Authority__to_Region.csv')"
   ]
  },
  {
   "cell_type": "code",
   "execution_count": null,
   "id": "65f3410a",
   "metadata": {},
   "outputs": [],
   "source": [
    "# Create a key-value dictionary using zip() and a dictionary comprehension\n",
    "key_value_dict = {key: value for key, value in zip(region['LAD22NM'], region['RGN22NM'])}\n",
    "\n",
    "# Create a new column titled 'region' and set it to empty\n",
    "not_ans['region'] = ''\n",
    "\n",
    "\n",
    "for key, value in key_value_dict.items():\n",
    "#     Creates a boolean series where key = True\n",
    "    matching_rows = not_ans['LA_name'] == key\n",
    "# Use .loc to access the row in which key = True, i.e. where the 'LA_name' column matches the current key\n",
    "# We then access the region column and set it's value to match the corresponding value for our key.\n",
    "    not_ans.loc[matching_rows, 'region'] = value\n",
    "    \n",
    "    \n",
    "# Manual matching for those that couldn't be filled in\n",
    "\n",
    "\n",
    "not_ans.loc[not_ans['LA_name'] == 'Herefordshire', 'region'] = 'West Midlands'\n",
    "not_ans.loc[not_ans['LA_name'] == 'Kingston upon Hull', 'region'] = 'Yorkshire and The Humber'\n",
    "not_ans.loc[not_ans['LA_name'] == 'Bristol', 'region'] = 'South West'\n",
    "\n",
    "# The rest of the LA_names that weren't filled in all belong to the Wales region\n",
    "# So we subset the dataframe so we only have those rows where the region column is empty\n",
    "b = not_ans[not_ans.region == '']\n",
    "\n",
    "# Then we create a list from those unique values\n",
    "la_names = b.LA_name.unique().tolist()\n",
    "\n",
    "# We iterate through each value in the list\n",
    "for i in la_names:\n",
    "#     Again, we use the same method...\n",
    "# Creates a boolean series where the rows in LA_name are set to True if they match i\n",
    "    matching_rows = not_ans['LA_name'] == i\n",
    "#     Use .loc to access the rows where LA_name matches i\n",
    "# We then access the region column and set it's value to 'Wales'\n",
    "    not_ans.loc[matching_rows, 'region'] = 'Wales'"
   ]
  },
  {
   "cell_type": "code",
   "execution_count": null,
   "id": "8aaafee1",
   "metadata": {},
   "outputs": [],
   "source": [
    "# Sorted not_ans dataframe values by non-response rate, and grabbed the highest 20 values by...\n",
    "# setting ascending to False and slicing the dataframe \n",
    "\n",
    "top20 = not_ans.sort_values(by = 'Non-response_rate', ascending = False)[:20]\n",
    "\n",
    "# Here we have it.. this can now be plotted\n",
    "top20"
   ]
  },
  {
   "cell_type": "markdown",
   "id": "399c4d7f",
   "metadata": {},
   "source": [
    "### Top 20 LAs by Non-response rate - hued by region (gender identity)"
   ]
  },
  {
   "cell_type": "code",
   "execution_count": null,
   "id": "4dc77cc1",
   "metadata": {},
   "outputs": [],
   "source": [
    "unique_hue_values = top20['region'].unique()\n",
    "custom_palette = sns.color_palette(\"deep\", n_colors=len(unique_hue_values))\n",
    "\n",
    "# Create a color mapping dictionary\n",
    "color_mapping = {hue_value: color for hue_value, color in zip(unique_hue_values, custom_palette)}\n",
    "\n",
    "\n",
    "\n",
    "# Initially the graph was very small, so I set the size using figure.figsize\n",
    "sns.set(rc={'figure.figsize':(11.7,8.27)})\n",
    "# Simply entered my x value and y value from my top20 dataset, and set the hue to region...\n",
    "\n",
    "sns.barplot(x = 'Non-response_rate', y = 'LA_name', data = top20, dodge = False, hue = 'region', palette = color_mapping)"
   ]
  },
  {
   "cell_type": "markdown",
   "id": "281dd13f",
   "metadata": {},
   "source": [
    "## Exploring language dataset"
   ]
  },
  {
   "cell_type": "code",
   "execution_count": null,
   "id": "cabbf7d0",
   "metadata": {
    "code_folding": []
   },
   "outputs": [],
   "source": [
    "lang['Percentages'] = ''\n",
    "\n",
    "\n",
    "for i in lang.LA_code.unique():\n",
    "    b = lang[lang.LA_code == i]\n",
    "    percent = b['Observation'] / b['Observation'].sum() * 100\n",
    "    lang.loc[b.index, 'Percentages'] = percent\n",
    "    \n",
    "lang['Non-English'] = (lang['ML_code'] != 1) & (lang['ML_code'] != -8)"
   ]
  },
  {
   "cell_type": "code",
   "execution_count": null,
   "id": "4ae57647",
   "metadata": {},
   "outputs": [],
   "source": [
    "lang2 = lang[lang['Non-English'] == True]"
   ]
  },
  {
   "cell_type": "code",
   "execution_count": null,
   "id": "004fc1eb",
   "metadata": {},
   "outputs": [],
   "source": [
    "# Aggregate the data by local authority, summing the 'Observation' column\n",
    "la_agg = lang2.groupby('LA_name')['Observation'].sum().reset_index()\n",
    "\n",
    "# Merge the aggregated data with the total number of observations for each local authority\n",
    "la_totals = lang.groupby('LA_name')['Observation'].sum().reset_index()\n",
    "la_agg = la_agg.merge(la_totals, on='LA_name', suffixes=('', '_total'))"
   ]
  },
  {
   "cell_type": "code",
   "execution_count": null,
   "id": "ef418fc3",
   "metadata": {},
   "outputs": [],
   "source": [
    "# Calculate the percentage of Non-English speakers for each local authority\n",
    "la_agg['Percentage'] = (la_agg['Observation'] / la_agg['Observation_total']) * 100"
   ]
  },
  {
   "cell_type": "code",
   "execution_count": null,
   "id": "92e575c6",
   "metadata": {},
   "outputs": [],
   "source": [
    "# Create a key-value dictionary using zip() and a dictionary comprehension\n",
    "key_value_dict = {key: value for key, value in zip(region['LAD22NM'], region['RGN22NM'])}\n",
    "\n",
    "la_agg['region'] = ''\n",
    "\n",
    "\n",
    "for key, value in key_value_dict.items():\n",
    "    matching_rows = la_agg['LA_name'] == key\n",
    "#     print(matching_rows)\n",
    "    la_agg.loc[matching_rows, 'region'] = value\n",
    "    \n",
    "    \n",
    "# Manual matching for those that couldn't be filled in\n",
    "\n",
    "# df.loc[df['LA_name'] == [['Kingston upon Hull', 'Herefordshire'], 'region']] = ['Yorkshire and The Humber', 'West Midlands']\n",
    "la_agg.loc[la_agg['LA_name'] == 'Herefordshire', 'region'] = 'West Midlands'\n",
    "la_agg.loc[la_agg['LA_name'] == 'Kingston upon Hull', 'region'] = 'Yorkshire and The Humber'\n",
    "la_agg.loc[la_agg['LA_name'] == 'Bristol', 'region'] = 'South West'\n",
    "\n",
    "b = la_agg[la_agg.region == '']\n",
    "la_names = b.LA_name.unique().tolist()\n",
    "\n",
    "for i in la_names:\n",
    "    matching_rows = la_agg['LA_name'] == i\n",
    "#     print(matching_rows)\n",
    "    la_agg.loc[matching_rows, 'region'] = 'Wales'\n"
   ]
  },
  {
   "cell_type": "code",
   "execution_count": null,
   "id": "60a7dc2f",
   "metadata": {},
   "outputs": [],
   "source": [
    "# Sort the local authorities based on the percentage of Non-English speakers, in descending order\n",
    "la_agg_sorted = la_agg.sort_values(by='Percentage', ascending=False)"
   ]
  },
  {
   "cell_type": "code",
   "execution_count": null,
   "id": "066b33d5",
   "metadata": {},
   "outputs": [],
   "source": [
    "top20_lang = la_agg_sorted[:30]"
   ]
  },
  {
   "cell_type": "code",
   "execution_count": null,
   "id": "e62eb521",
   "metadata": {},
   "outputs": [],
   "source": [
    "top20_lang"
   ]
  },
  {
   "cell_type": "markdown",
   "id": "4694e277",
   "metadata": {},
   "source": [
    "### Top 20 LAs by % of Non-English as main language"
   ]
  },
  {
   "cell_type": "code",
   "execution_count": null,
   "id": "6832a5e9",
   "metadata": {},
   "outputs": [],
   "source": [
    "sns.set(rc={'figure.figsize':(11.7,8.27)})\n",
    "sns.barplot(x = 'Percentage', y = 'LA_name', hue = \"region\", data = top20_lang, dodge = False)\n",
    "# plt.xticks(rotation=55)"
   ]
  },
  {
   "cell_type": "code",
   "execution_count": null,
   "id": "6ce3ec43",
   "metadata": {},
   "outputs": [],
   "source": [
    "merged_df = not_ans.merge(la_agg, on = ['LA_name'])\n"
   ]
  },
  {
   "cell_type": "markdown",
   "id": "c92decfd",
   "metadata": {},
   "source": [
    "## Scatterplot - relationship between NR rate and % of Non-English speakers"
   ]
  },
  {
   "cell_type": "code",
   "execution_count": null,
   "id": "58da582c",
   "metadata": {},
   "outputs": [],
   "source": [
    "# Create a scatterplot to visualize the relationship between non-response rates and the percentage of non-English speakers\n",
    "import matplotlib.pyplot as plt\n",
    "from sklearn.neighbors import NearestNeighbors\n",
    "import numpy as np\n",
    "\n",
    "plt.scatter(merged_df['Percentage'], merged_df['Non-response_rate'])\n",
    "\n",
    "\n",
    "# Find nearest neighbors\n",
    "X = merged_df[['Percentage', 'Non-response_rate']].values\n",
    "nbrs = NearestNeighbors(n_neighbors=2).fit(X)\n",
    "distances, indices = nbrs.kneighbors(X)\n",
    "min_distance = 0.3\n",
    "\n",
    "for i, row in merged_df.iterrows():\n",
    "    if distances[i][1] >= min_distance:\n",
    "        plt.annotate(row['LA_name'], (row['Percentage'], row['Non-response_rate']), fontsize=8, alpha=0.6)\n",
    "\n",
    "plt.xlabel('Percentage of Non-English Speakers')\n",
    "plt.ylabel('Non-response Rate')\n",
    "plt.title('Relationship between Non-response Rate and Non-English Speakers')\n",
    "plt.show()"
   ]
  },
  {
   "cell_type": "code",
   "execution_count": null,
   "id": "a3046c34",
   "metadata": {},
   "outputs": [],
   "source": [
    "from bokeh.models.annotations import LabelSet\n",
    "from bokeh.models import ColumnDataSource, Label, LabelSet\n",
    "from bokeh.palettes import Category10\n",
    "from bokeh.io import show\n",
    "from bokeh.models import CheckboxGroup, CustomJS\n",
    "from bokeh.layouts import column\n",
    "from bokeh.models import Button\n",
    "from bokeh.plotting import figure, curdoc\n",
    "\n",
    "LABELS = [\"Labels\"]\n",
    "checkbox_group = CheckboxGroup(labels=LABELS, active=[0, 1])\n",
    "# urban = rural_df.Urb_Rur.unique()\n",
    "\n",
    "\n",
    "source=ColumnDataSource(merged_df)\n",
    "\n",
    "tool = [\n",
    "    (\"index\", \"$index\"),\n",
    "    (\"(x,y)\", \"($x, $y)\"),\n",
    "    (\"name\",\"@LA_name\"),\n",
    "]\n",
    "\n",
    "p1 = figure(title=\"Relationship between Non-response Rate and Non-English Speakers\", x_axis_label=\"Percentage of Non-English Speakers\", y_axis_label= \"Non-response Rate\", tooltips = tool)\n",
    "output_notebook()\n",
    "\n",
    "for region, color in zip(merged_df.region_x.unique(), Category10[10]):\n",
    "    b = merged_df[merged_df.region_x == region]\n",
    "    p1.circle(x = 'Percentage', y = 'Non-response_rate', size = 10, alpha = 0.5, color = color, legend_label = region, muted_color = color, muted_alpha = 0.1, source = b)\n",
    "\n",
    "labels = LabelSet(x='Percentage', y='Non-response_rate', text='LA_name',x_offset=5, y_offset=5, text_font_size = \"5pt\",source=ColumnDataSource(merged_df))\n",
    "tool = [\n",
    "    (\"Name\",\"$LA_name\"),\n",
    "]\n",
    "\n",
    "# p1.add_layout(labels)\n",
    "p1.legend.location = \"bottom_right\"\n",
    "p1.legend.click_policy=\"hide\"\n",
    "p1.legend.title = \"Regions\"\n",
    "\n",
    "def callback():\n",
    "    p1.add_layout(labels)\n",
    "\n",
    "\n",
    "    \n",
    "# add a button widget and configure with the call back\n",
    "button = Button(label=\"Labels\")\n",
    "button.on_event('button_click', callback)\n",
    "show(p1)\n",
    "\n",
    "curdoc().add_root(column(button, p1))"
   ]
  },
  {
   "cell_type": "markdown",
   "id": "bbf833ad",
   "metadata": {},
   "source": [
    "## Read-in urban vs rural dataset"
   ]
  },
  {
   "cell_type": "code",
   "execution_count": null,
   "id": "e21213f6",
   "metadata": {},
   "outputs": [],
   "source": [
    "# Read-in data from urban vs rural\n",
    "\n",
    "rural = pd.read_excel('/Users/loucap/Documents/GitWork/InteractiveGender/Data/Rural_Urban_2011.xlsx')\n",
    "rural.head()"
   ]
  },
  {
   "cell_type": "code",
   "execution_count": null,
   "id": "ab37031f",
   "metadata": {},
   "outputs": [],
   "source": [
    "rural = rural[['LAD18NM', 'Broad RUC11']]\n",
    "rural = rural.rename(columns = {\"LAD18NM\": \"LA_name\", \"Broad RUC11\": \"Urb_Rur\"})\n"
   ]
  },
  {
   "cell_type": "code",
   "execution_count": null,
   "id": "38696cbc",
   "metadata": {},
   "outputs": [],
   "source": [
    "rural_df = merged_df.merge(rural, on=['LA_name'], how='left')"
   ]
  },
  {
   "cell_type": "code",
   "execution_count": null,
   "id": "707c60dd",
   "metadata": {},
   "outputs": [],
   "source": [
    "for i in rural_df.LA_name.unique():\n",
    "    b = rural_df[rural_df.region_x == 'Wales']\n",
    "    \n",
    "    rural_df.loc[b.index, 'Urb_Rur'] = 'Welsh/not specified'"
   ]
  },
  {
   "cell_type": "code",
   "execution_count": null,
   "id": "246eb214",
   "metadata": {},
   "outputs": [],
   "source": [
    "rural_df['Urb_Rur'] = rural_df['Urb_Rur'].fillna('Not specified')"
   ]
  },
  {
   "cell_type": "code",
   "execution_count": null,
   "id": "ddf4c34e",
   "metadata": {},
   "outputs": [],
   "source": [
    "rural_df[rural_df.Urb_Rur == 'Not specified']"
   ]
  },
  {
   "cell_type": "code",
   "execution_count": null,
   "id": "a3934d5d",
   "metadata": {},
   "outputs": [],
   "source": [
    "rural_df.Urb_Rur.unique()"
   ]
  },
  {
   "cell_type": "code",
   "execution_count": null,
   "id": "001c4fde",
   "metadata": {},
   "outputs": [],
   "source": [
    "from bokeh.palettes import Category10"
   ]
  },
  {
   "cell_type": "code",
   "execution_count": null,
   "id": "7dc3a75c",
   "metadata": {
    "scrolled": false
   },
   "outputs": [],
   "source": [
    "from bokeh.models.annotations import LabelSet\n",
    "from bokeh.models import ColumnDataSource, Label, LabelSet\n",
    "from bokeh.palettes import Category10\n",
    "from bokeh.io import show\n",
    "from bokeh.models import CheckboxGroup, CustomJS\n",
    "from bokeh.layouts import column\n",
    "from bokeh.models import Button\n",
    "from bokeh.plotting import figure, curdoc\n",
    "\n",
    "LABELS = [\"Labels\"]\n",
    "checkbox_group = CheckboxGroup(labels=LABELS, active=[0, 1])\n",
    "# urban = rural_df.Urb_Rur.unique()\n",
    "\n",
    "\n",
    "source=ColumnDataSource(merged_df)\n",
    "\n",
    "tool = [\n",
    "    (\"index\", \"$index\"),\n",
    "    (\"(x,y)\", \"($x, $y)\"),\n",
    "    (\"name\",\"@LA_name\"),\n",
    "]\n",
    "\n",
    "p1 = figure(title=\"Relationship between Non-response Rate and Non-English Speakers\", x_axis_label=\"Percentage of Non-English Speakers\", y_axis_label= \"Non-response Rate\", tooltips = tool)\n",
    "output_notebook()\n",
    "\n",
    "for region, color in zip(merged_df.region_x.unique(), Category10[10]):\n",
    "    b = merged_df[merged_df.region_x == region]\n",
    "    p1.circle(x = 'Percentage', y = 'Non-response_rate', size = 10, alpha = 0.5, color = color, legend_label = region, muted_color = color, muted_alpha = 0.1, source = b)\n",
    "\n",
    "labels = LabelSet(x='Percentage', y='Non-response_rate', text='LA_name',x_offset=5, y_offset=5, text_font_size = \"5pt\",source=ColumnDataSource(merged_df))\n",
    "tool = [\n",
    "    (\"Name\",\"$LA_name\"),\n",
    "]\n",
    "\n",
    "# p1.add_layout(labels)\n",
    "p1.legend.location = \"bottom_right\"\n",
    "p1.legend.click_policy=\"hide\"\n",
    "p1.legend.title = \"Regions\"\n",
    "\n",
    "def callback():\n",
    "    p1.add_layout(labels)\n",
    "\n",
    "\n",
    "    \n",
    "# add a button widget and configure with the call back\n",
    "button = Button(label=\"Labels\")\n",
    "button.on_event('button_click', callback)\n",
    "show(p1)\n",
    "\n",
    "curdoc().add_root(column(button, p1))"
   ]
  },
  {
   "cell_type": "code",
   "execution_count": null,
   "id": "755251f6",
   "metadata": {},
   "outputs": [],
   "source": [
    "from bokeh.transform import factor_cmap, factor_mark\n",
    "from bokeh.plotting import figure, show\n",
    "from bokeh.palettes import Category10\n",
    "\n",
    "tool = [\n",
    "    (\"index\", \"$index\"),\n",
    "    (\"(x,y)\", \"($x, $y)\"),\n",
    "    (\"name\",\"@LA_name\"),\n",
    "]\n",
    "# p1.legend.location = \"bottom_right\"\n",
    "# p1.legend.click_policy=\"hide\"\n",
    "# p1.legend.title = \"Regions\"\n",
    "\n",
    "regions = rural_df.region_x.unique()\n",
    "urban = rural_df.Urb_Rur.unique()\n",
    "markers = [\"circle_cross\", \"circle\", \"triangle\"]\n",
    "\n",
    "p2 = figure(title=\"Relationship between Non-response Rate and Non-English Speakers\", x_axis_label=\"Non-response Rate\", y_axis_label=\"Percentage of Non-English Speakers\", tooltips = tool)\n",
    "output_notebook()\n",
    "\n",
    "p2.scatter(\"Percentage\", \"Non-response_rate\", source = rural_df, fill_alpha = 0.5, size = 10, marker = factor_mark('Urb_Rur', markers, urban), color = factor_cmap('region_x', Category10[10], regions), legend_field = 'region_x')\n",
    "\n",
    "show(p2)"
   ]
  },
  {
   "cell_type": "code",
   "execution_count": null,
   "id": "9da47afb",
   "metadata": {},
   "outputs": [],
   "source": [
    "from bokeh.transform import factor_cmap, factor_mark\n",
    "from bokeh.plotting import figure, show\n",
    "from bokeh.palettes import Category10\n",
    "\n",
    "tool = [\n",
    "    (\"index\", \"$index\"),\n",
    "    (\"(x,y)\", \"($x, $y)\"),\n",
    "    (\"name\",\"@LA_name\"),\n",
    "]\n",
    "# p1.legend.location = \"bottom_right\"\n",
    "# p1.legend.click_policy=\"hide\"\n",
    "# p1.legend.title = \"Regions\"\n",
    "\n",
    "regions = rural_df.region_x.unique()\n",
    "urban = rural_df.Urb_Rur.unique()\n",
    "\n",
    "\n",
    "p2 = figure(title=\"Relationship between Non-response Rate and Non-English Speakers\", x_axis_label=\"Non-response Rate\", y_axis_label=\"Percentage of Non-English Speakers\", tooltips = tool)\n",
    "output_notebook()\n",
    "\n",
    "p2.scatter(\"Percentage\", \"Non-response_rate\", source = rural_df, fill_alpha = 0.5, size = 10, color = factor_cmap('Urb_Rur', Category10[10], urban), legend_field = 'Urb_Rur')\n",
    "p2.legend.location = \"bottom_right\"\n",
    "p2.legend.click_policy=\"hide\"\n",
    "p2.legend.title = \"Urban-Rural classification\"\n",
    "\n",
    "\n",
    "show(p2)"
   ]
  },
  {
   "cell_type": "code",
   "execution_count": null,
   "id": "b0f6742b",
   "metadata": {},
   "outputs": [],
   "source": [
    "from bokeh.models.annotations import LabelSet\n",
    "from bokeh.models import ColumnDataSource, Label, LabelSet\n",
    "from bokeh.palettes import Category10\n",
    "from bokeh.io import show\n",
    "from bokeh.models import CheckboxGroup, CustomJS\n",
    "from bokeh.layouts import column\n",
    "from bokeh.models import Button\n",
    "from bokeh.plotting import figure, curdoc\n",
    "\n",
    "LABELS = [\"Labels\"]\n",
    "checkbox_group = CheckboxGroup(labels=LABELS, active=[0, 1])\n",
    "urban = rural_df.Urb_Rur.unique()\n",
    "\n",
    "\n",
    "source=ColumnDataSource(rural_df)\n",
    "\n",
    "tool = [\n",
    "    (\"index\", \"$index\"),\n",
    "    (\"(x,y)\", \"($x, $y)\"),\n",
    "    (\"name\",\"@LA_name\"),\n",
    "]\n",
    "\n",
    "p1 = figure(title=\"Relationship between Non-response Rate and Non-English Speakers\", x_axis_label=\"Non-response Rate\", y_axis_label=\"Percentage of Non-English Speakers\", tooltips = tool)\n",
    "output_notebook()\n",
    "\n",
    "for region, color in zip(rural_df.region_x.unique(), Category10[10]):\n",
    "    b = rural_df[rural_df.region_x == region]\n",
    "    p1.circle(x = 'Percentage', y = 'Non-response_rate', size = 10, alpha = 0.5, color = color, legend_label = region, muted_color = color, muted_alpha = 0.1, source = b)\n",
    "\n",
    "labels = LabelSet(x='Percentage', y='Non-response_rate', text='LA_name',x_offset=5, y_offset=5, text_font_size = \"5pt\",source=ColumnDataSource(rural_df))\n",
    "tool = [\n",
    "    (\"Name\",\"$LA_name\"),\n",
    "]\n",
    "\n",
    "# p1.add_layout(labels)\n",
    "p1.legend.location = \"bottom_right\"\n",
    "p1.legend.click_policy=\"hide\"\n",
    "p1.legend.title = \"Regions\"\n",
    "\n",
    "def callback():\n",
    "    p1.add_layout(labels)\n",
    "\n",
    "    \n",
    "# add a button widget and configure with the call back\n",
    "button = Button(label=\"Labels\")\n",
    "button.on_event('button_click', callback)\n",
    "show(p1)\n",
    "\n",
    "curdoc().add_root(column(button, p1))"
   ]
  },
  {
   "cell_type": "code",
   "execution_count": null,
   "id": "4a2c9e12",
   "metadata": {},
   "outputs": [],
   "source": [
    "# Convert the columns to numeric types if needed\n",
    "merged_df['Non-response_rate'] = pd.to_numeric(merged_df['Non-response_rate'], errors='coerce')\n",
    "merged_df['Percentage'] = pd.to_numeric(merged_df['Percentage'], errors='coerce')\n"
   ]
  },
  {
   "cell_type": "code",
   "execution_count": null,
   "id": "1a0d859f",
   "metadata": {},
   "outputs": [],
   "source": [
    "import seaborn as sns\n",
    "\n",
    "# Create a hexbin plot\n",
    "sns.jointplot(x='Percentage', y='Non-response_rate', data=merged_df, kind='hex')"
   ]
  },
  {
   "cell_type": "code",
   "execution_count": null,
   "id": "c41a3061",
   "metadata": {},
   "outputs": [],
   "source": [
    "corr_coeff = merged_df['Non-response_rate'].corr(merged_df['Percentage'])\n",
    "print(\"Correlation Coefficient:\", corr_coeff)\n",
    "\n",
    "# Strong positive linear relationship between our 2 variables."
   ]
  },
  {
   "cell_type": "code",
   "execution_count": null,
   "id": "8bb2343c",
   "metadata": {},
   "outputs": [],
   "source": [
    "import statsmodels.api as sm\n",
    "\n",
    "X = merged_df['Percentage']\n",
    "y = merged_df['Non-response_rate']\n",
    "X = sm.add_constant(X)\n",
    "\n",
    "model = sm.OLS(y, X).fit()\n",
    "print(model.summary())"
   ]
  },
  {
   "cell_type": "code",
   "execution_count": null,
   "id": "0ea225b0",
   "metadata": {},
   "outputs": [],
   "source": [
    "merged_df.sort_values(by = 'Percentage', ascending = False)"
   ]
  },
  {
   "cell_type": "code",
   "execution_count": null,
   "id": "dc7fa5fd",
   "metadata": {},
   "outputs": [],
   "source": [
    "a = lang[lang['Non-English'] == True]\n",
    "a.sort_values(by = 'Observation', ascending = False)"
   ]
  },
  {
   "cell_type": "code",
   "execution_count": null,
   "id": "fd1cce33",
   "metadata": {},
   "outputs": [],
   "source": [
    "perc = []\n",
    "names = []\n",
    "\n",
    "for i in a.ML_categories.unique():\n",
    "    b = a[a['ML_categories'] == i]\n",
    "    names.append(i)\n",
    "    summed = b.Observation.sum()\n",
    "    perc.append(summed)\n",
    "    "
   ]
  },
  {
   "cell_type": "code",
   "execution_count": null,
   "id": "75338f94",
   "metadata": {},
   "outputs": [],
   "source": [
    "result = pd.DataFrame(list(zip(names, perc)), columns=['Category', 'Observations'])"
   ]
  },
  {
   "cell_type": "code",
   "execution_count": null,
   "id": "aa6350fd",
   "metadata": {},
   "outputs": [],
   "source": [
    "result['Percentages'] = result['Observations'] / 59597557 * 100"
   ]
  },
  {
   "cell_type": "code",
   "execution_count": null,
   "id": "c78943c5",
   "metadata": {},
   "outputs": [],
   "source": [
    "result.sort_values(by = 'Percentages', ascending = False)"
   ]
  },
  {
   "cell_type": "markdown",
   "id": "0c04e910",
   "metadata": {},
   "source": [
    "## Age and sex"
   ]
  },
  {
   "cell_type": "code",
   "execution_count": null,
   "id": "e011c637",
   "metadata": {},
   "outputs": [],
   "source": [
    "# !pip install pyjanitor==0.23.1\n",
    "# !pip install seaborn"
   ]
  },
  {
   "cell_type": "code",
   "execution_count": null,
   "id": "89f57fa2",
   "metadata": {},
   "outputs": [],
   "source": [
    "age_sex = pd.read_excel('/Users/loucap/Documents/GitWork/InteractiveGender/Data/Age_sex_GI.xlsx')"
   ]
  },
  {
   "cell_type": "code",
   "execution_count": null,
   "id": "bf3ccbac",
   "metadata": {},
   "outputs": [],
   "source": [
    "age_sex.head()"
   ]
  },
  {
   "cell_type": "code",
   "execution_count": null,
   "id": "3b78a0c3",
   "metadata": {},
   "outputs": [],
   "source": [
    "# Let's get rid of the first 2 columns\n",
    "\n",
    "age_sex = age_sex.drop(age_sex.columns[[0,1]], axis = 1)\n",
    "\n",
    "# Can also drop by their name..\n",
    "\n",
    "# age_sex = age_sex.drop(['England and Wales code', 'England and Wales label'], axis = 1)"
   ]
  },
  {
   "cell_type": "code",
   "execution_count": null,
   "id": "4c6a1934",
   "metadata": {},
   "outputs": [],
   "source": [
    "age_sex.head()"
   ]
  },
  {
   "cell_type": "code",
   "execution_count": null,
   "id": "9b40de70",
   "metadata": {},
   "outputs": [],
   "source": [
    "# Before we split the dataset into 2 so that it's easier to work with...\n",
    "# Let's clean our column names\n",
    "\n",
    "from janitor import *\n",
    "\n",
    "# Clean column names\n",
    "\n",
    "age_sex = age_sex.clean_names()"
   ]
  },
  {
   "cell_type": "code",
   "execution_count": null,
   "id": "3edbc585",
   "metadata": {},
   "outputs": [],
   "source": [
    "age_sex.columns"
   ]
  },
  {
   "cell_type": "code",
   "execution_count": null,
   "id": "3968840f",
   "metadata": {},
   "outputs": [],
   "source": [
    "female = age_sex[age_sex.sex_label == 'Female']\n",
    "male = age_sex[age_sex.sex_label == 'Male']"
   ]
  },
  {
   "cell_type": "code",
   "execution_count": null,
   "id": "376781d6",
   "metadata": {},
   "outputs": [],
   "source": [
    "# Our observation column contains some string values, so let's convert it to numeric\n",
    "\n",
    "female['observation'] = pd.to_numeric(female['observation'], errors='coerce')\n",
    "\n",
    "# Let's calculate the percentage of each observation value within each age group\n",
    "# We'll store the results in a new column titled 'group_pct'\n",
    "\n",
    "female['group_pct'] = female.groupby('age_label')['observation'].apply(lambda x: x / x.sum() * 100).round(2)"
   ]
  },
  {
   "cell_type": "code",
   "execution_count": null,
   "id": "24e109f8",
   "metadata": {},
   "outputs": [],
   "source": [
    "# Create a FacetGrid with subplots for each unique value in the 'age_label' column\n",
    "g = sns.FacetGrid(female, col='age_label', col_wrap=2, height=4, aspect=1, hue = 'gender_identity_8_categories_label')\n",
    "g.map(sns.barplot, 'gender_identity_8_categories_code', 'observation', order=female['gender_identity_8_categories_code'].unique())\n",
    "plt.yscale(\"log\")\n",
    "plt.legend(loc = 'upper left')"
   ]
  },
  {
   "cell_type": "code",
   "execution_count": null,
   "id": "891bfe93",
   "metadata": {},
   "outputs": [],
   "source": [
    "stacked_data = female.pivot_table(index='age_label', columns='gender_identity_8_categories_code', values='group_pct', aggfunc='sum')"
   ]
  },
  {
   "cell_type": "code",
   "execution_count": null,
   "id": "3c2ee513",
   "metadata": {},
   "outputs": [],
   "source": [
    "stacked_data"
   ]
  },
  {
   "cell_type": "code",
   "execution_count": null,
   "id": "67a848f3",
   "metadata": {},
   "outputs": [],
   "source": [
    "# Our observation column contains some string values, so let's convert it to numeric\n",
    "\n",
    "age_sex['observation'] = pd.to_numeric(age_sex['observation'], errors='coerce')\n",
    "\n",
    "# Let's calculate the percentage of each observation value within each age group\n",
    "# We'll store the results in a new column titled 'group_pct'\n",
    "\n",
    "age_sex['group_pct'] = age_sex.groupby(['age_label', 'sex_code'])['observation'].apply(lambda x: x / x.sum() * 100).round(2)"
   ]
  },
  {
   "cell_type": "code",
   "execution_count": null,
   "id": "e83d7aa6",
   "metadata": {},
   "outputs": [],
   "source": [
    "age_sex.head()"
   ]
  },
  {
   "cell_type": "code",
   "execution_count": null,
   "id": "aa94f7de",
   "metadata": {},
   "outputs": [],
   "source": [
    "age_sex.dtypes"
   ]
  },
  {
   "cell_type": "code",
   "execution_count": null,
   "id": "26bdab08",
   "metadata": {},
   "outputs": [],
   "source": [
    "import re\n",
    "\n",
    "def shorten_age(age_column):\n",
    "    age_range = re.findall(r'\\d+', age_column)\n",
    "    if age_range and len(age_range) >= 2:\n",
    "        return f\"{age_range[0]}-{age_range[1]}\"\n",
    "    return age_column\n",
    "\n",
    "# Apply the function to the age_label column\n",
    "age_sex['age_label'] = age_sex['age_label'].apply(shorten_age)\n",
    "\n",
    "\n",
    "# # Let's get a closer look at non_response rates\n",
    "\n",
    "not_ans = age_sex[age_sex.gender_identity_8_categories_label == 'Not answered']\n",
    "not_ans = age_sex.loc[age_sex.age_label == 'Aged 75 years and over', 'age_label'] = '75+'"
   ]
  },
  {
   "cell_type": "code",
   "execution_count": null,
   "id": "cf84d9d7",
   "metadata": {},
   "outputs": [],
   "source": [
    "# Let's get a closer look at non_response rates\n",
    "\n",
    "not_ans = age_sex[age_sex.gender_identity_8_categories_label == 'Not answered']\n",
    "# Create the grouped bar chart\n",
    "plt.figure(figsize=(10, 6))\n",
    "sns.barplot(x = 'age_label', y = 'group_pct', hue = \"sex_label\", hue_order = ['Male','Female'],palette={'Male': 'blue', 'Female': 'pink'}, data = not_ans)\n",
    "# Customize the chart\n",
    "plt.title('Non-response rate for GI by Age Group and Sex')\n",
    "plt.xlabel('Age Group')\n",
    "plt.ylabel('Percentage')\n",
    "plt.show()"
   ]
  },
  {
   "cell_type": "code",
   "execution_count": null,
   "id": "b15c9f18",
   "metadata": {
    "code_folding": []
   },
   "outputs": [],
   "source": [
    "# Let's get a closer look at non_response rates\n",
    "\n",
    "not_ans = female[female.gender_identity_8_categories_label == 'Not answered']"
   ]
  },
  {
   "cell_type": "markdown",
   "id": "52cb1292",
   "metadata": {},
   "source": [
    "# Religion"
   ]
  },
  {
   "cell_type": "code",
   "execution_count": null,
   "id": "3524bf71",
   "metadata": {},
   "outputs": [],
   "source": [
    "import pandas as pd\n",
    "rel = pd.read_excel('/Users/loucap/Documents/GitWork/InteractiveGender/Data/religion_gi.xlsx')\n",
    "rel.rename(columns={'Lower tier local authorities Code': 'LA_code', 'Lower tier local authorities': 'LA_name', 'Gender identity (4 categories) Code': 'GI_code', 'Gender identity (4 categories)': 'GI_categories', 'Religion (10 categories) Code': 'Religion_code', 'Religion (10 categories)': 'Religion_categories'}, inplace=True)\n",
    "rel = rel[(rel.GI_code != -8) & (rel.Religion_code != -8) & (rel.Religion_code != 9)]\n",
    "\n",
    "# Calculate the total number of survey respondents for each religion\n",
    "total_by_religion = rel.groupby('Religion_categories')['Observation'].sum().reset_index()\n",
    "\n",
    "# Calculate the percentage of respondents for each religion\n",
    "total_respondents = rel['Observation'].sum()\n",
    "total_by_religion['Percent_of_survey_respondents'] = ((total_by_religion['Observation'] / total_respondents) * 100).round(2)\n",
    "\n",
    "# Calculate the total non-response for each religion\n",
    "non_response_rel = rel[rel['GI_categories'] == 'Not answered']\n",
    "non_response_by_religion = non_response_rel.groupby('Religion_categories')['Observation'].sum().reset_index()\n",
    "\n",
    "# Merge the total_by_religion and non_response_by_religion DataFrames\n",
    "# merged_rel = total_by_religion.merge(non_response_by_religion, on='Religion_categories', suffixes=('', '_non_response'))\n",
    "\n",
    "total_by_religion.head(9)\n",
    "# merged_rel.head()"
   ]
  },
  {
   "cell_type": "code",
   "execution_count": null,
   "id": "41bb1c11",
   "metadata": {},
   "outputs": [],
   "source": [
    "# Calculate the non-response rate for each religion\n",
    "non_response_by_religion['Non_response_rate'] = ((non_response_by_religion['Observation'] / total_by_religion['Observation']) * 100).round(2)\n",
    "\n",
    "total_non_response = non_response_by_religion['Observation'].sum()\n",
    "non_response_by_religion['Contribution_to_overall_non_response_rate'] = ((non_response_by_religion['Observation'] / total_non_response) * 100).round(2)\n",
    "\n",
    "non_response_by_religion.head(10)"
   ]
  },
  {
   "cell_type": "code",
   "execution_count": null,
   "id": "120a6c8e",
   "metadata": {},
   "outputs": [],
   "source": [
    "# Read-in dataset for religion\n",
    "\n",
    "rel1 = pd.read_excel('/Users/loucap/Documents/GitWork/InteractiveGender/Data/religion_gi.xlsx')\n",
    "\n",
    "# Let's check it out \n",
    "\n",
    "rel1.head()"
   ]
  },
  {
   "cell_type": "code",
   "execution_count": null,
   "id": "edab513c",
   "metadata": {},
   "outputs": [],
   "source": [
    "# These column names are too wordy, let's rename them.\n",
    "\n",
    "rel1.rename(columns={'Lower tier local authorities Code': 'LA_code', 'Lower tier local authorities': 'LA_name', 'Gender identity (4 categories) Code': 'GI_code', 'Gender identity (4 categories)': 'GI_categories', 'Religion (10 categories) Code': 'Religion_code', 'Religion (10 categories)': 'Religion_categories'}, inplace=True)\n"
   ]
  },
  {
   "cell_type": "code",
   "execution_count": null,
   "id": "1391e7ed",
   "metadata": {},
   "outputs": [],
   "source": [
    "rel1.Religion_categories.unique()"
   ]
  },
  {
   "cell_type": "code",
   "execution_count": null,
   "id": "7a536768",
   "metadata": {},
   "outputs": [],
   "source": [
    "rel1.Religion_code.unique()"
   ]
  },
  {
   "cell_type": "markdown",
   "id": "7691db38",
   "metadata": {},
   "source": [
    "# Total numbers - table"
   ]
  },
  {
   "cell_type": "code",
   "execution_count": null,
   "id": "f90d8c90",
   "metadata": {},
   "outputs": [],
   "source": [
    "\n",
    "# Nice. Lets now subset it, as we're only interested in non-response\n",
    "# Let's also get rid of our empty 'Does not apply' category\n",
    "# For now let's ignore our 'Non-response' for our rel1igious category\n",
    "\n",
    "non_resp = rel1[(rel1.GI_code == 3) & (rel1.GI_code != -8) & (rel1.rel1igion_code != -8) & (rel1.rel1igion_code != 9)]\n",
    "\n",
    "# Let's have a look...\n",
    "\n",
    "non_resp.head(10)"
   ]
  },
  {
   "cell_type": "code",
   "execution_count": null,
   "id": "64f62918",
   "metadata": {},
   "outputs": [],
   "source": [
    "# Created an empty column to hold percentages of religions within each LA\n",
    "\n",
    "non_resp['Percentages'] = ''\n",
    "\n",
    "for i in non_resp.LA_name.unique():\n",
    "    \n",
    "    b = non_resp[non_resp.LA_name == i]\n",
    "    \n",
    "    perc = b.Observation / b.Observation.sum() * 100\n",
    "    \n",
    "    non_resp.loc[b.index, 'Percentages'] = round(perc, 2)\n",
    "    "
   ]
  },
  {
   "cell_type": "code",
   "execution_count": null,
   "id": "b0650c14",
   "metadata": {},
   "outputs": [],
   "source": [
    "sorted_df = non_resp.sort_values(by = [\"LA_name\", \"Percentages\"], ascending = [True, False])\n",
    "\n",
    "sorted_df"
   ]
  },
  {
   "cell_type": "markdown",
   "id": "4b05d9ae",
   "metadata": {},
   "source": [
    "## Shannon index"
   ]
  },
  {
   "cell_type": "code",
   "execution_count": null,
   "id": "2ec4d026",
   "metadata": {},
   "outputs": [],
   "source": [
    "# Let's now calculate the proportions\n",
    "# To get better precision and not lose valuable insights I opted to round to 4 decimal places\n",
    "sorted_df['Proportions'] = (sorted_df['Percentages'].astype(float) / 100).round(4)"
   ]
  },
  {
   "cell_type": "code",
   "execution_count": null,
   "id": "11311523",
   "metadata": {},
   "outputs": [],
   "source": [
    "sorted_df.head()"
   ]
  },
  {
   "cell_type": "code",
   "execution_count": null,
   "id": "aa5164f4",
   "metadata": {},
   "outputs": [],
   "source": [
    "\n",
    "sorted_df['Calc'] = np.where(sorted_df['Proportions'] > 0, - sorted_df['Proportions'] * np.log(sorted_df['Proportions']), 0)\n",
    "\n",
    "\n",
    "# Created an empty column titled Shannon_idx\n",
    "sorted_df['Shannon_idx'] = ''\n",
    "\n",
    "for i in sorted_df.LA_code.unique():\n",
    "    \n",
    "    b = sorted_df[sorted_df.LA_code == i]\n",
    "    summed = sum(b.Calc)\n",
    "    \n",
    "    sorted_df.loc[b.index, 'Shannon_idx'] = summed\n"
   ]
  },
  {
   "cell_type": "code",
   "execution_count": null,
   "id": "38ccf793",
   "metadata": {},
   "outputs": [],
   "source": [
    "sorted_df.head()"
   ]
  },
  {
   "cell_type": "code",
   "execution_count": null,
   "id": "a7c171f7",
   "metadata": {},
   "outputs": [],
   "source": [
    "# Assuming your DataFrame is named df and it contains 'LA_name' and 'Shannon_idx' columns\n",
    "unique_shannon_df = sorted_df[['LA_name', 'Shannon_idx']].drop_duplicates(subset=['LA_name'])\n",
    "unique_shannon_df.sort_values(by = 'Shannon_idx', ascending = False).head()"
   ]
  },
  {
   "cell_type": "code",
   "execution_count": null,
   "id": "81d647d4",
   "metadata": {},
   "outputs": [],
   "source": [
    "cmap = plt.get_cmap(\"viridis\")\n",
    "cmap"
   ]
  },
  {
   "cell_type": "code",
   "execution_count": null,
   "id": "da971d4b",
   "metadata": {},
   "outputs": [],
   "source": [
    "normalized_shannon = (sorted_df['Shannon_idx'] - sorted_df['Shannon_idx'].min()) / (sorted_df['Shannon_idx'].max() - sorted_df['Shannon_idx'].min())\n",
    "normalized_shannon"
   ]
  },
  {
   "cell_type": "code",
   "execution_count": null,
   "id": "d9e4d17b",
   "metadata": {},
   "outputs": [],
   "source": [
    "from bokeh.models import LogColorMapper\n",
    "\n",
    "color_map = LogColorMapper(palette=\"Viridis256\", low=sorted_df.Shannon_idx.min(), high=sorted_df.Shannon_idx.max())\n",
    "\n",
    "color_map"
   ]
  },
  {
   "cell_type": "code",
   "execution_count": null,
   "id": "79fcd87a",
   "metadata": {},
   "outputs": [],
   "source": [
    "# Create a mapping between LA_code and Shannon_idx\n",
    "la_code_to_shannon_idx = sorted_df.set_index('LA_code')['Shannon_idx'].to_dict()"
   ]
  },
  {
   "cell_type": "code",
   "execution_count": null,
   "id": "eb5dceb0",
   "metadata": {},
   "outputs": [],
   "source": [
    "merged_df['Shannon_idx'] = merged_df['LA_code'].map(la_code_to_shannon_idx)\n"
   ]
  },
  {
   "cell_type": "code",
   "execution_count": null,
   "id": "3d894547",
   "metadata": {},
   "outputs": [],
   "source": [
    "from bokeh.transform import factor_cmap, factor_mark\n",
    "from bokeh.plotting import figure, show\n",
    "from bokeh.palettes import Category10\n",
    "from bokeh.models import ColorBar, BasicTicker, PrintfTickFormatter\n",
    "\n",
    "tool = [\n",
    "    (\"index\", \"$index\"),\n",
    "    (\"(x,y)\", \"($x, $y)\"),\n",
    "    (\"name\",\"@LA_name\"),\n",
    "    (\"Shannon_idx\", \"@Shannon_idx\")\n",
    "]\n",
    "# p1.legend.location = \"bottom_right\"\n",
    "# p1.legend.click_policy=\"hide\"\n",
    "# p1.legend.title = \"Regions\"\n",
    "\n",
    "# regions = merged_df.region_x.unique()\n",
    "# urban = merged_df.Urb_Rur.unique()\n",
    "\n",
    "p2 = figure(title=\"Relationship between Non-response Rate and Non-English Speakers\", x_axis_label=\"Non-response Rate\", y_axis_label=\"Percentage of Non-English Speakers\", tooltips = tool)\n",
    "output_notebook()\n",
    "\n",
    "p2.scatter(\"Percentage\", \"Non-response_rate\", source = merged_df, fill_alpha = 0.5, size = 10,  color={'field': 'Shannon_idx', 'transform': color_map})\n",
    "\n",
    "color_bar = ColorBar(color_mapper=color_map,\n",
    "                     title='Shannon Index',\n",
    "                     ticker=BasicTicker(desired_num_ticks=5),\n",
    "                     formatter=PrintfTickFormatter(format='%.2f'))\n",
    "\n",
    "# Add the color bar to the plot\n",
    "p2.add_layout(color_bar, 'right')\n",
    "\n",
    "\n",
    "show(p2)"
   ]
  },
  {
   "cell_type": "markdown",
   "id": "62d3ef61",
   "metadata": {},
   "source": [
    "## % Non-response per religious category"
   ]
  },
  {
   "cell_type": "code",
   "execution_count": null,
   "id": "a06b8acb",
   "metadata": {},
   "outputs": [],
   "source": [
    "# Get rid of categories which are N/A and have 0 counts\n",
    "\n",
    "rel1 = rel1[(rel1.GI_code != -8) & (rel1.rel1igion_code != -8) & (rel1.rel1igion_code != 9)]"
   ]
  },
  {
   "cell_type": "code",
   "execution_count": null,
   "id": "73b57c20",
   "metadata": {},
   "outputs": [],
   "source": [
    "# Let's calc the % of each rel1igious group and their GI answers for each LA\n",
    "\n",
    "rel1['Group_Percentages'] = ''\n",
    "\n",
    "for i in rel1.LA_name.unique():\n",
    "    \n",
    "    b = rel1[rel1.LA_name == i]\n",
    "    \n",
    "    perc = b.Observation / b.Observation.sum() * 100\n",
    "    \n",
    "    rel1.loc[b.index, 'Group_Percentages'] = round(perc, 2)"
   ]
  },
  {
   "cell_type": "code",
   "execution_count": null,
   "id": "04c49886",
   "metadata": {},
   "outputs": [],
   "source": [
    "# Created a column which holds the total amount of people in each LA e.g. in Hartlepool there's 74686 people\n",
    "# This will help me with next calculation\n",
    "\n",
    "rel1['Total_LA_counts'] = ''\n",
    "\n",
    "for i in rel1.LA_name.unique():\n",
    "    \n",
    "    b = rel1[rel1.LA_name == i]\n",
    "    \n",
    "    tot = b.Observation.sum()\n",
    "    \n",
    "    rel1.loc[b.index, 'Total_LA_counts'] = tot"
   ]
  },
  {
   "cell_type": "markdown",
   "id": "3d81d8bb",
   "metadata": {},
   "source": [
    "### ATHEISTS\n",
    "\n",
    "Let's explore the relationship between the % of atheists in different LAs, and the Non-response rate"
   ]
  },
  {
   "cell_type": "code",
   "execution_count": null,
   "id": "1201c752",
   "metadata": {},
   "outputs": [],
   "source": [
    "# First, we subset our dataframe to only get data where rel1igion_category == No rel1igion\n",
    "\n",
    "atheist = rel1[(rel1.rel1igion_categories == 'No rel1igion')]\n",
    "atheist.head(10)"
   ]
  },
  {
   "cell_type": "code",
   "execution_count": null,
   "id": "b4343c76",
   "metadata": {},
   "outputs": [],
   "source": [
    "# So, whilst we have the % of atheists for each GI category for each individual LA...\n",
    "# We now want to know the total % of atheists in each LA\n",
    "\n",
    "atheist['No religion_%'] = ''\n",
    "\n",
    "for i in atheist.LA_code.unique():\n",
    "    \n",
    "    v = atheist[atheist.LA_code == i]\n",
    "    \n",
    "    perc = v.Percentages.sum()\n",
    "    \n",
    "    atheist.loc[v.index, 'No religion_%'] = perc"
   ]
  },
  {
   "cell_type": "code",
   "execution_count": null,
   "id": "8d4815bb",
   "metadata": {},
   "outputs": [],
   "source": [
    "# Now we have...\n",
    "# e.g. Hartlepool, our total % of atheists is 36.79% and out of that number...\n",
    "# our non-response rate for atheists in this LA is 1.14%\n",
    "\n",
    "atheist.head()"
   ]
  },
  {
   "cell_type": "code",
   "execution_count": null,
   "id": "f0fdc0e1",
   "metadata": {},
   "outputs": [],
   "source": [
    "# In terms of my scatterplot, I want to subset my dataframe again so that I'm only looking at non-response for GI\n",
    "\n",
    "x = atheist[atheist.GI_categories == 'Not answered']"
   ]
  },
  {
   "cell_type": "code",
   "execution_count": null,
   "id": "acc57458",
   "metadata": {},
   "outputs": [],
   "source": [
    "# Create a scatterplot to visualize the relationship between non-response rates and the percentage of non-English speakers\n",
    "import matplotlib.pyplot as plt\n",
    "from sklearn.neighbors import NearestNeighbors\n",
    "import numpy as np\n",
    "\n",
    "plt.scatter(x['No religion_%'], x['Group_Percentages'])\n",
    "\n",
    "\n",
    "# # Find nearest neighbors\n",
    "# X = x[['Perc', 'Percentages']].values\n",
    "# nbrs = NearestNeighbors(n_neighbors=2).fit(X)\n",
    "# distances, indices = nbrs.kneighbors(X)\n",
    "# min_distance = 0.3\n",
    "\n",
    "# for i, row in x.iterrows():\n",
    "#     if distances[i][1] >= min_distance:\n",
    "#         plt.annotate(row['LA_name'], (row['Perc'], row['Percentages']), fontsize=8, alpha=0.6)\n",
    "\n",
    "plt.xlabel('Percentage of Atheists in given LA')\n",
    "plt.ylabel('Atheist non-response Rate')\n",
    "plt.title('Relationship between Percentage of Atheists in each LA and non-response rate')\n",
    "plt.show()"
   ]
  },
  {
   "cell_type": "code",
   "execution_count": null,
   "id": "1f1db26e",
   "metadata": {},
   "outputs": [],
   "source": [
    "from bokeh.transform import factor_cmap, factor_mark\n",
    "from bokeh.plotting import figure, show\n",
    "from bokeh.palettes import Category10\n",
    "\n",
    "tool = [\n",
    "    (\"index\", \"$index\"),\n",
    "    (\"(x,y)\", \"($x, $y)\"),\n",
    "    (\"name\",\"@LA_name\"),\n",
    "]\n",
    "# p1.legend.location = \"bottom_right\"\n",
    "# p1.legend.click_policy=\"hide\"\n",
    "# p1.legend.title = \"Regions\"\n",
    "\n",
    "# regions = df.region_x.unique()\n",
    "# urban = df.Urb_Rur.unique()\n",
    "\n",
    "\n",
    "p2 = figure(title=\"Relationship between % of Atheists in given LA, and their Non-response rate\", y_axis_label=\"Non-response Rate\", x_axis_label=\"Percentage of Atheists in given LA\", tooltips = tool)\n",
    "output_notebook()\n",
    "\n",
    "p2.scatter(\"No religion_%\", \"Group_Percentages\", source = x, fill_alpha = 0.5, size = 10)\n",
    "\n",
    "show(p2)"
   ]
  },
  {
   "cell_type": "markdown",
   "id": "c48fdf8b",
   "metadata": {},
   "source": [
    "### CHRISTIANS\n",
    "\n",
    "Let's now do the same for Christians."
   ]
  },
  {
   "cell_type": "code",
   "execution_count": null,
   "id": "c575c21e",
   "metadata": {},
   "outputs": [],
   "source": [
    "christian = rel1[(rel1.Religion_categories == 'Christian')]\n",
    "christian.head(10)"
   ]
  },
  {
   "cell_type": "code",
   "execution_count": null,
   "id": "965c04f3",
   "metadata": {},
   "outputs": [],
   "source": [
    "# Let's create a new column called 'Total_christian'\n",
    "# We will group the christian df by LA_code and then sum %s for each group\n",
    "# Then merge on the christian df on the LA_code column - new column created called..\n",
    "\n",
    "christian['Christian_%'] = ''\n",
    "\n",
    "for i in christian.LA_code.unique():\n",
    "    \n",
    "    v = christian[christian.LA_code == i]\n",
    "    \n",
    "    perc = v.Percentages.sum()\n",
    "    \n",
    "    christian.loc[v.index, 'Christian_%'] = perc"
   ]
  },
  {
   "cell_type": "code",
   "execution_count": null,
   "id": "ba2a2e4c",
   "metadata": {},
   "outputs": [],
   "source": [
    "christian.head()"
   ]
  },
  {
   "cell_type": "code",
   "execution_count": null,
   "id": "bb4a5827",
   "metadata": {},
   "outputs": [],
   "source": [
    "# Now we just want our non-response\n",
    "\n",
    "b = christian[christian.GI_categories == 'Not answered']"
   ]
  },
  {
   "cell_type": "code",
   "execution_count": null,
   "id": "e49983e7",
   "metadata": {},
   "outputs": [],
   "source": [
    "from bokeh.transform import factor_cmap, factor_mark\n",
    "from bokeh.plotting import figure, show\n",
    "from bokeh.palettes import Category10\n",
    "\n",
    "tool = [\n",
    "    (\"index\", \"$index\"),\n",
    "    (\"(x,y)\", \"($x, $y)\"),\n",
    "    (\"name\",\"@LA_name\"),\n",
    "]\n",
    "# p1.legend.location = \"bottom_right\"\n",
    "# p1.legend.click_policy=\"hide\"\n",
    "# p1.legend.title = \"Regions\"\n",
    "\n",
    "# regions = df.region_x.unique()\n",
    "# urban = df.Urb_Rur.unique()\n",
    "\n",
    "\n",
    "p2 = figure(title=\"Relationship between % of Christians in given LA, and their Non-response rate\", y_axis_label=\"Non-response Rate\", x_axis_label=\"Percentage of Christians in given LA\", tooltips = tool)\n",
    "output_notebook()\n",
    "\n",
    "p2.scatter(\"Christian_%\", \"Group_Percentages\", source = b, fill_alpha = 0.5, size = 10)\n",
    "\n",
    "show(p2)"
   ]
  },
  {
   "cell_type": "code",
   "execution_count": null,
   "id": "6bc53f1d",
   "metadata": {},
   "outputs": [],
   "source": [
    "from scipy.stats import pearsonr\n",
    "\n",
    "\n",
    "correlation, _ = pearsonr(b['Christian_%'], b.Group_Percentages)\n",
    "\n",
    "print(f\"Pearson correlation coefficient: {correlation:.2f}\")"
   ]
  },
  {
   "cell_type": "markdown",
   "id": "cabefafa",
   "metadata": {},
   "source": [
    "### MUSLIMS"
   ]
  },
  {
   "cell_type": "code",
   "execution_count": null,
   "id": "0cceaba6",
   "metadata": {},
   "outputs": [],
   "source": [
    "muslim = rel1[(rel1.Religion_categories == 'Muslim')]\n",
    "muslim"
   ]
  },
  {
   "cell_type": "code",
   "execution_count": null,
   "id": "43b1f640",
   "metadata": {},
   "outputs": [],
   "source": [
    "muslim['Muslim_%'] = ''\n",
    "\n",
    "for i in muslim.LA_code.unique():\n",
    "    \n",
    "    v = muslim[muslim.LA_code == i]\n",
    "    \n",
    "    perc = v.Percentages.sum()\n",
    "    \n",
    "    muslim.loc[v.index, 'Muslim_%'] = perc"
   ]
  },
  {
   "cell_type": "code",
   "execution_count": null,
   "id": "b86ed196",
   "metadata": {},
   "outputs": [],
   "source": [
    "c = muslim[muslim.GI_categories == 'Not answered']"
   ]
  },
  {
   "cell_type": "code",
   "execution_count": null,
   "id": "2c470b88",
   "metadata": {},
   "outputs": [],
   "source": [
    "\n",
    "\n",
    "# Create a scatterplot to visualize the relationship between non-response rates and the percentage of non-English speakers\n",
    "import matplotlib.pyplot as plt\n",
    "from sklearn.neighbors import NearestNeighbors\n",
    "import numpy as np\n",
    "\n",
    "plt.scatter(c['Muslim_%'], c['Group_Percentages'])\n",
    "\n",
    "\n",
    "# # Find nearest neighbors\n",
    "# X = x[['Perc', 'Percentages']].values\n",
    "# nbrs = NearestNeighbors(n_neighbors=2).fit(X)\n",
    "# distances, indices = nbrs.kneighbors(X)\n",
    "# min_distance = 0.3\n",
    "\n",
    "# for i, row in x.iterrows():\n",
    "#     if distances[i][1] >= min_distance:\n",
    "#         plt.annotate(row['LA_name'], (row['Perc'], row['Percentages']), fontsize=8, alpha=0.6)\n",
    "\n",
    "plt.xlabel('Percentage of Muslims in given LA')\n",
    "plt.ylabel('Non-response Rate')\n",
    "plt.title('Relationship between Non-response Rate and Percentage of Muslims')\n",
    "plt.show()"
   ]
  },
  {
   "cell_type": "code",
   "execution_count": null,
   "id": "ebbf840e",
   "metadata": {},
   "outputs": [],
   "source": [
    "from bokeh.transform import factor_cmap, factor_mark\n",
    "from bokeh.plotting import figure, show\n",
    "from bokeh.palettes import Category10\n",
    "\n",
    "tool = [\n",
    "    (\"index\", \"$index\"),\n",
    "    (\"(x,y)\", \"($x, $y)\"),\n",
    "    (\"name\",\"@LA_name\"),\n",
    "]\n",
    "# p1.legend.location = \"bottom_right\"\n",
    "# p1.legend.click_policy=\"hide\"\n",
    "# p1.legend.title = \"Regions\"\n",
    "\n",
    "# regions = df.region_x.unique()\n",
    "# urban = df.Urb_Rur.unique()\n",
    "\n",
    "\n",
    "p2 = figure(title=\"Relationship between % of Muslims in given LA, and their Non-response rate\", y_axis_label=\"Non-response Rate\", x_axis_label=\"Percentage of Muslims in given LA\", tooltips = tool)\n",
    "output_notebook()\n",
    "\n",
    "p2.scatter(\"Muslim_%\", \"Group_Percentages\", source = c, fill_alpha = 0.5, size = 10)\n",
    "\n",
    "show(p2)"
   ]
  },
  {
   "cell_type": "code",
   "execution_count": null,
   "id": "b5a497b4",
   "metadata": {},
   "outputs": [],
   "source": [
    "from scipy.stats import pearsonr\n",
    "\n",
    "\n",
    "correlation, _ = pearsonr(c['Muslim_%'], c.Group_Percentages)\n",
    "\n",
    "print(f\"Pearson correlation coefficient: {correlation:.2f}\")"
   ]
  },
  {
   "cell_type": "code",
   "execution_count": null,
   "id": "7b2d2cc3",
   "metadata": {},
   "outputs": [],
   "source": [
    "muslim.sort_values(by = 'Total_Muslim', ascending = False).head(6)"
   ]
  },
  {
   "cell_type": "code",
   "execution_count": null,
   "id": "b3a59587",
   "metadata": {},
   "outputs": [],
   "source": [
    "# What I'd need to do for each LA_name:\n",
    "\n",
    "#     find each unique religion_category e.g. Muslim\n",
    "    \n",
    "#     Sum up the observation number for each religious category e.g. Sum up number of Muslims\n",
    "    \n",
    "#     Divide that number by the total observation number (sum all religious categories)"
   ]
  },
  {
   "cell_type": "markdown",
   "id": "48c065fc",
   "metadata": {},
   "source": [
    "### OTHER RELIGION\n"
   ]
  },
  {
   "cell_type": "code",
   "execution_count": null,
   "id": "6487bd7b",
   "metadata": {},
   "outputs": [],
   "source": [
    "other = rel1[(rel1.Religion_categories == 'Other religion')]"
   ]
  },
  {
   "cell_type": "code",
   "execution_count": null,
   "id": "c08501a8",
   "metadata": {},
   "outputs": [],
   "source": [
    "other['Other_%'] = ''\n",
    "\n",
    "for i in other.LA_code.unique():\n",
    "    \n",
    "    v = other[other.LA_code == i]\n",
    "    \n",
    "    perc = v.Percentages.sum()\n",
    "    \n",
    "    other.loc[v.index, 'Other_%'] = perc"
   ]
  },
  {
   "cell_type": "code",
   "execution_count": null,
   "id": "810ad4f4",
   "metadata": {},
   "outputs": [],
   "source": [
    "d = other[other.GI_categories == 'Not answered']"
   ]
  },
  {
   "cell_type": "code",
   "execution_count": null,
   "id": "2f94e47f",
   "metadata": {},
   "outputs": [],
   "source": [
    "from bokeh.transform import factor_cmap, factor_mark\n",
    "from bokeh.plotting import figure, show\n",
    "from bokeh.palettes import Category10\n",
    "\n",
    "tool = [\n",
    "    (\"index\", \"$index\"),\n",
    "    (\"(x,y)\", \"($x, $y)\"),\n",
    "    (\"name\",\"@LA_name\"),\n",
    "]\n",
    "# p1.legend.location = \"bottom_right\"\n",
    "# p1.legend.click_policy=\"hide\"\n",
    "# p1.legend.title = \"Regions\"\n",
    "\n",
    "# regions = df.region_x.unique()\n",
    "# urban = df.Urb_Rur.unique()\n",
    "\n",
    "\n",
    "p2 = figure(title=\"Relationship between % of Other religions in given LA, and their Non-response rate\", y_axis_label=\"Non-response Rate\", x_axis_label=\"Percentage of Other religions in given LA\", tooltips = tool)\n",
    "output_notebook()\n",
    "\n",
    "p2.scatter(\"Other_%\", \"Group_Percentages\", source = d, fill_alpha = 0.5, size = 10)\n",
    "\n",
    "show(p2)"
   ]
  },
  {
   "cell_type": "code",
   "execution_count": null,
   "id": "0a7babe4",
   "metadata": {},
   "outputs": [],
   "source": [
    "from scipy.stats import pearsonr\n",
    "\n",
    "\n",
    "correlation, _ = pearsonr(d['Other_%'], d.Group_Percentages)\n",
    "\n",
    "print(f\"Pearson correlation coefficient: {correlation:.2f}\")"
   ]
  },
  {
   "cell_type": "code",
   "execution_count": null,
   "id": "3c60bd38",
   "metadata": {},
   "outputs": [],
   "source": [
    "from scipy.stats import spearmanr\n",
    "\n",
    "correlation_coefficient, p_value = spearmanr(d['Other_%'], d.Group_Percentages)\n",
    "\n",
    "print(f\"Spearman's rank correlation coefficient: {correlation_coefficient}\")\n",
    "print(f\"P-value: {p_value}\")"
   ]
  },
  {
   "cell_type": "markdown",
   "id": "6def6a43",
   "metadata": {},
   "source": [
    "### BUDDHIST"
   ]
  },
  {
   "cell_type": "code",
   "execution_count": null,
   "id": "536250e1",
   "metadata": {},
   "outputs": [],
   "source": [
    "buddhist = rel[(rel.Religion_categories == 'Buddhist')]"
   ]
  },
  {
   "cell_type": "code",
   "execution_count": null,
   "id": "f0eecb10",
   "metadata": {},
   "outputs": [],
   "source": [
    "buddhist = buddhist.merge(other.groupby('LA_code')['Percentages'].sum().reset_index(name='Total_Buddhist'), on='LA_code')"
   ]
  },
  {
   "cell_type": "code",
   "execution_count": null,
   "id": "c460e5d1",
   "metadata": {},
   "outputs": [],
   "source": [
    "e = buddhist[buddhist.GI_categories == 'Not answered']"
   ]
  },
  {
   "cell_type": "code",
   "execution_count": null,
   "id": "8b534fa5",
   "metadata": {},
   "outputs": [],
   "source": [
    "from bokeh.transform import factor_cmap, factor_mark\n",
    "from bokeh.plotting import figure, show\n",
    "from bokeh.palettes import Category10\n",
    "\n",
    "tool = [\n",
    "    (\"index\", \"$index\"),\n",
    "    (\"(x,y)\", \"($x, $y)\"),\n",
    "    (\"name\",\"@LA_name\"),\n",
    "]\n",
    "# p1.legend.location = \"bottom_right\"\n",
    "# p1.legend.click_policy=\"hide\"\n",
    "# p1.legend.title = \"Regions\"\n",
    "\n",
    "# regions = df.region_x.unique()\n",
    "# urban = df.Urb_Rur.unique()\n",
    "\n",
    "\n",
    "p2 = figure(title=\"Relationship between % of Buddhists in given LA, and their Non-response rate\", y_axis_label=\"Non-response Rate\", x_axis_label=\"Percentage of Buddhists in given LA\", tooltips = tool)\n",
    "output_notebook()\n",
    "\n",
    "p2.scatter(\"Buddhist_%\", \"Group_Percentages\", source = e, fill_alpha = 0.5, size = 10)\n",
    "\n",
    "show(p2)"
   ]
  },
  {
   "cell_type": "code",
   "execution_count": null,
   "id": "1e81f098",
   "metadata": {},
   "outputs": [],
   "source": [
    "from scipy.stats import pearsonr\n",
    "\n",
    "\n",
    "correlation, _ = pearsonr(e['Buddhist_%'], e.Group_Percentages)\n",
    "\n",
    "print(f\"Pearson correlation coefficient: {correlation:.2f}\")"
   ]
  },
  {
   "cell_type": "code",
   "execution_count": null,
   "id": "68c962cf",
   "metadata": {},
   "outputs": [],
   "source": [
    "from scipy.stats import spearmanr\n",
    "\n",
    "correlation_coefficient, p_value = spearmanr(e['Buddhist_%'], e.Group_Percentages)\n",
    "\n",
    "print(f\"Spearman's rank correlation coefficient: {correlation_coefficient}\")\n",
    "print(f\"P-value: {p_value}\")"
   ]
  },
  {
   "cell_type": "markdown",
   "id": "a2aefc84",
   "metadata": {},
   "source": [
    "### JEWISH\n"
   ]
  },
  {
   "cell_type": "code",
   "execution_count": null,
   "id": "68cc45b6",
   "metadata": {},
   "outputs": [],
   "source": [
    "jewish = rel[(rel.Religion_categories == 'Jewish')]"
   ]
  },
  {
   "cell_type": "code",
   "execution_count": null,
   "id": "426fdf26",
   "metadata": {},
   "outputs": [],
   "source": [
    "jewish = jewish.merge(other.groupby('LA_code')['Percentages'].sum().reset_index(name='Total_Jewish'), on='LA_code')"
   ]
  },
  {
   "cell_type": "code",
   "execution_count": null,
   "id": "4435b0f7",
   "metadata": {},
   "outputs": [],
   "source": [
    "f = jewish[jewish.GI_categories == 'Not answered']"
   ]
  },
  {
   "cell_type": "code",
   "execution_count": null,
   "id": "141945d0",
   "metadata": {
    "scrolled": false
   },
   "outputs": [],
   "source": [
    "from bokeh.transform import factor_cmap, factor_mark\n",
    "from bokeh.plotting import figure, show\n",
    "from bokeh.palettes import Category10\n",
    "\n",
    "tool = [\n",
    "    (\"index\", \"$index\"),\n",
    "    (\"(x,y)\", \"($x, $y)\"),\n",
    "    (\"name\",\"@LA_name\"),\n",
    "]\n",
    "# p1.legend.location = \"bottom_right\"\n",
    "# p1.legend.click_policy=\"hide\"\n",
    "# p1.legend.title = \"Regions\"\n",
    "\n",
    "# regions = df.region_x.unique()\n",
    "# urban = df.Urb_Rur.unique()\n",
    "\n",
    "\n",
    "p2 = figure(title=\"Relationship between % of Jewish people in given LA, and their Non-response rate\", y_axis_label=\"Non-response Rate\", x_axis_label=\"Percentage of Jewsish people in given LA\", tooltips = tool)\n",
    "output_notebook()\n",
    "\n",
    "p2.scatter(\"Jewish_%\", \"Group_Percentages\", source = f, fill_alpha = 0.5, size = 10)\n",
    "\n",
    "show(p2)"
   ]
  },
  {
   "cell_type": "code",
   "execution_count": null,
   "id": "93ab6386",
   "metadata": {},
   "outputs": [],
   "source": [
    "from scipy.stats import pearsonr\n",
    "\n",
    "\n",
    "correlation, _ = pearsonr(f['Jewish_%'], f.Group_Percentages)\n",
    "\n",
    "print(f\"Pearson correlation coefficient: {correlation:.2f}\")"
   ]
  },
  {
   "cell_type": "code",
   "execution_count": null,
   "id": "89600004",
   "metadata": {},
   "outputs": [],
   "source": [
    "from scipy.stats import spearmanr\n",
    "\n",
    "correlation_coefficient, p_value = spearmanr(f['Jewish_%'], f.Group_Percentages)\n",
    "\n",
    "print(f\"Spearman's rank correlation coefficient: {correlation_coefficient}\")\n",
    "print(f\"P-value: {p_value}\")"
   ]
  },
  {
   "cell_type": "markdown",
   "id": "7284d536",
   "metadata": {},
   "source": [
    "### HINDU\n"
   ]
  },
  {
   "cell_type": "code",
   "execution_count": null,
   "id": "dfca8f0c",
   "metadata": {},
   "outputs": [],
   "source": [
    "hindus = rel1[(rel1.Religion_categories == 'Hindu')]"
   ]
  },
  {
   "cell_type": "code",
   "execution_count": null,
   "id": "15959c2f",
   "metadata": {},
   "outputs": [],
   "source": [
    "hindus = hindus.merge(other.groupby('LA_code')['Percentages'].sum().reset_index(name='Total_Hindu'), on='LA_code')"
   ]
  },
  {
   "cell_type": "code",
   "execution_count": null,
   "id": "4971a1d8",
   "metadata": {},
   "outputs": [],
   "source": [
    "g = hindus[hindus.GI_categories == 'Not answered']"
   ]
  },
  {
   "cell_type": "code",
   "execution_count": null,
   "id": "14c64283",
   "metadata": {
    "scrolled": false
   },
   "outputs": [],
   "source": [
    "from bokeh.transform import factor_cmap, factor_mark\n",
    "from bokeh.plotting import figure, show\n",
    "from bokeh.palettes import Category10\n",
    "\n",
    "tool = [\n",
    "    (\"index\", \"$index\"),\n",
    "    (\"(x,y)\", \"($x, $y)\"),\n",
    "    (\"name\",\"@LA_name\"),\n",
    "]\n",
    "# p1.legend.location = \"bottom_right\"\n",
    "# p1.legend.click_policy=\"hide\"\n",
    "# p1.legend.title = \"Regions\"\n",
    "\n",
    "# regions = df.region_x.unique()\n",
    "# urban = df.Urb_Rur.unique()\n",
    "\n",
    "\n",
    "p2 = figure(title=\"Relationship between % of Hindus in given LA, and their Non-response rate\", y_axis_label=\"Non-response Rate\", x_axis_label=\"Percentage of Hindus in given LA\", tooltips = tool)\n",
    "output_notebook()\n",
    "\n",
    "p2.scatter(\"Hindu_%\", \"Group_Percentages\", source = g, fill_alpha = 0.5, size = 10)\n",
    "\n",
    "show(p2)"
   ]
  },
  {
   "cell_type": "code",
   "execution_count": null,
   "id": "40168555",
   "metadata": {},
   "outputs": [],
   "source": [
    "from scipy.stats import spearmanr\n",
    "\n",
    "correlation_coefficient, p_value = spearmanr(g[\"Hindu_%\"], g[\"Group_Percentages\"])\n",
    "\n",
    "print(f\"Spearman's rank correlation coefficient: {correlation_coefficient}\")\n",
    "print(f\"P-value: {p_value}\")"
   ]
  },
  {
   "cell_type": "markdown",
   "id": "f982d84c",
   "metadata": {},
   "source": [
    "### SIKH"
   ]
  },
  {
   "cell_type": "code",
   "execution_count": null,
   "id": "2e53a3df",
   "metadata": {},
   "outputs": [],
   "source": [
    "sikh = rel1[(rel1.Religion_categories == 'Sikh')]"
   ]
  },
  {
   "cell_type": "code",
   "execution_count": null,
   "id": "a0a6a06c",
   "metadata": {},
   "outputs": [],
   "source": [
    "sikh = sikh.merge(other.groupby('LA_code')['Percentages'].sum().reset_index(name='Total_Sikh'), on='LA_code')"
   ]
  },
  {
   "cell_type": "code",
   "execution_count": null,
   "id": "2a8c3ca2",
   "metadata": {},
   "outputs": [],
   "source": [
    "h = sikh[sikh.GI_categories == 'Not answered']"
   ]
  },
  {
   "cell_type": "code",
   "execution_count": null,
   "id": "4af75f8d",
   "metadata": {},
   "outputs": [],
   "source": [
    "from bokeh.transform import factor_cmap, factor_mark\n",
    "from bokeh.plotting import figure, show\n",
    "from bokeh.palettes import Category10\n",
    "\n",
    "tool = [\n",
    "    (\"index\", \"$index\"),\n",
    "    (\"(x,y)\", \"($x, $y)\"),\n",
    "    (\"name\",\"@LA_name\"),\n",
    "]\n",
    "# p1.legend.location = \"bottom_right\"\n",
    "# p1.legend.click_policy=\"hide\"\n",
    "# p1.legend.title = \"Regions\"\n",
    "\n",
    "# regions = df.region_x.unique()\n",
    "# urban = df.Urb_Rur.unique()\n",
    "\n",
    "\n",
    "p2 = figure(title=\"Relationship between % of Sikhs in given LA, and their Non-response rate\", y_axis_label=\"Non-response Rate\", x_axis_label=\"Percentage of Sikhs in given LA\", tooltips = tool)\n",
    "output_notebook()\n",
    "\n",
    "p2.scatter(\"Sikh_%\", \"Group_Percentages\", source = h, fill_alpha = 0.5, size = 10)\n",
    "\n",
    "show(p2)"
   ]
  },
  {
   "cell_type": "code",
   "execution_count": null,
   "id": "da5fa5b6",
   "metadata": {},
   "outputs": [],
   "source": [
    "from sklearn.preprocessing import MinMaxScaler\n",
    "\n",
    "scaler = MinMaxScaler()\n",
    "\n",
    "o_norm = d.copy()\n",
    "\n",
    "o_norm[['Other_%', 'Group_Percentages']] = scaler.fit_transform(o_norm[['Other_%', 'Group_Percentages']])"
   ]
  },
  {
   "cell_type": "code",
   "execution_count": null,
   "id": "898bd84a",
   "metadata": {},
   "outputs": [],
   "source": [
    "# List of DataFrames and their corresponding suffixes\n",
    "dataframes = [(x, '_Atheist'), (b, '_Christian'), (c, '_Muslim'), (d, '_Other'), (e, '_Buddhist'), (f, '_Jewish'), (g, '_Hindu'), (h, '_Sikh')]\n",
    "\n",
    "# Merge the DataFrames one by one\n",
    "merged_df2 = dataframes[0][0]  # Initialize with the first DataFrame\n",
    "for df, suffix in dataframes[1:]:\n",
    "    merged_df2 = merged_df22.merge(df, on=['LA_code', 'LA_name', 'GI_code', 'GI_categories'], suffixes=('', suffix))\n",
    "    merged_df2 = merged_df.rename(columns={'Total_counts': f'Total_counts{suffix}', 'Total': f'Total{suffix}'})"
   ]
  },
  {
   "cell_type": "code",
   "execution_count": null,
   "id": "8d22ecd3",
   "metadata": {},
   "outputs": [],
   "source": [
    "merged_df2 = merged_df2.rename(columns = {'Group_Percentages': 'Group_Percentages_No religion'})"
   ]
  },
  {
   "cell_type": "markdown",
   "id": "45adb3b1",
   "metadata": {},
   "source": [
    "# Outputs"
   ]
  },
  {
   "cell_type": "code",
   "execution_count": null,
   "id": "c67bd758",
   "metadata": {},
   "outputs": [],
   "source": [
    "# Dfs for scatterplots\n",
    "\n",
    "non_response_by_religion.to_csv('/Users/loucap/Documents/GitWork/InteractiveGender/Data/nr_totals_GI.csv', index = False)\n",
    "total_by_religion.to_csv('/Users/loucap/Documents/GitWork/InteractiveGender/Data/gen_totals_GI.csv', index = False)\n",
    "merged_df.to_csv('/Users/loucap/Documents/GitWork/InteractiveGender/Data/cleaned_lang_GI.csv', index = False)\n",
    "rural_df.to_csv('/Users/loucap/Documents/GitWork/InteractiveGender/Data/urban_rural_GI.csv', index = False)\n",
    "merged_df2.to_csv('/Users/loucap/Documents/GitWork/InteractiveGender/Data/cleaned_religion_GI.csv')\n"
   ]
  },
  {
   "cell_type": "markdown",
   "id": "0959273f",
   "metadata": {},
   "source": [
    "## Ignore beyond..."
   ]
  },
  {
   "cell_type": "code",
   "execution_count": null,
   "id": "0366697e",
   "metadata": {},
   "outputs": [],
   "source": [
    "lang.sort_values(by = ['LA_code'], ascending = [True])"
   ]
  },
  {
   "cell_type": "code",
   "execution_count": null,
   "id": "56722bc4",
   "metadata": {},
   "outputs": [],
   "source": [
    "lang[(lang['LA_name'] == 'Merthyr Tydfil') & (lang['Non-English'] == True)]"
   ]
  },
  {
   "cell_type": "code",
   "execution_count": null,
   "id": "ea0ec0e5",
   "metadata": {},
   "outputs": [],
   "source": [
    "b = lang.sort_values(by = ['LA_code', 'Percentages'], ascending = [True,False])"
   ]
  },
  {
   "cell_type": "code",
   "execution_count": null,
   "id": "c29c83a6",
   "metadata": {},
   "outputs": [],
   "source": [
    "b[b['Non-English'] == True]"
   ]
  },
  {
   "cell_type": "code",
   "execution_count": null,
   "id": "bbab8467",
   "metadata": {},
   "outputs": [],
   "source": [
    "lang['Non-English'] = (lang['ML_code'] != 1) & (lang['ML_code'] != -8)"
   ]
  },
  {
   "cell_type": "code",
   "execution_count": null,
   "id": "54e08c9c",
   "metadata": {},
   "outputs": [],
   "source": [
    "non_english_pct = lang.groupby(['LA_code', 'LA_name']).agg({'Non-English': 'mean'}).reset_index()"
   ]
  },
  {
   "cell_type": "code",
   "execution_count": null,
   "id": "d7ed2c21",
   "metadata": {},
   "outputs": [],
   "source": [
    "non_english_pct"
   ]
  },
  {
   "cell_type": "code",
   "execution_count": null,
   "id": "187be902",
   "metadata": {},
   "outputs": [],
   "source": [
    "lang.groupby(['LA_code', 'LA_name']).agg({'Non-English': sum})"
   ]
  },
  {
   "cell_type": "code",
   "execution_count": null,
   "id": "22940116",
   "metadata": {},
   "outputs": [],
   "source": [
    "non_english_pct"
   ]
  },
  {
   "cell_type": "code",
   "execution_count": null,
   "id": "6b6922fd",
   "metadata": {},
   "outputs": [],
   "source": [
    "lang"
   ]
  },
  {
   "cell_type": "code",
   "execution_count": null,
   "id": "12e584fb",
   "metadata": {},
   "outputs": [],
   "source": [
    "# Let's try and merge both datasets - GI (df) and LANG (lang)\n",
    "\n",
    "# Merge the data\n",
    "# merged_df = pd.merge(not_ans, lang, on='LA_code')\n",
    "\n",
    "# pivot_df = merged_df.pivot_table(values='Observation_y', index='LA_code', columns='ML_categories', aggfunc='sum')\n",
    "\n",
    "# # Let's get rid of Percentages column\n",
    "# merged_df = merged_df.drop('Percentages', axis = 1)\n",
    "\n",
    "# # Snapshot of the data\n",
    "# merged_df.head(10)"
   ]
  },
  {
   "cell_type": "code",
   "execution_count": null,
   "id": "e259e7e4",
   "metadata": {},
   "outputs": [],
   "source": [
    "# la_names = b.LA_name.unique().tolist()"
   ]
  },
  {
   "cell_type": "code",
   "execution_count": null,
   "id": "b778c213",
   "metadata": {},
   "outputs": [],
   "source": [
    "# merged_df.sort_values(by = 'Observation_y', ascending = False).head(50)"
   ]
  },
  {
   "cell_type": "code",
   "execution_count": null,
   "id": "a6926ef2",
   "metadata": {},
   "outputs": [],
   "source": [
    "# Out of interest, let's sort the data by Observation_y for each LA_code\n",
    "\n",
    "# c = []\n",
    "\n",
    "# for i in merged_df.LA_name_x.unique():\n",
    "#     b = merged_df[merged_df.LA_name_x == i].sort_values(by='Observation_y', ascending = False)\n",
    "    \n",
    "# b"
   ]
  },
  {
   "cell_type": "code",
   "execution_count": null,
   "id": "84ad38ad",
   "metadata": {},
   "outputs": [],
   "source": [
    "# with pd.option_context('display.max_rows', None, 'display.max_columns', None):  # more options can be specified also\n",
    "# display(merged_df.sort_values(by = ['LA_code', 'Observation_y'], ascending = [True,False]))"
   ]
  },
  {
   "cell_type": "code",
   "execution_count": null,
   "id": "5e90d9a7",
   "metadata": {},
   "outputs": [],
   "source": [
    "# stockport = merged_df[merged_df.LA_name_x == 'Stockport']\n",
    "\n",
    "# grouped = stockport.groupby(['ML_categories'])"
   ]
  },
  {
   "cell_type": "code",
   "execution_count": null,
   "id": "817da880",
   "metadata": {},
   "outputs": [],
   "source": [
    "# stockport"
   ]
  },
  {
   "cell_type": "code",
   "execution_count": null,
   "id": "31bef35f",
   "metadata": {},
   "outputs": [],
   "source": [
    "# stockport['non_response_rate'] = stockport['Observation_y'] / stockport['Observation_y'].sum() * 100"
   ]
  },
  {
   "cell_type": "code",
   "execution_count": null,
   "id": "a3ed5182",
   "metadata": {},
   "outputs": [],
   "source": [
    "# non_response_rate"
   ]
  },
  {
   "cell_type": "code",
   "execution_count": null,
   "id": "2b14f97e",
   "metadata": {},
   "outputs": [],
   "source": [
    "# stockport.sort_values(by = ['non_response_rate'], ascending = False)"
   ]
  },
  {
   "cell_type": "code",
   "execution_count": null,
   "id": "b4d62148",
   "metadata": {},
   "outputs": [],
   "source": [
    "# stockport[2:300].plot(kind = 'scatter', x = 'ML_code', y = 'non_response_rate')"
   ]
  },
  {
   "cell_type": "code",
   "execution_count": null,
   "id": "d62c6cf6",
   "metadata": {},
   "outputs": [],
   "source": [
    "# Group the data by language category\n",
    "\n",
    "# grouped_df = merged_df.groupby(['ML_categories'])\n",
    "\n",
    "# grouped_df.head()"
   ]
  },
  {
   "cell_type": "code",
   "execution_count": null,
   "id": "8e629086",
   "metadata": {},
   "outputs": [],
   "source": [
    "# grouped_df.tail()[:2]"
   ]
  },
  {
   "cell_type": "markdown",
   "id": "08a48b21",
   "metadata": {},
   "source": [
    "# Other interesting stuff..."
   ]
  },
  {
   "cell_type": "markdown",
   "id": "7203e3ce",
   "metadata": {},
   "source": [
    "## Percentage-wise"
   ]
  },
  {
   "cell_type": "code",
   "execution_count": null,
   "id": "0af47b94",
   "metadata": {},
   "outputs": [],
   "source": [
    "df['Region'] = ''\n",
    "\n",
    "regions = {\n",
    "    'East':'Babergh,Basildon,Bedford,Braintree,Breckland,Broadland,Broxbourne,Cambridge,Castle Point,Central Bedfordshire,Chelmsford,Colchester,Dacorum,East Cambridgeshire,East Hertfordshire,East Suffolk,Epping Forest,Fenland,Great Yarmouth,Harlow,Hertsmere,Huntingdonshire,Ipswich,Kings Lynn and West Norfolk,Maldon,Mid Suffolk,North Hertfordshire,North Norfolk,Norwich,Peterborough,Rochford,South Cambridgeshire,South Norfolk,Southend-on-Sea,St. Albans,Stevenage,Tendring,Three Rivers,Thurrock,Uttlesford,West Suffolk'.split(\",\"),\n",
    "    'East Midlands':'Amber Valley,Ashfield,Bassetlaw,Blaby,Bolsover,Boston,Broxtowe,Charnwood,Chesterfield,Derby,Derbyshire Dales,East Lindsey,Erewash,Gedling,Harborough,High Peak,Hinckley and Bosworth,Leicester,Lincoln,Mansfield,Melton,Newark and Sherwood,North East Derbyshire,North Kesteven,North West Leicestershire,North Northamptonshire,Nottingham,Oadby and Wigston,Rushcliffe,Rutland,South Derbyshire,South Holland,South Kesteven,West Lindsey,West Northamptonshire'.split(\",\"),\n",
    "    'North East':'County Durham,Darlington,Gateshead,Hartlepool,Middlesbrough,Newcastle upon Tyne,North Tyneside,Northumberland,Redcar and Cleveland,South Tyneside,Stockton-on-Tees,Sunderland'.split(\",\"),\n",
    "    'North West':'Allerdale,Barrow-in-Furness,Blackburn with Darwen,Blackpool,Bolton,Burnley,Bury,Carlisle,Cheshire East,Cheshire West and Chester,Chorley,Copeland,Eden,Fylde,Halton,Hyndburn,Knowsley,Lancaster,Liverpool,Manchester,Oldham,Pendle,Preston,Ribble Valley,Rochdale,Rossendale,Salford,Sefton,South Lakeland,South Ribble,St. Helens,Stockport,Tameside,Trafford,Warrington,West Lancashire,Wigan,Wirral,Wyre'.split(\",\"),\n",
    "    'South East':'Folkestone and Hythe,Adur,Arun,Ashford,Basingstoke and Deane,Bracknell Forest,Brighton and Hove,Buckinghamshire,Canterbury,Cherwell,Chichester,Crawley,Dartford,Dover,East Hampshire,Eastbourne,Eastleigh,Elmbridge,Epsom and Ewell,Fareham,Folkestone & Hythe,Gosport,Gravesham,Guildford,Hart,Hastings,Havant,Horsham,Isle of Wight,Lewes,Maidstone,Medway,Mid Sussex,Milton Keynes,Mole Valley,New Forest,Oxford,Portsmouth,Reading,Reigate and Banstead,Rother,Runnymede,Rushmoor,Sevenoaks,Shepway,Slough,South Oxfordshire,Southampton,Spelthorne,Surrey Heath,Swale,Tandridge,Test Valley,Thanet,Tonbridge and Malling,Tunbridge Wells,Vale of White Horse,Waverley,Wealden,West Berkshire,West Oxfordshire,Winchester,Windsor and Maidenhead,Woking,Wokingham,Worthing'.split(\",\"),\n",
    "    'South West':'Bath and North East Somerset,Bournemouth,Christchurch and Poole,Bristol,Cheltenham,Cornwall,Cotswold,Dorset,East Devon,Exeter,Forest of Dean,Gloucester,Mendip,Mid Devon,North Devon,North Somerset,Plymouth,Sedgemoor,Somerset West and Taunton,South Gloucestershire,South Hams,South Somerset,Stroud,Swindon,Teignbridge,Tewkesbury,Torbay,Torridge,West Devon,Wiltshire,Isles of Scilly'.split(\",\"),\n",
    "    'West Midlands':'Birmingham,Bromsgrove,Cannock Chase,Coventry,Dudley,East Staffordshire,Herefordshire,Lichfield,Malvern Hills,Newcastle-under-Lyme,North Warwickshire,Nuneaton and Bedworth,Redditch,Rugby,Sandwell,Shropshire,Solihull,South Staffordshire,Stafford,Staffordshire Moorlands,Stoke-on-Trent,Stratford-on-Avon,Tamworth,Telford and Wrekin,Walsall,Warwick,Wolverhampton,Worcester,Wychavon,Wyre Forest'.split(\",\"),\n",
    "    'Yorkshire and the Humber':'Kingston upon Hull,Barnsley,Bradford,Calderdale,Craven,Doncaster,East Riding of Yorkshire,Hambleton,Harrogate,Kingston Upon Hull,Kirklees,Leeds,North East Lincolnshire,North Lincolnshire,Richmondshire,Rotherham,Ryedale,Scarborough,Selby,Sheffield,Wakefield,York'.split(\",\"),\n",
    "    'London':'St Albans,Brentwood,Watford,Welwyn Hatfield,Luton,City of London,Westminster,Barking and Dagenham,Barnet,Bexley,Brent,Bromley,Camden,Croydon,Ealing,Enfield,Greenwich,Hackney,Hammersmith and Fulham,Haringey,Harrow,Havering,Hillingdon,Hounslow,Islington,Kensington and Chelsea,Kingston upon Thames,Lambeth,Lewisham,Merton,Newham,Redbridge,Richmond upon Thames,Southwark,Sutton,Tower Hamlets,Waltham Forest,Wandsworth'.split(\",\"),\n",
    "    'Wales':'Isle of Anglesey,Gwynedd,Conwy,Denbighshire,Flintshire,Wrexham,Ceredigion,Pembrokeshire,Carmarthenshire,Swansea,Neath Port Talbot,Bridgend,Vale of Glamorgan,Cardiff,Rhondda Cynon Taf,Caerphilly,Blaenau Gwent,Torfaen,Monmouthshire,Newport,Powys,Merthyr Tydfil'.split(\",\")} \n",
    "\n",
    "\n",
    "df['Region'] = ''\n",
    "\n",
    "for region, locations in regions.items():\n",
    "    for location in locations:\n",
    "        res = df[df['LA_name'] == location]\n",
    "        df.loc[res.index, 'Region'] = region\n",
    "        \n",
    "index = df[df.LA_name == \"Bournemouth, Christchurch and Poole\"].index\n",
    "        \n",
    "for i in index:\n",
    "    df.Region[i] = 'South West'\n",
    "#         row['Region'] = 'South West'\n",
    "# #     if row['LA_name'] == \"King's Lynn and Werst Norfolk\":\n",
    "# #         row['Region'] == 'East'\n",
    "\n",
    "index = df[df.LA_name == \"King's Lynn and West Norfolk\"].index\n",
    "\n",
    "for i in index:\n",
    "    df.Region[i] = 'East'\n",
    "\n",
    "# for row in df:\n",
    "#     print(row)"
   ]
  },
  {
   "cell_type": "code",
   "execution_count": null,
   "id": "44af53ae",
   "metadata": {},
   "outputs": [],
   "source": [
    "df = pd.read_csv('/Users/loucap/Documents/GitWork/InteractiveGender/Data/gi_renamed.csv')"
   ]
  },
  {
   "cell_type": "code",
   "execution_count": null,
   "id": "8311f85d",
   "metadata": {},
   "outputs": [],
   "source": [
    "df.GI_categories.unique()"
   ]
  },
  {
   "cell_type": "code",
   "execution_count": null,
   "id": "a7722d51",
   "metadata": {},
   "outputs": [],
   "source": [
    "# No_spec = df[df['GI_categories'] == 'Gender identity different from sex registered at birth but no specific identity given'].sort_values(by = 'Percentages', ascending = False)"
   ]
  },
  {
   "cell_type": "code",
   "execution_count": null,
   "id": "e05a03eb",
   "metadata": {},
   "outputs": [],
   "source": [
    "# No_spec.tail(10)"
   ]
  },
  {
   "cell_type": "markdown",
   "id": "36ec1f65",
   "metadata": {},
   "source": [
    "### Trans-men top LAs"
   ]
  },
  {
   "cell_type": "code",
   "execution_count": null,
   "id": "057c883e",
   "metadata": {},
   "outputs": [],
   "source": [
    "# lang.head()"
   ]
  },
  {
   "cell_type": "code",
   "execution_count": null,
   "id": "daa88dc0",
   "metadata": {},
   "outputs": [],
   "source": [
    "# trans_men = df[df['GI_categories'] == 'Trans man'].sort_values(by = 'Percentages', ascending = False)"
   ]
  },
  {
   "cell_type": "code",
   "execution_count": null,
   "id": "eb538023",
   "metadata": {},
   "outputs": [],
   "source": [
    "# trans_men.head(10)"
   ]
  },
  {
   "cell_type": "code",
   "execution_count": null,
   "id": "66243eff",
   "metadata": {},
   "outputs": [],
   "source": [
    "# trans_men.tail(10)"
   ]
  },
  {
   "cell_type": "markdown",
   "id": "7b3998a9",
   "metadata": {},
   "source": [
    "### Trans-women top LAs"
   ]
  },
  {
   "cell_type": "code",
   "execution_count": null,
   "id": "2447894a",
   "metadata": {},
   "outputs": [],
   "source": [
    "# trans_women = df[df['GI_categories'] == 'Trans woman'].sort_values(by = 'Percentages', ascending = False)\n",
    "\n",
    "# trans_women.head(10)"
   ]
  },
  {
   "cell_type": "code",
   "execution_count": null,
   "id": "985fb9ad",
   "metadata": {},
   "outputs": [],
   "source": [
    "# trans_women.tail(10)"
   ]
  },
  {
   "cell_type": "code",
   "execution_count": null,
   "id": "899219e7",
   "metadata": {},
   "outputs": [],
   "source": [
    "# df.Region.value_counts()"
   ]
  },
  {
   "cell_type": "code",
   "execution_count": null,
   "id": "271ee382",
   "metadata": {},
   "outputs": [],
   "source": [
    "### Gender"
   ]
  },
  {
   "cell_type": "code",
   "execution_count": null,
   "id": "5f156957",
   "metadata": {},
   "outputs": [],
   "source": [
    "# non_eng = lang.ML_code.unique()[2:].tolist()\n",
    "\n",
    "# li = []\n",
    "\n",
    "\n",
    "# for i in lang.ML_code:\n",
    "#     if i in non_eng:\n",
    "#         i = 2\n",
    "#         li.append(i)\n",
    "        \n",
    "# li"
   ]
  },
  {
   "cell_type": "code",
   "execution_count": null,
   "id": "7ec0a38b",
   "metadata": {},
   "outputs": [],
   "source": [
    "# # Aggregate non-English categories\n",
    "\n",
    "# non_eng2 = lang.ML_categories.unique()[2:].tolist()"
   ]
  },
  {
   "cell_type": "code",
   "execution_count": null,
   "id": "7d4158c7",
   "metadata": {},
   "outputs": [],
   "source": [
    "# lang.ML_code = [2 if i in non_eng else i for i in lang.ML_code]\n",
    "# lang.ML_categories = ['Non-English' if i in non_eng2 else i for i in lang.ML_categories]"
   ]
  },
  {
   "cell_type": "code",
   "execution_count": null,
   "id": "0dbca224",
   "metadata": {},
   "outputs": [],
   "source": [
    "# lang.ML_categories.value_counts()"
   ]
  },
  {
   "cell_type": "code",
   "execution_count": null,
   "id": "556e841d",
   "metadata": {},
   "outputs": [],
   "source": []
  }
 ],
 "metadata": {
  "kernelspec": {
   "display_name": "Python 3 (ipykernel)",
   "language": "python",
   "name": "python3"
  },
  "language_info": {
   "codemirror_mode": {
    "name": "ipython",
    "version": 3
   },
   "file_extension": ".py",
   "mimetype": "text/x-python",
   "name": "python",
   "nbconvert_exporter": "python",
   "pygments_lexer": "ipython3",
   "version": "3.11.3"
  },
  "toc": {
   "base_numbering": 1,
   "nav_menu": {},
   "number_sections": true,
   "sideBar": true,
   "skip_h1_title": false,
   "title_cell": "Table of Contents",
   "title_sidebar": "Contents",
   "toc_cell": true,
   "toc_position": {},
   "toc_section_display": true,
   "toc_window_display": true
  },
  "varInspector": {
   "cols": {
    "lenName": 16,
    "lenType": 16,
    "lenVar": 40
   },
   "kernels_config": {
    "python": {
     "delete_cmd_postfix": "",
     "delete_cmd_prefix": "del ",
     "library": "var_list.py",
     "varRefreshCmd": "print(var_dic_list())"
    },
    "r": {
     "delete_cmd_postfix": ") ",
     "delete_cmd_prefix": "rm(",
     "library": "var_list.r",
     "varRefreshCmd": "cat(var_dic_list()) "
    }
   },
   "types_to_exclude": [
    "module",
    "function",
    "builtin_function_or_method",
    "instance",
    "_Feature"
   ],
   "window_display": false
  }
 },
 "nbformat": 4,
 "nbformat_minor": 5
}
