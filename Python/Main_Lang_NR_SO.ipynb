{
 "cells": [
  {
   "cell_type": "markdown",
   "id": "6e3e4436",
   "metadata": {
    "toc": true
   },
   "source": [
    "<h1>Table of Contents<span class=\"tocSkip\"></span></h1>\n",
    "<div class=\"toc\"><ul class=\"toc-item\"><li><span><a href=\"#Part-1\" data-toc-modified-id=\"Part-1-1\"><span class=\"toc-item-num\">1&nbsp;&nbsp;</span>Part 1</a></span><ul class=\"toc-item\"><li><span><a href=\"#Aim\" data-toc-modified-id=\"Aim-1.1\"><span class=\"toc-item-num\">1.1&nbsp;&nbsp;</span>Aim</a></span></li><li><span><a href=\"#Import-libraries\" data-toc-modified-id=\"Import-libraries-1.2\"><span class=\"toc-item-num\">1.2&nbsp;&nbsp;</span>Import libraries</a></span></li><li><span><a href=\"#Sexual-orientation\" data-toc-modified-id=\"Sexual-orientation-1.3\"><span class=\"toc-item-num\">1.3&nbsp;&nbsp;</span>Sexual orientation</a></span></li><li><span><a href=\"#Main-language\" data-toc-modified-id=\"Main-language-1.4\"><span class=\"toc-item-num\">1.4&nbsp;&nbsp;</span>Main language</a></span></li></ul></li><li><span><a href=\"#Part-2\" data-toc-modified-id=\"Part-2-2\"><span class=\"toc-item-num\">2&nbsp;&nbsp;</span>Part 2</a></span><ul class=\"toc-item\"><li><span><a href=\"#Region-and-urban-rural-classification\" data-toc-modified-id=\"Region-and-urban-rural-classification-2.1\"><span class=\"toc-item-num\">2.1&nbsp;&nbsp;</span>Region and urban-rural classification</a></span></li><li><span><a href=\"#Bokeh-trial-visualisation\" data-toc-modified-id=\"Bokeh-trial-visualisation-2.2\"><span class=\"toc-item-num\">2.2&nbsp;&nbsp;</span>Bokeh trial visualisation</a></span></li></ul></li><li><span><a href=\"#Outputs\" data-toc-modified-id=\"Outputs-3\"><span class=\"toc-item-num\">3&nbsp;&nbsp;</span>Outputs</a></span></li><li><span><a href=\"#Conclusion\" data-toc-modified-id=\"Conclusion-4\"><span class=\"toc-item-num\">4&nbsp;&nbsp;</span>Conclusion</a></span></li></ul></div>"
   ]
  },
  {
   "cell_type": "markdown",
   "id": "30edde05",
   "metadata": {},
   "source": [
    "# Part 1"
   ]
  },
  {
   "cell_type": "markdown",
   "id": "ef1e3baa",
   "metadata": {},
   "source": [
    "## Aim\n",
    "\n",
    "To eventually create some interactive scatterplots which explore the relationship between:\n",
    "\n",
    "* relationship between non-response (for sexual orientation Q) and the % of Non-English speakers in our LA's\n",
    "* relationship between religious group % and contribution to non-response rates in LAs\n",
    "\n",
    "In this notebook, we'll just be focusing on the first bullet point. \n",
    "\n",
    "Let's get started."
   ]
  },
  {
   "cell_type": "markdown",
   "id": "785ce5d9",
   "metadata": {},
   "source": [
    "## Import libraries"
   ]
  },
  {
   "cell_type": "code",
   "execution_count": 1,
   "id": "4f0897ec",
   "metadata": {},
   "outputs": [
    {
     "name": "stdout",
     "output_type": "stream",
     "text": [
      "Intel MKL WARNING: Support of Intel(R) Streaming SIMD Extensions 4.2 (Intel(R) SSE4.2) enabled only processors has been deprecated. Intel oneAPI Math Kernel Library 2025.0 will require Intel(R) Advanced Vector Extensions (Intel(R) AVX) instructions.\n",
      "Intel MKL WARNING: Support of Intel(R) Streaming SIMD Extensions 4.2 (Intel(R) SSE4.2) enabled only processors has been deprecated. Intel oneAPI Math Kernel Library 2025.0 will require Intel(R) Advanced Vector Extensions (Intel(R) AVX) instructions.\n"
     ]
    }
   ],
   "source": [
    "# used to manipulate dataframes\n",
    "import pandas as pd\n",
    "\n",
    "# used to create visualisations\n",
    "import seaborn as sns\n",
    "import matplotlib.pylab as plt\n",
    "\n",
    "# used to create interactive visualisations\n",
    "from bokeh.plotting import figure, show\n",
    "from bokeh.io import output_notebook\n",
    "\n",
    "# used to apply scatterplot labels at selective distances \n",
    "from sklearn.neighbors import NearestNeighbors\n",
    "\n",
    "# used to calculate correlation\n",
    "from scipy.stats import pearsonr"
   ]
  },
  {
   "cell_type": "markdown",
   "id": "e2d37061",
   "metadata": {},
   "source": [
    "## Sexual orientation"
   ]
  },
  {
   "cell_type": "markdown",
   "id": "026bd70e",
   "metadata": {},
   "source": [
    "### Read-in sexual orientation data\n",
    "\n",
    "First we will import the sexual orientation dataset which details SO responses by local authority.\n",
    "\n",
    "We are importing cleaned data - column names have been shorted and underscored where necessary. \n"
   ]
  },
  {
   "cell_type": "code",
   "execution_count": 2,
   "id": "8c421a36",
   "metadata": {},
   "outputs": [],
   "source": [
    "# Let's read in SO data\n",
    "\n",
    "df = pd.read_csv('/Users/loucap/Documents/GitWork/InteractiveGender/Data/so_renamed.csv')"
   ]
  },
  {
   "cell_type": "markdown",
   "id": "8f694065",
   "metadata": {},
   "source": [
    "### Overview"
   ]
  },
  {
   "cell_type": "code",
   "execution_count": 3,
   "id": "5ec3936d",
   "metadata": {},
   "outputs": [
    {
     "data": {
      "text/html": [
       "<div>\n",
       "<style scoped>\n",
       "    .dataframe tbody tr th:only-of-type {\n",
       "        vertical-align: middle;\n",
       "    }\n",
       "\n",
       "    .dataframe tbody tr th {\n",
       "        vertical-align: top;\n",
       "    }\n",
       "\n",
       "    .dataframe thead th {\n",
       "        text-align: right;\n",
       "    }\n",
       "</style>\n",
       "<table border=\"1\" class=\"dataframe\">\n",
       "  <thead>\n",
       "    <tr style=\"text-align: right;\">\n",
       "      <th></th>\n",
       "      <th>LA_code</th>\n",
       "      <th>LA_name</th>\n",
       "      <th>SO_code</th>\n",
       "      <th>SO_categories</th>\n",
       "      <th>Observation</th>\n",
       "    </tr>\n",
       "  </thead>\n",
       "  <tbody>\n",
       "    <tr>\n",
       "      <th>0</th>\n",
       "      <td>E06000001</td>\n",
       "      <td>Hartlepool</td>\n",
       "      <td>-8</td>\n",
       "      <td>Does not apply</td>\n",
       "      <td>0</td>\n",
       "    </tr>\n",
       "    <tr>\n",
       "      <th>1</th>\n",
       "      <td>E06000001</td>\n",
       "      <td>Hartlepool</td>\n",
       "      <td>1</td>\n",
       "      <td>Straight or Heterosexual</td>\n",
       "      <td>68070</td>\n",
       "    </tr>\n",
       "    <tr>\n",
       "      <th>2</th>\n",
       "      <td>E06000001</td>\n",
       "      <td>Hartlepool</td>\n",
       "      <td>2</td>\n",
       "      <td>Gay or Lesbian</td>\n",
       "      <td>1121</td>\n",
       "    </tr>\n",
       "    <tr>\n",
       "      <th>3</th>\n",
       "      <td>E06000001</td>\n",
       "      <td>Hartlepool</td>\n",
       "      <td>3</td>\n",
       "      <td>Bisexual</td>\n",
       "      <td>784</td>\n",
       "    </tr>\n",
       "    <tr>\n",
       "      <th>4</th>\n",
       "      <td>E06000001</td>\n",
       "      <td>Hartlepool</td>\n",
       "      <td>4</td>\n",
       "      <td>All other sexual orientations</td>\n",
       "      <td>157</td>\n",
       "    </tr>\n",
       "  </tbody>\n",
       "</table>\n",
       "</div>"
      ],
      "text/plain": [
       "     LA_code     LA_name  SO_code                  SO_categories  Observation\n",
       "0  E06000001  Hartlepool       -8                 Does not apply            0\n",
       "1  E06000001  Hartlepool        1       Straight or Heterosexual        68070\n",
       "2  E06000001  Hartlepool        2                 Gay or Lesbian         1121\n",
       "3  E06000001  Hartlepool        3                       Bisexual          784\n",
       "4  E06000001  Hartlepool        4  All other sexual orientations          157"
      ]
     },
     "execution_count": 3,
     "metadata": {},
     "output_type": "execute_result"
    }
   ],
   "source": [
    "# Let's check it out\n",
    "\n",
    "df.head()"
   ]
  },
  {
   "cell_type": "code",
   "execution_count": 4,
   "id": "2c927eb1",
   "metadata": {},
   "outputs": [
    {
     "name": "stdout",
     "output_type": "stream",
     "text": [
      "<class 'pandas.core.frame.DataFrame'>\n",
      "RangeIndex: 1986 entries, 0 to 1985\n",
      "Data columns (total 5 columns):\n",
      " #   Column         Non-Null Count  Dtype \n",
      "---  ------         --------------  ----- \n",
      " 0   LA_code        1986 non-null   object\n",
      " 1   LA_name        1986 non-null   object\n",
      " 2   SO_code        1986 non-null   int64 \n",
      " 3   SO_categories  1986 non-null   object\n",
      " 4   Observation    1986 non-null   int64 \n",
      "dtypes: int64(2), object(3)\n",
      "memory usage: 77.7+ KB\n"
     ]
    }
   ],
   "source": [
    "# Some more info...\n",
    "\n",
    "df.info()"
   ]
  },
  {
   "cell_type": "code",
   "execution_count": 5,
   "id": "b12377e2",
   "metadata": {},
   "outputs": [
    {
     "data": {
      "text/plain": [
       "array([-8,  1,  2,  3,  4,  5])"
      ]
     },
     "execution_count": 5,
     "metadata": {},
     "output_type": "execute_result"
    }
   ],
   "source": [
    "# Let's take a look at our SO codes\n",
    "\n",
    "df.SO_code.unique()"
   ]
  },
  {
   "cell_type": "code",
   "execution_count": 6,
   "id": "0d475224",
   "metadata": {},
   "outputs": [
    {
     "data": {
      "text/plain": [
       "array(['Does not apply', 'Straight or Heterosexual', 'Gay or Lesbian',\n",
       "       'Bisexual', 'All other sexual orientations', 'Not answered'],\n",
       "      dtype=object)"
      ]
     },
     "execution_count": 6,
     "metadata": {},
     "output_type": "execute_result"
    }
   ],
   "source": [
    "# Let's see what they refer to...\n",
    "\n",
    "df.SO_categories.unique()"
   ]
  },
  {
   "cell_type": "code",
   "execution_count": 7,
   "id": "e990e6d4",
   "metadata": {},
   "outputs": [
    {
     "data": {
      "text/plain": [
       "331"
      ]
     },
     "execution_count": 7,
     "metadata": {},
     "output_type": "execute_result"
    }
   ],
   "source": [
    "# We are working with 331 local authorities\n",
    "\n",
    "df.LA_name.nunique()"
   ]
  },
  {
   "cell_type": "code",
   "execution_count": 8,
   "id": "0e467f8b",
   "metadata": {},
   "outputs": [
    {
     "data": {
      "text/html": [
       "<div>\n",
       "<style scoped>\n",
       "    .dataframe tbody tr th:only-of-type {\n",
       "        vertical-align: middle;\n",
       "    }\n",
       "\n",
       "    .dataframe tbody tr th {\n",
       "        vertical-align: top;\n",
       "    }\n",
       "\n",
       "    .dataframe thead th {\n",
       "        text-align: right;\n",
       "    }\n",
       "</style>\n",
       "<table border=\"1\" class=\"dataframe\">\n",
       "  <thead>\n",
       "    <tr style=\"text-align: right;\">\n",
       "      <th></th>\n",
       "      <th>LA_code</th>\n",
       "      <th>LA_name</th>\n",
       "      <th>SO_code</th>\n",
       "      <th>SO_categories</th>\n",
       "      <th>Observation</th>\n",
       "    </tr>\n",
       "  </thead>\n",
       "  <tbody>\n",
       "    <tr>\n",
       "      <th>0</th>\n",
       "      <td>E06000001</td>\n",
       "      <td>Hartlepool</td>\n",
       "      <td>-8</td>\n",
       "      <td>Does not apply</td>\n",
       "      <td>0</td>\n",
       "    </tr>\n",
       "    <tr>\n",
       "      <th>1</th>\n",
       "      <td>E06000001</td>\n",
       "      <td>Hartlepool</td>\n",
       "      <td>1</td>\n",
       "      <td>Straight or Heterosexual</td>\n",
       "      <td>68070</td>\n",
       "    </tr>\n",
       "    <tr>\n",
       "      <th>2</th>\n",
       "      <td>E06000001</td>\n",
       "      <td>Hartlepool</td>\n",
       "      <td>2</td>\n",
       "      <td>Gay or Lesbian</td>\n",
       "      <td>1121</td>\n",
       "    </tr>\n",
       "    <tr>\n",
       "      <th>3</th>\n",
       "      <td>E06000001</td>\n",
       "      <td>Hartlepool</td>\n",
       "      <td>3</td>\n",
       "      <td>Bisexual</td>\n",
       "      <td>784</td>\n",
       "    </tr>\n",
       "    <tr>\n",
       "      <th>4</th>\n",
       "      <td>E06000001</td>\n",
       "      <td>Hartlepool</td>\n",
       "      <td>4</td>\n",
       "      <td>All other sexual orientations</td>\n",
       "      <td>157</td>\n",
       "    </tr>\n",
       "    <tr>\n",
       "      <th>5</th>\n",
       "      <td>E06000001</td>\n",
       "      <td>Hartlepool</td>\n",
       "      <td>5</td>\n",
       "      <td>Not answered</td>\n",
       "      <td>4554</td>\n",
       "    </tr>\n",
       "    <tr>\n",
       "      <th>6</th>\n",
       "      <td>E06000002</td>\n",
       "      <td>Middlesbrough</td>\n",
       "      <td>-8</td>\n",
       "      <td>Does not apply</td>\n",
       "      <td>0</td>\n",
       "    </tr>\n",
       "    <tr>\n",
       "      <th>7</th>\n",
       "      <td>E06000002</td>\n",
       "      <td>Middlesbrough</td>\n",
       "      <td>1</td>\n",
       "      <td>Straight or Heterosexual</td>\n",
       "      <td>102027</td>\n",
       "    </tr>\n",
       "    <tr>\n",
       "      <th>8</th>\n",
       "      <td>E06000002</td>\n",
       "      <td>Middlesbrough</td>\n",
       "      <td>2</td>\n",
       "      <td>Gay or Lesbian</td>\n",
       "      <td>1787</td>\n",
       "    </tr>\n",
       "    <tr>\n",
       "      <th>9</th>\n",
       "      <td>E06000002</td>\n",
       "      <td>Middlesbrough</td>\n",
       "      <td>3</td>\n",
       "      <td>Bisexual</td>\n",
       "      <td>1385</td>\n",
       "    </tr>\n",
       "  </tbody>\n",
       "</table>\n",
       "</div>"
      ],
      "text/plain": [
       "     LA_code        LA_name  SO_code                  SO_categories  \\\n",
       "0  E06000001     Hartlepool       -8                 Does not apply   \n",
       "1  E06000001     Hartlepool        1       Straight or Heterosexual   \n",
       "2  E06000001     Hartlepool        2                 Gay or Lesbian   \n",
       "3  E06000001     Hartlepool        3                       Bisexual   \n",
       "4  E06000001     Hartlepool        4  All other sexual orientations   \n",
       "5  E06000001     Hartlepool        5                   Not answered   \n",
       "6  E06000002  Middlesbrough       -8                 Does not apply   \n",
       "7  E06000002  Middlesbrough        1       Straight or Heterosexual   \n",
       "8  E06000002  Middlesbrough        2                 Gay or Lesbian   \n",
       "9  E06000002  Middlesbrough        3                       Bisexual   \n",
       "\n",
       "   Observation  \n",
       "0            0  \n",
       "1        68070  \n",
       "2         1121  \n",
       "3          784  \n",
       "4          157  \n",
       "5         4554  \n",
       "6            0  \n",
       "7       102027  \n",
       "8         1787  \n",
       "9         1385  "
      ]
     },
     "execution_count": 8,
     "metadata": {},
     "output_type": "execute_result"
    }
   ],
   "source": [
    "# You can see we have our counts for each category for a specific LA\n",
    "\n",
    "df.head(10)"
   ]
  },
  {
   "cell_type": "markdown",
   "id": "5e248d46",
   "metadata": {},
   "source": [
    "### Data pre-processing\n",
    "\n",
    "Calculating SO response percentages."
   ]
  },
  {
   "cell_type": "code",
   "execution_count": 9,
   "id": "9622de3e",
   "metadata": {},
   "outputs": [],
   "source": [
    "\n",
    "# Let's calculate the df_category percentages for each local authority, then subset our df\n",
    "# I've named this new column NR_rate\n",
    "\n",
    "df['NR_rate'] = ''\n",
    "\n",
    "\n",
    "for i in df.LA_code.unique():\n",
    "    b = df[df.LA_code == i]\n",
    "    percent = b['Observation'] / b['Observation'].sum() * 100\n",
    "    df.loc[b.index, 'NR_rate'] = (percent).round(2)\n",
    "    \n",
    "# Now let's subset our df so that we're just left with our Non-response rates\n",
    "df = df[df['SO_code'] == 5].drop(columns=['LA_code', 'SO_code', 'Observation', 'SO_categories'])\n",
    "\n",
    "    \n",
    "# Sort df alphabetically by LA_name and reset index \n",
    "\n",
    "df = df.sort_values(by = 'LA_name').reset_index(drop = True)"
   ]
  },
  {
   "cell_type": "code",
   "execution_count": 10,
   "id": "6ccf5c87",
   "metadata": {},
   "outputs": [
    {
     "data": {
      "text/html": [
       "<div>\n",
       "<style scoped>\n",
       "    .dataframe tbody tr th:only-of-type {\n",
       "        vertical-align: middle;\n",
       "    }\n",
       "\n",
       "    .dataframe tbody tr th {\n",
       "        vertical-align: top;\n",
       "    }\n",
       "\n",
       "    .dataframe thead th {\n",
       "        text-align: right;\n",
       "    }\n",
       "</style>\n",
       "<table border=\"1\" class=\"dataframe\">\n",
       "  <thead>\n",
       "    <tr style=\"text-align: right;\">\n",
       "      <th></th>\n",
       "      <th>LA_name</th>\n",
       "      <th>NR_rate</th>\n",
       "    </tr>\n",
       "  </thead>\n",
       "  <tbody>\n",
       "    <tr>\n",
       "      <th>0</th>\n",
       "      <td>Adur</td>\n",
       "      <td>6.47</td>\n",
       "    </tr>\n",
       "    <tr>\n",
       "      <th>1</th>\n",
       "      <td>Allerdale</td>\n",
       "      <td>6.18</td>\n",
       "    </tr>\n",
       "    <tr>\n",
       "      <th>2</th>\n",
       "      <td>Amber Valley</td>\n",
       "      <td>6.77</td>\n",
       "    </tr>\n",
       "    <tr>\n",
       "      <th>3</th>\n",
       "      <td>Arun</td>\n",
       "      <td>7.09</td>\n",
       "    </tr>\n",
       "    <tr>\n",
       "      <th>4</th>\n",
       "      <td>Ashfield</td>\n",
       "      <td>6.77</td>\n",
       "    </tr>\n",
       "    <tr>\n",
       "      <th>...</th>\n",
       "      <td>...</td>\n",
       "      <td>...</td>\n",
       "    </tr>\n",
       "    <tr>\n",
       "      <th>326</th>\n",
       "      <td>Wrexham</td>\n",
       "      <td>7.88</td>\n",
       "    </tr>\n",
       "    <tr>\n",
       "      <th>327</th>\n",
       "      <td>Wychavon</td>\n",
       "      <td>6.15</td>\n",
       "    </tr>\n",
       "    <tr>\n",
       "      <th>328</th>\n",
       "      <td>Wyre</td>\n",
       "      <td>6.1</td>\n",
       "    </tr>\n",
       "    <tr>\n",
       "      <th>329</th>\n",
       "      <td>Wyre Forest</td>\n",
       "      <td>6.91</td>\n",
       "    </tr>\n",
       "    <tr>\n",
       "      <th>330</th>\n",
       "      <td>York</td>\n",
       "      <td>7.91</td>\n",
       "    </tr>\n",
       "  </tbody>\n",
       "</table>\n",
       "<p>331 rows × 2 columns</p>\n",
       "</div>"
      ],
      "text/plain": [
       "          LA_name NR_rate\n",
       "0            Adur    6.47\n",
       "1       Allerdale    6.18\n",
       "2    Amber Valley    6.77\n",
       "3            Arun    7.09\n",
       "4        Ashfield    6.77\n",
       "..            ...     ...\n",
       "326       Wrexham    7.88\n",
       "327      Wychavon    6.15\n",
       "328          Wyre     6.1\n",
       "329   Wyre Forest    6.91\n",
       "330          York    7.91\n",
       "\n",
       "[331 rows x 2 columns]"
      ]
     },
     "execution_count": 10,
     "metadata": {},
     "output_type": "execute_result"
    }
   ],
   "source": [
    "# Success!\n",
    "\n",
    "df"
   ]
  },
  {
   "cell_type": "markdown",
   "id": "17c2f6b1",
   "metadata": {},
   "source": [
    "## Main language\n",
    "\n",
    "Okay, so we have our non-response rate for each LA, we also need the % of Non-English speakers.\n",
    "\n",
    "Let's start by importing the main language dataset, which classifies residents by their main language."
   ]
  },
  {
   "cell_type": "markdown",
   "id": "17bc5094",
   "metadata": {},
   "source": [
    "### Read-in data"
   ]
  },
  {
   "cell_type": "markdown",
   "id": "912bed64",
   "metadata": {},
   "source": [
    "### Cleaning data and pre-processing\n",
    "\n",
    "This step requires us to read-in the main language dataset and then clean the columns and calculate our Non-English percentages.\n",
    "\n",
    "Luckily for us however, we have already completed this step in the previous [Main_Lang_NR_GI.ipynb](./Main_Lang_NR_GI.ipynb) notebook. So we'll just read-in that data!"
   ]
  },
  {
   "cell_type": "code",
   "execution_count": null,
   "id": "a935a57a",
   "metadata": {},
   "outputs": [],
   "source": [
    "non_eng_sum = pd.read_csv('../Data/non_eng_sum.csv')"
   ]
  },
  {
   "cell_type": "code",
   "execution_count": null,
   "id": "41b2b638",
   "metadata": {},
   "outputs": [],
   "source": [
    "# Let's take a look..\n",
    "# Nice, we have our Non-English percentages for each LA\n",
    "\n",
    "non_eng_sum"
   ]
  },
  {
   "cell_type": "markdown",
   "id": "960932b6",
   "metadata": {},
   "source": [
    "### Merge datasets\n",
    "\n",
    "All that's left for us to do now is merge our non_eng_sum dataset with our non-english percentages, with our df dataframe which has our non-response rates for each LA."
   ]
  },
  {
   "cell_type": "code",
   "execution_count": null,
   "id": "e5da259b",
   "metadata": {},
   "outputs": [],
   "source": [
    "# Merge non_eng_sum and df together\n",
    "\n",
    "merged_df = non_eng_sum.merge(df, on = ['LA_name'])"
   ]
  },
  {
   "cell_type": "code",
   "execution_count": null,
   "id": "86ab27dc",
   "metadata": {},
   "outputs": [],
   "source": [
    "merged_df.head()"
   ]
  },
  {
   "cell_type": "markdown",
   "id": "34412570",
   "metadata": {},
   "source": [
    "### Data processing\n",
    "\n",
    "Awesome. Now we can move on to our data processing, where we can extract some useful information and insights from our 2 variables. We're going to make a simple scatterplot showing the relationship between non-response rate and % of non-english speakers in our LAs."
   ]
  },
  {
   "cell_type": "markdown",
   "id": "0fffd36e",
   "metadata": {},
   "source": [
    "#### Scatterplot visualisation"
   ]
  },
  {
   "cell_type": "code",
   "execution_count": null,
   "id": "8e2f8f27",
   "metadata": {},
   "outputs": [],
   "source": [
    "import matplotlib.pyplot as plt\n",
    "\n",
    "# Set the size of the seaborn plot\n",
    "\n",
    "sns.set(rc={'figure.figsize':(11.7,8.27)})\n",
    "\n",
    "# Now we can visualise the relationship between GI NR and % of Non-Eng speakers\n",
    "\n",
    "plt.scatter(merged_df['Non_Eng_Percentages'], merged_df['NR_rate'])\n",
    "\n",
    "# We can use a bit of Machine Learning to selectively apply LA labels\n",
    "\n",
    "# Find nearest neighbors\n",
    "X = merged_df[['Non_Eng_Percentages', 'NR_rate']].values\n",
    "nbrs = NearestNeighbors(n_neighbors=2).fit(X)\n",
    "distances, indices = nbrs.kneighbors(X)\n",
    "min_distance = 0.3\n",
    "\n",
    "for i, row in merged_df.iterrows():\n",
    "    if distances[i][1] >= min_distance:\n",
    "        plt.annotate(row['LA_name'], (row['Non_Eng_Percentages'], row['NR_rate']), fontsize=8, alpha=0.6)\n",
    "\n",
    "plt.xlabel('Percentage of Non-English Speakers')\n",
    "plt.ylabel('Non-response Rate')\n",
    "plt.title('Relationship between Non-response Rate and Non-English Speakers')\n",
    "plt.show()"
   ]
  },
  {
   "cell_type": "markdown",
   "id": "e655202b",
   "metadata": {},
   "source": [
    "### Correlation"
   ]
  },
  {
   "cell_type": "code",
   "execution_count": null,
   "id": "9159d4cf",
   "metadata": {},
   "outputs": [],
   "source": [
    "# Calculate the Pearson correlation coefficient and the p-value\n",
    "\n",
    "correlation, p_value = pearsonr(merged_df['Non_Eng_Percentages'], df['NR_rate'])\n",
    "\n",
    "print(\"Correlation:\", correlation)\n",
    "print(\"P-value:\", p_value)"
   ]
  },
  {
   "cell_type": "markdown",
   "id": "d8628715",
   "metadata": {},
   "source": [
    "# Part 2\n",
    "\n",
    "Okay, so that's all well and good, but it'd be nice to explore this relationship further.\n",
    "\n",
    "Therefore, I will:\n",
    "\n",
    "* color-code each data point by region\n",
    "* color-code each data point by urban-rural classification"
   ]
  },
  {
   "cell_type": "markdown",
   "id": "a1fe4859",
   "metadata": {},
   "source": [
    "## Region and urban-rural classification\n",
    "\n",
    "We will classify each Local Authority by region and urban-rural classification, and add this info as an additional column to our merged_df. Again, we are lucky that we've already done this in the previous notebook mentioned above. So, we'll just read in the dataset!"
   ]
  },
  {
   "cell_type": "markdown",
   "id": "6429e9b5",
   "metadata": {},
   "source": [
    "### Read-in data"
   ]
  },
  {
   "cell_type": "code",
   "execution_count": null,
   "id": "757b281f",
   "metadata": {},
   "outputs": [],
   "source": [
    "merged_2 = pd.read_csv('../Data/lang_rural_region_gi.csv')"
   ]
  },
  {
   "cell_type": "code",
   "execution_count": null,
   "id": "0a9d11f5",
   "metadata": {},
   "outputs": [],
   "source": [
    "# Great. What we'll do now is pinch the region and Urb_Rur columns\n",
    "# We'll simply add them to our merged_df!\n",
    "\n",
    "merged_2.head()"
   ]
  },
  {
   "cell_type": "code",
   "execution_count": null,
   "id": "72f1871e",
   "metadata": {},
   "outputs": [],
   "source": [
    "merged_df['region'] = merged_2['region'] \n",
    "merged_df['Urb_Rur'] = merged_2['Urb_Rur']"
   ]
  },
  {
   "cell_type": "code",
   "execution_count": null,
   "id": "f2c90df2",
   "metadata": {},
   "outputs": [],
   "source": [
    "# Success.\n",
    "\n",
    "merged_df.head()"
   ]
  },
  {
   "cell_type": "markdown",
   "id": "65584c56",
   "metadata": {},
   "source": [
    "### Data processing\n",
    "\n",
    "Now that we have our finished dataset, we'll first make a scatterplot in seaborn, then will make a standalone interactive scatterplot using Bokeh."
   ]
  },
  {
   "cell_type": "markdown",
   "id": "6da1b67f",
   "metadata": {},
   "source": [
    "#### Scatterplot - seaborn"
   ]
  },
  {
   "cell_type": "code",
   "execution_count": null,
   "id": "bac4fd61",
   "metadata": {},
   "outputs": [],
   "source": [
    "import seaborn as sns\n",
    "\n",
    "# Set the size of the seaborn plot\n",
    "\n",
    "sns.set(rc={'figure.figsize':(11.7,8.27)})\n",
    "\n",
    "# Now we can visualise the relationship between GI NR and % of Non-Eng speakers\n",
    "# Setting our hue to region, colours each dp by its corresponding region\n",
    "\n",
    "ax = sns.scatterplot(data=merged_df, x='Non_Eng_Percentages', y='NR_rate', hue='region')\n",
    "\n",
    "# We can use a bit of Machine Learning to selectively apply LA labels\n",
    "\n",
    "from sklearn.neighbors import NearestNeighbors\n",
    "\n",
    "# Find nearest neighbors\n",
    "\n",
    "X = merged_df[['Non_Eng_Percentages', 'NR_rate']].values\n",
    "nbrs = NearestNeighbors(n_neighbors=2).fit(X)\n",
    "distances, indices = nbrs.kneighbors(X)\n",
    "min_distance = 0.3\n",
    "\n",
    "for i, row in merged_df.iterrows():\n",
    "    if distances[i][1] >= min_distance:\n",
    "        ax.annotate(row['LA_name'], (row['Non_Eng_Percentages'], row['NR_rate']), fontsize=8, alpha=0.6)\n",
    "\n",
    "# Set x,y, and title labels\n",
    "\n",
    "plt.xlabel('Percentage of Non-English Speakers')\n",
    "plt.ylabel('Non-response Rate')\n",
    "plt.title('Relationship between Non-response Rate and Non-English Speakers')\n",
    "\n",
    "# Display output\n",
    "\n",
    "plt.show()\n"
   ]
  },
  {
   "cell_type": "markdown",
   "id": "7f808c35",
   "metadata": {},
   "source": [
    "## Bokeh trial visualisation"
   ]
  },
  {
   "cell_type": "code",
   "execution_count": null,
   "id": "7ec32a67",
   "metadata": {},
   "outputs": [],
   "source": [
    "# Let's see if we can make a standalone Bokeh plot for some of this data\n",
    "\n",
    "from bokeh.models.annotations import LabelSet\n",
    "from bokeh.models import ColumnDataSource, Label, LabelSet\n",
    "from bokeh.palettes import Category10\n",
    "from bokeh.io import show\n",
    "from bokeh.models import CheckboxGroup, CustomJS\n",
    "from bokeh.layouts import column\n",
    "from bokeh.models import Button\n",
    "from bokeh.plotting import figure, curdoc\n",
    "\n",
    "# Bokeh has a hover tool, allowing you to scroll over dps to reveal info\n",
    "# To configure the tool, we must set our tooltips arguments...\n",
    "\n",
    "# We simply define a list of tuples which refer to column values in our merged_df \n",
    "\n",
    "tool = [\n",
    "    (\"index\", \"$index\"),\n",
    "    (\"(x,y)\", \"(@Non_Eng_Percentages, @NR_rate)\"),\n",
    "    (\"name\",\"@LA_name\"),\n",
    "]\n",
    "\n",
    "# Create graph figure, set title and x and y labels\n",
    "\n",
    "p1 = figure(title=\"Relationship between NR rate and Non-English Speakers\", x_axis_label=\"Percentage of Non-English Speakers\", y_axis_label= \"Non-response rate\", tooltips = tool)\n",
    "\n",
    "# To colour each data point by region we first loop over each unique region and its colour\n",
    "for region, color in zip(merged_df.region.unique(), Category10[10]):\n",
    "#     Subset dataframe by region for each unique region\n",
    "    b = merged_df[merged_df.region == region]\n",
    "#     Each dp within that region is then plotted with its data and specific colour\n",
    "    p1.circle(x = 'Non_Eng_Percentages', y = 'NR_rate', size = 10, alpha = 0.5, color = color, legend_label = region, muted_color = color, muted_alpha = 0.1, source = b)\n",
    "\n",
    "\n",
    "# Set location of legend\n",
    "\n",
    "p1.legend.location = \"bottom_right\"\n",
    "\n",
    "# Make it so that when a specific legend is clicked, its dps are removed from plot\n",
    "p1.legend.click_policy=\"hide\"\n",
    "\n",
    "# Set legend title \n",
    "p1.legend.title = \"Regions\"\n",
    "\n",
    "# Display output\n",
    "output_notebook()\n",
    "show(p1)\n"
   ]
  },
  {
   "cell_type": "markdown",
   "id": "865a985d",
   "metadata": {},
   "source": [
    "# Outputs"
   ]
  },
  {
   "cell_type": "code",
   "execution_count": null,
   "id": "3d36cbb4",
   "metadata": {},
   "outputs": [],
   "source": [
    "merged_df.to_csv('../Data/lang_rural_region_so.csv', index = False)"
   ]
  },
  {
   "cell_type": "markdown",
   "id": "ff149024",
   "metadata": {},
   "source": [
    "# Conclusion\n",
    "\n",
    "We have now coloured our data points by region and by urban-rural classification. If you're interested to see how we coloured these same data points by their Shannon index (a measure of religious diversity within each LA) then please proceed to our [Religion_1_SO.ipynb](./Religion_1_SO.ipynb) notebook."
   ]
  }
 ],
 "metadata": {
  "kernelspec": {
   "display_name": "newenv",
   "language": "python",
   "name": "newenv"
  },
  "language_info": {
   "codemirror_mode": {
    "name": "ipython",
    "version": 3
   },
   "file_extension": ".py",
   "mimetype": "text/x-python",
   "name": "python",
   "nbconvert_exporter": "python",
   "pygments_lexer": "ipython3",
   "version": "3.9.16"
  },
  "toc": {
   "base_numbering": 1,
   "nav_menu": {},
   "number_sections": true,
   "sideBar": true,
   "skip_h1_title": false,
   "title_cell": "Table of Contents",
   "title_sidebar": "Contents",
   "toc_cell": true,
   "toc_position": {},
   "toc_section_display": true,
   "toc_window_display": true
  },
  "varInspector": {
   "cols": {
    "lenName": 16,
    "lenType": 16,
    "lenVar": 40
   },
   "kernels_config": {
    "python": {
     "delete_cmd_postfix": "",
     "delete_cmd_prefix": "del ",
     "library": "var_list.py",
     "varRefreshCmd": "print(var_dic_list())"
    },
    "r": {
     "delete_cmd_postfix": ") ",
     "delete_cmd_prefix": "rm(",
     "library": "var_list.r",
     "varRefreshCmd": "cat(var_dic_list()) "
    }
   },
   "types_to_exclude": [
    "module",
    "function",
    "builtin_function_or_method",
    "instance",
    "_Feature"
   ],
   "window_display": false
  }
 },
 "nbformat": 4,
 "nbformat_minor": 5
}
