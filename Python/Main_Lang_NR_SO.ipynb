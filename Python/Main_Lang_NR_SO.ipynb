{
 "cells": [
  {
   "cell_type": "markdown",
   "id": "6e3e4436",
   "metadata": {
    "toc": true
   },
   "source": [
    "<h1>Table of Contents<span class=\"tocSkip\"></span></h1>\n",
    "<div class=\"toc\"><ul class=\"toc-item\"><li><span><a href=\"#Part-1\" data-toc-modified-id=\"Part-1-1\"><span class=\"toc-item-num\">1&nbsp;&nbsp;</span>Part 1</a></span><ul class=\"toc-item\"><li><span><a href=\"#Import-libraries\" data-toc-modified-id=\"Import-libraries-1.1\"><span class=\"toc-item-num\">1.1&nbsp;&nbsp;</span>Import libraries</a></span></li><li><span><a href=\"#Aim\" data-toc-modified-id=\"Aim-1.2\"><span class=\"toc-item-num\">1.2&nbsp;&nbsp;</span>Aim</a></span></li><li><span><a href=\"#Sexual-orientation\" data-toc-modified-id=\"Sexual-orientation-1.3\"><span class=\"toc-item-num\">1.3&nbsp;&nbsp;</span>Sexual orientation</a></span></li><li><span><a href=\"#Main-language\" data-toc-modified-id=\"Main-language-1.4\"><span class=\"toc-item-num\">1.4&nbsp;&nbsp;</span>Main language</a></span></li></ul></li><li><span><a href=\"#Part-2\" data-toc-modified-id=\"Part-2-2\"><span class=\"toc-item-num\">2&nbsp;&nbsp;</span>Part 2</a></span><ul class=\"toc-item\"><li><span><a href=\"#Region-and-urban-rural-classification\" data-toc-modified-id=\"Region-and-urban-rural-classification-2.1\"><span class=\"toc-item-num\">2.1&nbsp;&nbsp;</span>Region and urban-rural classification</a></span></li></ul></li><li><span><a href=\"#Outputs\" data-toc-modified-id=\"Outputs-3\"><span class=\"toc-item-num\">3&nbsp;&nbsp;</span>Outputs</a></span></li><li><span><a href=\"#Religion\" data-toc-modified-id=\"Religion-4\"><span class=\"toc-item-num\">4&nbsp;&nbsp;</span>Religion</a></span></li><li><span><a href=\"#Total-numbers---table\" data-toc-modified-id=\"Total-numbers---table-5\"><span class=\"toc-item-num\">5&nbsp;&nbsp;</span>Total numbers - table</a></span><ul class=\"toc-item\"><li><span><a href=\"#Shannon-index\" data-toc-modified-id=\"Shannon-index-5.1\"><span class=\"toc-item-num\">5.1&nbsp;&nbsp;</span>Shannon index</a></span></li><li><span><a href=\"#%-Non-response-per-religious-category\" data-toc-modified-id=\"%-Non-response-per-religious-category-5.2\"><span class=\"toc-item-num\">5.2&nbsp;&nbsp;</span>% Non-response per religious category</a></span></li><li><span><a href=\"#Total-number-of-atheists-/-total-number-of-respondents\" data-toc-modified-id=\"Total-number-of-atheists-/-total-number-of-respondents-5.3\"><span class=\"toc-item-num\">5.3&nbsp;&nbsp;</span>Total number of atheists / total number of respondents</a></span></li><li><span><a href=\"#NR-rate-for-Atheists\" data-toc-modified-id=\"NR-rate-for-Atheists-5.4\"><span class=\"toc-item-num\">5.4&nbsp;&nbsp;</span>NR rate for Atheists</a></span></li><li><span><a href=\"#Total-number-of-Christians-/-total-number-of-respondents\" data-toc-modified-id=\"Total-number-of-Christians-/-total-number-of-respondents-5.5\"><span class=\"toc-item-num\">5.5&nbsp;&nbsp;</span>Total number of Christians / total number of respondents</a></span></li><li><span><a href=\"#NR-rate-for-Atheists\" data-toc-modified-id=\"NR-rate-for-Atheists-5.6\"><span class=\"toc-item-num\">5.6&nbsp;&nbsp;</span>NR rate for Atheists</a></span></li></ul></li><li><span><a href=\"#Outputs\" data-toc-modified-id=\"Outputs-6\"><span class=\"toc-item-num\">6&nbsp;&nbsp;</span>Outputs</a></span></li></ul></div>"
   ]
  },
  {
   "cell_type": "markdown",
   "id": "30edde05",
   "metadata": {},
   "source": [
    "# Part 1"
   ]
  },
  {
   "cell_type": "markdown",
   "id": "785ce5d9",
   "metadata": {},
   "source": [
    "## Import libraries"
   ]
  },
  {
   "cell_type": "code",
   "execution_count": 20,
   "id": "4f0897ec",
   "metadata": {},
   "outputs": [],
   "source": [
    "# used to manipulate dataframes\n",
    "import pandas as pd\n",
    "\n",
    "# used to create visualisations\n",
    "import seaborn as sns\n",
    "import matplotlib.pylab as plt\n",
    "\n",
    "# used to create interactive visualisations\n",
    "from bokeh.plotting import figure, show\n",
    "from bokeh.io import output_notebook\n",
    "\n",
    "# used to apply scatterplot labels at selective distances \n",
    "from sklearn.neighbors import NearestNeighbors\n",
    "\n",
    "# used to calculate correlation\n",
    "from scipy.stats import pearsonr"
   ]
  },
  {
   "cell_type": "markdown",
   "id": "ef1e3baa",
   "metadata": {},
   "source": [
    "## Aim\n",
    "\n",
    "To eventually create some interactive scatterplots which explore the relationship between:\n",
    "\n",
    "* relationship between non-response (for sexual orientation Q) and the % of Non-English speakers in our LA's\n",
    "* relationship between religious group % and contribution to non-response rates in LAs\n",
    "\n",
    "In this notebook, we'll just be focusing on the first bullet point. \n",
    "\n",
    "Let's get started."
   ]
  },
  {
   "cell_type": "markdown",
   "id": "e2d37061",
   "metadata": {},
   "source": [
    "## Sexual orientation"
   ]
  },
  {
   "cell_type": "markdown",
   "id": "026bd70e",
   "metadata": {},
   "source": [
    "### Read-in sexual orientation data\n",
    "\n",
    "First we will import the sexual orientation dataset which details SO responses by local authority.\n",
    "\n",
    "We are importing cleaned data - column names have been shorted and underscored where necessary. \n"
   ]
  },
  {
   "cell_type": "code",
   "execution_count": 2,
   "id": "8c421a36",
   "metadata": {},
   "outputs": [],
   "source": [
    "# Let's read in SO data\n",
    "\n",
    "df = pd.read_csv('/Users/loucap/Documents/GitWork/InteractiveGender/Data/so_renamed.csv')"
   ]
  },
  {
   "cell_type": "markdown",
   "id": "8f694065",
   "metadata": {},
   "source": [
    "### Overview"
   ]
  },
  {
   "cell_type": "code",
   "execution_count": 3,
   "id": "5ec3936d",
   "metadata": {},
   "outputs": [
    {
     "data": {
      "text/html": [
       "<div>\n",
       "<style scoped>\n",
       "    .dataframe tbody tr th:only-of-type {\n",
       "        vertical-align: middle;\n",
       "    }\n",
       "\n",
       "    .dataframe tbody tr th {\n",
       "        vertical-align: top;\n",
       "    }\n",
       "\n",
       "    .dataframe thead th {\n",
       "        text-align: right;\n",
       "    }\n",
       "</style>\n",
       "<table border=\"1\" class=\"dataframe\">\n",
       "  <thead>\n",
       "    <tr style=\"text-align: right;\">\n",
       "      <th></th>\n",
       "      <th>LA_code</th>\n",
       "      <th>LA_name</th>\n",
       "      <th>SO_code</th>\n",
       "      <th>SO_categories</th>\n",
       "      <th>Observation</th>\n",
       "    </tr>\n",
       "  </thead>\n",
       "  <tbody>\n",
       "    <tr>\n",
       "      <th>0</th>\n",
       "      <td>E06000001</td>\n",
       "      <td>Hartlepool</td>\n",
       "      <td>-8</td>\n",
       "      <td>Does not apply</td>\n",
       "      <td>0</td>\n",
       "    </tr>\n",
       "    <tr>\n",
       "      <th>1</th>\n",
       "      <td>E06000001</td>\n",
       "      <td>Hartlepool</td>\n",
       "      <td>1</td>\n",
       "      <td>Straight or Heterosexual</td>\n",
       "      <td>68070</td>\n",
       "    </tr>\n",
       "    <tr>\n",
       "      <th>2</th>\n",
       "      <td>E06000001</td>\n",
       "      <td>Hartlepool</td>\n",
       "      <td>2</td>\n",
       "      <td>Gay or Lesbian</td>\n",
       "      <td>1121</td>\n",
       "    </tr>\n",
       "    <tr>\n",
       "      <th>3</th>\n",
       "      <td>E06000001</td>\n",
       "      <td>Hartlepool</td>\n",
       "      <td>3</td>\n",
       "      <td>Bisexual</td>\n",
       "      <td>784</td>\n",
       "    </tr>\n",
       "    <tr>\n",
       "      <th>4</th>\n",
       "      <td>E06000001</td>\n",
       "      <td>Hartlepool</td>\n",
       "      <td>4</td>\n",
       "      <td>All other sexual orientations</td>\n",
       "      <td>157</td>\n",
       "    </tr>\n",
       "  </tbody>\n",
       "</table>\n",
       "</div>"
      ],
      "text/plain": [
       "     LA_code     LA_name  SO_code                  SO_categories  Observation\n",
       "0  E06000001  Hartlepool       -8                 Does not apply            0\n",
       "1  E06000001  Hartlepool        1       Straight or Heterosexual        68070\n",
       "2  E06000001  Hartlepool        2                 Gay or Lesbian         1121\n",
       "3  E06000001  Hartlepool        3                       Bisexual          784\n",
       "4  E06000001  Hartlepool        4  All other sexual orientations          157"
      ]
     },
     "execution_count": 3,
     "metadata": {},
     "output_type": "execute_result"
    }
   ],
   "source": [
    "# Let's check it out\n",
    "\n",
    "df.head()"
   ]
  },
  {
   "cell_type": "code",
   "execution_count": 4,
   "id": "2c927eb1",
   "metadata": {},
   "outputs": [
    {
     "name": "stdout",
     "output_type": "stream",
     "text": [
      "<class 'pandas.core.frame.DataFrame'>\n",
      "RangeIndex: 1986 entries, 0 to 1985\n",
      "Data columns (total 5 columns):\n",
      " #   Column         Non-Null Count  Dtype \n",
      "---  ------         --------------  ----- \n",
      " 0   LA_code        1986 non-null   object\n",
      " 1   LA_name        1986 non-null   object\n",
      " 2   SO_code        1986 non-null   int64 \n",
      " 3   SO_categories  1986 non-null   object\n",
      " 4   Observation    1986 non-null   int64 \n",
      "dtypes: int64(2), object(3)\n",
      "memory usage: 77.7+ KB\n"
     ]
    }
   ],
   "source": [
    "# Some more info...\n",
    "\n",
    "df.info()"
   ]
  },
  {
   "cell_type": "code",
   "execution_count": 5,
   "id": "b12377e2",
   "metadata": {},
   "outputs": [
    {
     "data": {
      "text/plain": [
       "array([-8,  1,  2,  3,  4,  5])"
      ]
     },
     "execution_count": 5,
     "metadata": {},
     "output_type": "execute_result"
    }
   ],
   "source": [
    "# Let's take a look at our SO codes\n",
    "\n",
    "df.SO_code.unique()"
   ]
  },
  {
   "cell_type": "code",
   "execution_count": 6,
   "id": "0d475224",
   "metadata": {},
   "outputs": [
    {
     "data": {
      "text/plain": [
       "array(['Does not apply', 'Straight or Heterosexual', 'Gay or Lesbian',\n",
       "       'Bisexual', 'All other sexual orientations', 'Not answered'],\n",
       "      dtype=object)"
      ]
     },
     "execution_count": 6,
     "metadata": {},
     "output_type": "execute_result"
    }
   ],
   "source": [
    "# Let's see what they refer to...\n",
    "\n",
    "df.SO_categories.unique()"
   ]
  },
  {
   "cell_type": "code",
   "execution_count": 7,
   "id": "e990e6d4",
   "metadata": {},
   "outputs": [
    {
     "data": {
      "text/plain": [
       "331"
      ]
     },
     "execution_count": 7,
     "metadata": {},
     "output_type": "execute_result"
    }
   ],
   "source": [
    "# We are working with 331 local authorities\n",
    "\n",
    "df.LA_name.nunique()"
   ]
  },
  {
   "cell_type": "code",
   "execution_count": 8,
   "id": "0e467f8b",
   "metadata": {},
   "outputs": [
    {
     "data": {
      "text/html": [
       "<div>\n",
       "<style scoped>\n",
       "    .dataframe tbody tr th:only-of-type {\n",
       "        vertical-align: middle;\n",
       "    }\n",
       "\n",
       "    .dataframe tbody tr th {\n",
       "        vertical-align: top;\n",
       "    }\n",
       "\n",
       "    .dataframe thead th {\n",
       "        text-align: right;\n",
       "    }\n",
       "</style>\n",
       "<table border=\"1\" class=\"dataframe\">\n",
       "  <thead>\n",
       "    <tr style=\"text-align: right;\">\n",
       "      <th></th>\n",
       "      <th>LA_code</th>\n",
       "      <th>LA_name</th>\n",
       "      <th>SO_code</th>\n",
       "      <th>SO_categories</th>\n",
       "      <th>Observation</th>\n",
       "    </tr>\n",
       "  </thead>\n",
       "  <tbody>\n",
       "    <tr>\n",
       "      <th>0</th>\n",
       "      <td>E06000001</td>\n",
       "      <td>Hartlepool</td>\n",
       "      <td>-8</td>\n",
       "      <td>Does not apply</td>\n",
       "      <td>0</td>\n",
       "    </tr>\n",
       "    <tr>\n",
       "      <th>1</th>\n",
       "      <td>E06000001</td>\n",
       "      <td>Hartlepool</td>\n",
       "      <td>1</td>\n",
       "      <td>Straight or Heterosexual</td>\n",
       "      <td>68070</td>\n",
       "    </tr>\n",
       "    <tr>\n",
       "      <th>2</th>\n",
       "      <td>E06000001</td>\n",
       "      <td>Hartlepool</td>\n",
       "      <td>2</td>\n",
       "      <td>Gay or Lesbian</td>\n",
       "      <td>1121</td>\n",
       "    </tr>\n",
       "    <tr>\n",
       "      <th>3</th>\n",
       "      <td>E06000001</td>\n",
       "      <td>Hartlepool</td>\n",
       "      <td>3</td>\n",
       "      <td>Bisexual</td>\n",
       "      <td>784</td>\n",
       "    </tr>\n",
       "    <tr>\n",
       "      <th>4</th>\n",
       "      <td>E06000001</td>\n",
       "      <td>Hartlepool</td>\n",
       "      <td>4</td>\n",
       "      <td>All other sexual orientations</td>\n",
       "      <td>157</td>\n",
       "    </tr>\n",
       "    <tr>\n",
       "      <th>5</th>\n",
       "      <td>E06000001</td>\n",
       "      <td>Hartlepool</td>\n",
       "      <td>5</td>\n",
       "      <td>Not answered</td>\n",
       "      <td>4554</td>\n",
       "    </tr>\n",
       "    <tr>\n",
       "      <th>6</th>\n",
       "      <td>E06000002</td>\n",
       "      <td>Middlesbrough</td>\n",
       "      <td>-8</td>\n",
       "      <td>Does not apply</td>\n",
       "      <td>0</td>\n",
       "    </tr>\n",
       "    <tr>\n",
       "      <th>7</th>\n",
       "      <td>E06000002</td>\n",
       "      <td>Middlesbrough</td>\n",
       "      <td>1</td>\n",
       "      <td>Straight or Heterosexual</td>\n",
       "      <td>102027</td>\n",
       "    </tr>\n",
       "    <tr>\n",
       "      <th>8</th>\n",
       "      <td>E06000002</td>\n",
       "      <td>Middlesbrough</td>\n",
       "      <td>2</td>\n",
       "      <td>Gay or Lesbian</td>\n",
       "      <td>1787</td>\n",
       "    </tr>\n",
       "    <tr>\n",
       "      <th>9</th>\n",
       "      <td>E06000002</td>\n",
       "      <td>Middlesbrough</td>\n",
       "      <td>3</td>\n",
       "      <td>Bisexual</td>\n",
       "      <td>1385</td>\n",
       "    </tr>\n",
       "  </tbody>\n",
       "</table>\n",
       "</div>"
      ],
      "text/plain": [
       "     LA_code        LA_name  SO_code                  SO_categories  \\\n",
       "0  E06000001     Hartlepool       -8                 Does not apply   \n",
       "1  E06000001     Hartlepool        1       Straight or Heterosexual   \n",
       "2  E06000001     Hartlepool        2                 Gay or Lesbian   \n",
       "3  E06000001     Hartlepool        3                       Bisexual   \n",
       "4  E06000001     Hartlepool        4  All other sexual orientations   \n",
       "5  E06000001     Hartlepool        5                   Not answered   \n",
       "6  E06000002  Middlesbrough       -8                 Does not apply   \n",
       "7  E06000002  Middlesbrough        1       Straight or Heterosexual   \n",
       "8  E06000002  Middlesbrough        2                 Gay or Lesbian   \n",
       "9  E06000002  Middlesbrough        3                       Bisexual   \n",
       "\n",
       "   Observation  \n",
       "0            0  \n",
       "1        68070  \n",
       "2         1121  \n",
       "3          784  \n",
       "4          157  \n",
       "5         4554  \n",
       "6            0  \n",
       "7       102027  \n",
       "8         1787  \n",
       "9         1385  "
      ]
     },
     "execution_count": 8,
     "metadata": {},
     "output_type": "execute_result"
    }
   ],
   "source": [
    "# You can see we have our counts for each category for a specific LA\n",
    "\n",
    "df.head(10)"
   ]
  },
  {
   "cell_type": "markdown",
   "id": "5e248d46",
   "metadata": {},
   "source": [
    "### Data pre-processing\n",
    "\n",
    "Calculating SO response percentages."
   ]
  },
  {
   "cell_type": "code",
   "execution_count": 9,
   "id": "9622de3e",
   "metadata": {},
   "outputs": [],
   "source": [
    "\n",
    "# Let's calculate the df_category percentages for each local authority, then subset our df\n",
    "# I've named this new column NR_rate\n",
    "\n",
    "df['NR_rate'] = ''\n",
    "\n",
    "\n",
    "for i in df.LA_code.unique():\n",
    "    b = df[df.LA_code == i]\n",
    "    percent = b['Observation'] / b['Observation'].sum() * 100\n",
    "    df.loc[b.index, 'NR_rate'] = (percent).round(2)\n",
    "    \n",
    "# Now let's subset our df so that we're just left with our Non-response rates\n",
    "df = df[df['SO_code'] == 5].drop(columns=['LA_code', 'SO_code', 'Observation', 'SO_categories'])\n",
    "\n",
    "    \n",
    "# Sort df alphabetically by LA_name and reset index \n",
    "\n",
    "df = df.sort_values(by = 'LA_name').reset_index(drop = True)"
   ]
  },
  {
   "cell_type": "code",
   "execution_count": 11,
   "id": "6ccf5c87",
   "metadata": {},
   "outputs": [
    {
     "data": {
      "text/html": [
       "<div>\n",
       "<style scoped>\n",
       "    .dataframe tbody tr th:only-of-type {\n",
       "        vertical-align: middle;\n",
       "    }\n",
       "\n",
       "    .dataframe tbody tr th {\n",
       "        vertical-align: top;\n",
       "    }\n",
       "\n",
       "    .dataframe thead th {\n",
       "        text-align: right;\n",
       "    }\n",
       "</style>\n",
       "<table border=\"1\" class=\"dataframe\">\n",
       "  <thead>\n",
       "    <tr style=\"text-align: right;\">\n",
       "      <th></th>\n",
       "      <th>LA_name</th>\n",
       "      <th>NR_rate</th>\n",
       "    </tr>\n",
       "  </thead>\n",
       "  <tbody>\n",
       "    <tr>\n",
       "      <th>0</th>\n",
       "      <td>Adur</td>\n",
       "      <td>6.47</td>\n",
       "    </tr>\n",
       "    <tr>\n",
       "      <th>1</th>\n",
       "      <td>Allerdale</td>\n",
       "      <td>6.18</td>\n",
       "    </tr>\n",
       "    <tr>\n",
       "      <th>2</th>\n",
       "      <td>Amber Valley</td>\n",
       "      <td>6.77</td>\n",
       "    </tr>\n",
       "    <tr>\n",
       "      <th>3</th>\n",
       "      <td>Arun</td>\n",
       "      <td>7.09</td>\n",
       "    </tr>\n",
       "    <tr>\n",
       "      <th>4</th>\n",
       "      <td>Ashfield</td>\n",
       "      <td>6.77</td>\n",
       "    </tr>\n",
       "    <tr>\n",
       "      <th>...</th>\n",
       "      <td>...</td>\n",
       "      <td>...</td>\n",
       "    </tr>\n",
       "    <tr>\n",
       "      <th>326</th>\n",
       "      <td>Wrexham</td>\n",
       "      <td>7.88</td>\n",
       "    </tr>\n",
       "    <tr>\n",
       "      <th>327</th>\n",
       "      <td>Wychavon</td>\n",
       "      <td>6.15</td>\n",
       "    </tr>\n",
       "    <tr>\n",
       "      <th>328</th>\n",
       "      <td>Wyre</td>\n",
       "      <td>6.1</td>\n",
       "    </tr>\n",
       "    <tr>\n",
       "      <th>329</th>\n",
       "      <td>Wyre Forest</td>\n",
       "      <td>6.91</td>\n",
       "    </tr>\n",
       "    <tr>\n",
       "      <th>330</th>\n",
       "      <td>York</td>\n",
       "      <td>7.91</td>\n",
       "    </tr>\n",
       "  </tbody>\n",
       "</table>\n",
       "<p>331 rows × 2 columns</p>\n",
       "</div>"
      ],
      "text/plain": [
       "          LA_name NR_rate\n",
       "0            Adur    6.47\n",
       "1       Allerdale    6.18\n",
       "2    Amber Valley    6.77\n",
       "3            Arun    7.09\n",
       "4        Ashfield    6.77\n",
       "..            ...     ...\n",
       "326       Wrexham    7.88\n",
       "327      Wychavon    6.15\n",
       "328          Wyre     6.1\n",
       "329   Wyre Forest    6.91\n",
       "330          York    7.91\n",
       "\n",
       "[331 rows x 2 columns]"
      ]
     },
     "execution_count": 11,
     "metadata": {},
     "output_type": "execute_result"
    }
   ],
   "source": [
    "# Success!\n",
    "\n",
    "df"
   ]
  },
  {
   "cell_type": "markdown",
   "id": "17c2f6b1",
   "metadata": {},
   "source": [
    "## Main language\n",
    "\n",
    "Okay, so we have our non-response rate for each LA, we also need the % of Non-English speakers.\n",
    "\n",
    "Let's start by importing the main language dataset, which classifies residents by their main language."
   ]
  },
  {
   "cell_type": "markdown",
   "id": "17bc5094",
   "metadata": {},
   "source": [
    "### Read-in data"
   ]
  },
  {
   "cell_type": "markdown",
   "id": "912bed64",
   "metadata": {},
   "source": [
    "### Cleaning data and Pre-processing\n",
    "\n",
    "This step requires us to read-in the main language dataset and then clean the columns and calculate our Non-English percentages.\n",
    "\n",
    "Luckily for us however, we have already completed this step in the previous 'Main_Lang_NR_GI.ipynb' notebook. So we'll just read-in that data!"
   ]
  },
  {
   "cell_type": "code",
   "execution_count": 12,
   "id": "a935a57a",
   "metadata": {},
   "outputs": [],
   "source": [
    "non_eng_sum = pd.read_csv('../Data/non_eng_sum.csv')"
   ]
  },
  {
   "cell_type": "code",
   "execution_count": 13,
   "id": "41b2b638",
   "metadata": {},
   "outputs": [
    {
     "data": {
      "text/html": [
       "<div>\n",
       "<style scoped>\n",
       "    .dataframe tbody tr th:only-of-type {\n",
       "        vertical-align: middle;\n",
       "    }\n",
       "\n",
       "    .dataframe tbody tr th {\n",
       "        vertical-align: top;\n",
       "    }\n",
       "\n",
       "    .dataframe thead th {\n",
       "        text-align: right;\n",
       "    }\n",
       "</style>\n",
       "<table border=\"1\" class=\"dataframe\">\n",
       "  <thead>\n",
       "    <tr style=\"text-align: right;\">\n",
       "      <th></th>\n",
       "      <th>LA_name</th>\n",
       "      <th>Observation</th>\n",
       "      <th>Non_Eng_Percentages</th>\n",
       "    </tr>\n",
       "  </thead>\n",
       "  <tbody>\n",
       "    <tr>\n",
       "      <th>0</th>\n",
       "      <td>Adur</td>\n",
       "      <td>1971</td>\n",
       "      <td>3.14</td>\n",
       "    </tr>\n",
       "    <tr>\n",
       "      <th>1</th>\n",
       "      <td>Allerdale</td>\n",
       "      <td>1073</td>\n",
       "      <td>1.15</td>\n",
       "    </tr>\n",
       "    <tr>\n",
       "      <th>2</th>\n",
       "      <td>Amber Valley</td>\n",
       "      <td>1850</td>\n",
       "      <td>1.51</td>\n",
       "    </tr>\n",
       "    <tr>\n",
       "      <th>3</th>\n",
       "      <td>Arun</td>\n",
       "      <td>9469</td>\n",
       "      <td>5.89</td>\n",
       "    </tr>\n",
       "    <tr>\n",
       "      <th>4</th>\n",
       "      <td>Ashfield</td>\n",
       "      <td>3944</td>\n",
       "      <td>3.22</td>\n",
       "    </tr>\n",
       "    <tr>\n",
       "      <th>...</th>\n",
       "      <td>...</td>\n",
       "      <td>...</td>\n",
       "      <td>...</td>\n",
       "    </tr>\n",
       "    <tr>\n",
       "      <th>326</th>\n",
       "      <td>Wrexham</td>\n",
       "      <td>6682</td>\n",
       "      <td>5.10</td>\n",
       "    </tr>\n",
       "    <tr>\n",
       "      <th>327</th>\n",
       "      <td>Wychavon</td>\n",
       "      <td>6065</td>\n",
       "      <td>4.71</td>\n",
       "    </tr>\n",
       "    <tr>\n",
       "      <th>328</th>\n",
       "      <td>Wyre</td>\n",
       "      <td>1376</td>\n",
       "      <td>1.26</td>\n",
       "    </tr>\n",
       "    <tr>\n",
       "      <th>329</th>\n",
       "      <td>Wyre Forest</td>\n",
       "      <td>2331</td>\n",
       "      <td>2.36</td>\n",
       "    </tr>\n",
       "    <tr>\n",
       "      <th>330</th>\n",
       "      <td>York</td>\n",
       "      <td>10061</td>\n",
       "      <td>5.09</td>\n",
       "    </tr>\n",
       "  </tbody>\n",
       "</table>\n",
       "<p>331 rows × 3 columns</p>\n",
       "</div>"
      ],
      "text/plain": [
       "          LA_name  Observation  Non_Eng_Percentages\n",
       "0            Adur         1971                 3.14\n",
       "1       Allerdale         1073                 1.15\n",
       "2    Amber Valley         1850                 1.51\n",
       "3            Arun         9469                 5.89\n",
       "4        Ashfield         3944                 3.22\n",
       "..            ...          ...                  ...\n",
       "326       Wrexham         6682                 5.10\n",
       "327      Wychavon         6065                 4.71\n",
       "328          Wyre         1376                 1.26\n",
       "329   Wyre Forest         2331                 2.36\n",
       "330          York        10061                 5.09\n",
       "\n",
       "[331 rows x 3 columns]"
      ]
     },
     "execution_count": 13,
     "metadata": {},
     "output_type": "execute_result"
    }
   ],
   "source": [
    "# Let's take a look..\n",
    "# Nice, we have our Non-English percentages for each LA\n",
    "\n",
    "non_eng_sum"
   ]
  },
  {
   "cell_type": "markdown",
   "id": "960932b6",
   "metadata": {},
   "source": [
    "### Merge datasets\n",
    "\n",
    "All that's left for us to do now is merge our non_eng_sum dataset with our non-english percentages, with our df dataframe which has our non-response rates for each LA."
   ]
  },
  {
   "cell_type": "code",
   "execution_count": 14,
   "id": "e5da259b",
   "metadata": {},
   "outputs": [],
   "source": [
    "# Merge non_eng_sum and df together\n",
    "\n",
    "merged_df = non_eng_sum.merge(df, on = ['LA_name'])"
   ]
  },
  {
   "cell_type": "code",
   "execution_count": 15,
   "id": "86ab27dc",
   "metadata": {},
   "outputs": [
    {
     "data": {
      "text/html": [
       "<div>\n",
       "<style scoped>\n",
       "    .dataframe tbody tr th:only-of-type {\n",
       "        vertical-align: middle;\n",
       "    }\n",
       "\n",
       "    .dataframe tbody tr th {\n",
       "        vertical-align: top;\n",
       "    }\n",
       "\n",
       "    .dataframe thead th {\n",
       "        text-align: right;\n",
       "    }\n",
       "</style>\n",
       "<table border=\"1\" class=\"dataframe\">\n",
       "  <thead>\n",
       "    <tr style=\"text-align: right;\">\n",
       "      <th></th>\n",
       "      <th>LA_name</th>\n",
       "      <th>Observation</th>\n",
       "      <th>Non_Eng_Percentages</th>\n",
       "      <th>NR_rate</th>\n",
       "    </tr>\n",
       "  </thead>\n",
       "  <tbody>\n",
       "    <tr>\n",
       "      <th>0</th>\n",
       "      <td>Adur</td>\n",
       "      <td>1971</td>\n",
       "      <td>3.14</td>\n",
       "      <td>6.47</td>\n",
       "    </tr>\n",
       "    <tr>\n",
       "      <th>1</th>\n",
       "      <td>Allerdale</td>\n",
       "      <td>1073</td>\n",
       "      <td>1.15</td>\n",
       "      <td>6.18</td>\n",
       "    </tr>\n",
       "    <tr>\n",
       "      <th>2</th>\n",
       "      <td>Amber Valley</td>\n",
       "      <td>1850</td>\n",
       "      <td>1.51</td>\n",
       "      <td>6.77</td>\n",
       "    </tr>\n",
       "    <tr>\n",
       "      <th>3</th>\n",
       "      <td>Arun</td>\n",
       "      <td>9469</td>\n",
       "      <td>5.89</td>\n",
       "      <td>7.09</td>\n",
       "    </tr>\n",
       "    <tr>\n",
       "      <th>4</th>\n",
       "      <td>Ashfield</td>\n",
       "      <td>3944</td>\n",
       "      <td>3.22</td>\n",
       "      <td>6.77</td>\n",
       "    </tr>\n",
       "  </tbody>\n",
       "</table>\n",
       "</div>"
      ],
      "text/plain": [
       "        LA_name  Observation  Non_Eng_Percentages NR_rate\n",
       "0          Adur         1971                 3.14    6.47\n",
       "1     Allerdale         1073                 1.15    6.18\n",
       "2  Amber Valley         1850                 1.51    6.77\n",
       "3          Arun         9469                 5.89    7.09\n",
       "4      Ashfield         3944                 3.22    6.77"
      ]
     },
     "execution_count": 15,
     "metadata": {},
     "output_type": "execute_result"
    }
   ],
   "source": [
    "merged_df.head()"
   ]
  },
  {
   "cell_type": "markdown",
   "id": "34412570",
   "metadata": {},
   "source": [
    "### Data processing\n",
    "\n",
    "Awesome. Now we can move on to our data processing, where we can extract some useful information and insights from our 2 variables. We're going to make a simple scatterplot showing the relationship between non-response rate and % of non-english speakers in our LAs."
   ]
  },
  {
   "cell_type": "markdown",
   "id": "0fffd36e",
   "metadata": {},
   "source": [
    "#### Scatterplot visualisation"
   ]
  },
  {
   "cell_type": "code",
   "execution_count": 18,
   "id": "8e2f8f27",
   "metadata": {},
   "outputs": [
    {
     "data": {
      "image/png": "[encoded data removed]",
      "text/plain": [
       "<Figure size 1170x827 with 1 Axes>"
      ]
     },
     "metadata": {},
     "output_type": "display_data"
    }
   ],
   "source": [
    "import matplotlib.pyplot as plt\n",
    "\n",
    "# Set the size of the seaborn plot\n",
    "\n",
    "sns.set(rc={'figure.figsize':(11.7,8.27)})\n",
    "\n",
    "# Now we can visualise the relationship between GI NR and % of Non-Eng speakers\n",
    "\n",
    "plt.scatter(merged_df['Non_Eng_Percentages'], merged_df['NR_rate'])\n",
    "\n",
    "# We can use a bit of Machine Learning to selectively apply LA labels\n",
    "\n",
    "# Find nearest neighbors\n",
    "X = merged_df[['Non_Eng_Percentages', 'NR_rate']].values\n",
    "nbrs = NearestNeighbors(n_neighbors=2).fit(X)\n",
    "distances, indices = nbrs.kneighbors(X)\n",
    "min_distance = 0.3\n",
    "\n",
    "for i, row in merged_df.iterrows():\n",
    "    if distances[i][1] >= min_distance:\n",
    "        plt.annotate(row['LA_name'], (row['Non_Eng_Percentages'], row['NR_rate']), fontsize=8, alpha=0.6)\n",
    "\n",
    "plt.xlabel('Percentage of Non-English Speakers')\n",
    "plt.ylabel('Non-response Rate')\n",
    "plt.title('Relationship between Non-response Rate and Non-English Speakers')\n",
    "plt.show()"
   ]
  },
  {
   "cell_type": "markdown",
   "id": "e655202b",
   "metadata": {},
   "source": [
    "### Correlation"
   ]
  },
  {
   "cell_type": "code",
   "execution_count": 21,
   "id": "9159d4cf",
   "metadata": {},
   "outputs": [
    {
     "name": "stdout",
     "output_type": "stream",
     "text": [
      "Correlation: 0.783971686033584\n",
      "P-value: 4.248327867805087e-70\n"
     ]
    }
   ],
   "source": [
    "# Calculate the Pearson correlation coefficient and the p-value\n",
    "\n",
    "correlation, p_value = pearsonr(merged_df['Non_Eng_Percentages'], df['NR_rate'])\n",
    "\n",
    "print(\"Correlation:\", correlation)\n",
    "print(\"P-value:\", p_value)"
   ]
  },
  {
   "cell_type": "markdown",
   "id": "d8628715",
   "metadata": {},
   "source": [
    "# Part 2\n",
    "\n",
    "Okay, so that's all well and good, but it'd be nice to explore this relationship further.\n",
    "\n",
    "Therefore, I will:\n",
    "\n",
    "* color-code each data point by region\n",
    "* color-code each data point by urban-rural classification"
   ]
  },
  {
   "cell_type": "markdown",
   "id": "a1fe4859",
   "metadata": {},
   "source": [
    "## Region and urban-rural classification\n",
    "\n",
    "We will classify each Local Authority by region and urban-rural classification, and add this info as an additional column to our merged_df. Again, we are lucky that we've already done this in the previous notebook mentioned above. So, we'll just read in the dataset!"
   ]
  },
  {
   "cell_type": "markdown",
   "id": "6429e9b5",
   "metadata": {},
   "source": [
    "### Read-in data"
   ]
  },
  {
   "cell_type": "code",
   "execution_count": 24,
   "id": "757b281f",
   "metadata": {},
   "outputs": [],
   "source": [
    "merged_2 = pd.read_csv('../Data/lang_rural_region_gi.csv')"
   ]
  },
  {
   "cell_type": "code",
   "execution_count": 25,
   "id": "0a9d11f5",
   "metadata": {},
   "outputs": [
    {
     "data": {
      "text/html": [
       "<div>\n",
       "<style scoped>\n",
       "    .dataframe tbody tr th:only-of-type {\n",
       "        vertical-align: middle;\n",
       "    }\n",
       "\n",
       "    .dataframe tbody tr th {\n",
       "        vertical-align: top;\n",
       "    }\n",
       "\n",
       "    .dataframe thead th {\n",
       "        text-align: right;\n",
       "    }\n",
       "</style>\n",
       "<table border=\"1\" class=\"dataframe\">\n",
       "  <thead>\n",
       "    <tr style=\"text-align: right;\">\n",
       "      <th></th>\n",
       "      <th>LA_name</th>\n",
       "      <th>Observation</th>\n",
       "      <th>Non_Eng_Percentages</th>\n",
       "      <th>NR_rate</th>\n",
       "      <th>region</th>\n",
       "      <th>Urb_Rur</th>\n",
       "    </tr>\n",
       "  </thead>\n",
       "  <tbody>\n",
       "    <tr>\n",
       "      <th>0</th>\n",
       "      <td>Adur</td>\n",
       "      <td>1971</td>\n",
       "      <td>3.14</td>\n",
       "      <td>4.68</td>\n",
       "      <td>South East</td>\n",
       "      <td>Predominantly Urban</td>\n",
       "    </tr>\n",
       "    <tr>\n",
       "      <th>1</th>\n",
       "      <td>Allerdale</td>\n",
       "      <td>1073</td>\n",
       "      <td>1.15</td>\n",
       "      <td>4.61</td>\n",
       "      <td>North West</td>\n",
       "      <td>Predominantly Rural</td>\n",
       "    </tr>\n",
       "    <tr>\n",
       "      <th>2</th>\n",
       "      <td>Amber Valley</td>\n",
       "      <td>1850</td>\n",
       "      <td>1.51</td>\n",
       "      <td>5.44</td>\n",
       "      <td>East Midlands</td>\n",
       "      <td>Predominantly Urban</td>\n",
       "    </tr>\n",
       "    <tr>\n",
       "      <th>3</th>\n",
       "      <td>Arun</td>\n",
       "      <td>9469</td>\n",
       "      <td>5.89</td>\n",
       "      <td>5.44</td>\n",
       "      <td>South East</td>\n",
       "      <td>Predominantly Urban</td>\n",
       "    </tr>\n",
       "    <tr>\n",
       "      <th>4</th>\n",
       "      <td>Ashfield</td>\n",
       "      <td>3944</td>\n",
       "      <td>3.22</td>\n",
       "      <td>5.64</td>\n",
       "      <td>East Midlands</td>\n",
       "      <td>Predominantly Urban</td>\n",
       "    </tr>\n",
       "  </tbody>\n",
       "</table>\n",
       "</div>"
      ],
      "text/plain": [
       "        LA_name  Observation  Non_Eng_Percentages  NR_rate         region  \\\n",
       "0          Adur         1971                 3.14     4.68     South East   \n",
       "1     Allerdale         1073                 1.15     4.61     North West   \n",
       "2  Amber Valley         1850                 1.51     5.44  East Midlands   \n",
       "3          Arun         9469                 5.89     5.44     South East   \n",
       "4      Ashfield         3944                 3.22     5.64  East Midlands   \n",
       "\n",
       "               Urb_Rur  \n",
       "0  Predominantly Urban  \n",
       "1  Predominantly Rural  \n",
       "2  Predominantly Urban  \n",
       "3  Predominantly Urban  \n",
       "4  Predominantly Urban  "
      ]
     },
     "execution_count": 25,
     "metadata": {},
     "output_type": "execute_result"
    }
   ],
   "source": [
    "# Great. What we'll do now is pinch the region and Urb_Rur columns\n",
    "# We'll simply add them to our merged_df!\n",
    "\n",
    "merged_2.head()"
   ]
  },
  {
   "cell_type": "code",
   "execution_count": 27,
   "id": "72f1871e",
   "metadata": {},
   "outputs": [],
   "source": [
    "merged_df['region'] = merged_2['region'] \n",
    "merged_df['Urb_Rur'] = merged_2['Urb_Rur']"
   ]
  },
  {
   "cell_type": "code",
   "execution_count": 28,
   "id": "f2c90df2",
   "metadata": {},
   "outputs": [
    {
     "data": {
      "text/html": [
       "<div>\n",
       "<style scoped>\n",
       "    .dataframe tbody tr th:only-of-type {\n",
       "        vertical-align: middle;\n",
       "    }\n",
       "\n",
       "    .dataframe tbody tr th {\n",
       "        vertical-align: top;\n",
       "    }\n",
       "\n",
       "    .dataframe thead th {\n",
       "        text-align: right;\n",
       "    }\n",
       "</style>\n",
       "<table border=\"1\" class=\"dataframe\">\n",
       "  <thead>\n",
       "    <tr style=\"text-align: right;\">\n",
       "      <th></th>\n",
       "      <th>LA_name</th>\n",
       "      <th>Observation</th>\n",
       "      <th>Non_Eng_Percentages</th>\n",
       "      <th>NR_rate</th>\n",
       "      <th>region</th>\n",
       "      <th>Urb_Rur</th>\n",
       "    </tr>\n",
       "  </thead>\n",
       "  <tbody>\n",
       "    <tr>\n",
       "      <th>0</th>\n",
       "      <td>Adur</td>\n",
       "      <td>1971</td>\n",
       "      <td>3.14</td>\n",
       "      <td>6.47</td>\n",
       "      <td>South East</td>\n",
       "      <td>Predominantly Urban</td>\n",
       "    </tr>\n",
       "    <tr>\n",
       "      <th>1</th>\n",
       "      <td>Allerdale</td>\n",
       "      <td>1073</td>\n",
       "      <td>1.15</td>\n",
       "      <td>6.18</td>\n",
       "      <td>North West</td>\n",
       "      <td>Predominantly Rural</td>\n",
       "    </tr>\n",
       "    <tr>\n",
       "      <th>2</th>\n",
       "      <td>Amber Valley</td>\n",
       "      <td>1850</td>\n",
       "      <td>1.51</td>\n",
       "      <td>6.77</td>\n",
       "      <td>East Midlands</td>\n",
       "      <td>Predominantly Urban</td>\n",
       "    </tr>\n",
       "    <tr>\n",
       "      <th>3</th>\n",
       "      <td>Arun</td>\n",
       "      <td>9469</td>\n",
       "      <td>5.89</td>\n",
       "      <td>7.09</td>\n",
       "      <td>South East</td>\n",
       "      <td>Predominantly Urban</td>\n",
       "    </tr>\n",
       "    <tr>\n",
       "      <th>4</th>\n",
       "      <td>Ashfield</td>\n",
       "      <td>3944</td>\n",
       "      <td>3.22</td>\n",
       "      <td>6.77</td>\n",
       "      <td>East Midlands</td>\n",
       "      <td>Predominantly Urban</td>\n",
       "    </tr>\n",
       "  </tbody>\n",
       "</table>\n",
       "</div>"
      ],
      "text/plain": [
       "        LA_name  Observation  Non_Eng_Percentages NR_rate         region  \\\n",
       "0          Adur         1971                 3.14    6.47     South East   \n",
       "1     Allerdale         1073                 1.15    6.18     North West   \n",
       "2  Amber Valley         1850                 1.51    6.77  East Midlands   \n",
       "3          Arun         9469                 5.89    7.09     South East   \n",
       "4      Ashfield         3944                 3.22    6.77  East Midlands   \n",
       "\n",
       "               Urb_Rur  \n",
       "0  Predominantly Urban  \n",
       "1  Predominantly Rural  \n",
       "2  Predominantly Urban  \n",
       "3  Predominantly Urban  \n",
       "4  Predominantly Urban  "
      ]
     },
     "execution_count": 28,
     "metadata": {},
     "output_type": "execute_result"
    }
   ],
   "source": [
    "# Success.\n",
    "\n",
    "merged_df.head()"
   ]
  },
  {
   "cell_type": "markdown",
   "id": "65584c56",
   "metadata": {},
   "source": [
    "### Data processing\n",
    "\n",
    "Now that we have our finished dataset, we'll first make a scatterplot in seaborn, then will make a standalone interactive scatterplot using Bokeh."
   ]
  },
  {
   "cell_type": "markdown",
   "id": "6da1b67f",
   "metadata": {},
   "source": [
    "#### Scatterplot - seaborn"
   ]
  },
  {
   "cell_type": "code",
   "execution_count": 29,
   "id": "bac4fd61",
   "metadata": {},
   "outputs": [
    {
     "data": {
      "image/png": "[encoded data removed]",
      "text/plain": [
       "<Figure size 1170x827 with 1 Axes>"
      ]
     },
     "metadata": {},
     "output_type": "display_data"
    }
   ],
   "source": [
    "import seaborn as sns\n",
    "\n",
    "# Set the size of the seaborn plot\n",
    "\n",
    "sns.set(rc={'figure.figsize':(11.7,8.27)})\n",
    "\n",
    "# Now we can visualise the relationship between GI NR and % of Non-Eng speakers\n",
    "# Setting our hue to region, colours each dp by its corresponding region\n",
    "\n",
    "ax = sns.scatterplot(data=merged_df, x='Non_Eng_Percentages', y='NR_rate', hue='region')\n",
    "\n",
    "# We can use a bit of Machine Learning to selectively apply LA labels\n",
    "\n",
    "from sklearn.neighbors import NearestNeighbors\n",
    "\n",
    "# Find nearest neighbors\n",
    "\n",
    "X = merged_df[['Non_Eng_Percentages', 'NR_rate']].values\n",
    "nbrs = NearestNeighbors(n_neighbors=2).fit(X)\n",
    "distances, indices = nbrs.kneighbors(X)\n",
    "min_distance = 0.3\n",
    "\n",
    "for i, row in merged_df.iterrows():\n",
    "    if distances[i][1] >= min_distance:\n",
    "        ax.annotate(row['LA_name'], (row['Non_Eng_Percentages'], row['NR_rate']), fontsize=8, alpha=0.6)\n",
    "\n",
    "# Set x,y, and title labels\n",
    "\n",
    "plt.xlabel('Percentage of Non-English Speakers')\n",
    "plt.ylabel('Non-response Rate')\n",
    "plt.title('Relationship between Non-response Rate and Non-English Speakers')\n",
    "\n",
    "# Display output\n",
    "\n",
    "plt.show()\n"
   ]
  },
  {
   "cell_type": "markdown",
   "id": "7f808c35",
   "metadata": {},
   "source": [
    "#### Scatterplot - Bokeh"
   ]
  },
  {
   "cell_type": "code",
   "execution_count": 30,
   "id": "7ec32a67",
   "metadata": {},
   "outputs": [
    {
     "data": {
      "text/html": [
       "<style>\n",
       "        .bk-notebook-logo {\n",
       "            display: block;\n",
       "            width: 20px;\n",
       "            height: 20px;\n",
       "            background-image: url(data:image/png;base64,iVBORw0KGgoAAAANSUhEUgAAABQAAAAUCAYAAACNiR0NAAAABHNCSVQICAgIfAhkiAAAAAlwSFlzAAALEgAACxIB0t1+/AAAABx0RVh0U29mdHdhcmUAQWRvYmUgRmlyZXdvcmtzIENTNui8sowAAAOkSURBVDiNjZRtaJVlGMd/1/08zzln5zjP1LWcU9N0NkN8m2CYjpgQYQXqSs0I84OLIC0hkEKoPtiH3gmKoiJDU7QpLgoLjLIQCpEsNJ1vqUOdO7ppbuec5+V+rj4ctwzd8IIbbi6u+8f1539dt3A78eXC7QizUF7gyV1fD1Yqg4JWz84yffhm0qkFqBogB9rM8tZdtwVsPUhWhGcFJngGeWrPzHm5oaMmkfEg1usvLFyc8jLRqDOMru7AyC8saQr7GG7f5fvDeH7Ej8CM66nIF+8yngt6HWaKh7k49Soy9nXurCi1o3qUbS3zWfrYeQDTB/Qj6kX6Ybhw4B+bOYoLKCC9H3Nu/leUTZ1JdRWkkn2ldcCamzrcf47KKXdAJllSlxAOkRgyHsGC/zRday5Qld9DyoM4/q/rUoy/CXh3jzOu3bHUVZeU+DEn8FInkPBFlu3+nW3Nw0mk6vCDiWg8CeJaxEwuHS3+z5RgY+YBR6V1Z1nxSOfoaPa4LASWxxdNp+VWTk7+4vzaou8v8PN+xo+KY2xsw6une2frhw05CTYOmQvsEhjhWjn0bmXPjpE1+kplmmkP3suftwTubK9Vq22qKmrBhpY4jvd5afdRA3wGjFAgcnTK2s4hY0/GPNIb0nErGMCRxWOOX64Z8RAC4oCXdklmEvcL8o0BfkNK4lUg9HTl+oPlQxdNo3Mg4Nv175e/1LDGzZen30MEjRUtmXSfiTVu1kK8W4txyV6BMKlbgk3lMwYCiusNy9fVfvvwMxv8Ynl6vxoByANLTWplvuj/nF9m2+PDtt1eiHPBr1oIfhCChQMBw6Aw0UulqTKZdfVvfG7VcfIqLG9bcldL/+pdWTLxLUy8Qq38heUIjh4XlzZxzQm19lLFlr8vdQ97rjZVOLf8nclzckbcD4wxXMidpX30sFd37Fv/GtwwhzhxGVAprjbg0gCAEeIgwCZyTV2Z1REEW8O4py0wsjeloKoMr6iCY6dP92H6Vw/oTyICIthibxjm/DfN9lVz8IqtqKYLUXfoKVMVQVVJOElGjrnnUt9T9wbgp8AyYKaGlqingHZU/uG2NTZSVqwHQTWkx9hxjkpWDaCg6Ckj5qebgBVbT3V3NNXMSiWSDdGV3hrtzla7J+duwPOToIg42ChPQOQjspnSlp1V+Gjdged7+8UN5CRAV7a5EdFNwCjEaBR27b3W890TE7g24NAP/mMDXRWrGoFPQI9ls/MWO2dWFAar/xcOIImbbpA3zgAAAABJRU5ErkJggg==);\n",
       "        }\n",
       "    </style>\n",
       "    <div>\n",
       "        <a href=\"https://bokeh.org\" target=\"_blank\" class=\"bk-notebook-logo\"></a>\n",
       "        <span id=\"p1181\">Loading BokehJS ...</span>\n",
       "    </div>\n"
      ]
     },
     "metadata": {},
     "output_type": "display_data"
    },
    {
     "data": {
      "application/javascript": [
       "(function(root) {\n",
       "  function now() {\n",
       "    return new Date();\n",
       "  }\n",
       "\n",
       "  const force = true;\n",
       "\n",
       "  if (typeof root._bokeh_onload_callbacks === \"undefined\" || force === true) {\n",
       "    root._bokeh_onload_callbacks = [];\n",
       "    root._bokeh_is_loading = undefined;\n",
       "  }\n",
       "\n",
       "const JS_MIME_TYPE = 'application/javascript';\n",
       "  const HTML_MIME_TYPE = 'text/html';\n",
       "  const EXEC_MIME_TYPE = 'application/vnd.bokehjs_exec.v0+json';\n",
       "  const CLASS_NAME = 'output_bokeh rendered_html';\n",
       "\n",
       "  /**\n",
       "   * Render data to the DOM node\n",
       "   */\n",
       "  function render(props, node) {\n",
       "    const script = document.createElement(\"script\");\n",
       "    node.appendChild(script);\n",
       "  }\n",
       "\n",
       "  /**\n",
       "   * Handle when an output is cleared or removed\n",
       "   */\n",
       "  function handleClearOutput(event, handle) {\n",
       "    const cell = handle.cell;\n",
       "\n",
       "    const id = cell.output_area._bokeh_element_id;\n",
       "    const server_id = cell.output_area._bokeh_server_id;\n",
       "    // Clean up Bokeh references\n",
       "    if (id != null && id in Bokeh.index) {\n",
       "      Bokeh.index[id].model.document.clear();\n",
       "      delete Bokeh.index[id];\n",
       "    }\n",
       "\n",
       "    if (server_id !== undefined) {\n",
       "      // Clean up Bokeh references\n",
       "      const cmd_clean = \"from bokeh.io.state import curstate; print(curstate().uuid_to_server['\" + server_id + \"'].get_sessions()[0].document.roots[0]._id)\";\n",
       "      cell.notebook.kernel.execute(cmd_clean, {\n",
       "        iopub: {\n",
       "          output: function(msg) {\n",
       "            const id = msg.content.text.trim();\n",
       "            if (id in Bokeh.index) {\n",
       "              Bokeh.index[id].model.document.clear();\n",
       "              delete Bokeh.index[id];\n",
       "            }\n",
       "          }\n",
       "        }\n",
       "      });\n",
       "      // Destroy server and session\n",
       "      const cmd_destroy = \"import bokeh.io.notebook as ion; ion.destroy_server('\" + server_id + \"')\";\n",
       "      cell.notebook.kernel.execute(cmd_destroy);\n",
       "    }\n",
       "  }\n",
       "\n",
       "  /**\n",
       "   * Handle when a new output is added\n",
       "   */\n",
       "  function handleAddOutput(event, handle) {\n",
       "    const output_area = handle.output_area;\n",
       "    const output = handle.output;\n",
       "\n",
       "    // limit handleAddOutput to display_data with EXEC_MIME_TYPE content only\n",
       "    if ((output.output_type != \"display_data\") || (!Object.prototype.hasOwnProperty.call(output.data, EXEC_MIME_TYPE))) {\n",
       "      return\n",
       "    }\n",
       "\n",
       "    const toinsert = output_area.element.find(\".\" + CLASS_NAME.split(' ')[0]);\n",
       "\n",
       "    if (output.metadata[EXEC_MIME_TYPE][\"id\"] !== undefined) {\n",
       "      toinsert[toinsert.length - 1].firstChild.textContent = output.data[JS_MIME_TYPE];\n",
       "      // store reference to embed id on output_area\n",
       "      output_area._bokeh_element_id = output.metadata[EXEC_MIME_TYPE][\"id\"];\n",
       "    }\n",
       "    if (output.metadata[EXEC_MIME_TYPE][\"server_id\"] !== undefined) {\n",
       "      const bk_div = document.createElement(\"div\");\n",
       "      bk_div.innerHTML = output.data[HTML_MIME_TYPE];\n",
       "      const script_attrs = bk_div.children[0].attributes;\n",
       "      for (let i = 0; i < script_attrs.length; i++) {\n",
       "        toinsert[toinsert.length - 1].firstChild.setAttribute(script_attrs[i].name, script_attrs[i].value);\n",
       "        toinsert[toinsert.length - 1].firstChild.textContent = bk_div.children[0].textContent\n",
       "      }\n",
       "      // store reference to server id on output_area\n",
       "      output_area._bokeh_server_id = output.metadata[EXEC_MIME_TYPE][\"server_id\"];\n",
       "    }\n",
       "  }\n",
       "\n",
       "  function register_renderer(events, OutputArea) {\n",
       "\n",
       "    function append_mime(data, metadata, element) {\n",
       "      // create a DOM node to render to\n",
       "      const toinsert = this.create_output_subarea(\n",
       "        metadata,\n",
       "        CLASS_NAME,\n",
       "        EXEC_MIME_TYPE\n",
       "      );\n",
       "      this.keyboard_manager.register_events(toinsert);\n",
       "      // Render to node\n",
       "      const props = {data: data, metadata: metadata[EXEC_MIME_TYPE]};\n",
       "      render(props, toinsert[toinsert.length - 1]);\n",
       "      element.append(toinsert);\n",
       "      return toinsert\n",
       "    }\n",
       "\n",
       "    /* Handle when an output is cleared or removed */\n",
       "    events.on('clear_output.CodeCell', handleClearOutput);\n",
       "    events.on('delete.Cell', handleClearOutput);\n",
       "\n",
       "    /* Handle when a new output is added */\n",
       "    events.on('output_added.OutputArea', handleAddOutput);\n",
       "\n",
       "    /**\n",
       "     * Register the mime type and append_mime function with output_area\n",
       "     */\n",
       "    OutputArea.prototype.register_mime_type(EXEC_MIME_TYPE, append_mime, {\n",
       "      /* Is output safe? */\n",
       "      safe: true,\n",
       "      /* Index of renderer in `output_area.display_order` */\n",
       "      index: 0\n",
       "    });\n",
       "  }\n",
       "\n",
       "  // register the mime type if in Jupyter Notebook environment and previously unregistered\n",
       "  if (root.Jupyter !== undefined) {\n",
       "    const events = require('base/js/events');\n",
       "    const OutputArea = require('notebook/js/outputarea').OutputArea;\n",
       "\n",
       "    if (OutputArea.prototype.mime_types().indexOf(EXEC_MIME_TYPE) == -1) {\n",
       "      register_renderer(events, OutputArea);\n",
       "    }\n",
       "  }\n",
       "  if (typeof (root._bokeh_timeout) === \"undefined\" || force === true) {\n",
       "    root._bokeh_timeout = Date.now() + 5000;\n",
       "    root._bokeh_failed_load = false;\n",
       "  }\n",
       "\n",
       "  const NB_LOAD_WARNING = {'data': {'text/html':\n",
       "     \"<div style='background-color: #fdd'>\\n\"+\n",
       "     \"<p>\\n\"+\n",
       "     \"BokehJS does not appear to have successfully loaded. If loading BokehJS from CDN, this \\n\"+\n",
       "     \"may be due to a slow or bad network connection. Possible fixes:\\n\"+\n",
       "     \"</p>\\n\"+\n",
       "     \"<ul>\\n\"+\n",
       "     \"<li>re-rerun `output_notebook()` to attempt to load from CDN again, or</li>\\n\"+\n",
       "     \"<li>use INLINE resources instead, as so:</li>\\n\"+\n",
       "     \"</ul>\\n\"+\n",
       "     \"<code>\\n\"+\n",
       "     \"from bokeh.resources import INLINE\\n\"+\n",
       "     \"output_notebook(resources=INLINE)\\n\"+\n",
       "     \"</code>\\n\"+\n",
       "     \"</div>\"}};\n",
       "\n",
       "  function display_loaded() {\n",
       "    const el = document.getElementById(\"p1181\");\n",
       "    if (el != null) {\n",
       "      el.textContent = \"BokehJS is loading...\";\n",
       "    }\n",
       "    if (root.Bokeh !== undefined) {\n",
       "      if (el != null) {\n",
       "        el.textContent = \"BokehJS \" + root.Bokeh.version + \" successfully loaded.\";\n",
       "      }\n",
       "    } else if (Date.now() < root._bokeh_timeout) {\n",
       "      setTimeout(display_loaded, 100)\n",
       "    }\n",
       "  }\n",
       "\n",
       "  function run_callbacks() {\n",
       "    try {\n",
       "      root._bokeh_onload_callbacks.forEach(function(callback) {\n",
       "        if (callback != null)\n",
       "          callback();\n",
       "      });\n",
       "    } finally {\n",
       "      delete root._bokeh_onload_callbacks\n",
       "    }\n",
       "    console.debug(\"Bokeh: all callbacks have finished\");\n",
       "  }\n",
       "\n",
       "  function load_libs(css_urls, js_urls, callback) {\n",
       "    if (css_urls == null) css_urls = [];\n",
       "    if (js_urls == null) js_urls = [];\n",
       "\n",
       "    root._bokeh_onload_callbacks.push(callback);\n",
       "    if (root._bokeh_is_loading > 0) {\n",
       "      console.debug(\"Bokeh: BokehJS is being loaded, scheduling callback at\", now());\n",
       "      return null;\n",
       "    }\n",
       "    if (js_urls == null || js_urls.length === 0) {\n",
       "      run_callbacks();\n",
       "      return null;\n",
       "    }\n",
       "    console.debug(\"Bokeh: BokehJS not loaded, scheduling load and callback at\", now());\n",
       "    root._bokeh_is_loading = css_urls.length + js_urls.length;\n",
       "\n",
       "    function on_load() {\n",
       "      root._bokeh_is_loading--;\n",
       "      if (root._bokeh_is_loading === 0) {\n",
       "        console.debug(\"Bokeh: all BokehJS libraries/stylesheets loaded\");\n",
       "        run_callbacks()\n",
       "      }\n",
       "    }\n",
       "\n",
       "    function on_error(url) {\n",
       "      console.error(\"failed to load \" + url);\n",
       "    }\n",
       "\n",
       "    for (let i = 0; i < css_urls.length; i++) {\n",
       "      const url = css_urls[i];\n",
       "      const element = document.createElement(\"link\");\n",
       "      element.onload = on_load;\n",
       "      element.onerror = on_error.bind(null, url);\n",
       "      element.rel = \"stylesheet\";\n",
       "      element.type = \"text/css\";\n",
       "      element.href = url;\n",
       "      console.debug(\"Bokeh: injecting link tag for BokehJS stylesheet: \", url);\n",
       "      document.body.appendChild(element);\n",
       "    }\n",
       "\n",
       "    for (let i = 0; i < js_urls.length; i++) {\n",
       "      const url = js_urls[i];\n",
       "      const element = document.createElement('script');\n",
       "      element.onload = on_load;\n",
       "      element.onerror = on_error.bind(null, url);\n",
       "      element.async = false;\n",
       "      element.src = url;\n",
       "      console.debug(\"Bokeh: injecting script tag for BokehJS library: \", url);\n",
       "      document.head.appendChild(element);\n",
       "    }\n",
       "  };\n",
       "\n",
       "  function inject_raw_css(css) {\n",
       "    const element = document.createElement(\"style\");\n",
       "    element.appendChild(document.createTextNode(css));\n",
       "    document.body.appendChild(element);\n",
       "  }\n",
       "\n",
       "  const js_urls = [\"https://cdn.bokeh.org/bokeh/release/bokeh-3.1.0.min.js\", \"https://cdn.bokeh.org/bokeh/release/bokeh-gl-3.1.0.min.js\", \"https://cdn.bokeh.org/bokeh/release/bokeh-widgets-3.1.0.min.js\", \"https://cdn.bokeh.org/bokeh/release/bokeh-tables-3.1.0.min.js\", \"https://cdn.bokeh.org/bokeh/release/bokeh-mathjax-3.1.0.min.js\"];\n",
       "  const css_urls = [];\n",
       "\n",
       "  const inline_js = [    function(Bokeh) {\n",
       "      Bokeh.set_log_level(\"info\");\n",
       "    },\n",
       "function(Bokeh) {\n",
       "    }\n",
       "  ];\n",
       "\n",
       "  function run_inline_js() {\n",
       "    if (root.Bokeh !== undefined || force === true) {\n",
       "          for (let i = 0; i < inline_js.length; i++) {\n",
       "      inline_js[i].call(root, root.Bokeh);\n",
       "    }\n",
       "if (force === true) {\n",
       "        display_loaded();\n",
       "      }} else if (Date.now() < root._bokeh_timeout) {\n",
       "      setTimeout(run_inline_js, 100);\n",
       "    } else if (!root._bokeh_failed_load) {\n",
       "      console.log(\"Bokeh: BokehJS failed to load within specified timeout.\");\n",
       "      root._bokeh_failed_load = true;\n",
       "    } else if (force !== true) {\n",
       "      const cell = $(document.getElementById(\"p1181\")).parents('.cell').data().cell;\n",
       "      cell.output_area.append_execute_result(NB_LOAD_WARNING)\n",
       "    }\n",
       "  }\n",
       "\n",
       "  if (root._bokeh_is_loading === 0) {\n",
       "    console.debug(\"Bokeh: BokehJS loaded, going straight to plotting\");\n",
       "    run_inline_js();\n",
       "  } else {\n",
       "    load_libs(css_urls, js_urls, function() {\n",
       "      console.debug(\"Bokeh: BokehJS plotting callback run at\", now());\n",
       "      run_inline_js();\n",
       "    });\n",
       "  }\n",
       "}(window));"
      ],
      "application/vnd.bokehjs_load.v0+json": "(function(root) {\n  function now() {\n    return new Date();\n  }\n\n  const force = true;\n\n  if (typeof root._bokeh_onload_callbacks === \"undefined\" || force === true) {\n    root._bokeh_onload_callbacks = [];\n    root._bokeh_is_loading = undefined;\n  }\n\n\n  if (typeof (root._bokeh_timeout) === \"undefined\" || force === true) {\n    root._bokeh_timeout = Date.now() + 5000;\n    root._bokeh_failed_load = false;\n  }\n\n  const NB_LOAD_WARNING = {'data': {'text/html':\n     \"<div style='background-color: #fdd'>\\n\"+\n     \"<p>\\n\"+\n     \"BokehJS does not appear to have successfully loaded. If loading BokehJS from CDN, this \\n\"+\n     \"may be due to a slow or bad network connection. Possible fixes:\\n\"+\n     \"</p>\\n\"+\n     \"<ul>\\n\"+\n     \"<li>re-rerun `output_notebook()` to attempt to load from CDN again, or</li>\\n\"+\n     \"<li>use INLINE resources instead, as so:</li>\\n\"+\n     \"</ul>\\n\"+\n     \"<code>\\n\"+\n     \"from bokeh.resources import INLINE\\n\"+\n     \"output_notebook(resources=INLINE)\\n\"+\n     \"</code>\\n\"+\n     \"</div>\"}};\n\n  function display_loaded() {\n    const el = document.getElementById(\"p1181\");\n    if (el != null) {\n      el.textContent = \"BokehJS is loading...\";\n    }\n    if (root.Bokeh !== undefined) {\n      if (el != null) {\n        el.textContent = \"BokehJS \" + root.Bokeh.version + \" successfully loaded.\";\n      }\n    } else if (Date.now() < root._bokeh_timeout) {\n      setTimeout(display_loaded, 100)\n    }\n  }\n\n  function run_callbacks() {\n    try {\n      root._bokeh_onload_callbacks.forEach(function(callback) {\n        if (callback != null)\n          callback();\n      });\n    } finally {\n      delete root._bokeh_onload_callbacks\n    }\n    console.debug(\"Bokeh: all callbacks have finished\");\n  }\n\n  function load_libs(css_urls, js_urls, callback) {\n    if (css_urls == null) css_urls = [];\n    if (js_urls == null) js_urls = [];\n\n    root._bokeh_onload_callbacks.push(callback);\n    if (root._bokeh_is_loading > 0) {\n      console.debug(\"Bokeh: BokehJS is being loaded, scheduling callback at\", now());\n      return null;\n    }\n    if (js_urls == null || js_urls.length === 0) {\n      run_callbacks();\n      return null;\n    }\n    console.debug(\"Bokeh: BokehJS not loaded, scheduling load and callback at\", now());\n    root._bokeh_is_loading = css_urls.length + js_urls.length;\n\n    function on_load() {\n      root._bokeh_is_loading--;\n      if (root._bokeh_is_loading === 0) {\n        console.debug(\"Bokeh: all BokehJS libraries/stylesheets loaded\");\n        run_callbacks()\n      }\n    }\n\n    function on_error(url) {\n      console.error(\"failed to load \" + url);\n    }\n\n    for (let i = 0; i < css_urls.length; i++) {\n      const url = css_urls[i];\n      const element = document.createElement(\"link\");\n      element.onload = on_load;\n      element.onerror = on_error.bind(null, url);\n      element.rel = \"stylesheet\";\n      element.type = \"text/css\";\n      element.href = url;\n      console.debug(\"Bokeh: injecting link tag for BokehJS stylesheet: \", url);\n      document.body.appendChild(element);\n    }\n\n    for (let i = 0; i < js_urls.length; i++) {\n      const url = js_urls[i];\n      const element = document.createElement('script');\n      element.onload = on_load;\n      element.onerror = on_error.bind(null, url);\n      element.async = false;\n      element.src = url;\n      console.debug(\"Bokeh: injecting script tag for BokehJS library: \", url);\n      document.head.appendChild(element);\n    }\n  };\n\n  function inject_raw_css(css) {\n    const element = document.createElement(\"style\");\n    element.appendChild(document.createTextNode(css));\n    document.body.appendChild(element);\n  }\n\n  const js_urls = [\"https://cdn.bokeh.org/bokeh/release/bokeh-3.1.0.min.js\", \"https://cdn.bokeh.org/bokeh/release/bokeh-gl-3.1.0.min.js\", \"https://cdn.bokeh.org/bokeh/release/bokeh-widgets-3.1.0.min.js\", \"https://cdn.bokeh.org/bokeh/release/bokeh-tables-3.1.0.min.js\", \"https://cdn.bokeh.org/bokeh/release/bokeh-mathjax-3.1.0.min.js\"];\n  const css_urls = [];\n\n  const inline_js = [    function(Bokeh) {\n      Bokeh.set_log_level(\"info\");\n    },\nfunction(Bokeh) {\n    }\n  ];\n\n  function run_inline_js() {\n    if (root.Bokeh !== undefined || force === true) {\n          for (let i = 0; i < inline_js.length; i++) {\n      inline_js[i].call(root, root.Bokeh);\n    }\nif (force === true) {\n        display_loaded();\n      }} else if (Date.now() < root._bokeh_timeout) {\n      setTimeout(run_inline_js, 100);\n    } else if (!root._bokeh_failed_load) {\n      console.log(\"Bokeh: BokehJS failed to load within specified timeout.\");\n      root._bokeh_failed_load = true;\n    } else if (force !== true) {\n      const cell = $(document.getElementById(\"p1181\")).parents('.cell').data().cell;\n      cell.output_area.append_execute_result(NB_LOAD_WARNING)\n    }\n  }\n\n  if (root._bokeh_is_loading === 0) {\n    console.debug(\"Bokeh: BokehJS loaded, going straight to plotting\");\n    run_inline_js();\n  } else {\n    load_libs(css_urls, js_urls, function() {\n      console.debug(\"Bokeh: BokehJS plotting callback run at\", now());\n      run_inline_js();\n    });\n  }\n}(window));"
     },
     "metadata": {},
     "output_type": "display_data"
    },
    {
     "data": {
      "text/html": [
       "\n",
       "  <div id=\"1cf043bd-4eda-4c0a-af56-37b7123f9043\" data-root-id=\"p1001\" style=\"display: contents;\"></div>\n"
      ]
     },
     "metadata": {},
     "output_type": "display_data"
    },
    {
     "data": {
      "application/javascript": [
       "(function(root) {\n",
       "  function embed_document(root) {\n",
       "  const docs_json = {\"0b779f70-a5c9-4e26-baa1-2f2ba25871dc\":{\"version\":\"3.1.0\",\"title\":\"Bokeh Application\",\"defs\":[],\"roots\":[{\"type\":\"object\",\"name\":\"Figure\",\"id\":\"p1001\",\"attributes\":{\"x_range\":{\"type\":\"object\",\"name\":\"DataRange1d\",\"id\":\"p1002\"},\"y_range\":{\"type\":\"object\",\"name\":\"DataRange1d\",\"id\":\"p1003\"},\"x_scale\":{\"type\":\"object\",\"name\":\"LinearScale\",\"id\":\"p1015\"},\"y_scale\":{\"type\":\"object\",\"name\":\"LinearScale\",\"id\":\"p1017\"},\"title\":{\"type\":\"object\",\"name\":\"Title\",\"id\":\"p1004\",\"attributes\":{\"text\":\"Relationship between NR rate and Non-English Speakers\"}},\"renderers\":[{\"type\":\"object\",\"name\":\"GlyphRenderer\",\"id\":\"p1059\",\"attributes\":{\"data_source\":{\"type\":\"object\",\"name\":\"ColumnDataSource\",\"id\":\"p1050\",\"attributes\":{\"selected\":{\"type\":\"object\",\"name\":\"Selection\",\"id\":\"p1052\",\"attributes\":{\"indices\":[],\"line_indices\":[]}},\"selection_policy\":{\"type\":\"object\",\"name\":\"UnionRenderers\",\"id\":\"p1051\"},\"data\":{\"type\":\"map\",\"entries\":[[\"index\",{\"type\":\"ndarray\",\"array\":{\"type\":\"bytes\",\"data\":\"AAAAAAMAAAAFAAAADAAAABoAAAAhAAAAKAAAADAAAAA6AAAAPgAAAEkAAABNAAAAUwAAAFgAAABeAAAAXwAAAGEAAABkAAAAZwAAAGoAAABwAAAAcQAAAHQAAAB/AAAAgQAAAIIAAACJAAAAjwAAAJwAAACiAAAApwAAAK4AAACwAAAAsQAAALQAAADMAAAA0QAAANQAAADYAAAA4AAAAOMAAADlAAAA7gAAAPEAAAD8AAAAAQEAAAQBAAAQAQAAEgEAABcBAAAbAQAAHQEAACABAAAmAQAAKQEAADEBAAAyAQAANAEAADkBAAA+AQAAPwEAAEEBAABCAQAARQEAAA==\"},\"shape\":[64],\"dtype\":\"int32\",\"order\":\"little\"}],[\"LA_name\",{\"type\":\"ndarray\",\"array\":[\"Adur\",\"Arun\",\"Ashford\",\"Basingstoke and Deane\",\"Bracknell Forest\",\"Brighton and Hove\",\"Buckinghamshire\",\"Canterbury\",\"Cherwell\",\"Chichester\",\"Crawley\",\"Dartford\",\"Dover\",\"East Hampshire\",\"Eastbourne\",\"Eastleigh\",\"Elmbridge\",\"Epsom and Ewell\",\"Fareham\",\"Folkestone and Hythe\",\"Gosport\",\"Gravesham\",\"Guildford\",\"Hart\",\"Hastings\",\"Havant\",\"Horsham\",\"Isle of Wight\",\"Lewes\",\"Maidstone\",\"Medway\",\"Mid Sussex\",\"Milton Keynes\",\"Mole Valley\",\"New Forest\",\"Oxford\",\"Portsmouth\",\"Reading\",\"Reigate and Banstead\",\"Rother\",\"Runnymede\",\"Rushmoor\",\"Sevenoaks\",\"Slough\",\"South Oxfordshire\",\"Southampton\",\"Spelthorne\",\"Surrey Heath\",\"Swale\",\"Tandridge\",\"Test Valley\",\"Thanet\",\"Tonbridge and Malling\",\"Tunbridge Wells\",\"Vale of White Horse\",\"Waverley\",\"Wealden\",\"West Berkshire\",\"West Oxfordshire\",\"Winchester\",\"Windsor and Maidenhead\",\"Woking\",\"Wokingham\",\"Worthing\"],\"shape\":[64],\"dtype\":\"object\",\"order\":\"little\"}],[\"Observation\",{\"type\":\"ndarray\",\"array\":{\"type\":\"bytes\",\"data\":\"swcAAP0kAAAGIgAAVzEAADckAAADYAAA3JcAAKIgAABZOAAArg8AALxFAADdKAAAwg8AAK4NAABfHAAA+hIAAOUjAABpGwAAcQgAAB0UAAAABwAA/C8AACMsAAD1DQAABRIAABsKAADZEgAA/AkAAPYKAADhMwAAk0QAAD8XAAA0iAAAKQwAADINAADAbwAAckgAAPd7AABqIwAA6gYAADAbAABWOAAAZg8AAN6hAAASGwAAspAAACYnAABeFgAAuBUAAEEKAADZFAAA/BgAAH4PAAAjFwAAPB0AAMgRAABMDAAAUR0AAM4PAACsEAAAXDIAANUrAACpNQAAghYAAA==\"},\"shape\":[64],\"dtype\":\"int32\",\"order\":\"little\"}],[\"Non_Eng_Percentages\",{\"type\":\"ndarray\",\"array\":{\"type\":\"bytes\",\"data\":\"H4XrUbgeCUCPwvUoXI8XQB+F61G4HhtAPQrXo3A9HEDNzMzMzMweQDMzMzMzMyJACtejcD0KHUDD9Shcj8IVQI/C9ShcjyJAj8L1KFyPCkDXo3A9ClcvQDMzMzMzsyJAj8L1KFyPDEDhehSuR+EGQFyPwvUoXB1AcT0K16NwDUBxPQrXo3AbQOxRuB6F6yFACtejcD0K/z9I4XoUrkcTQBSuR+F6FAJA16NwPQrXJ0CuR+F6FC4gQK5H4XoUrg1A9ihcj8L1FEAfhetRuB4BQArXo3A9CgtAw/UoXI/C/T8K16NwPQoHQFK4HoXrUR9ACtejcD0KGkAfhetRuB4QQK5H4XoULilASOF6FK5HDUCF61G4HoX/P6RwPQrXIzJA7FG4HoVrIkAfhetRuN4yQOxRuB6F6xhAMzMzMzMz/z/Xo3A9ClcgQI/C9ShcDy5ACtejcD0KC0BSuB6F61E7QDMzMzMzMxNASOF6FK7HLkCuR+F6FC4kQBSuR+F6FBpAZmZmZmZmDkC4HoXrUbgIQOF6FK5H4RBAw/UoXI/CEkDNzMzMzMwIQDMzMzMzMxVASOF6FK5HFkAzMzMzMzMNQClcj8L1KABAKVyPwvUoE0AzMzMzMzMNQIXrUbgehQtAUrgehetRIUDhehSuR2EmQPYoXI/C9R9AUrgehetRFUA=\"},\"shape\":[64],\"dtype\":\"float64\",\"order\":\"little\"}],[\"NR_rate\",{\"type\":\"ndarray\",\"array\":[6.47,7.09,6.52,6.06,6.02,8.66,7.09,8.0,6.8,6.56,7.22,6.54,6.79,6.31,8.05,5.71,6.6,6.92,5.76,6.66,5.87,6.65,7.73,5.48,8.34,6.16,6.21,7.78,7.04,6.44,6.68,6.32,7.3,6.42,6.71,12.74,7.68,9.01,6.7,7.67,7.97,6.67,6.35,9.82,6.54,8.3,7.08,6.05,5.97,6.59,6.13,7.05,5.97,6.91,6.64,6.62,6.83,6.47,5.96,6.57,6.96,6.57,6.57,7.35],\"shape\":[64],\"dtype\":\"object\",\"order\":\"little\"}],[\"region\",{\"type\":\"ndarray\",\"array\":[\"South East\",\"South East\",\"South East\",\"South East\",\"South East\",\"South East\",\"South East\",\"South East\",\"South East\",\"South East\",\"South East\",\"South East\",\"South East\",\"South East\",\"South East\",\"South East\",\"South East\",\"South East\",\"South East\",\"South East\",\"South East\",\"South East\",\"South East\",\"South East\",\"South East\",\"South East\",\"South East\",\"South East\",\"South East\",\"South East\",\"South East\",\"South East\",\"South East\",\"South East\",\"South East\",\"South East\",\"South East\",\"South East\",\"South East\",\"South East\",\"South East\",\"South East\",\"South East\",\"South East\",\"South East\",\"South East\",\"South East\",\"South East\",\"South East\",\"South East\",\"South East\",\"South East\",\"South East\",\"South East\",\"South East\",\"South East\",\"South East\",\"South East\",\"South East\",\"South East\",\"South East\",\"South East\",\"South East\",\"South East\"],\"shape\":[64],\"dtype\":\"object\",\"order\":\"little\"}],[\"Urb_Rur\",{\"type\":\"ndarray\",\"array\":[\"Predominantly Urban\",\"Predominantly Urban\",\"Urban with Significant Rural\",\"Urban with Significant Rural\",\"Predominantly Urban\",\"Predominantly Urban\",\"Not specified\",\"Predominantly Urban\",\"Urban with Significant Rural\",\"Predominantly Rural\",\"Predominantly Urban\",\"Predominantly Urban\",\"Urban with Significant Rural\",\"Predominantly Rural\",\"Predominantly Urban\",\"Predominantly Urban\",\"Predominantly Urban\",\"Predominantly Urban\",\"Predominantly Urban\",\"Urban with Significant Rural\",\"Predominantly Urban\",\"Predominantly Urban\",\"Predominantly Urban\",\"Urban with Significant Rural\",\"Predominantly Urban\",\"Predominantly Urban\",\"Predominantly Rural\",\"Predominantly Rural\",\"Urban with Significant Rural\",\"Urban with Significant Rural\",\"Predominantly Urban\",\"Predominantly Urban\",\"Predominantly Urban\",\"Urban with Significant Rural\",\"Urban with Significant Rural\",\"Predominantly Urban\",\"Predominantly Urban\",\"Predominantly Urban\",\"Predominantly Urban\",\"Predominantly Rural\",\"Predominantly Urban\",\"Predominantly Urban\",\"Predominantly Rural\",\"Predominantly Urban\",\"Predominantly Rural\",\"Predominantly Urban\",\"Predominantly Urban\",\"Predominantly Urban\",\"Predominantly Rural\",\"Urban with Significant Rural\",\"Urban with Significant Rural\",\"Predominantly Urban\",\"Urban with Significant Rural\",\"Urban with Significant Rural\",\"Predominantly Rural\",\"Predominantly Rural\",\"Predominantly Rural\",\"Urban with Significant Rural\",\"Predominantly Rural\",\"Predominantly Rural\",\"Predominantly Urban\",\"Predominantly Urban\",\"Predominantly Urban\",\"Predominantly Urban\"],\"shape\":[64],\"dtype\":\"object\",\"order\":\"little\"}]]}}},\"view\":{\"type\":\"object\",\"name\":\"CDSView\",\"id\":\"p1060\",\"attributes\":{\"filter\":{\"type\":\"object\",\"name\":\"AllIndices\",\"id\":\"p1061\"}}},\"glyph\":{\"type\":\"object\",\"name\":\"Circle\",\"id\":\"p1056\",\"attributes\":{\"x\":{\"type\":\"field\",\"field\":\"Non_Eng_Percentages\"},\"y\":{\"type\":\"field\",\"field\":\"NR_rate\"},\"size\":{\"type\":\"value\",\"value\":10},\"line_color\":{\"type\":\"value\",\"value\":\"#1f77b4\"},\"line_alpha\":{\"type\":\"value\",\"value\":0.5},\"fill_color\":{\"type\":\"value\",\"value\":\"#1f77b4\"},\"fill_alpha\":{\"type\":\"value\",\"value\":0.5},\"hatch_color\":{\"type\":\"value\",\"value\":\"#1f77b4\"},\"hatch_alpha\":{\"type\":\"value\",\"value\":0.5}}},\"nonselection_glyph\":{\"type\":\"object\",\"name\":\"Circle\",\"id\":\"p1057\",\"attributes\":{\"x\":{\"type\":\"field\",\"field\":\"Non_Eng_Percentages\"},\"y\":{\"type\":\"field\",\"field\":\"NR_rate\"},\"size\":{\"type\":\"value\",\"value\":10},\"line_color\":{\"type\":\"value\",\"value\":\"#1f77b4\"},\"line_alpha\":{\"type\":\"value\",\"value\":0.1},\"fill_color\":{\"type\":\"value\",\"value\":\"#1f77b4\"},\"fill_alpha\":{\"type\":\"value\",\"value\":0.1},\"hatch_color\":{\"type\":\"value\",\"value\":\"#1f77b4\"},\"hatch_alpha\":{\"type\":\"value\",\"value\":0.1}}},\"muted_glyph\":{\"type\":\"object\",\"name\":\"Circle\",\"id\":\"p1058\",\"attributes\":{\"x\":{\"type\":\"field\",\"field\":\"Non_Eng_Percentages\"},\"y\":{\"type\":\"field\",\"field\":\"NR_rate\"},\"size\":{\"type\":\"value\",\"value\":10},\"line_color\":{\"type\":\"value\",\"value\":\"#1f77b4\"},\"line_alpha\":{\"type\":\"value\",\"value\":0.1},\"fill_color\":{\"type\":\"value\",\"value\":\"#1f77b4\"},\"fill_alpha\":{\"type\":\"value\",\"value\":0.1},\"hatch_color\":{\"type\":\"value\",\"value\":\"#1f77b4\"},\"hatch_alpha\":{\"type\":\"value\",\"value\":0.1}}}}},{\"type\":\"object\",\"name\":\"GlyphRenderer\",\"id\":\"p1073\",\"attributes\":{\"data_source\":{\"type\":\"object\",\"name\":\"ColumnDataSource\",\"id\":\"p1064\",\"attributes\":{\"selected\":{\"type\":\"object\",\"name\":\"Selection\",\"id\":\"p1066\",\"attributes\":{\"indices\":[],\"line_indices\":[]}},\"selection_policy\":{\"type\":\"object\",\"name\":\"UnionRenderers\",\"id\":\"p1065\"},\"data\":{\"type\":\"map\",\"entries\":[[\"index\",{\"type\":\"ndarray\",\"array\":{\"type\":\"bytes\",\"data\":\"AQAAAAoAAAATAAAAFAAAABcAAAApAAAAKgAAADIAAAA7AAAAPAAAAD8AAABDAAAAYAAAAGwAAAB3AAAAjAAAAJcAAACZAAAAoAAAAKUAAADLAAAAzgAAANMAAADaAAAA3QAAAN8AAADoAAAA7AAAAPoAAAD9AAAABgEAAAoBAAAVAQAAJQEAAC4BAAA2AQAAPAEAAEABAABIAQAA\"},\"shape\":[39],\"dtype\":\"int32\",\"order\":\"little\"}],[\"LA_name\",{\"type\":\"ndarray\",\"array\":[\"Allerdale\",\"Barrow-in-Furness\",\"Blackburn with Darwen\",\"Blackpool\",\"Bolton\",\"Burnley\",\"Bury\",\"Carlisle\",\"Cheshire East\",\"Cheshire West and Chester\",\"Chorley\",\"Copeland\",\"Eden\",\"Fylde\",\"Halton\",\"Hyndburn\",\"Knowsley\",\"Lancaster\",\"Liverpool\",\"Manchester\",\"Oldham\",\"Pendle\",\"Preston\",\"Ribble Valley\",\"Rochdale\",\"Rossendale\",\"Salford\",\"Sefton\",\"South Lakeland\",\"South Ribble\",\"St. Helens\",\"Stockport\",\"Tameside\",\"Trafford\",\"Warrington\",\"West Lancashire\",\"Wigan\",\"Wirral\",\"Wyre\"],\"shape\":[39],\"dtype\":\"object\",\"order\":\"little\"}],[\"Observation\",{\"type\":\"ndarray\",\"array\":{\"type\":\"bytes\",\"data\":\"MQQAABMEAAB2SAAAlBcAAOh5AADpHwAA4S8AAN8OAAAdQAAATi0AAMgJAACQAgAA3QQAAN4GAADzDAAAnBIAAJ0RAADJHAAAu68AAKp7AQDzYAAAiCwAAPBEAABKAwAAi08AAP0FAABAcwAAryUAACAKAACtCAAAUhMAAN0vAABzMwAAlT8AAHkrAACmDgAAuCsAAEQcAABgBQAA\"},\"shape\":[39],\"dtype\":\"int32\",\"order\":\"little\"}],[\"Non_Eng_Percentages\",{\"type\":\"ndarray\",\"array\":{\"type\":\"bytes\",\"data\":\"ZmZmZmZm8j+amZmZmZn5P3E9Ctej8ChArkfhehSuEUBmZmZmZuYlQGZmZmZm5iFAMzMzMzMzGkB7FK5H4XoMQPYoXI/C9RBAuB6F61G4CkCF61G4HoUBQAAAAAAAAPA/pHA9CtejAkCuR+F6FK4BQEjhehSuRwVAAAAAAAAAGEA9CtejcD0IQDMzMzMzMxVAH4XrUbgeI0AK16NwPUoyQFK4HoXrUSVAuB6F61G4KEDD9Shcj8IoQGZmZmZmZvY/7FG4HoXrIkDXo3A9CtcBQMP1KFyPwiZAZmZmZmZmDEBSuB6F61EEQHsUrkfhegBAPQrXo3A9BkAzMzMzMzMRQJqZmZmZmRdApHA9CtejHEDD9Shcj8IVQD0K16NwPQpAFK5H4XoUDECkcD0K16MCQClcj8L1KPQ/\"},\"shape\":[39],\"dtype\":\"float64\",\"order\":\"little\"}],[\"NR_rate\",{\"type\":\"ndarray\",\"array\":[6.18,6.39,8.28,6.66,6.86,7.59,6.59,6.47,6.06,6.0,5.85,6.22,7.03,5.77,5.46,7.18,5.7,7.86,7.55,8.71,7.27,8.57,7.71,5.86,6.69,6.3,7.94,6.09,6.97,5.52,5.46,6.0,5.93,6.19,5.69,6.39,5.51,6.47,6.1],\"shape\":[39],\"dtype\":\"object\",\"order\":\"little\"}],[\"region\",{\"type\":\"ndarray\",\"array\":[\"North West\",\"North West\",\"North West\",\"North West\",\"North West\",\"North West\",\"North West\",\"North West\",\"North West\",\"North West\",\"North West\",\"North West\",\"North West\",\"North West\",\"North West\",\"North West\",\"North West\",\"North West\",\"North West\",\"North West\",\"North West\",\"North West\",\"North West\",\"North West\",\"North West\",\"North West\",\"North West\",\"North West\",\"North West\",\"North West\",\"North West\",\"North West\",\"North West\",\"North West\",\"North West\",\"North West\",\"North West\",\"North West\",\"North West\"],\"shape\":[39],\"dtype\":\"object\",\"order\":\"little\"}],[\"Urb_Rur\",{\"type\":\"ndarray\",\"array\":[\"Predominantly Rural\",\"Urban with Significant Rural\",\"Predominantly Urban\",\"Predominantly Urban\",\"Predominantly Urban\",\"Predominantly Urban\",\"Predominantly Urban\",\"Urban with Significant Rural\",\"Urban with Significant Rural\",\"Urban with Significant Rural\",\"Urban with Significant Rural\",\"Predominantly Rural\",\"Predominantly Rural\",\"Predominantly Urban\",\"Predominantly Urban\",\"Predominantly Urban\",\"Predominantly Urban\",\"Urban with Significant Rural\",\"Predominantly Urban\",\"Predominantly Urban\",\"Predominantly Urban\",\"Predominantly Urban\",\"Predominantly Urban\",\"Predominantly Rural\",\"Predominantly Urban\",\"Predominantly Urban\",\"Predominantly Urban\",\"Predominantly Urban\",\"Predominantly Rural\",\"Predominantly Urban\",\"Predominantly Urban\",\"Predominantly Urban\",\"Predominantly Urban\",\"Predominantly Urban\",\"Predominantly Urban\",\"Urban with Significant Rural\",\"Predominantly Urban\",\"Predominantly Urban\",\"Predominantly Rural\"],\"shape\":[39],\"dtype\":\"object\",\"order\":\"little\"}]]}}},\"view\":{\"type\":\"object\",\"name\":\"CDSView\",\"id\":\"p1074\",\"attributes\":{\"filter\":{\"type\":\"object\",\"name\":\"AllIndices\",\"id\":\"p1075\"}}},\"glyph\":{\"type\":\"object\",\"name\":\"Circle\",\"id\":\"p1070\",\"attributes\":{\"x\":{\"type\":\"field\",\"field\":\"Non_Eng_Percentages\"},\"y\":{\"type\":\"field\",\"field\":\"NR_rate\"},\"size\":{\"type\":\"value\",\"value\":10},\"line_color\":{\"type\":\"value\",\"value\":\"#ff7f0e\"},\"line_alpha\":{\"type\":\"value\",\"value\":0.5},\"fill_color\":{\"type\":\"value\",\"value\":\"#ff7f0e\"},\"fill_alpha\":{\"type\":\"value\",\"value\":0.5},\"hatch_color\":{\"type\":\"value\",\"value\":\"#ff7f0e\"},\"hatch_alpha\":{\"type\":\"value\",\"value\":0.5}}},\"nonselection_glyph\":{\"type\":\"object\",\"name\":\"Circle\",\"id\":\"p1071\",\"attributes\":{\"x\":{\"type\":\"field\",\"field\":\"Non_Eng_Percentages\"},\"y\":{\"type\":\"field\",\"field\":\"NR_rate\"},\"size\":{\"type\":\"value\",\"value\":10},\"line_color\":{\"type\":\"value\",\"value\":\"#ff7f0e\"},\"line_alpha\":{\"type\":\"value\",\"value\":0.1},\"fill_color\":{\"type\":\"value\",\"value\":\"#ff7f0e\"},\"fill_alpha\":{\"type\":\"value\",\"value\":0.1},\"hatch_color\":{\"type\":\"value\",\"value\":\"#ff7f0e\"},\"hatch_alpha\":{\"type\":\"value\",\"value\":0.1}}},\"muted_glyph\":{\"type\":\"object\",\"name\":\"Circle\",\"id\":\"p1072\",\"attributes\":{\"x\":{\"type\":\"field\",\"field\":\"Non_Eng_Percentages\"},\"y\":{\"type\":\"field\",\"field\":\"NR_rate\"},\"size\":{\"type\":\"value\",\"value\":10},\"line_color\":{\"type\":\"value\",\"value\":\"#ff7f0e\"},\"line_alpha\":{\"type\":\"value\",\"value\":0.1},\"fill_color\":{\"type\":\"value\",\"value\":\"#ff7f0e\"},\"fill_alpha\":{\"type\":\"value\",\"value\":0.1},\"hatch_color\":{\"type\":\"value\",\"value\":\"#ff7f0e\"},\"hatch_alpha\":{\"type\":\"value\",\"value\":0.1}}}}},{\"type\":\"object\",\"name\":\"GlyphRenderer\",\"id\":\"p1086\",\"attributes\":{\"data_source\":{\"type\":\"object\",\"name\":\"ColumnDataSource\",\"id\":\"p1077\",\"attributes\":{\"selected\":{\"type\":\"object\",\"name\":\"Selection\",\"id\":\"p1079\",\"attributes\":{\"indices\":[],\"line_indices\":[]}},\"selection_policy\":{\"type\":\"object\",\"name\":\"UnionRenderers\",\"id\":\"p1078\"},\"data\":{\"type\":\"map\",\"entries\":[[\"index\",{\"type\":\"ndarray\",\"array\":{\"type\":\"bytes\",\"data\":\"AgAAAAQAAAANAAAAEgAAABYAAAAYAAAAJwAAADcAAAA9AAAATwAAAFAAAABaAAAAZQAAAG4AAAB6AAAAhgAAAIgAAACbAAAAnwAAAKYAAACoAAAAtQAAALsAAAC+AAAAwQAAAMUAAADIAAAAygAAAOQAAADmAAAA9QAAAPgAAAD5AAAANwEAADgBAAA=\"},\"shape\":[35],\"dtype\":\"int32\",\"order\":\"little\"}],[\"LA_name\",{\"type\":\"ndarray\",\"array\":[\"Amber Valley\",\"Ashfield\",\"Bassetlaw\",\"Blaby\",\"Bolsover\",\"Boston\",\"Broxtowe\",\"Charnwood\",\"Chesterfield\",\"Derby\",\"Derbyshire Dales\",\"East Lindsey\",\"Erewash\",\"Gedling\",\"Harborough\",\"High Peak\",\"Hinckley and Bosworth\",\"Leicester\",\"Lincoln\",\"Mansfield\",\"Melton\",\"Newark and Sherwood\",\"North East Derbyshire\",\"North Kesteven\",\"North Northamptonshire\",\"North West Leicestershire\",\"Nottingham\",\"Oadby and Wigston\",\"Rushcliffe\",\"Rutland\",\"South Derbyshire\",\"South Holland\",\"South Kesteven\",\"West Lindsey\",\"West Northamptonshire\"],\"shape\":[35],\"dtype\":\"object\",\"order\":\"little\"}],[\"Observation\",{\"type\":\"ndarray\",\"array\":{\"type\":\"bytes\",\"data\":\"OgcAAGgPAACUEgAAphQAAFcLAABdNwAA7hQAAHwuAADMCAAAnn8AAJICAAApCAAAJwoAAGsOAABnCgAAegQAAEgMAAAwoQEAcyYAAIggAAChBQAAGhMAAFIEAAACCQAAUYAAAOQLAAAxrwAAFxYAAK8NAAAEAwAAggwAAKAoAABeFwAAtAUAAJWvAAA=\"},\"shape\":[35],\"dtype\":\"int32\",\"order\":\"little\"}],[\"Non_Eng_Percentages\",{\"type\":\"ndarray\",\"array\":{\"type\":\"bytes\",\"data\":\"KVyPwvUo+D/D9Shcj8IJQKRwPQrXoxBAMzMzMzMzFUDXo3A9CtcNQPYoXI/CtTRA4XoUrkfhE0CkcD0K16MaQOxRuB6F6wFAZmZmZmbmKUAUrkfhehTuPwAAAAAAAPg/9ihcj8L1AkDsUbgehesJQHsUrkfhegZAzczMzMzM9D/NzMzMzMwGQArXo3A9Cj5ACtejcD2KI0AfhetRuB4fQOF6FK5H4QZAXI/C9ShcEEDD9Shcj8LxPxSuR+F6FABAZmZmZmbmIkAAAAAAAAAIQKRwPQrXoyxApHA9CtcjJEA9CtejcD0IQLgehetRuP4/uB6F61G4CECF61G4HoUmQClcj8L1KBFASOF6FK5H+T/Xo3A9CtclQA==\"},\"shape\":[35],\"dtype\":\"float64\",\"order\":\"little\"}],[\"NR_rate\",{\"type\":\"ndarray\",\"array\":[6.77,6.77,6.48,6.07,6.42,9.69,6.66,7.21,6.52,8.72,6.82,7.9,6.35,6.14,6.02,6.21,5.89,10.6,8.92,6.43,6.19,6.41,5.93,6.42,7.01,6.06,9.81,7.8,6.11,6.07,5.85,8.75,6.54,6.47,7.42],\"shape\":[35],\"dtype\":\"object\",\"order\":\"little\"}],[\"region\",{\"type\":\"ndarray\",\"array\":[\"East Midlands\",\"East Midlands\",\"East Midlands\",\"East Midlands\",\"East Midlands\",\"East Midlands\",\"East Midlands\",\"East Midlands\",\"East Midlands\",\"East Midlands\",\"East Midlands\",\"East Midlands\",\"East Midlands\",\"East Midlands\",\"East Midlands\",\"East Midlands\",\"East Midlands\",\"East Midlands\",\"East Midlands\",\"East Midlands\",\"East Midlands\",\"East Midlands\",\"East Midlands\",\"East Midlands\",\"East Midlands\",\"East Midlands\",\"East Midlands\",\"East Midlands\",\"East Midlands\",\"East Midlands\",\"East Midlands\",\"East Midlands\",\"East Midlands\",\"East Midlands\",\"East Midlands\"],\"shape\":[35],\"dtype\":\"object\",\"order\":\"little\"}],[\"Urb_Rur\",{\"type\":\"ndarray\",\"array\":[\"Predominantly Urban\",\"Predominantly Urban\",\"Predominantly Rural\",\"Predominantly Urban\",\"Urban with Significant Rural\",\"Urban with Significant Rural\",\"Predominantly Urban\",\"Predominantly Urban\",\"Predominantly Urban\",\"Predominantly Urban\",\"Predominantly Rural\",\"Predominantly Rural\",\"Predominantly Urban\",\"Predominantly Urban\",\"Predominantly Rural\",\"Predominantly Rural\",\"Predominantly Rural\",\"Predominantly Urban\",\"Predominantly Urban\",\"Predominantly Urban\",\"Predominantly Rural\",\"Predominantly Rural\",\"Predominantly Urban\",\"Predominantly Rural\",\"Not specified\",\"Predominantly Rural\",\"Predominantly Urban\",\"Predominantly Urban\",\"Predominantly Rural\",\"Predominantly Rural\",\"Urban with Significant Rural\",\"Predominantly Rural\",\"Predominantly Rural\",\"Predominantly Rural\",\"Not specified\"],\"shape\":[35],\"dtype\":\"object\",\"order\":\"little\"}]]}}},\"view\":{\"type\":\"object\",\"name\":\"CDSView\",\"id\":\"p1087\",\"attributes\":{\"filter\":{\"type\":\"object\",\"name\":\"AllIndices\",\"id\":\"p1088\"}}},\"glyph\":{\"type\":\"object\",\"name\":\"Circle\",\"id\":\"p1083\",\"attributes\":{\"x\":{\"type\":\"field\",\"field\":\"Non_Eng_Percentages\"},\"y\":{\"type\":\"field\",\"field\":\"NR_rate\"},\"size\":{\"type\":\"value\",\"value\":10},\"line_color\":{\"type\":\"value\",\"value\":\"#2ca02c\"},\"line_alpha\":{\"type\":\"value\",\"value\":0.5},\"fill_color\":{\"type\":\"value\",\"value\":\"#2ca02c\"},\"fill_alpha\":{\"type\":\"value\",\"value\":0.5},\"hatch_color\":{\"type\":\"value\",\"value\":\"#2ca02c\"},\"hatch_alpha\":{\"type\":\"value\",\"value\":0.5}}},\"nonselection_glyph\":{\"type\":\"object\",\"name\":\"Circle\",\"id\":\"p1084\",\"attributes\":{\"x\":{\"type\":\"field\",\"field\":\"Non_Eng_Percentages\"},\"y\":{\"type\":\"field\",\"field\":\"NR_rate\"},\"size\":{\"type\":\"value\",\"value\":10},\"line_color\":{\"type\":\"value\",\"value\":\"#2ca02c\"},\"line_alpha\":{\"type\":\"value\",\"value\":0.1},\"fill_color\":{\"type\":\"value\",\"value\":\"#2ca02c\"},\"fill_alpha\":{\"type\":\"value\",\"value\":0.1},\"hatch_color\":{\"type\":\"value\",\"value\":\"#2ca02c\"},\"hatch_alpha\":{\"type\":\"value\",\"value\":0.1}}},\"muted_glyph\":{\"type\":\"object\",\"name\":\"Circle\",\"id\":\"p1085\",\"attributes\":{\"x\":{\"type\":\"field\",\"field\":\"Non_Eng_Percentages\"},\"y\":{\"type\":\"field\",\"field\":\"NR_rate\"},\"size\":{\"type\":\"value\",\"value\":10},\"line_color\":{\"type\":\"value\",\"value\":\"#2ca02c\"},\"line_alpha\":{\"type\":\"value\",\"value\":0.1},\"fill_color\":{\"type\":\"value\",\"value\":\"#2ca02c\"},\"fill_alpha\":{\"type\":\"value\",\"value\":0.1},\"hatch_color\":{\"type\":\"value\",\"value\":\"#2ca02c\"},\"hatch_alpha\":{\"type\":\"value\",\"value\":0.1}}}}},{\"type\":\"object\",\"name\":\"GlyphRenderer\",\"id\":\"p1099\",\"attributes\":{\"data_source\":{\"type\":\"object\",\"name\":\"ColumnDataSource\",\"id\":\"p1090\",\"attributes\":{\"selected\":{\"type\":\"object\",\"name\":\"Selection\",\"id\":\"p1092\",\"attributes\":{\"indices\":[],\"line_indices\":[]}},\"selection_policy\":{\"type\":\"object\",\"name\":\"UnionRenderers\",\"id\":\"p1091\"},\"data\":{\"type\":\"map\",\"entries\":[[\"index\",{\"type\":\"ndarray\",\"array\":{\"type\":\"bytes\",\"data\":\"BgAAAAsAAAAPAAAAHAAAAB0AAAAfAAAAIwAAACYAAAAtAAAANAAAADUAAAA4AAAAQQAAAEsAAABWAAAAWQAAAF0AAABjAAAAaAAAAHIAAAB8AAAAhQAAAIsAAACNAAAAkwAAAKEAAACjAAAArQAAAL0AAADAAAAAxwAAAM8AAADeAAAA9AAAAPsAAAACAQAABQEAAAkBAAAaAQAAHgEAAB8BAAAnAQAAMAEAADMBAAA6AQAA\"},\"shape\":[45],\"dtype\":\"int32\",\"order\":\"little\"}],[\"LA_name\",{\"type\":\"ndarray\",\"array\":[\"Babergh\",\"Basildon\",\"Bedford\",\"Braintree\",\"Breckland\",\"Brentwood\",\"Broadland\",\"Broxbourne\",\"Cambridge\",\"Castle Point\",\"Central Bedfordshire\",\"Chelmsford\",\"Colchester\",\"Dacorum\",\"East Cambridgeshire\",\"East Hertfordshire\",\"East Suffolk\",\"Epping Forest\",\"Fenland\",\"Great Yarmouth\",\"Harlow\",\"Hertsmere\",\"Huntingdonshire\",\"Ipswich\",\"King's Lynn and West Norfolk\",\"Luton\",\"Maldon\",\"Mid Suffolk\",\"North Hertfordshire\",\"North Norfolk\",\"Norwich\",\"Peterborough\",\"Rochford\",\"South Cambridgeshire\",\"South Norfolk\",\"Southend-on-Sea\",\"St Albans\",\"Stevenage\",\"Tendring\",\"Three Rivers\",\"Thurrock\",\"Uttlesford\",\"Watford\",\"Welwyn Hatfield\",\"West Suffolk\"],\"shape\":[45],\"dtype\":\"object\",\"order\":\"little\"}],[\"Observation\",{\"type\":\"ndarray\",\"array\":{\"type\":\"bytes\",\"data\":\"GQYAADkkAADXVAAAVxEAABQiAADHCwAAjQkAAMkhAAD3bgAAxQUAAM01AAAqIwAAPDAAAGgkAABlEAAAJBoAAG0TAADIHgAAYSIAAPAXAACGJAAA2ikAAGskAADcPQAAwiEAAFjCAAAOAwAAygUAANsVAAAlBQAA4DYAAKmhAACaAwAAtykAAN4NAABLKAAAbiMAAHAbAAAuCQAAZRsAAJZKAAB8CgAAHUkAAHwvAAApJgAA\"},\"shape\":[45],\"dtype\":\"int32\",\"order\":\"little\"}],[\"Non_Eng_Percentages\",{\"type\":\"ndarray\",\"array\":{\"type\":\"bytes\",\"data\":\"rkfhehSu+z+PwvUoXI8UQM3MzMzMTChAmpmZmZmZB0Bcj8L1KFwZQDMzMzMzMxBAj8L1KFyP/j+amZmZmRkiQIXrUbgeBTRAMzMzMzMz+z9mZmZmZmYTQHsUrkfhehRAexSuR+F6GkDsUbgehesYQLgehetRuBNAcT0K16NwEkCPwvUoXI8AQDMzMzMzMxhAMzMzMzOzIUBI4XoUrkcZQFyPwvUo3CRAFK5H4XqUJEBI4XoUrkcVQAAAAAAAgCdACtejcD0KF0CPwvUoXA83QFyPwvUoXPM/rkfhehSu9z9cj8L1KFwRQM3MzMzMzPQ/mpmZmZkZJEAzMzMzM/MzQMP1KFyPwvE/MzMzMzMzG0CPwvUoXI8EQJqZmZmZmRdAUrgehetRGUDNzMzMzEwgQBSuR+F6FPo/7FG4HoXrHkAfhetRuJ4mQD0K16NwPQhASOF6FK4HM0D2KFyPwvUkQHE9CtejcBZA\"},\"shape\":[45],\"dtype\":\"float64\",\"order\":\"little\"}],[\"NR_rate\",{\"type\":\"ndarray\",\"array\":[6.85,6.24,7.25,6.53,7.46,6.28,6.44,6.89,11.91,6.13,6.15,6.49,7.14,6.65,6.92,6.3,7.2,6.72,7.54,7.8,6.7,7.48,6.2,7.79,7.68,9.86,5.83,6.15,6.49,8.16,8.65,8.09,5.49,7.24,6.56,6.98,6.61,6.62,7.49,6.57,6.57,5.96,8.35,7.74,6.94],\"shape\":[45],\"dtype\":\"object\",\"order\":\"little\"}],[\"region\",{\"type\":\"ndarray\",\"array\":[\"East of England\",\"East of England\",\"East of England\",\"East of England\",\"East of England\",\"East of England\",\"East of England\",\"East of England\",\"East of England\",\"East of England\",\"East of England\",\"East of England\",\"East of England\",\"East of England\",\"East of England\",\"East of England\",\"East of England\",\"East of England\",\"East of England\",\"East of England\",\"East of England\",\"East of England\",\"East of England\",\"East of England\",\"East of England\",\"East of England\",\"East of England\",\"East of England\",\"East of England\",\"East of England\",\"East of England\",\"East of England\",\"East of England\",\"East of England\",\"East of England\",\"East of England\",\"East of England\",\"East of England\",\"East of England\",\"East of England\",\"East of England\",\"East of England\",\"East of England\",\"East of England\",\"East of England\"],\"shape\":[45],\"dtype\":\"object\",\"order\":\"little\"}],[\"Urb_Rur\",{\"type\":\"ndarray\",\"array\":[\"Predominantly Rural\",\"Predominantly Urban\",\"Urban with Significant Rural\",\"Predominantly Rural\",\"Predominantly Rural\",\"Urban with Significant Rural\",\"Urban with Significant Rural\",\"Predominantly Urban\",\"Predominantly Urban\",\"Predominantly Urban\",\"Predominantly Rural\",\"Predominantly Urban\",\"Urban with Significant Rural\",\"Urban with Significant Rural\",\"Predominantly Rural\",\"Urban with Significant Rural\",\"Not specified\",\"Urban with Significant Rural\",\"Predominantly Rural\",\"Urban with Significant Rural\",\"Predominantly Urban\",\"Predominantly Urban\",\"Predominantly Rural\",\"Predominantly Urban\",\"Predominantly Rural\",\"Predominantly Urban\",\"Predominantly Rural\",\"Predominantly Rural\",\"Urban with Significant Rural\",\"Predominantly Rural\",\"Predominantly Urban\",\"Predominantly Urban\",\"Predominantly Urban\",\"Predominantly Rural\",\"Predominantly Rural\",\"Predominantly Urban\",\"Predominantly Urban\",\"Predominantly Urban\",\"Predominantly Rural\",\"Predominantly Urban\",\"Predominantly Urban\",\"Predominantly Rural\",\"Predominantly Urban\",\"Predominantly Urban\",\"Not specified\"],\"shape\":[45],\"dtype\":\"object\",\"order\":\"little\"}]]}}},\"view\":{\"type\":\"object\",\"name\":\"CDSView\",\"id\":\"p1100\",\"attributes\":{\"filter\":{\"type\":\"object\",\"name\":\"AllIndices\",\"id\":\"p1101\"}}},\"glyph\":{\"type\":\"object\",\"name\":\"Circle\",\"id\":\"p1096\",\"attributes\":{\"x\":{\"type\":\"field\",\"field\":\"Non_Eng_Percentages\"},\"y\":{\"type\":\"field\",\"field\":\"NR_rate\"},\"size\":{\"type\":\"value\",\"value\":10},\"line_color\":{\"type\":\"value\",\"value\":\"#d62728\"},\"line_alpha\":{\"type\":\"value\",\"value\":0.5},\"fill_color\":{\"type\":\"value\",\"value\":\"#d62728\"},\"fill_alpha\":{\"type\":\"value\",\"value\":0.5},\"hatch_color\":{\"type\":\"value\",\"value\":\"#d62728\"},\"hatch_alpha\":{\"type\":\"value\",\"value\":0.5}}},\"nonselection_glyph\":{\"type\":\"object\",\"name\":\"Circle\",\"id\":\"p1097\",\"attributes\":{\"x\":{\"type\":\"field\",\"field\":\"Non_Eng_Percentages\"},\"y\":{\"type\":\"field\",\"field\":\"NR_rate\"},\"size\":{\"type\":\"value\",\"value\":10},\"line_color\":{\"type\":\"value\",\"value\":\"#d62728\"},\"line_alpha\":{\"type\":\"value\",\"value\":0.1},\"fill_color\":{\"type\":\"value\",\"value\":\"#d62728\"},\"fill_alpha\":{\"type\":\"value\",\"value\":0.1},\"hatch_color\":{\"type\":\"value\",\"value\":\"#d62728\"},\"hatch_alpha\":{\"type\":\"value\",\"value\":0.1}}},\"muted_glyph\":{\"type\":\"object\",\"name\":\"Circle\",\"id\":\"p1098\",\"attributes\":{\"x\":{\"type\":\"field\",\"field\":\"Non_Eng_Percentages\"},\"y\":{\"type\":\"field\",\"field\":\"NR_rate\"},\"size\":{\"type\":\"value\",\"value\":10},\"line_color\":{\"type\":\"value\",\"value\":\"#d62728\"},\"line_alpha\":{\"type\":\"value\",\"value\":0.1},\"fill_color\":{\"type\":\"value\",\"value\":\"#d62728\"},\"fill_alpha\":{\"type\":\"value\",\"value\":0.1},\"hatch_color\":{\"type\":\"value\",\"value\":\"#d62728\"},\"hatch_alpha\":{\"type\":\"value\",\"value\":0.1}}}}},{\"type\":\"object\",\"name\":\"GlyphRenderer\",\"id\":\"p1112\",\"attributes\":{\"data_source\":{\"type\":\"object\",\"name\":\"ColumnDataSource\",\"id\":\"p1103\",\"attributes\":{\"selected\":{\"type\":\"object\",\"name\":\"Selection\",\"id\":\"p1105\",\"attributes\":{\"indices\":[],\"line_indices\":[]}},\"selection_policy\":{\"type\":\"object\",\"name\":\"UnionRenderers\",\"id\":\"p1104\"},\"data\":{\"type\":\"map\",\"entries\":[[\"index\",{\"type\":\"ndarray\",\"array\":{\"type\":\"bytes\",\"data\":\"BwAAAAgAAAAQAAAAHgAAACQAAAAuAAAAQAAAAEoAAABVAAAAYgAAAHMAAAB2AAAAeQAAAHsAAAB+AAAAgwAAAIcAAACKAAAAkQAAAJIAAACVAAAAmAAAAJ0AAACrAAAAuAAAANUAAADbAAAAAwEAABEBAAAkAQAALAEAAC0BAAA7AQAA\"},\"shape\":[33],\"dtype\":\"int32\",\"order\":\"little\"}],[\"LA_name\",{\"type\":\"ndarray\",\"array\":[\"Barking and Dagenham\",\"Barnet\",\"Bexley\",\"Brent\",\"Bromley\",\"Camden\",\"City of London\",\"Croydon\",\"Ealing\",\"Enfield\",\"Greenwich\",\"Hackney\",\"Hammersmith and Fulham\",\"Haringey\",\"Harrow\",\"Havering\",\"Hillingdon\",\"Hounslow\",\"Islington\",\"Kensington and Chelsea\",\"Kingston upon Thames\",\"Lambeth\",\"Lewisham\",\"Merton\",\"Newham\",\"Redbridge\",\"Richmond upon Thames\",\"Southwark\",\"Sutton\",\"Tower Hamlets\",\"Waltham Forest\",\"Wandsworth\",\"Westminster\"],\"shape\":[33],\"dtype\":\"object\",\"order\":\"little\"}],[\"Observation\",{\"type\":\"ndarray\",\"array\":{\"type\":\"bytes\",\"data\":\"RMQAAB9QAQCBWAAARK8BAGVkAAB2qQAAIgcAAE3rAAC9qwEANyQBAIbFAAB0wQAATZQAAFQPAQBeLgEAZ2EAAM/9AADbMgEAfZsAAMKAAADIbQAAy9YAABW3AABurQAAWscBAHczAQB4UwAA29EAAMRwAADtOgEAiekAAEvTAAB3zQAA\"},\"shape\":[33],\"dtype\":\"int32\",\"order\":\"little\"}],[\"Non_Eng_Percentages\",{\"type\":\"ndarray\",\"array\":{\"type\":\"bytes\",\"data\":\"zczMzMwMOEBxPQrXo/A2QI/C9ShcDyNA16NwPQrXQECkcD0K1yMgQMP1KFyPQjVAXI/C9SicNUAK16NwPQowQGZmZmZm5j5AzczMzMyMN0C4HoXrUTgyQB+F61G43jNAH4XrUbheNUB7FK5H4To7QD0K16NwvT5Aw/UoXI/CI0AUrkfhehQ2QFK4HoXrUTxAPQrXo3D9MkCamZmZmZk3QArXo3A9SjFA16NwPQrXMUC4HoXrUTgwQDMzMzMzczVAcT0K16NQQUAzMzMzM3M6QB+F61G4niZACtejcD0KMkAK16NwPYosQD0K16Nw/TpA7FG4HoVrNkDhehSuRyExQHE9CtejcDpA\"},\"shape\":[33],\"dtype\":\"float64\",\"order\":\"little\"}],[\"NR_rate\",{\"type\":\"ndarray\",\"array\":[9.14,9.94,6.97,11.7,7.3,10.51,10.37,9.13,10.35,9.67,8.56,12.6,9.71,10.99,10.82,6.98,8.87,9.82,9.65,10.98,8.5,9.07,9.75,9.22,10.72,9.72,7.6,9.21,7.65,9.76,9.49,8.34,11.2],\"shape\":[33],\"dtype\":\"object\",\"order\":\"little\"}],[\"region\",{\"type\":\"ndarray\",\"array\":[\"London\",\"London\",\"London\",\"London\",\"London\",\"London\",\"London\",\"London\",\"London\",\"London\",\"London\",\"London\",\"London\",\"London\",\"London\",\"London\",\"London\",\"London\",\"London\",\"London\",\"London\",\"London\",\"London\",\"London\",\"London\",\"London\",\"London\",\"London\",\"London\",\"London\",\"London\",\"London\",\"London\"],\"shape\":[33],\"dtype\":\"object\",\"order\":\"little\"}],[\"Urb_Rur\",{\"type\":\"ndarray\",\"array\":[\"Predominantly Urban\",\"Predominantly Urban\",\"Predominantly Urban\",\"Predominantly Urban\",\"Predominantly Urban\",\"Predominantly Urban\",\"Predominantly Urban\",\"Predominantly Urban\",\"Predominantly Urban\",\"Predominantly Urban\",\"Predominantly Urban\",\"Predominantly Urban\",\"Predominantly Urban\",\"Predominantly Urban\",\"Predominantly Urban\",\"Predominantly Urban\",\"Predominantly Urban\",\"Predominantly Urban\",\"Predominantly Urban\",\"Predominantly Urban\",\"Predominantly Urban\",\"Predominantly Urban\",\"Predominantly Urban\",\"Predominantly Urban\",\"Predominantly Urban\",\"Predominantly Urban\",\"Predominantly Urban\",\"Predominantly Urban\",\"Predominantly Urban\",\"Predominantly Urban\",\"Predominantly Urban\",\"Predominantly Urban\",\"Predominantly Urban\"],\"shape\":[33],\"dtype\":\"object\",\"order\":\"little\"}]]}}},\"view\":{\"type\":\"object\",\"name\":\"CDSView\",\"id\":\"p1113\",\"attributes\":{\"filter\":{\"type\":\"object\",\"name\":\"AllIndices\",\"id\":\"p1114\"}}},\"glyph\":{\"type\":\"object\",\"name\":\"Circle\",\"id\":\"p1109\",\"attributes\":{\"x\":{\"type\":\"field\",\"field\":\"Non_Eng_Percentages\"},\"y\":{\"type\":\"field\",\"field\":\"NR_rate\"},\"size\":{\"type\":\"value\",\"value\":10},\"line_color\":{\"type\":\"value\",\"value\":\"#9467bd\"},\"line_alpha\":{\"type\":\"value\",\"value\":0.5},\"fill_color\":{\"type\":\"value\",\"value\":\"#9467bd\"},\"fill_alpha\":{\"type\":\"value\",\"value\":0.5},\"hatch_color\":{\"type\":\"value\",\"value\":\"#9467bd\"},\"hatch_alpha\":{\"type\":\"value\",\"value\":0.5}}},\"nonselection_glyph\":{\"type\":\"object\",\"name\":\"Circle\",\"id\":\"p1110\",\"attributes\":{\"x\":{\"type\":\"field\",\"field\":\"Non_Eng_Percentages\"},\"y\":{\"type\":\"field\",\"field\":\"NR_rate\"},\"size\":{\"type\":\"value\",\"value\":10},\"line_color\":{\"type\":\"value\",\"value\":\"#9467bd\"},\"line_alpha\":{\"type\":\"value\",\"value\":0.1},\"fill_color\":{\"type\":\"value\",\"value\":\"#9467bd\"},\"fill_alpha\":{\"type\":\"value\",\"value\":0.1},\"hatch_color\":{\"type\":\"value\",\"value\":\"#9467bd\"},\"hatch_alpha\":{\"type\":\"value\",\"value\":0.1}}},\"muted_glyph\":{\"type\":\"object\",\"name\":\"Circle\",\"id\":\"p1111\",\"attributes\":{\"x\":{\"type\":\"field\",\"field\":\"Non_Eng_Percentages\"},\"y\":{\"type\":\"field\",\"field\":\"NR_rate\"},\"size\":{\"type\":\"value\",\"value\":10},\"line_color\":{\"type\":\"value\",\"value\":\"#9467bd\"},\"line_alpha\":{\"type\":\"value\",\"value\":0.1},\"fill_color\":{\"type\":\"value\",\"value\":\"#9467bd\"},\"fill_alpha\":{\"type\":\"value\",\"value\":0.1},\"hatch_color\":{\"type\":\"value\",\"value\":\"#9467bd\"},\"hatch_alpha\":{\"type\":\"value\",\"value\":0.1}}}}},{\"type\":\"object\",\"name\":\"GlyphRenderer\",\"id\":\"p1125\",\"attributes\":{\"data_source\":{\"type\":\"object\",\"name\":\"ColumnDataSource\",\"id\":\"p1116\",\"attributes\":{\"selected\":{\"type\":\"object\",\"name\":\"Selection\",\"id\":\"p1118\",\"attributes\":{\"indices\":[],\"line_indices\":[]}},\"selection_policy\":{\"type\":\"object\",\"name\":\"UnionRenderers\",\"id\":\"p1117\"},\"data\":{\"type\":\"map\",\"entries\":[[\"index\",{\"type\":\"ndarray\",\"array\":{\"type\":\"bytes\",\"data\":\"CQAAABsAAAAsAAAASAAAAFEAAABbAAAAeAAAAH0AAACUAAAAlgAAAJoAAAC8AAAAvwAAANwAAADhAAAA5wAAAOoAAADtAAAA7wAAACoBAABKAQAA\"},\"shape\":[21],\"dtype\":\"int32\",\"order\":\"little\"}],[\"LA_name\",{\"type\":\"ndarray\",\"array\":[\"Barnsley\",\"Bradford\",\"Calderdale\",\"Craven\",\"Doncaster\",\"East Riding of Yorkshire\",\"Hambleton\",\"Harrogate\",\"Kingston upon Hull\",\"Kirklees\",\"Leeds\",\"North East Lincolnshire\",\"North Lincolnshire\",\"Richmondshire\",\"Rotherham\",\"Ryedale\",\"Scarborough\",\"Selby\",\"Sheffield\",\"Wakefield\",\"York\"],\"shape\":[21],\"dtype\":\"object\",\"order\":\"little\"}],[\"Observation\",{\"type\":\"ndarray\",\"array\":{\"type\":\"bytes\",\"data\":\"licAALj+AABOJAAAhwMAAEpUAACdHAAAOgUAAKYTAADNZAAAqH4AAG4WAQD6FgAAHikAADcGAACgKQAAiAQAAFoMAADTCQAA4rgAAPVJAABNJwAA\"},\"shape\":[21],\"dtype\":\"int32\",\"order\":\"little\"}],[\"Non_Eng_Percentages\",{\"type\":\"ndarray\",\"array\":{\"type\":\"bytes\",\"data\":\"H4XrUbgeEUDXo3A9CtcoQJqZmZmZmRJA7FG4HoXr+T/2KFyPwvUcQIXrUbgehQFAKVyPwvUo+D9cj8L1KFwJQArXo3A9CiRAAAAAAAAAH0CuR+F6FC4iQPYoXI/C9Q5Aj8L1KFyPGUBSuB6F61EKQI/C9ShcjxBAXI/C9ShcAUDXo3A9CtcHQI/C9ShcjwZAj8L1KFyPIUApXI/C9SgWQFyPwvUoXBRA\"},\"shape\":[21],\"dtype\":\"float64\",\"order\":\"little\"}],[\"NR_rate\",{\"type\":\"ndarray\",\"array\":[5.83,8.76,6.89,6.57,6.56,6.77,6.23,6.93,8.2,7.43,7.33,6.65,6.93,5.84,6.03,7.0,7.24,5.75,7.87,6.24,7.91],\"shape\":[21],\"dtype\":\"object\",\"order\":\"little\"}],[\"region\",{\"type\":\"ndarray\",\"array\":[\"Yorkshire and The Humber\",\"Yorkshire and The Humber\",\"Yorkshire and The Humber\",\"Yorkshire and The Humber\",\"Yorkshire and The Humber\",\"Yorkshire and The Humber\",\"Yorkshire and The Humber\",\"Yorkshire and The Humber\",\"Yorkshire and The Humber\",\"Yorkshire and The Humber\",\"Yorkshire and The Humber\",\"Yorkshire and The Humber\",\"Yorkshire and The Humber\",\"Yorkshire and The Humber\",\"Yorkshire and The Humber\",\"Yorkshire and The Humber\",\"Yorkshire and The Humber\",\"Yorkshire and The Humber\",\"Yorkshire and The Humber\",\"Yorkshire and The Humber\",\"Yorkshire and The Humber\"],\"shape\":[21],\"dtype\":\"object\",\"order\":\"little\"}],[\"Urb_Rur\",{\"type\":\"ndarray\",\"array\":[\"Predominantly Urban\",\"Predominantly Urban\",\"Predominantly Urban\",\"Predominantly Rural\",\"Predominantly Urban\",\"Predominantly Rural\",\"Predominantly Rural\",\"Urban with Significant Rural\",\"Predominantly Urban\",\"Predominantly Urban\",\"Predominantly Urban\",\"Predominantly Urban\",\"Urban with Significant Rural\",\"Predominantly Rural\",\"Predominantly Urban\",\"Predominantly Rural\",\"Urban with Significant Rural\",\"Predominantly Rural\",\"Predominantly Urban\",\"Predominantly Urban\",\"Predominantly Urban\"],\"shape\":[21],\"dtype\":\"object\",\"order\":\"little\"}]]}}},\"view\":{\"type\":\"object\",\"name\":\"CDSView\",\"id\":\"p1126\",\"attributes\":{\"filter\":{\"type\":\"object\",\"name\":\"AllIndices\",\"id\":\"p1127\"}}},\"glyph\":{\"type\":\"object\",\"name\":\"Circle\",\"id\":\"p1122\",\"attributes\":{\"x\":{\"type\":\"field\",\"field\":\"Non_Eng_Percentages\"},\"y\":{\"type\":\"field\",\"field\":\"NR_rate\"},\"size\":{\"type\":\"value\",\"value\":10},\"line_color\":{\"type\":\"value\",\"value\":\"#8c564b\"},\"line_alpha\":{\"type\":\"value\",\"value\":0.5},\"fill_color\":{\"type\":\"value\",\"value\":\"#8c564b\"},\"fill_alpha\":{\"type\":\"value\",\"value\":0.5},\"hatch_color\":{\"type\":\"value\",\"value\":\"#8c564b\"},\"hatch_alpha\":{\"type\":\"value\",\"value\":0.5}}},\"nonselection_glyph\":{\"type\":\"object\",\"name\":\"Circle\",\"id\":\"p1123\",\"attributes\":{\"x\":{\"type\":\"field\",\"field\":\"Non_Eng_Percentages\"},\"y\":{\"type\":\"field\",\"field\":\"NR_rate\"},\"size\":{\"type\":\"value\",\"value\":10},\"line_color\":{\"type\":\"value\",\"value\":\"#8c564b\"},\"line_alpha\":{\"type\":\"value\",\"value\":0.1},\"fill_color\":{\"type\":\"value\",\"value\":\"#8c564b\"},\"fill_alpha\":{\"type\":\"value\",\"value\":0.1},\"hatch_color\":{\"type\":\"value\",\"value\":\"#8c564b\"},\"hatch_alpha\":{\"type\":\"value\",\"value\":0.1}}},\"muted_glyph\":{\"type\":\"object\",\"name\":\"Circle\",\"id\":\"p1124\",\"attributes\":{\"x\":{\"type\":\"field\",\"field\":\"Non_Eng_Percentages\"},\"y\":{\"type\":\"field\",\"field\":\"NR_rate\"},\"size\":{\"type\":\"value\",\"value\":10},\"line_color\":{\"type\":\"value\",\"value\":\"#8c564b\"},\"line_alpha\":{\"type\":\"value\",\"value\":0.1},\"fill_color\":{\"type\":\"value\",\"value\":\"#8c564b\"},\"fill_alpha\":{\"type\":\"value\",\"value\":0.1},\"hatch_color\":{\"type\":\"value\",\"value\":\"#8c564b\"},\"hatch_alpha\":{\"type\":\"value\",\"value\":0.1}}}}},{\"type\":\"object\",\"name\":\"GlyphRenderer\",\"id\":\"p1138\",\"attributes\":{\"data_source\":{\"type\":\"object\",\"name\":\"ColumnDataSource\",\"id\":\"p1129\",\"attributes\":{\"selected\":{\"type\":\"object\",\"name\":\"Selection\",\"id\":\"p1131\",\"attributes\":{\"indices\":[],\"line_indices\":[]}},\"selection_policy\":{\"type\":\"object\",\"name\":\"UnionRenderers\",\"id\":\"p1130\"},\"data\":{\"type\":\"map\",\"entries\":[[\"index\",{\"type\":\"ndarray\",\"array\":{\"type\":\"bytes\",\"data\":\"DgAAABkAAAAiAAAAOQAAAEQAAABFAAAAUgAAAFcAAABmAAAAawAAAG8AAACQAAAAqQAAAKwAAAC6AAAAwgAAANAAAADrAAAA8wAAAPYAAAD3AAAA/gAAAA4BAAAUAQAAGAEAABwBAAAhAQAAIwEAADUBAAA9AQAA\"},\"shape\":[30],\"dtype\":\"int32\",\"order\":\"little\"}],[\"LA_name\",{\"type\":\"ndarray\",\"array\":[\"Bath and North East Somerset\",\"Bournemouth, Christchurch and Poole\",\"Bristol\",\"Cheltenham\",\"Cornwall\",\"Cotswold\",\"Dorset\",\"East Devon\",\"Exeter\",\"Forest of Dean\",\"Gloucester\",\"Isles of Scilly\",\"Mendip\",\"Mid Devon\",\"North Devon\",\"North Somerset\",\"Plymouth\",\"Sedgemoor\",\"Somerset West and Taunton\",\"South Gloucestershire\",\"South Hams\",\"South Somerset\",\"Stroud\",\"Swindon\",\"Teignbridge\",\"Tewkesbury\",\"Torbay\",\"Torridge\",\"West Devon\",\"Wiltshire\"],\"shape\":[30],\"dtype\":\"object\",\"order\":\"little\"}],[\"Observation\",{\"type\":\"ndarray\",\"array\":{\"type\":\"bytes\",\"data\":\"BiQAANV9AACbtAAAHB8AAPInAACrBwAAhhoAANgKAACwJgAAIwYAABIoAAAuAAAAcwwAAFoIAAAiBwAATCAAACMtAABuFgAAtRoAAAg7AADEBAAAxhsAAHcIAAAMWAAACgcAAAUMAACSDwAAqQIAAPkCAAA0QwAA\"},\"shape\":[30],\"dtype\":\"int32\",\"order\":\"little\"}],[\"Non_Eng_Percentages\",{\"type\":\"ndarray\",\"array\":{\"type\":\"bytes\",\"data\":\"mpmZmZmZE0CPwvUoXI8gQD0K16NwPSRAmpmZmZmZG0BxPQrXo3D9P8P1KFyPwgFASOF6FK5H/T89CtejcD3+Pylcj8L1KB9Aw/UoXI/C/T+F61G4HgUgQI/C9ShcjwJAj8L1KFyPBkBI4XoUrkcFQGZmZmZmZv4/cT0K16NwD0AAAAAAAAASQNejcD0K1xJA16NwPQrXEUCF61G4HoUVQI/C9Shcj/Y/9ihcj8L1EEBxPQrXo3D9P3sUrkfh+iNA7FG4HoXr9T/NzMzMzMwKQHE9CtejcAdAUrgehetR8D/D9Shcj8L1P8P1KFyPwgtA\"},\"shape\":[30],\"dtype\":\"float64\",\"order\":\"little\"}],[\"NR_rate\",{\"type\":\"ndarray\",\"array\":[7.72,7.64,8.48,6.92,7.65,6.32,7.18,7.18,8.52,7.11,7.07,6.82,8.01,7.37,7.4,6.76,6.6,7.28,7.51,6.53,7.2,7.41,6.98,7.04,7.2,6.21,7.37,7.76,7.6,6.57],\"shape\":[30],\"dtype\":\"object\",\"order\":\"little\"}],[\"region\",{\"type\":\"ndarray\",\"array\":[\"South West\",\"South West\",\"South West\",\"South West\",\"South West\",\"South West\",\"South West\",\"South West\",\"South West\",\"South West\",\"South West\",\"South West\",\"South West\",\"South West\",\"South West\",\"South West\",\"South West\",\"South West\",\"South West\",\"South West\",\"South West\",\"South West\",\"South West\",\"South West\",\"South West\",\"South West\",\"South West\",\"South West\",\"South West\",\"South West\"],\"shape\":[30],\"dtype\":\"object\",\"order\":\"little\"}],[\"Urb_Rur\",{\"type\":\"ndarray\",\"array\":[\"Urban with Significant Rural\",\"Not specified\",\"Predominantly Urban\",\"Predominantly Urban\",\"Predominantly Rural\",\"Predominantly Rural\",\"Not specified\",\"Predominantly Rural\",\"Predominantly Urban\",\"Predominantly Rural\",\"Predominantly Urban\",\"Predominantly Rural\",\"Predominantly Rural\",\"Predominantly Rural\",\"Predominantly Rural\",\"Urban with Significant Rural\",\"Predominantly Urban\",\"Predominantly Rural\",\"Not specified\",\"Predominantly Urban\",\"Predominantly Rural\",\"Predominantly Rural\",\"Urban with Significant Rural\",\"Predominantly Urban\",\"Predominantly Rural\",\"Predominantly Rural\",\"Predominantly Urban\",\"Predominantly Rural\",\"Predominantly Rural\",\"Predominantly Rural\"],\"shape\":[30],\"dtype\":\"object\",\"order\":\"little\"}]]}}},\"view\":{\"type\":\"object\",\"name\":\"CDSView\",\"id\":\"p1139\",\"attributes\":{\"filter\":{\"type\":\"object\",\"name\":\"AllIndices\",\"id\":\"p1140\"}}},\"glyph\":{\"type\":\"object\",\"name\":\"Circle\",\"id\":\"p1135\",\"attributes\":{\"x\":{\"type\":\"field\",\"field\":\"Non_Eng_Percentages\"},\"y\":{\"type\":\"field\",\"field\":\"NR_rate\"},\"size\":{\"type\":\"value\",\"value\":10},\"line_color\":{\"type\":\"value\",\"value\":\"#e377c2\"},\"line_alpha\":{\"type\":\"value\",\"value\":0.5},\"fill_color\":{\"type\":\"value\",\"value\":\"#e377c2\"},\"fill_alpha\":{\"type\":\"value\",\"value\":0.5},\"hatch_color\":{\"type\":\"value\",\"value\":\"#e377c2\"},\"hatch_alpha\":{\"type\":\"value\",\"value\":0.5}}},\"nonselection_glyph\":{\"type\":\"object\",\"name\":\"Circle\",\"id\":\"p1136\",\"attributes\":{\"x\":{\"type\":\"field\",\"field\":\"Non_Eng_Percentages\"},\"y\":{\"type\":\"field\",\"field\":\"NR_rate\"},\"size\":{\"type\":\"value\",\"value\":10},\"line_color\":{\"type\":\"value\",\"value\":\"#e377c2\"},\"line_alpha\":{\"type\":\"value\",\"value\":0.1},\"fill_color\":{\"type\":\"value\",\"value\":\"#e377c2\"},\"fill_alpha\":{\"type\":\"value\",\"value\":0.1},\"hatch_color\":{\"type\":\"value\",\"value\":\"#e377c2\"},\"hatch_alpha\":{\"type\":\"value\",\"value\":0.1}}},\"muted_glyph\":{\"type\":\"object\",\"name\":\"Circle\",\"id\":\"p1137\",\"attributes\":{\"x\":{\"type\":\"field\",\"field\":\"Non_Eng_Percentages\"},\"y\":{\"type\":\"field\",\"field\":\"NR_rate\"},\"size\":{\"type\":\"value\",\"value\":10},\"line_color\":{\"type\":\"value\",\"value\":\"#e377c2\"},\"line_alpha\":{\"type\":\"value\",\"value\":0.1},\"fill_color\":{\"type\":\"value\",\"value\":\"#e377c2\"},\"fill_alpha\":{\"type\":\"value\",\"value\":0.1},\"hatch_color\":{\"type\":\"value\",\"value\":\"#e377c2\"},\"hatch_alpha\":{\"type\":\"value\",\"value\":0.1}}}}},{\"type\":\"object\",\"name\":\"GlyphRenderer\",\"id\":\"p1151\",\"attributes\":{\"data_source\":{\"type\":\"object\",\"name\":\"ColumnDataSource\",\"id\":\"p1142\",\"attributes\":{\"selected\":{\"type\":\"object\",\"name\":\"Selection\",\"id\":\"p1144\",\"attributes\":{\"indices\":[],\"line_indices\":[]}},\"selection_policy\":{\"type\":\"object\",\"name\":\"UnionRenderers\",\"id\":\"p1143\"},\"data\":{\"type\":\"map\",\"entries\":[[\"index\",{\"type\":\"ndarray\",\"array\":{\"type\":\"bytes\",\"data\":\"EQAAACUAAAAvAAAARwAAAFQAAABcAAAAhAAAAJ4AAACkAAAAtwAAAMQAAADJAAAA1wAAAOIAAADpAAAA8AAAAPIAAAD/AAAABwEAAAgBAAAMAQAADQEAABYBAAAZAQAAKwEAAC8BAABDAQAARAEAAEcBAABJAQAA\"},\"shape\":[30],\"dtype\":\"int32\",\"order\":\"little\"}],[\"LA_name\",{\"type\":\"ndarray\",\"array\":[\"Birmingham\",\"Bromsgrove\",\"Cannock Chase\",\"Coventry\",\"Dudley\",\"East Staffordshire\",\"Herefordshire\",\"Lichfield\",\"Malvern Hills\",\"Newcastle-under-Lyme\",\"North Warwickshire\",\"Nuneaton and Bedworth\",\"Redditch\",\"Rugby\",\"Sandwell\",\"Shropshire\",\"Solihull\",\"South Staffordshire\",\"Stafford\",\"Staffordshire Moorlands\",\"Stoke-on-Trent\",\"Stratford-on-Avon\",\"Tamworth\",\"Telford and Wrekin\",\"Walsall\",\"Warwick\",\"Wolverhampton\",\"Worcester\",\"Wychavon\",\"Wyre Forest\"],\"shape\":[30],\"dtype\":\"object\",\"order\":\"little\"}],[\"Observation\",{\"type\":\"ndarray\",\"array\":{\"type\":\"bytes\",\"data\":\"xJ0CAMcFAAC6BgAA3uMAAGI2AADJLgAA8yEAAE0IAADDBQAAQRAAAO8EAABQJQAA/BgAAMwxAAAa0wAAPiAAANAkAAAaBQAARhIAADcDAADaVQAAYBEAAN0MAAB6LgAAUWgAADcvAAAtlQAAix4AALEXAAAbCQAA\"},\"shape\":[30],\"dtype\":\"int32\",\"order\":\"little\"}],[\"Non_Eng_Percentages\",{\"type\":\"ndarray\",\"array\":{\"type\":\"bytes\",\"data\":\"pHA9CtcjL0CkcD0K16P4P1K4HoXrUfw/w/UoXI+CMUDNzMzMzMwRQPYoXI/C9SNAFK5H4XoUE0BmZmZmZmYAQGZmZmZmZv4/w/UoXI/CC0AAAAAAAAAAQHsUrkfheh1AZmZmZmZmHkAK16NwPQonQHE9CtejcDBA9ihcj8L1BEAAAAAAAAASQFyPwvUoXPM/KVyPwvUoDEApXI/C9SjsPylcj8L1qCFAH4XrUbgeC0BSuB6F61ERQI/C9ShcjxpACtejcD2KI0BI4XoUrscgQArXo3A9Ci5AFK5H4XoUH0DXo3A9CtcSQOF6FK5H4QJA\"},\"shape\":[30],\"dtype\":\"float64\",\"order\":\"little\"}],[\"NR_rate\",{\"type\":\"ndarray\",\"array\":[9.42,5.97,5.41,8.85,7.04,7.19,8.12,5.35,6.94,6.72,5.81,6.37,6.4,6.96,8.41,7.12,6.17,5.46,6.24,6.3,7.95,6.26,5.6,7.06,7.6,6.81,8.33,7.16,6.15,6.91],\"shape\":[30],\"dtype\":\"object\",\"order\":\"little\"}],[\"region\",{\"type\":\"ndarray\",\"array\":[\"West Midlands\",\"West Midlands\",\"West Midlands\",\"West Midlands\",\"West Midlands\",\"West Midlands\",\"West Midlands\",\"West Midlands\",\"West Midlands\",\"West Midlands\",\"West Midlands\",\"West Midlands\",\"West Midlands\",\"West Midlands\",\"West Midlands\",\"West Midlands\",\"West Midlands\",\"West Midlands\",\"West Midlands\",\"West Midlands\",\"West Midlands\",\"West Midlands\",\"West Midlands\",\"West Midlands\",\"West Midlands\",\"West Midlands\",\"West Midlands\",\"West Midlands\",\"West Midlands\",\"West Midlands\"],\"shape\":[30],\"dtype\":\"object\",\"order\":\"little\"}],[\"Urb_Rur\",{\"type\":\"ndarray\",\"array\":[\"Predominantly Urban\",\"Predominantly Urban\",\"Urban with Significant Rural\",\"Predominantly Urban\",\"Predominantly Urban\",\"Urban with Significant Rural\",\"Predominantly Rural\",\"Urban with Significant Rural\",\"Predominantly Rural\",\"Predominantly Urban\",\"Predominantly Rural\",\"Predominantly Urban\",\"Predominantly Urban\",\"Predominantly Urban\",\"Predominantly Urban\",\"Predominantly Rural\",\"Predominantly Urban\",\"Urban with Significant Rural\",\"Urban with Significant Rural\",\"Predominantly Rural\",\"Predominantly Urban\",\"Predominantly Rural\",\"Predominantly Urban\",\"Predominantly Urban\",\"Predominantly Urban\",\"Predominantly Urban\",\"Predominantly Urban\",\"Predominantly Urban\",\"Predominantly Rural\",\"Urban with Significant Rural\"],\"shape\":[30],\"dtype\":\"object\",\"order\":\"little\"}]]}}},\"view\":{\"type\":\"object\",\"name\":\"CDSView\",\"id\":\"p1152\",\"attributes\":{\"filter\":{\"type\":\"object\",\"name\":\"AllIndices\",\"id\":\"p1153\"}}},\"glyph\":{\"type\":\"object\",\"name\":\"Circle\",\"id\":\"p1148\",\"attributes\":{\"x\":{\"type\":\"field\",\"field\":\"Non_Eng_Percentages\"},\"y\":{\"type\":\"field\",\"field\":\"NR_rate\"},\"size\":{\"type\":\"value\",\"value\":10},\"line_color\":{\"type\":\"value\",\"value\":\"#7f7f7f\"},\"line_alpha\":{\"type\":\"value\",\"value\":0.5},\"fill_color\":{\"type\":\"value\",\"value\":\"#7f7f7f\"},\"fill_alpha\":{\"type\":\"value\",\"value\":0.5},\"hatch_color\":{\"type\":\"value\",\"value\":\"#7f7f7f\"},\"hatch_alpha\":{\"type\":\"value\",\"value\":0.5}}},\"nonselection_glyph\":{\"type\":\"object\",\"name\":\"Circle\",\"id\":\"p1149\",\"attributes\":{\"x\":{\"type\":\"field\",\"field\":\"Non_Eng_Percentages\"},\"y\":{\"type\":\"field\",\"field\":\"NR_rate\"},\"size\":{\"type\":\"value\",\"value\":10},\"line_color\":{\"type\":\"value\",\"value\":\"#7f7f7f\"},\"line_alpha\":{\"type\":\"value\",\"value\":0.1},\"fill_color\":{\"type\":\"value\",\"value\":\"#7f7f7f\"},\"fill_alpha\":{\"type\":\"value\",\"value\":0.1},\"hatch_color\":{\"type\":\"value\",\"value\":\"#7f7f7f\"},\"hatch_alpha\":{\"type\":\"value\",\"value\":0.1}}},\"muted_glyph\":{\"type\":\"object\",\"name\":\"Circle\",\"id\":\"p1150\",\"attributes\":{\"x\":{\"type\":\"field\",\"field\":\"Non_Eng_Percentages\"},\"y\":{\"type\":\"field\",\"field\":\"NR_rate\"},\"size\":{\"type\":\"value\",\"value\":10},\"line_color\":{\"type\":\"value\",\"value\":\"#7f7f7f\"},\"line_alpha\":{\"type\":\"value\",\"value\":0.1},\"fill_color\":{\"type\":\"value\",\"value\":\"#7f7f7f\"},\"fill_alpha\":{\"type\":\"value\",\"value\":0.1},\"hatch_color\":{\"type\":\"value\",\"value\":\"#7f7f7f\"},\"hatch_alpha\":{\"type\":\"value\",\"value\":0.1}}}}},{\"type\":\"object\",\"name\":\"GlyphRenderer\",\"id\":\"p1164\",\"attributes\":{\"data_source\":{\"type\":\"object\",\"name\":\"ColumnDataSource\",\"id\":\"p1155\",\"attributes\":{\"selected\":{\"type\":\"object\",\"name\":\"Selection\",\"id\":\"p1157\",\"attributes\":{\"indices\":[],\"line_indices\":[]}},\"selection_policy\":{\"type\":\"object\",\"name\":\"UnionRenderers\",\"id\":\"p1156\"},\"data\":{\"type\":\"map\",\"entries\":[[\"index\",{\"type\":\"ndarray\",\"array\":{\"type\":\"bytes\",\"data\":\"FQAAACAAAAArAAAAMQAAADMAAAA2AAAAQgAAAE4AAABpAAAAdQAAAI4AAACqAAAAsgAAALMAAAC5AAAAzQAAANIAAADZAAAAEwEAACIBAAAoAQAARgEAAA==\"},\"shape\":[22],\"dtype\":\"int32\",\"order\":\"little\"}],[\"LA_name\",{\"type\":\"ndarray\",\"array\":[\"Blaenau Gwent\",\"Bridgend\",\"Caerphilly\",\"Cardiff\",\"Carmarthenshire\",\"Ceredigion\",\"Conwy\",\"Denbighshire\",\"Flintshire\",\"Gwynedd\",\"Isle of Anglesey\",\"Merthyr Tydfil\",\"Monmouthshire\",\"Neath Port Talbot\",\"Newport\",\"Pembrokeshire\",\"Powys\",\"Rhondda Cynon Taf\",\"Swansea\",\"Torfaen\",\"Vale of Glamorgan\",\"Wrexham\"],\"shape\":[22],\"dtype\":\"object\",\"order\":\"little\"}],[\"Observation\",{\"type\":\"ndarray\",\"array\":{\"type\":\"bytes\",\"data\":\"tAQAALMJAAD+BwAAcHkAAFARAAALCAAACQgAAEoGAACOFQAAJwsAAG4CAACACAAAsQUAANkHAAAzJwAAZAYAAMAJAAB8DQAADysAACYFAADjCAAAGhoAAA==\"},\"shape\":[22],\"dtype\":\"int32\",\"order\":\"little\"}],[\"Non_Eng_Percentages\",{\"type\":\"ndarray\",\"array\":{\"type\":\"bytes\",\"data\":\"w/UoXI/C/T8pXI/C9Sj8PzMzMzMzM/M/MzMzMzOzIUBxPQrXo3ADQJqZmZmZmQdAcT0K16Nw/T+uR+F6FK77P1yPwvUoXA1AAAAAAAAABEDD9Shcj8LtP4/C9Shcjw5Aw/UoXI/C+T8zMzMzMzP3PxSuR+F6FBpAw/UoXI/C9T+4HoXrUbj+PwAAAAAAAPg/AAAAAAAAE0CF61G4HoX3P3sUrkfhevw/ZmZmZmZmFEA=\"},\"shape\":[22],\"dtype\":\"float64\",\"order\":\"little\"}],[\"NR_rate\",{\"type\":\"ndarray\",\"array\":[7.1,6.47,6.61,7.65,7.92,10.43,8.29,8.28,7.28,9.35,7.97,6.1,6.93,7.45,6.84,7.89,8.74,7.09,7.79,6.97,6.6,7.88],\"shape\":[22],\"dtype\":\"object\",\"order\":\"little\"}],[\"region\",{\"type\":\"ndarray\",\"array\":[\"Wales\",\"Wales\",\"Wales\",\"Wales\",\"Wales\",\"Wales\",\"Wales\",\"Wales\",\"Wales\",\"Wales\",\"Wales\",\"Wales\",\"Wales\",\"Wales\",\"Wales\",\"Wales\",\"Wales\",\"Wales\",\"Wales\",\"Wales\",\"Wales\",\"Wales\"],\"shape\":[22],\"dtype\":\"object\",\"order\":\"little\"}],[\"Urb_Rur\",{\"type\":\"ndarray\",\"array\":[\"Welsh/not specified\",\"Welsh/not specified\",\"Welsh/not specified\",\"Welsh/not specified\",\"Welsh/not specified\",\"Welsh/not specified\",\"Welsh/not specified\",\"Welsh/not specified\",\"Welsh/not specified\",\"Welsh/not specified\",\"Welsh/not specified\",\"Welsh/not specified\",\"Welsh/not specified\",\"Welsh/not specified\",\"Welsh/not specified\",\"Welsh/not specified\",\"Welsh/not specified\",\"Welsh/not specified\",\"Welsh/not specified\",\"Welsh/not specified\",\"Welsh/not specified\",\"Welsh/not specified\"],\"shape\":[22],\"dtype\":\"object\",\"order\":\"little\"}]]}}},\"view\":{\"type\":\"object\",\"name\":\"CDSView\",\"id\":\"p1165\",\"attributes\":{\"filter\":{\"type\":\"object\",\"name\":\"AllIndices\",\"id\":\"p1166\"}}},\"glyph\":{\"type\":\"object\",\"name\":\"Circle\",\"id\":\"p1161\",\"attributes\":{\"x\":{\"type\":\"field\",\"field\":\"Non_Eng_Percentages\"},\"y\":{\"type\":\"field\",\"field\":\"NR_rate\"},\"size\":{\"type\":\"value\",\"value\":10},\"line_color\":{\"type\":\"value\",\"value\":\"#bcbd22\"},\"line_alpha\":{\"type\":\"value\",\"value\":0.5},\"fill_color\":{\"type\":\"value\",\"value\":\"#bcbd22\"},\"fill_alpha\":{\"type\":\"value\",\"value\":0.5},\"hatch_color\":{\"type\":\"value\",\"value\":\"#bcbd22\"},\"hatch_alpha\":{\"type\":\"value\",\"value\":0.5}}},\"nonselection_glyph\":{\"type\":\"object\",\"name\":\"Circle\",\"id\":\"p1162\",\"attributes\":{\"x\":{\"type\":\"field\",\"field\":\"Non_Eng_Percentages\"},\"y\":{\"type\":\"field\",\"field\":\"NR_rate\"},\"size\":{\"type\":\"value\",\"value\":10},\"line_color\":{\"type\":\"value\",\"value\":\"#bcbd22\"},\"line_alpha\":{\"type\":\"value\",\"value\":0.1},\"fill_color\":{\"type\":\"value\",\"value\":\"#bcbd22\"},\"fill_alpha\":{\"type\":\"value\",\"value\":0.1},\"hatch_color\":{\"type\":\"value\",\"value\":\"#bcbd22\"},\"hatch_alpha\":{\"type\":\"value\",\"value\":0.1}}},\"muted_glyph\":{\"type\":\"object\",\"name\":\"Circle\",\"id\":\"p1163\",\"attributes\":{\"x\":{\"type\":\"field\",\"field\":\"Non_Eng_Percentages\"},\"y\":{\"type\":\"field\",\"field\":\"NR_rate\"},\"size\":{\"type\":\"value\",\"value\":10},\"line_color\":{\"type\":\"value\",\"value\":\"#bcbd22\"},\"line_alpha\":{\"type\":\"value\",\"value\":0.1},\"fill_color\":{\"type\":\"value\",\"value\":\"#bcbd22\"},\"fill_alpha\":{\"type\":\"value\",\"value\":0.1},\"hatch_color\":{\"type\":\"value\",\"value\":\"#bcbd22\"},\"hatch_alpha\":{\"type\":\"value\",\"value\":0.1}}}}},{\"type\":\"object\",\"name\":\"GlyphRenderer\",\"id\":\"p1177\",\"attributes\":{\"data_source\":{\"type\":\"object\",\"name\":\"ColumnDataSource\",\"id\":\"p1168\",\"attributes\":{\"selected\":{\"type\":\"object\",\"name\":\"Selection\",\"id\":\"p1170\",\"attributes\":{\"indices\":[],\"line_indices\":[]}},\"selection_policy\":{\"type\":\"object\",\"name\":\"UnionRenderers\",\"id\":\"p1169\"},\"data\":{\"type\":\"map\",\"entries\":[[\"index\",{\"type\":\"ndarray\",\"array\":{\"type\":\"bytes\",\"data\":\"RgAAAEwAAABtAAAAgAAAAK8AAAC2AAAAwwAAAMYAAADWAAAAAAEAAAsBAAAPAQAA\"},\"shape\":[12],\"dtype\":\"int32\",\"order\":\"little\"}],[\"LA_name\",{\"type\":\"ndarray\",\"array\":[\"County Durham\",\"Darlington\",\"Gateshead\",\"Hartlepool\",\"Middlesbrough\",\"Newcastle upon Tyne\",\"North Tyneside\",\"Northumberland\",\"Redcar and Cleveland\",\"South Tyneside\",\"Stockton-on-Tees\",\"Sunderland\"],\"shape\":[12],\"dtype\":\"object\",\"order\":\"little\"}],[\"Observation\",{\"type\":\"ndarray\",\"array\":{\"type\":\"bytes\",\"data\":\"XSUAADMRAABKHwAAUwcAAA4pAACueAAAdRMAALINAAC0BQAApAwAACoWAADnGgAA\"},\"shape\":[12],\"dtype\":\"int32\",\"order\":\"little\"}],[\"Non_Eng_Percentages\",{\"type\":\"ndarray\",\"array\":{\"type\":\"bytes\",\"data\":\"FK5H4XoU/j/Xo3A9CtcQQNejcD0K1xBAzczMzMzMAEBI4XoUrkceQD0K16NwPSVArkfhehSuA0DsUbgehevxP5qZmZmZmfE/FK5H4XoUAkDXo3A9CtcHQLgehetRuARA\"},\"shape\":[12],\"dtype\":\"float64\",\"order\":\"little\"}],[\"NR_rate\",{\"type\":\"ndarray\",\"array\":[5.77,5.69,5.49,6.1,7.28,7.6,5.23,5.64,6.27,5.36,5.87,5.34],\"shape\":[12],\"dtype\":\"object\",\"order\":\"little\"}],[\"region\",{\"type\":\"ndarray\",\"array\":[\"North East\",\"North East\",\"North East\",\"North East\",\"North East\",\"North East\",\"North East\",\"North East\",\"North East\",\"North East\",\"North East\",\"North East\"],\"shape\":[12],\"dtype\":\"object\",\"order\":\"little\"}],[\"Urb_Rur\",{\"type\":\"ndarray\",\"array\":[\"Predominantly Rural\",\"Predominantly Urban\",\"Predominantly Urban\",\"Predominantly Urban\",\"Predominantly Urban\",\"Predominantly Urban\",\"Predominantly Urban\",\"Predominantly Rural\",\"Urban with Significant Rural\",\"Predominantly Urban\",\"Predominantly Urban\",\"Predominantly Urban\"],\"shape\":[12],\"dtype\":\"object\",\"order\":\"little\"}]]}}},\"view\":{\"type\":\"object\",\"name\":\"CDSView\",\"id\":\"p1178\",\"attributes\":{\"filter\":{\"type\":\"object\",\"name\":\"AllIndices\",\"id\":\"p1179\"}}},\"glyph\":{\"type\":\"object\",\"name\":\"Circle\",\"id\":\"p1174\",\"attributes\":{\"x\":{\"type\":\"field\",\"field\":\"Non_Eng_Percentages\"},\"y\":{\"type\":\"field\",\"field\":\"NR_rate\"},\"size\":{\"type\":\"value\",\"value\":10},\"line_color\":{\"type\":\"value\",\"value\":\"#17becf\"},\"line_alpha\":{\"type\":\"value\",\"value\":0.5},\"fill_color\":{\"type\":\"value\",\"value\":\"#17becf\"},\"fill_alpha\":{\"type\":\"value\",\"value\":0.5},\"hatch_color\":{\"type\":\"value\",\"value\":\"#17becf\"},\"hatch_alpha\":{\"type\":\"value\",\"value\":0.5}}},\"nonselection_glyph\":{\"type\":\"object\",\"name\":\"Circle\",\"id\":\"p1175\",\"attributes\":{\"x\":{\"type\":\"field\",\"field\":\"Non_Eng_Percentages\"},\"y\":{\"type\":\"field\",\"field\":\"NR_rate\"},\"size\":{\"type\":\"value\",\"value\":10},\"line_color\":{\"type\":\"value\",\"value\":\"#17becf\"},\"line_alpha\":{\"type\":\"value\",\"value\":0.1},\"fill_color\":{\"type\":\"value\",\"value\":\"#17becf\"},\"fill_alpha\":{\"type\":\"value\",\"value\":0.1},\"hatch_color\":{\"type\":\"value\",\"value\":\"#17becf\"},\"hatch_alpha\":{\"type\":\"value\",\"value\":0.1}}},\"muted_glyph\":{\"type\":\"object\",\"name\":\"Circle\",\"id\":\"p1176\",\"attributes\":{\"x\":{\"type\":\"field\",\"field\":\"Non_Eng_Percentages\"},\"y\":{\"type\":\"field\",\"field\":\"NR_rate\"},\"size\":{\"type\":\"value\",\"value\":10},\"line_color\":{\"type\":\"value\",\"value\":\"#17becf\"},\"line_alpha\":{\"type\":\"value\",\"value\":0.1},\"fill_color\":{\"type\":\"value\",\"value\":\"#17becf\"},\"fill_alpha\":{\"type\":\"value\",\"value\":0.1},\"hatch_color\":{\"type\":\"value\",\"value\":\"#17becf\"},\"hatch_alpha\":{\"type\":\"value\",\"value\":0.1}}}}}],\"toolbar\":{\"type\":\"object\",\"name\":\"Toolbar\",\"id\":\"p1007\",\"attributes\":{\"tools\":[{\"type\":\"object\",\"name\":\"PanTool\",\"id\":\"p1033\"},{\"type\":\"object\",\"name\":\"WheelZoomTool\",\"id\":\"p1034\"},{\"type\":\"object\",\"name\":\"BoxZoomTool\",\"id\":\"p1035\",\"attributes\":{\"overlay\":{\"type\":\"object\",\"name\":\"BoxAnnotation\",\"id\":\"p1036\",\"attributes\":{\"syncable\":false,\"level\":\"overlay\",\"visible\":false,\"left_units\":\"canvas\",\"right_units\":\"canvas\",\"bottom_units\":\"canvas\",\"top_units\":\"canvas\",\"line_color\":\"black\",\"line_alpha\":1.0,\"line_width\":2,\"line_dash\":[4,4],\"fill_color\":\"lightgrey\",\"fill_alpha\":0.5}}}},{\"type\":\"object\",\"name\":\"SaveTool\",\"id\":\"p1037\"},{\"type\":\"object\",\"name\":\"ResetTool\",\"id\":\"p1038\"},{\"type\":\"object\",\"name\":\"HelpTool\",\"id\":\"p1039\"},{\"type\":\"object\",\"name\":\"HoverTool\",\"id\":\"p1041\",\"attributes\":{\"renderers\":\"auto\",\"tooltips\":[[\"index\",\"$index\"],[\"(x,y)\",\"(@Non_Eng_Percentages, @NR_rate)\"],[\"name\",\"@LA_name\"]]}}]}},\"left\":[{\"type\":\"object\",\"name\":\"LinearAxis\",\"id\":\"p1026\",\"attributes\":{\"ticker\":{\"type\":\"object\",\"name\":\"BasicTicker\",\"id\":\"p1029\",\"attributes\":{\"mantissas\":[1,2,5]}},\"formatter\":{\"type\":\"object\",\"name\":\"BasicTickFormatter\",\"id\":\"p1027\"},\"axis_label\":\"Non-response rate\",\"major_label_policy\":{\"type\":\"object\",\"name\":\"AllLabels\",\"id\":\"p1028\"}}}],\"below\":[{\"type\":\"object\",\"name\":\"LinearAxis\",\"id\":\"p1019\",\"attributes\":{\"ticker\":{\"type\":\"object\",\"name\":\"BasicTicker\",\"id\":\"p1022\",\"attributes\":{\"mantissas\":[1,2,5]}},\"formatter\":{\"type\":\"object\",\"name\":\"BasicTickFormatter\",\"id\":\"p1020\"},\"axis_label\":\"Percentage of Non-English Speakers\",\"major_label_policy\":{\"type\":\"object\",\"name\":\"AllLabels\",\"id\":\"p1021\"}}}],\"center\":[{\"type\":\"object\",\"name\":\"Grid\",\"id\":\"p1025\",\"attributes\":{\"axis\":{\"id\":\"p1019\"}}},{\"type\":\"object\",\"name\":\"Grid\",\"id\":\"p1032\",\"attributes\":{\"dimension\":1,\"axis\":{\"id\":\"p1026\"}}},{\"type\":\"object\",\"name\":\"Legend\",\"id\":\"p1062\",\"attributes\":{\"location\":\"bottom_right\",\"title\":\"Regions\",\"click_policy\":\"hide\",\"items\":[{\"type\":\"object\",\"name\":\"LegendItem\",\"id\":\"p1063\",\"attributes\":{\"label\":{\"type\":\"value\",\"value\":\"South East\"},\"renderers\":[{\"id\":\"p1059\"}]}},{\"type\":\"object\",\"name\":\"LegendItem\",\"id\":\"p1076\",\"attributes\":{\"label\":{\"type\":\"value\",\"value\":\"North West\"},\"renderers\":[{\"id\":\"p1073\"}]}},{\"type\":\"object\",\"name\":\"LegendItem\",\"id\":\"p1089\",\"attributes\":{\"label\":{\"type\":\"value\",\"value\":\"East Midlands\"},\"renderers\":[{\"id\":\"p1086\"}]}},{\"type\":\"object\",\"name\":\"LegendItem\",\"id\":\"p1102\",\"attributes\":{\"label\":{\"type\":\"value\",\"value\":\"East of England\"},\"renderers\":[{\"id\":\"p1099\"}]}},{\"type\":\"object\",\"name\":\"LegendItem\",\"id\":\"p1115\",\"attributes\":{\"label\":{\"type\":\"value\",\"value\":\"London\"},\"renderers\":[{\"id\":\"p1112\"}]}},{\"type\":\"object\",\"name\":\"LegendItem\",\"id\":\"p1128\",\"attributes\":{\"label\":{\"type\":\"value\",\"value\":\"Yorkshire and The Humber\"},\"renderers\":[{\"id\":\"p1125\"}]}},{\"type\":\"object\",\"name\":\"LegendItem\",\"id\":\"p1141\",\"attributes\":{\"label\":{\"type\":\"value\",\"value\":\"South West\"},\"renderers\":[{\"id\":\"p1138\"}]}},{\"type\":\"object\",\"name\":\"LegendItem\",\"id\":\"p1154\",\"attributes\":{\"label\":{\"type\":\"value\",\"value\":\"West Midlands\"},\"renderers\":[{\"id\":\"p1151\"}]}},{\"type\":\"object\",\"name\":\"LegendItem\",\"id\":\"p1167\",\"attributes\":{\"label\":{\"type\":\"value\",\"value\":\"Wales\"},\"renderers\":[{\"id\":\"p1164\"}]}},{\"type\":\"object\",\"name\":\"LegendItem\",\"id\":\"p1180\",\"attributes\":{\"label\":{\"type\":\"value\",\"value\":\"North East\"},\"renderers\":[{\"id\":\"p1177\"}]}}]}}]}}],\"callbacks\":{\"type\":\"map\"}}};\n",
       "  const render_items = [{\"docid\":\"0b779f70-a5c9-4e26-baa1-2f2ba25871dc\",\"roots\":{\"p1001\":\"1cf043bd-4eda-4c0a-af56-37b7123f9043\"},\"root_ids\":[\"p1001\"]}];\n",
       "  root.Bokeh.embed.embed_items_notebook(docs_json, render_items);\n",
       "  }\n",
       "  if (root.Bokeh !== undefined) {\n",
       "    embed_document(root);\n",
       "  } else {\n",
       "    let attempts = 0;\n",
       "    const timer = setInterval(function(root) {\n",
       "      if (root.Bokeh !== undefined) {\n",
       "        clearInterval(timer);\n",
       "        embed_document(root);\n",
       "      } else {\n",
       "        attempts++;\n",
       "        if (attempts > 100) {\n",
       "          clearInterval(timer);\n",
       "          console.log(\"Bokeh: ERROR: Unable to run BokehJS code because BokehJS library is missing\");\n",
       "        }\n",
       "      }\n",
       "    }, 10, root)\n",
       "  }\n",
       "})(window);"
      ],
      "application/vnd.bokehjs_exec.v0+json": ""
     },
     "metadata": {
      "application/vnd.bokehjs_exec.v0+json": {
       "id": "p1001"
      }
     },
     "output_type": "display_data"
    }
   ],
   "source": [
    "# Let's see if we can make a standalone Bokeh plot for some of this data\n",
    "\n",
    "from bokeh.models.annotations import LabelSet\n",
    "from bokeh.models import ColumnDataSource, Label, LabelSet\n",
    "from bokeh.palettes import Category10\n",
    "from bokeh.io import show\n",
    "from bokeh.models import CheckboxGroup, CustomJS\n",
    "from bokeh.layouts import column\n",
    "from bokeh.models import Button\n",
    "from bokeh.plotting import figure, curdoc\n",
    "\n",
    "# Bokeh has a hover tool, allowing you to scroll over dps to reveal info\n",
    "# To configure the tool, we must set our tooltips arguments...\n",
    "\n",
    "# We simply define a list of tuples which refer to column values in our merged_df \n",
    "\n",
    "tool = [\n",
    "    (\"index\", \"$index\"),\n",
    "    (\"(x,y)\", \"(@Non_Eng_Percentages, @NR_rate)\"),\n",
    "    (\"name\",\"@LA_name\"),\n",
    "]\n",
    "\n",
    "# Create graph figure, set title and x and y labels\n",
    "\n",
    "p1 = figure(title=\"Relationship between NR rate and Non-English Speakers\", x_axis_label=\"Percentage of Non-English Speakers\", y_axis_label= \"Non-response rate\", tooltips = tool)\n",
    "\n",
    "# To colour each data point by region we first loop over each unique region and its colour\n",
    "for region, color in zip(merged_df.region.unique(), Category10[10]):\n",
    "#     Subset dataframe by region for each unique region\n",
    "    b = merged_df[merged_df.region == region]\n",
    "#     Each dp within that region is then plotted with its data and specific colour\n",
    "    p1.circle(x = 'Non_Eng_Percentages', y = 'NR_rate', size = 10, alpha = 0.5, color = color, legend_label = region, muted_color = color, muted_alpha = 0.1, source = b)\n",
    "\n",
    "\n",
    "# Set location of legend\n",
    "\n",
    "p1.legend.location = \"bottom_right\"\n",
    "\n",
    "# Make it so that when a specific legend is clicked, its dps are removed from plot\n",
    "p1.legend.click_policy=\"hide\"\n",
    "\n",
    "# Set legend title \n",
    "p1.legend.title = \"Regions\"\n",
    "\n",
    "# Display output\n",
    "output_notebook()\n",
    "show(p1)\n"
   ]
  },
  {
   "cell_type": "markdown",
   "id": "865a985d",
   "metadata": {},
   "source": [
    "# Outputs"
   ]
  },
  {
   "cell_type": "code",
   "execution_count": 31,
   "id": "3d36cbb4",
   "metadata": {},
   "outputs": [],
   "source": [
    "merged_df.to_csv('../Data/lang_rural_region_so.csv', index = False)"
   ]
  },
  {
   "cell_type": "markdown",
   "id": "8e93f4fd",
   "metadata": {},
   "source": [
    "# Religion"
   ]
  },
  {
   "cell_type": "code",
   "execution_count": null,
   "id": "3fda02f8",
   "metadata": {},
   "outputs": [],
   "source": [
    "# Read-in dataset for religion + sexual orientation\n",
    "\n",
    "rel = pd.read_excel('/Users/loucap/Documents/GitWork/InteractiveGender/Data/religion_so.xlsx')\n",
    "rel.rename(columns={'Lower tier local authorities Code': 'LA_code', 'Lower tier local authorities': 'LA_name', 'Sexual orientation (6 categories) Code': 'SO_code', 'Sexual orientation (6 categories)': 'SO_categories', 'Religion (10 categories) Code': 'Religion_code', 'Religion (10 categories)': 'Religion_categories'}, inplace=True)\n",
    "rel = rel[(rel.SO_code != -8) & (rel.Religion_code != -8) & (rel.Religion_code != 9)]\n",
    "\n",
    "# Calculate the total number of survey respondents for each religion\n",
    "total_by_religion = rel.groupby('Religion_categories')['Observation'].sum().reset_index()\n",
    "\n",
    "# Calculate the percentage of respondents for each religion\n",
    "total_respondents = rel['Observation'].sum()\n",
    "total_by_religion['Percent_of_survey_respondents'] = ((total_by_religion['Observation'] / total_respondents) * 100).round(2)\n",
    "\n",
    "# Calculate the total non-response for each religion\n",
    "non_response_rel = rel[rel['SO_categories'] == 'Not answered']\n",
    "non_response_by_religion = non_response_rel.groupby('Religion_categories')['Observation'].sum().reset_index()\n",
    "\n",
    "# Merge the total_by_religion and non_response_by_religion DataFrames\n",
    "# merged_rel = total_by_religion.merge(non_response_by_religion, on='Religion_categories', suffixes=('', '_non_response'))\n",
    "\n",
    "total_by_religion.head(9)\n",
    "# merged_rel.head()"
   ]
  },
  {
   "cell_type": "code",
   "execution_count": null,
   "id": "427d90ea",
   "metadata": {},
   "outputs": [],
   "source": [
    "# Calculate the non-response rate for each religion\n",
    "non_response_by_religion['Non_response_rate'] = ((non_response_by_religion['Observation'] / total_by_religion['Observation']) * 100).round(2)\n",
    "\n",
    "total_non_response = non_response_by_religion['Observation'].sum()\n",
    "non_response_by_religion['Contribution_to_overall_non_response_rate'] = ((non_response_by_religion['Observation'] / total_non_response) * 100).round(2)\n"
   ]
  },
  {
   "cell_type": "code",
   "execution_count": null,
   "id": "53462bfe",
   "metadata": {},
   "outputs": [],
   "source": [
    "non_response_by_religion.head(9)"
   ]
  },
  {
   "cell_type": "code",
   "execution_count": null,
   "id": "33b98d61",
   "metadata": {},
   "outputs": [],
   "source": [
    "rel1 = pd.read_excel('/Users/loucap/Documents/GitWork/InteractiveGender/Data/religion_so.xlsx')"
   ]
  },
  {
   "cell_type": "code",
   "execution_count": null,
   "id": "b73e957f",
   "metadata": {},
   "outputs": [],
   "source": [
    "# These column names are too wordy, let's rename them.\n",
    "\n",
    "rel1.rename(columns={'Lower tier local authorities Code': 'LA_code', 'Lower tier local authorities': 'LA_name', 'Sexual orientation (6 categories) Code': 'SO_code', 'Sexual orientation (6 categories)': 'SO_categories', 'Religion (10 categories) Code': 'Religion_code', 'Religion (10 categories)': 'Religion_categories'}, inplace=True)"
   ]
  },
  {
   "cell_type": "code",
   "execution_count": null,
   "id": "b40f378e",
   "metadata": {},
   "outputs": [],
   "source": [
    "rel1.SO_categories.unique()"
   ]
  },
  {
   "cell_type": "code",
   "execution_count": null,
   "id": "daaa6460",
   "metadata": {},
   "outputs": [],
   "source": [
    "rel1.SO_code.unique()"
   ]
  },
  {
   "cell_type": "markdown",
   "id": "45037e93",
   "metadata": {},
   "source": [
    "# Total numbers - table"
   ]
  },
  {
   "cell_type": "code",
   "execution_count": null,
   "id": "ac7fe110",
   "metadata": {},
   "outputs": [],
   "source": [
    "# Nice. Lets now subset it, as we're only interested in non-response\n",
    "# Let's also get rid of our empty 'Does not apply' category\n",
    "# For now let's ignore our 'Non-response' for our rel1igious category\n",
    "\n",
    "non_resp = rel1[(rel1.SO_code == 5) & (rel1.SO_code != -8) & (rel1.Religion_code != -8) & (rel1.Religion_code != 9)]\n",
    "\n",
    "# Let's have a look...\n",
    "\n",
    "non_resp.head(10)"
   ]
  },
  {
   "cell_type": "code",
   "execution_count": null,
   "id": "740720fc",
   "metadata": {},
   "outputs": [],
   "source": [
    "# Created an empty column to hold percentages of religions within each LA\n",
    "\n",
    "non_resp['Percentages'] = ''\n",
    "\n",
    "for i in non_resp.LA_name.unique():\n",
    "    \n",
    "    b = non_resp[non_resp.LA_name == i]\n",
    "    \n",
    "    perc = b.Observation / b.Observation.sum() * 100\n",
    "    \n",
    "    non_resp.loc[b.index, 'Percentages'] = round(perc, 2)"
   ]
  },
  {
   "cell_type": "code",
   "execution_count": null,
   "id": "21eedb18",
   "metadata": {},
   "outputs": [],
   "source": [
    "sorted_df = non_resp.sort_values(by = [\"LA_name\", \"Percentages\"], ascending = [True, False])\n",
    "\n",
    "sorted_df"
   ]
  },
  {
   "cell_type": "markdown",
   "id": "2061e348",
   "metadata": {},
   "source": [
    "## Shannon index"
   ]
  },
  {
   "cell_type": "code",
   "execution_count": null,
   "id": "60db2af1",
   "metadata": {},
   "outputs": [],
   "source": [
    "# Let's now calculate the proportions\n",
    "# To get better precision and not lose valuable insights I opted to round to 4 decimal places\n",
    "sorted_df['Proportions'] = (sorted_df['Percentages'].astype(float) / 100).round(4)"
   ]
  },
  {
   "cell_type": "code",
   "execution_count": null,
   "id": "cf17eb69",
   "metadata": {},
   "outputs": [],
   "source": [
    "sorted_df.head()"
   ]
  },
  {
   "cell_type": "code",
   "execution_count": null,
   "id": "e50740a7",
   "metadata": {},
   "outputs": [],
   "source": [
    "sorted_df['Calc'] = np.where(sorted_df['Proportions'] > 0, - sorted_df['Proportions'] * np.log(sorted_df['Proportions']), 0)"
   ]
  },
  {
   "cell_type": "code",
   "execution_count": null,
   "id": "b5a4aa48",
   "metadata": {},
   "outputs": [],
   "source": [
    "# Created an empty column titled Shannon_idx\n",
    "sorted_df['Shannon_idx'] = ''\n",
    "\n",
    "for i in sorted_df.LA_code.unique():\n",
    "    \n",
    "    b = sorted_df[sorted_df.LA_code == i]\n",
    "    summed = sum(b.Calc)\n",
    "    \n",
    "    sorted_df.loc[b.index, 'Shannon_idx'] = summed"
   ]
  },
  {
   "cell_type": "code",
   "execution_count": null,
   "id": "7d03b1b4",
   "metadata": {},
   "outputs": [],
   "source": [
    "sorted_df.head()"
   ]
  },
  {
   "cell_type": "code",
   "execution_count": null,
   "id": "2ecd11a2",
   "metadata": {},
   "outputs": [],
   "source": [
    "unique_shannon_df = sorted_df[['LA_name', 'Shannon_idx']].drop_duplicates(subset=['LA_name'])\n",
    "unique_shannon_df.sort_values(by = 'Shannon_idx', ascending = False).head()"
   ]
  },
  {
   "cell_type": "code",
   "execution_count": null,
   "id": "81cb80fd",
   "metadata": {},
   "outputs": [],
   "source": [
    "cmap = plt.get_cmap(\"viridis\")\n",
    "cmap"
   ]
  },
  {
   "cell_type": "code",
   "execution_count": null,
   "id": "169509e8",
   "metadata": {},
   "outputs": [],
   "source": [
    "normalized_shannon = (sorted_df['Shannon_idx'] - sorted_df['Shannon_idx'].min()) / (sorted_df['Shannon_idx'].max() - sorted_df['Shannon_idx'].min())\n",
    "normalized_shannon"
   ]
  },
  {
   "cell_type": "code",
   "execution_count": null,
   "id": "202c2460",
   "metadata": {},
   "outputs": [],
   "source": [
    "from bokeh.models import LogColorMapper\n",
    "\n",
    "color_map = LogColorMapper(palette=\"Viridis256\", low=sorted_df.Shannon_idx.min(), high=sorted_df.Shannon_idx.max())\n",
    "\n",
    "color_map"
   ]
  },
  {
   "cell_type": "code",
   "execution_count": null,
   "id": "59a6fa5d",
   "metadata": {},
   "outputs": [],
   "source": [
    "# Create a mapping between LA_code and Shannon_idx\n",
    "la_code_to_shannon_idx = sorted_df.set_index('LA_code')['Shannon_idx'].to_dict()"
   ]
  },
  {
   "cell_type": "code",
   "execution_count": null,
   "id": "b721b4dd",
   "metadata": {},
   "outputs": [],
   "source": [
    "merged_df"
   ]
  },
  {
   "cell_type": "code",
   "execution_count": null,
   "id": "9b76f510",
   "metadata": {},
   "outputs": [],
   "source": [
    "merged_df['Shannon_idx'] = merged_df['LA_code'].map(la_code_to_shannon_idx)"
   ]
  },
  {
   "cell_type": "code",
   "execution_count": null,
   "id": "1d5500de",
   "metadata": {
    "scrolled": false
   },
   "outputs": [],
   "source": [
    "from bokeh.transform import factor_cmap, factor_mark\n",
    "from bokeh.plotting import figure, show\n",
    "from bokeh.palettes import Category10\n",
    "from bokeh.models import ColorBar, BasicTicker, PrintfTickFormatter\n",
    "\n",
    "tool = [\n",
    "    (\"index\", \"$index\"),\n",
    "    (\"(x,y)\", \"($x, $y)\"),\n",
    "    (\"name\",\"@LA_name\"),\n",
    "    (\"Shannon_idx\", \"@Shannon_idx\")\n",
    "]\n",
    "\n",
    "\n",
    "p2 = figure(title=\"Relationship between Non-response Rate and Non-English Speakers\", x_axis_label=\"Non-response Rate\", y_axis_label=\"Percentage of Non-English Speakers\", tooltips = tool)\n",
    "output_notebook()\n",
    "\n",
    "p2.scatter(\"Percentage\", \"Non-response_rate\", source = merged_df, fill_alpha = 0.5, size = 10,  color={'field': 'Shannon_idx', 'transform': color_map})\n",
    "\n",
    "color_bar = ColorBar(color_mapper=color_map,\n",
    "                     title='Shannon Index',\n",
    "                     ticker=BasicTicker(desired_num_ticks=5),\n",
    "                     formatter=PrintfTickFormatter(format='%.2f'))\n",
    "\n",
    "# Add the color bar to the plot\n",
    "p2.add_layout(color_bar, 'right')\n",
    "\n",
    "\n",
    "show(p2)"
   ]
  },
  {
   "cell_type": "markdown",
   "id": "ce472f0b",
   "metadata": {},
   "source": [
    "## % Non-response per religious category"
   ]
  },
  {
   "cell_type": "code",
   "execution_count": null,
   "id": "bc38b50f",
   "metadata": {},
   "outputs": [],
   "source": [
    "# Get rid of categories which are N/A and have 0 counts\n",
    "# Also got rid of 'Not answered' category for rel1igion...is this wise?\n",
    "# Will artificially inflate numbers of other rel1igious groups?\n",
    "\n",
    "rel1 = rel1[(rel1.SO_code != -8) & (rel1.Religion_code != -8) & (rel1.Religion_code != 9)]\n"
   ]
  },
  {
   "cell_type": "code",
   "execution_count": null,
   "id": "f34b37fc",
   "metadata": {},
   "outputs": [],
   "source": [
    "# Let's calc the % of each rel1igious group and their SO answers for each LA\n",
    "\n",
    "rel1['Group_Percentages'] = ''\n",
    "\n",
    "for i in rel1.LA_name.unique():\n",
    "    \n",
    "    b = rel1[rel1.LA_name == i]\n",
    "    \n",
    "    perc = b.Observation / b.Observation.sum() * 100\n",
    "    \n",
    "    rel1.loc[b.index, 'Group_Percentages'] = round(perc, 2)"
   ]
  },
  {
   "cell_type": "code",
   "execution_count": null,
   "id": "4c39c235",
   "metadata": {},
   "outputs": [],
   "source": [
    "rel1.head()"
   ]
  },
  {
   "cell_type": "code",
   "execution_count": null,
   "id": "bea87842",
   "metadata": {},
   "outputs": [],
   "source": [
    "# Created a column which holds the total amount of people in each LA e.g. in Hartlepool there's 70898 people\n",
    "# This will help me with next calculation\n",
    "\n",
    "rel1['Total_LA_counts'] = ''\n",
    "\n",
    "for i in rel1.LA_name.unique():\n",
    "    \n",
    "    b = rel1[rel1.LA_name == i]\n",
    "    \n",
    "    tot = b.Observation.sum()\n",
    "    \n",
    "    rel1.loc[b.index, 'Total_LA_counts'] = tot"
   ]
  },
  {
   "cell_type": "code",
   "execution_count": null,
   "id": "7ce733cb",
   "metadata": {},
   "outputs": [],
   "source": [
    "rel1.head()"
   ]
  },
  {
   "cell_type": "markdown",
   "id": "0ca2fa8f",
   "metadata": {},
   "source": [
    "### ATHEISTS"
   ]
  },
  {
   "cell_type": "code",
   "execution_count": null,
   "id": "28ea6396",
   "metadata": {},
   "outputs": [],
   "source": [
    "# First, we subset our dataframe to only get data where rel1igion_category == No rel1igion\n",
    "\n",
    "atheist = rel1[(rel1.Religion_categories == 'No religion')]\n",
    "atheist.head(10)"
   ]
  },
  {
   "cell_type": "code",
   "execution_count": null,
   "id": "4e80a8a3",
   "metadata": {},
   "outputs": [],
   "source": [
    "# So, whilst we have the % of atheists for each SO category for each individual LA...\n",
    "# We now want to know the total % of atheists in each LA\n",
    "\n",
    "atheist['No religion_%'] = ''\n",
    "\n",
    "for i in atheist.LA_code.unique():\n",
    "    \n",
    "    v = atheist[atheist.LA_code == i]\n",
    "    \n",
    "    perc = v.Group_Percentages.sum()\n",
    "    \n",
    "    atheist.loc[v.index, 'No religion_%'] = perc"
   ]
  },
  {
   "cell_type": "code",
   "execution_count": null,
   "id": "6cf0b523",
   "metadata": {},
   "outputs": [],
   "source": [
    "# Now we have...\n",
    "# e.g. Hartlepool, our total % of atheists is 38.76% and out of that number...\n",
    "# our non-response rate for atheists in this LA is 1.61%\n",
    "\n",
    "atheist.head()"
   ]
  },
  {
   "cell_type": "markdown",
   "id": "4dd4ad3a",
   "metadata": {},
   "source": [
    "## Total number of atheists / total number of respondents"
   ]
  },
  {
   "cell_type": "code",
   "execution_count": null,
   "id": "790d0a70",
   "metadata": {},
   "outputs": [],
   "source": [
    "atheist.Observation.sum() / rel.Observation.sum() * 100"
   ]
  },
  {
   "cell_type": "code",
   "execution_count": null,
   "id": "8b5e3957",
   "metadata": {},
   "outputs": [],
   "source": [
    "rel.Observation.sum()"
   ]
  },
  {
   "cell_type": "code",
   "execution_count": null,
   "id": "6b373be2",
   "metadata": {},
   "outputs": [],
   "source": [
    "# In terms of my scatterplot, I want to subset my dataframe again so that I'm only looking at non-response for GI\n",
    "\n",
    "x = atheist[atheist.SO_categories == 'Not answered']"
   ]
  },
  {
   "cell_type": "code",
   "execution_count": null,
   "id": "44fad3e6",
   "metadata": {},
   "outputs": [],
   "source": [
    "x"
   ]
  },
  {
   "cell_type": "markdown",
   "id": "eda27f5e",
   "metadata": {},
   "source": [
    "## NR rate for Atheists"
   ]
  },
  {
   "cell_type": "code",
   "execution_count": null,
   "id": "07db65e6",
   "metadata": {},
   "outputs": [],
   "source": [
    " atheist.Observation.sum()"
   ]
  },
  {
   "cell_type": "code",
   "execution_count": null,
   "id": "7ccea0e5",
   "metadata": {},
   "outputs": [],
   "source": [
    "x.Observation.sum()"
   ]
  },
  {
   "cell_type": "code",
   "execution_count": null,
   "id": "84c17f29",
   "metadata": {},
   "outputs": [],
   "source": [
    "x.Observation.sum() / atheist.Observation.sum() * 100"
   ]
  },
  {
   "cell_type": "code",
   "execution_count": null,
   "id": "b8aa0742",
   "metadata": {},
   "outputs": [],
   "source": [
    "from bokeh.transform import factor_cmap, factor_mark\n",
    "from bokeh.plotting import figure, show\n",
    "from bokeh.palettes import Category10\n",
    "\n",
    "tool = [\n",
    "    (\"index\", \"$index\"),\n",
    "    (\"(x,y)\", \"($x, $y)\"),\n",
    "    (\"name\",\"@LA_name\"),\n",
    "]\n",
    "# p1.legend.location = \"bottom_right\"\n",
    "# p1.legend.click_policy=\"hide\"\n",
    "# p1.legend.title = \"Regions\"\n",
    "\n",
    "# regions = df.region_x.unique()\n",
    "# urban = df.Urb_Rur.unique()\n",
    "\n",
    "\n",
    "p2 = figure(title=\"Relationship between % of Atheists in given LA, and their Non-response rate\", y_axis_label=\"Non-response Rate\", x_axis_label=\"Percentage of Atheists in given LA\", tooltips = tool)\n",
    "output_notebook()\n",
    "\n",
    "p2.scatter(\"No religion_%\", \"Group_Percentages\", source = x, fill_alpha = 0.5, size = 10)\n",
    "\n",
    "show(p2)"
   ]
  },
  {
   "cell_type": "code",
   "execution_count": null,
   "id": "c0738673",
   "metadata": {},
   "outputs": [],
   "source": [
    "from scipy.stats import pearsonr\n",
    "\n",
    "\n",
    "correlation, _ = pearsonr(x['No religion_%'], x.Group_Percentages)\n",
    "\n",
    "print(f\"Pearson correlation coefficient: {correlation:.2f}\")"
   ]
  },
  {
   "cell_type": "code",
   "execution_count": null,
   "id": "620fe451",
   "metadata": {},
   "outputs": [],
   "source": [
    "from scipy.stats import spearmanr\n",
    "\n",
    "correlation_coefficient, p_value = spearmanr(x['No religion_%'], x.Group_Percentages)\n",
    "\n",
    "print(f\"Spearman's rank correlation coefficient: {correlation_coefficient}\")\n",
    "print(f\"P-value: {p_value}\")"
   ]
  },
  {
   "cell_type": "markdown",
   "id": "687a5ec6",
   "metadata": {},
   "source": [
    "### CHRISTIAN"
   ]
  },
  {
   "cell_type": "code",
   "execution_count": null,
   "id": "480ea939",
   "metadata": {},
   "outputs": [],
   "source": [
    "def subset_rel(religion):\n",
    "    a = rel1[(rel1.Religion_categories == religion)]\n",
    "    \n",
    "    a[religion+'_%'] = ''\n",
    "\n",
    "    for i in a.LA_code.unique():\n",
    "    \n",
    "        v = a[a.LA_code == i]\n",
    "    \n",
    "        perc = v.Group_Percentages.sum()\n",
    "    \n",
    "        a.loc[v.index, religion+'_%'] = perc\n",
    "        \n",
    "        x = a[a.SO_categories == 'Not answered']\n",
    "        \n",
    "    return a,x"
   ]
  },
  {
   "cell_type": "code",
   "execution_count": null,
   "id": "6928d211",
   "metadata": {},
   "outputs": [],
   "source": [
    "christian, b = subset_rel('Christian')"
   ]
  },
  {
   "cell_type": "markdown",
   "id": "e53bad92",
   "metadata": {},
   "source": [
    "## Total number of Christians / total number of respondents"
   ]
  },
  {
   "cell_type": "code",
   "execution_count": null,
   "id": "1c037eb3",
   "metadata": {},
   "outputs": [],
   "source": [
    "christian.Observation.sum() / rel.Observation.sum() * 100"
   ]
  },
  {
   "cell_type": "markdown",
   "id": "7b737a0b",
   "metadata": {},
   "source": [
    "## NR rate for Atheists"
   ]
  },
  {
   "cell_type": "code",
   "execution_count": null,
   "id": "72604342",
   "metadata": {},
   "outputs": [],
   "source": [
    "b.Observation.sum() "
   ]
  },
  {
   "cell_type": "code",
   "execution_count": null,
   "id": "1aa80f55",
   "metadata": {},
   "outputs": [],
   "source": [
    "b.head()"
   ]
  },
  {
   "cell_type": "code",
   "execution_count": null,
   "id": "1137a17f",
   "metadata": {},
   "outputs": [],
   "source": []
  },
  {
   "cell_type": "code",
   "execution_count": null,
   "id": "13349920",
   "metadata": {},
   "outputs": [],
   "source": [
    "from bokeh.transform import factor_cmap, factor_mark\n",
    "from bokeh.plotting import figure, show\n",
    "from bokeh.palettes import Category10\n",
    "\n",
    "tool = [\n",
    "    (\"index\", \"$index\"),\n",
    "    (\"(x,y)\", \"($x, $y)\"),\n",
    "    (\"name\",\"@LA_name\"),\n",
    "]\n",
    "# p1.legend.location = \"bottom_right\"\n",
    "# p1.legend.click_policy=\"hide\"\n",
    "# p1.legend.title = \"Regions\"\n",
    "\n",
    "# regions = df.region_x.unique()\n",
    "# urban = df.Urb_Rur.unique()\n",
    "\n",
    "\n",
    "p2 = figure(title=\"Relationship between % of Christians in given LA, and their Non-response rate\", y_axis_label=\"Non-response Rate\", x_axis_label=\"Percentage of Christians in given LA\", tooltips = tool)\n",
    "output_notebook()\n",
    "\n",
    "p2.scatter(\"Christian_%\", \"Group_Percentages\", source = b, fill_alpha = 0.5, size = 10)\n",
    "\n",
    "show(p2)"
   ]
  },
  {
   "cell_type": "code",
   "execution_count": null,
   "id": "caed6979",
   "metadata": {},
   "outputs": [],
   "source": [
    "from scipy.stats import pearsonr\n",
    "\n",
    "\n",
    "correlation, _ = pearsonr(b['Christian_%'], b.Group_Percentages)\n",
    "\n",
    "print(f\"Pearson correlation coefficient: {correlation:.2f}\")"
   ]
  },
  {
   "cell_type": "code",
   "execution_count": null,
   "id": "f4d99454",
   "metadata": {},
   "outputs": [],
   "source": [
    "from scipy.stats import spearmanr\n",
    "\n",
    "correlation_coefficient, p_value = spearmanr(b['Christian_%'], b.Group_Percentages)\n",
    "\n",
    "print(f\"Spearman's rank correlation coefficient: {correlation_coefficient}\")\n",
    "print(f\"P-value: {p_value}\")"
   ]
  },
  {
   "cell_type": "markdown",
   "id": "86d0ae44",
   "metadata": {},
   "source": [
    "### MUSLIMS"
   ]
  },
  {
   "cell_type": "code",
   "execution_count": null,
   "id": "fa18aae1",
   "metadata": {},
   "outputs": [],
   "source": [
    "muslim, c = subset_rel('Muslim')"
   ]
  },
  {
   "cell_type": "code",
   "execution_count": null,
   "id": "d4fdd767",
   "metadata": {},
   "outputs": [],
   "source": [
    "c.head()"
   ]
  },
  {
   "cell_type": "code",
   "execution_count": null,
   "id": "f336c1a6",
   "metadata": {},
   "outputs": [],
   "source": [
    "muslim.Observation.sum() / rel.Observation.sum() * 100"
   ]
  },
  {
   "cell_type": "code",
   "execution_count": null,
   "id": "1c342c3d",
   "metadata": {},
   "outputs": [],
   "source": [
    "c.Observation.sum()"
   ]
  },
  {
   "cell_type": "code",
   "execution_count": null,
   "id": "07ed24d9",
   "metadata": {},
   "outputs": [],
   "source": [
    "from bokeh.transform import factor_cmap, factor_mark\n",
    "from bokeh.plotting import figure, show\n",
    "from bokeh.palettes import Category10\n",
    "\n",
    "tool = [\n",
    "    (\"index\", \"$index\"),\n",
    "    (\"(x,y)\", \"($x, $y)\"),\n",
    "    (\"name\",\"@LA_name\"),\n",
    "]\n",
    "# p1.legend.location = \"bottom_right\"\n",
    "# p1.legend.click_policy=\"hide\"\n",
    "# p1.legend.title = \"Regions\"\n",
    "\n",
    "# regions = df.region_x.unique()\n",
    "# urban = df.Urb_Rur.unique()\n",
    "\n",
    "\n",
    "p2 = figure(title=\"Relationship between % of Muslims in given LA, and their Non-response rate\", y_axis_label=\"Non-response Rate\", x_axis_label=\"Percentage of Muslims in given LA\", tooltips = tool)\n",
    "output_notebook()\n",
    "\n",
    "p2.scatter(\"Muslim_%\", \"Group_Percentages\", source = c, fill_alpha = 0.5, size = 10)\n",
    "\n",
    "show(p2)"
   ]
  },
  {
   "cell_type": "code",
   "execution_count": null,
   "id": "76fc65cd",
   "metadata": {},
   "outputs": [],
   "source": [
    "correlation, _ = pearsonr(c['Muslim_%'], c.Group_Percentages)\n",
    "\n",
    "print(f\"Pearson correlation coefficient: {correlation:.2f}\")"
   ]
  },
  {
   "cell_type": "code",
   "execution_count": null,
   "id": "10dd433c",
   "metadata": {},
   "outputs": [],
   "source": [
    "correlation_coefficient, p_value = spearmanr(c['Muslim_%'], c.Group_Percentages)\n",
    "\n",
    "print(f\"Spearman's rank correlation coefficient: {correlation_coefficient}\")\n",
    "print(f\"P-value: {p_value}\")"
   ]
  },
  {
   "cell_type": "markdown",
   "id": "387cdbac",
   "metadata": {},
   "source": [
    "### OTHER RELIGION"
   ]
  },
  {
   "cell_type": "code",
   "execution_count": null,
   "id": "ed68d46e",
   "metadata": {},
   "outputs": [],
   "source": [
    "other = rel1[(rel1.Religion_categories == 'Other religion')]\n",
    "other.head(10)"
   ]
  },
  {
   "cell_type": "code",
   "execution_count": null,
   "id": "093e0716",
   "metadata": {},
   "outputs": [],
   "source": [
    "other['Other_%'] = ''\n",
    "\n",
    "for i in other.LA_code.unique():\n",
    "    \n",
    "    v = other[other.LA_code == i]\n",
    "    \n",
    "    perc = v.Group_Percentages.sum()\n",
    "    \n",
    "    other.loc[v.index, 'Other_%'] = perc"
   ]
  },
  {
   "cell_type": "code",
   "execution_count": null,
   "id": "3279ee1b",
   "metadata": {},
   "outputs": [],
   "source": [
    "d = other[other.SO_categories == 'Not answered']"
   ]
  },
  {
   "cell_type": "code",
   "execution_count": null,
   "id": "a5a4bfd7",
   "metadata": {},
   "outputs": [],
   "source": [
    "from bokeh.transform import factor_cmap, factor_mark\n",
    "from bokeh.plotting import figure, show\n",
    "from bokeh.palettes import Category10\n",
    "\n",
    "tool = [\n",
    "    (\"index\", \"$index\"),\n",
    "    (\"(x,y)\", \"($x, $y)\"),\n",
    "    (\"name\",\"@LA_name\"),\n",
    "]\n",
    "# p1.legend.location = \"bottom_right\"\n",
    "# p1.legend.click_policy=\"hide\"\n",
    "# p1.legend.title = \"Regions\"\n",
    "\n",
    "# regions = df.region_x.unique()\n",
    "# urban = df.Urb_Rur.unique()\n",
    "\n",
    "\n",
    "p2 = figure(title=\"Relationship between % of Other religions in given LA, and their Non-response rate\", y_axis_label=\"Non-response Rate\", x_axis_label=\"Percentage of Other religions in given LA\", tooltips = tool)\n",
    "output_notebook()\n",
    "\n",
    "p2.scatter(\"Other_%\", \"Group_Percentages\", source = d, fill_alpha = 0.5, size = 10)\n",
    "\n",
    "show(p2)\n"
   ]
  },
  {
   "cell_type": "code",
   "execution_count": null,
   "id": "a4a59c43",
   "metadata": {},
   "outputs": [],
   "source": [
    "correlation, _ = pearsonr(d['Other_%'], d.Group_Percentages)\n",
    "\n",
    "print(f\"Pearson correlation coefficient: {correlation:.2f}\")"
   ]
  },
  {
   "cell_type": "code",
   "execution_count": null,
   "id": "bdc7a9d6",
   "metadata": {},
   "outputs": [],
   "source": [
    "correlation_coefficient, p_value = spearmanr(d['Other_%'], d.Group_Percentages)\n",
    "\n",
    "print(f\"Spearman's rank correlation coefficient: {correlation_coefficient}\")\n",
    "print(f\"P-value: {p_value}\")"
   ]
  },
  {
   "cell_type": "markdown",
   "id": "356eeba2",
   "metadata": {},
   "source": [
    "### BUDDHIST"
   ]
  },
  {
   "cell_type": "code",
   "execution_count": null,
   "id": "deb9b0c5",
   "metadata": {},
   "outputs": [],
   "source": [
    "buddhist, e = subset_rel('Buddhist')"
   ]
  },
  {
   "cell_type": "code",
   "execution_count": null,
   "id": "7b7ffd48",
   "metadata": {},
   "outputs": [],
   "source": [
    "from bokeh.transform import factor_cmap, factor_mark\n",
    "from bokeh.plotting import figure, show\n",
    "from bokeh.palettes import Category10\n",
    "\n",
    "tool = [\n",
    "    (\"index\", \"$index\"),\n",
    "    (\"(x,y)\", \"($x, $y)\"),\n",
    "    (\"name\",\"@LA_name\"),\n",
    "]\n",
    "# p1.legend.location = \"bottom_right\"\n",
    "# p1.legend.click_policy=\"hide\"\n",
    "# p1.legend.title = \"Regions\"\n",
    "\n",
    "# regions = df.region_x.unique()\n",
    "# urban = df.Urb_Rur.unique()\n",
    "\n",
    "\n",
    "p2 = figure(title=\"Relationship between % of Buddhists in given LA, and their Non-response rate\", y_axis_label=\"Non-response Rate\", x_axis_label=\"Percentage of Buddhists in given LA\", tooltips = tool)\n",
    "output_notebook()\n",
    "\n",
    "p2.scatter(\"Buddhist_%\", \"Group_Percentages\", source = e, fill_alpha = 0.5, size = 10)\n",
    "\n",
    "show(p2)\n"
   ]
  },
  {
   "cell_type": "code",
   "execution_count": null,
   "id": "746eacce",
   "metadata": {},
   "outputs": [],
   "source": [
    "correlation, _ = pearsonr(e['Buddhist_%'], e.Group_Percentages)\n",
    "\n",
    "print(f\"Pearson correlation coefficient: {correlation:.2f}\")"
   ]
  },
  {
   "cell_type": "code",
   "execution_count": null,
   "id": "16fc5259",
   "metadata": {},
   "outputs": [],
   "source": [
    "correlation_coefficient, p_value = spearmanr(e['Buddhist_%'], e.Group_Percentages)\n",
    "\n",
    "print(f\"Spearman's rank correlation coefficient: {correlation_coefficient}\")\n",
    "print(f\"P-value: {p_value}\")"
   ]
  },
  {
   "cell_type": "markdown",
   "id": "e214e3ea",
   "metadata": {},
   "source": [
    "### JEWISH"
   ]
  },
  {
   "cell_type": "code",
   "execution_count": null,
   "id": "0d95c410",
   "metadata": {},
   "outputs": [],
   "source": [
    "jewish, f = subset_rel('Jewish')"
   ]
  },
  {
   "cell_type": "code",
   "execution_count": null,
   "id": "442a977a",
   "metadata": {},
   "outputs": [],
   "source": [
    "from bokeh.transform import factor_cmap, factor_mark\n",
    "from bokeh.plotting import figure, show\n",
    "from bokeh.palettes import Category10\n",
    "\n",
    "tool = [\n",
    "    (\"index\", \"$index\"),\n",
    "    (\"(x,y)\", \"($x, $y)\"),\n",
    "    (\"name\",\"@LA_name\"),\n",
    "]\n",
    "# p1.legend.location = \"bottom_right\"\n",
    "# p1.legend.click_policy=\"hide\"\n",
    "# p1.legend.title = \"Regions\"\n",
    "\n",
    "# regions = df.region_x.unique()\n",
    "# urban = df.Urb_Rur.unique()\n",
    "\n",
    "\n",
    "p2 = figure(title=\"Relationship between % of Jewish people in given LA, and their Non-response rate\", y_axis_label=\"Non-response Rate\", x_axis_label=\"Percentage of Jewish people in given LA\", tooltips = tool)\n",
    "output_notebook()\n",
    "\n",
    "p2.scatter(\"Jewish_%\", \"Group_Percentages\", source = f, fill_alpha = 0.5, size = 10)\n",
    "\n",
    "show(p2)"
   ]
  },
  {
   "cell_type": "code",
   "execution_count": null,
   "id": "159d7be8",
   "metadata": {},
   "outputs": [],
   "source": [
    "correlation, _ = pearsonr(f['Jewish_%'], f.Group_Percentages)\n",
    "\n",
    "print(f\"Pearson correlation coefficient: {correlation:.2f}\")"
   ]
  },
  {
   "cell_type": "code",
   "execution_count": null,
   "id": "09e420c1",
   "metadata": {},
   "outputs": [],
   "source": [
    "correlation_coefficient, p_value = spearmanr(f['Jewish_%'], f.Group_Percentages)\n",
    "\n",
    "print(f\"Spearman's rank correlation coefficient: {correlation_coefficient}\")\n",
    "print(f\"P-value: {p_value}\")"
   ]
  },
  {
   "cell_type": "markdown",
   "id": "375f0ce3",
   "metadata": {},
   "source": [
    "### HINDU"
   ]
  },
  {
   "cell_type": "code",
   "execution_count": null,
   "id": "c8181eaa",
   "metadata": {},
   "outputs": [],
   "source": [
    "hindu, g = subset_rel('Hindu')"
   ]
  },
  {
   "cell_type": "code",
   "execution_count": null,
   "id": "5d0f80b5",
   "metadata": {},
   "outputs": [],
   "source": [
    "from bokeh.transform import factor_cmap, factor_mark\n",
    "from bokeh.plotting import figure, show\n",
    "from bokeh.palettes import Category10\n",
    "\n",
    "tool = [\n",
    "    (\"index\", \"$index\"),\n",
    "    (\"(x,y)\", \"($x, $y)\"),\n",
    "    (\"name\",\"@LA_name\"),\n",
    "]\n",
    "# p1.legend.location = \"bottom_right\"\n",
    "# p1.legend.click_policy=\"hide\"\n",
    "# p1.legend.title = \"Regions\"\n",
    "\n",
    "# regions = df.region_x.unique()\n",
    "# urban = df.Urb_Rur.unique()\n",
    "\n",
    "\n",
    "p2 = figure(title=\"Relationship between % of Hindus in given LA, and their Non-response rate\", y_axis_label=\"Non-response Rate\", x_axis_label=\"Percentage of Hindus in given LA\", tooltips = tool)\n",
    "output_notebook()\n",
    "\n",
    "p2.scatter(\"Hindu_%\", \"Group_Percentages\", source = g, fill_alpha = 0.5, size = 10)\n",
    "\n",
    "show(p2)"
   ]
  },
  {
   "cell_type": "code",
   "execution_count": null,
   "id": "95c85f31",
   "metadata": {},
   "outputs": [],
   "source": [
    "correlation, _ = pearsonr(g[\"Hindu_%\"], g[\"Group_Percentages\"])\n",
    "\n",
    "print(f\"Pearson correlation coefficient: {correlation:.2f}\")"
   ]
  },
  {
   "cell_type": "code",
   "execution_count": null,
   "id": "22bf66a4",
   "metadata": {},
   "outputs": [],
   "source": [
    "correlation_coefficient, p_value = spearmanr(g[\"Hindu_%\"], g[\"Group_Percentages\"])\n",
    "\n",
    "print(f\"Spearman's rank correlation coefficient: {correlation_coefficient}\")\n",
    "print(f\"P-value: {p_value}\")"
   ]
  },
  {
   "cell_type": "markdown",
   "id": "85955dd0",
   "metadata": {},
   "source": [
    "### SIKH"
   ]
  },
  {
   "cell_type": "code",
   "execution_count": null,
   "id": "62ef5f10",
   "metadata": {},
   "outputs": [],
   "source": [
    "sikh, h = subset_rel('Sikh')"
   ]
  },
  {
   "cell_type": "code",
   "execution_count": null,
   "id": "6ab62d9a",
   "metadata": {},
   "outputs": [],
   "source": [
    "from bokeh.transform import factor_cmap, factor_mark\n",
    "from bokeh.plotting import figure, show\n",
    "from bokeh.palettes import Category10\n",
    "\n",
    "tool = [\n",
    "    (\"index\", \"$index\"),\n",
    "    (\"(x,y)\", \"($x, $y)\"),\n",
    "    (\"name\",\"@LA_name\"),\n",
    "]\n",
    "# p1.legend.location = \"bottom_right\"\n",
    "# p1.legend.click_policy=\"hide\"\n",
    "# p1.legend.title = \"Regions\"\n",
    "\n",
    "# regions = df.region_x.unique()\n",
    "# urban = df.Urb_Rur.unique()\n",
    "\n",
    "\n",
    "p2 = figure(title=\"Relationship between % of Sikhs in given LA, and their Non-response rate\", y_axis_label=\"Non-response Rate\", x_axis_label=\"Percentage of Sikhs in given LA\", tooltips = tool)\n",
    "output_notebook()\n",
    "\n",
    "p2.scatter(\"Sikh_%\", \"Group_Percentages\", source = h, fill_alpha = 0.5, size = 10)\n",
    "\n",
    "show(p2)"
   ]
  },
  {
   "cell_type": "code",
   "execution_count": null,
   "id": "b66ddc9a",
   "metadata": {},
   "outputs": [],
   "source": [
    "correlation, _ = pearsonr(h[\"Sikh_%\"], h[\"Group_Percentages\"])\n",
    "\n",
    "print(f\"Pearson correlation coefficient: {correlation:.2f}\")"
   ]
  },
  {
   "cell_type": "code",
   "execution_count": null,
   "id": "13da4d3b",
   "metadata": {},
   "outputs": [],
   "source": [
    "correlation_coefficient, p_value = spearmanr(h[\"Sikh_%\"], h[\"Group_Percentages\"])\n",
    "\n",
    "print(f\"Spearman's rank correlation coefficient: {correlation_coefficient}\")\n",
    "print(f\"P-value: {p_value}\")"
   ]
  },
  {
   "cell_type": "code",
   "execution_count": null,
   "id": "ff2caf0d",
   "metadata": {},
   "outputs": [],
   "source": [
    "# List of DataFrames and their corresponding suffixes\n",
    "dataframes = [(x, '_Atheist'), (b, '_Christian'), (c, '_Muslim'), (d, '_Other'), (e, '_Buddhist'), (f, '_Jewish'), (g, '_Hindu'), (h, '_Sikh')]\n",
    "\n",
    "# Merge the DataFrames one by one\n",
    "merged_df2 = dataframes[0][0]  # Initialize with the first DataFrame\n",
    "for df, suffix in dataframes[1:]:\n",
    "    merged_df2 = merged_df2.merge(df, on=['LA_code', 'LA_name', 'SO_code', 'SO_categories'], suffixes=('', suffix))\n",
    "    merged_df2 = merged_df2.rename(columns={'Total_counts': f'Total_counts{suffix}', 'Total': f'Total{suffix}'})"
   ]
  },
  {
   "cell_type": "code",
   "execution_count": null,
   "id": "7807c2ee",
   "metadata": {},
   "outputs": [],
   "source": [
    "merged_df2 = merged_df2.rename(columns = {'Group_Percentages': 'Group_Percentages_No religion'})"
   ]
  },
  {
   "cell_type": "code",
   "execution_count": null,
   "id": "dd5ebf15",
   "metadata": {},
   "outputs": [],
   "source": [
    "merged_df2.columns"
   ]
  },
  {
   "cell_type": "code",
   "execution_count": null,
   "id": "2d454986",
   "metadata": {},
   "outputs": [],
   "source": [
    "cols = [\"No religion_%\", \"Christian_%\", \"Muslim_%\", \"Other_%\", \"Buddhist_%\", \"Jewish_%\", \"Hindu_%\", \"Sikh_%\"\n",
    "       ,\"Group_Percentages_No religion\", \"Group_Percentages_Christian\", \"Group_Percentages_Muslim\",\n",
    "       \"Group_Percentages_Other\", \"Group_Percentages_Buddhist\", \"Group_Percentages_Jewish\", \"Group_Percentages_Hindu\",\n",
    "       \"Group_Percentages_Sikh\"]"
   ]
  },
  {
   "cell_type": "code",
   "execution_count": null,
   "id": "0f5f1e03",
   "metadata": {},
   "outputs": [],
   "source": [
    "# List of religions\n",
    "religions = [\"No religion\", \"Christian\", \"Muslim\", \"Other\", \"Buddhist\", \"Jewish\", \"Hindu\", \"Sikh\"]\n",
    "\n",
    "# Preparing the DataFrame for correlation\n",
    "correlation_values = []\n",
    "\n",
    "for religion in religions:\n",
    "    non_response = pd.to_numeric(merged_df2[f\"{religion}_%\"], errors = 'coerce')\n",
    "    percentage = pd.to_numeric(merged_df2[f\"Group_Percentages_{religion}\"], errors = 'coerce')\n",
    "    correlation = non_response.corr(percentage)\n",
    "    correlation_values.append(correlation)\n",
    "\n",
    "\n",
    "    \n",
    "# Create a DataFrame for the correlation values\n",
    "corr_df = pd.DataFrame(correlation_values, index=religions, columns=[\"Correlation\"])\n",
    "\n",
    "# Display the DataFrame\n",
    "print(corr_df)\n",
    "\n",
    "# Display a heatmap of the DataFrame\n",
    "plt.figure(figsize=(8, 6))\n",
    "sns.heatmap(corr_df, annot=True, fmt=\".2f\", linewidths=.5, cmap='coolwarm')\n",
    "\n",
    "plt.show()"
   ]
  },
  {
   "cell_type": "code",
   "execution_count": null,
   "id": "b253f761",
   "metadata": {},
   "outputs": [],
   "source": [
    "import pandas as pd\n",
    "\n",
    "religions = [\"No religion\", \"Christian\", \"Muslim\", \"Other\", \"Buddhist\", \"Jewish\", \"Hindu\", \"Sikh\"]\n",
    "non_response_cols = [f\"{religion}_%\" for religion in religions]\n",
    "group_percentage_cols = [f\"Group_Percentages_{religion}\" for religion in religions]\n",
    "\n",
    "# Converting columns to numeric\n",
    "for col in non_response_cols + group_percentage_cols:\n",
    "    merged_df2[col] = pd.to_numeric(merged_df2[col], errors='coerce')\n",
    "\n",
    "df_subset = merged_df2[non_response_cols + group_percentage_cols]\n",
    "\n",
    "corr_matrix = df_subset.corr()\n"
   ]
  },
  {
   "cell_type": "code",
   "execution_count": null,
   "id": "118221f5",
   "metadata": {},
   "outputs": [],
   "source": [
    "corr_submatrix = corr_matrix.loc[non_response_cols, group_percentage_cols]"
   ]
  },
  {
   "cell_type": "code",
   "execution_count": null,
   "id": "082424e5",
   "metadata": {},
   "outputs": [],
   "source": [
    "plt.figure(figsize=(10, 8))\n",
    "sns.heatmap(corr_submatrix, annot=True, fmt=\".2f\", linewidths=.5, cmap='coolwarm')\n",
    "plt.show()"
   ]
  },
  {
   "cell_type": "code",
   "execution_count": null,
   "id": "6ba421f2",
   "metadata": {},
   "outputs": [],
   "source": [
    "# Create a mask to display only the lower triangle of the matrix (since it's mirrored around its \n",
    "# top-left to bottom-right diagonal).\n",
    "mask = np.triu(np.ones_like(corr_matrix, dtype=bool))"
   ]
  },
  {
   "cell_type": "code",
   "execution_count": null,
   "id": "37462225",
   "metadata": {},
   "outputs": [],
   "source": [
    "# Create the heatmap using seaborn\n",
    "plt.figure(figsize=(10, 8))\n",
    "sns.heatmap(corr_matrix, mask=mask, annot=True, fmt=\".2f\", linewidths=.5, cmap='coolwarm')\n",
    "\n",
    "plt.show()"
   ]
  },
  {
   "cell_type": "code",
   "execution_count": null,
   "id": "ee043c2a",
   "metadata": {},
   "outputs": [],
   "source": [
    "df_subset.head()"
   ]
  },
  {
   "cell_type": "code",
   "execution_count": null,
   "id": "6d951e83",
   "metadata": {},
   "outputs": [],
   "source": [
    "df_subset = df_subset.apply(pd.to_numeric, errors='coerce')"
   ]
  },
  {
   "cell_type": "code",
   "execution_count": null,
   "id": "2a53ff8b",
   "metadata": {},
   "outputs": [],
   "source": [
    "corr_matrix = df_subset.corr()"
   ]
  },
  {
   "cell_type": "code",
   "execution_count": null,
   "id": "41594758",
   "metadata": {},
   "outputs": [],
   "source": [
    "mask = np.triu(np.ones_like(corr_matrix, dtype=bool))"
   ]
  },
  {
   "cell_type": "code",
   "execution_count": null,
   "id": "678f8def",
   "metadata": {},
   "outputs": [],
   "source": [
    "corr_matrix"
   ]
  },
  {
   "cell_type": "code",
   "execution_count": null,
   "id": "3191a1bd",
   "metadata": {},
   "outputs": [],
   "source": [
    "plt.figure(figsize=(10, 8))\n",
    "sns.heatmap(corr_matrix, mask=mask, annot=True, fmt=\".2f\", linewidths=.5, cmap='coolwarm')\n",
    "\n",
    "plt.show()"
   ]
  },
  {
   "cell_type": "markdown",
   "id": "901ab296",
   "metadata": {},
   "source": [
    "# Outputs"
   ]
  },
  {
   "cell_type": "code",
   "execution_count": null,
   "id": "e3fe3d73",
   "metadata": {},
   "outputs": [],
   "source": [
    "# Dfs for scatterplots - will be imported into SO_outputs notebook\n",
    "\n",
    "non_response_by_religion.to_csv('/Users/loucap/Documents/GitWork/InteractiveGender/Data/nr_totals_SO.csv', index = False)\n",
    "total_by_religion.to_csv('/Users/loucap/Documents/GitWork/InteractiveGender/Data/gen_totals_SO.csv', index = False)\n",
    "merged_df.to_csv('/Users/loucap/Documents/GitWork/InteractiveGender/Data/cleaned_lang_SO.csv', index = False)\n",
    "merged_df2.to_csv('/Users/loucap/Documents/GitWork/InteractiveGender/Data/cleaned_religion_SO.csv', index = False)\n",
    "rural_df.to_csv('/Users/loucap/Documents/GitWork/InteractiveGender/Data/urban_rural_SO.csv', index = False)"
   ]
  },
  {
   "cell_type": "code",
   "execution_count": null,
   "id": "2549d2d2",
   "metadata": {
    "scrolled": true
   },
   "outputs": [],
   "source": [
    "merged_df.head()"
   ]
  },
  {
   "cell_type": "code",
   "execution_count": null,
   "id": "32e5b7aa",
   "metadata": {},
   "outputs": [],
   "source": [
    "merged_df2"
   ]
  }
 ],
 "metadata": {
  "kernelspec": {
   "display_name": "newenv",
   "language": "python",
   "name": "newenv"
  },
  "language_info": {
   "codemirror_mode": {
    "name": "ipython",
    "version": 3
   },
   "file_extension": ".py",
   "mimetype": "text/x-python",
   "name": "python",
   "nbconvert_exporter": "python",
   "pygments_lexer": "ipython3",
   "version": "3.9.16"
  },
  "toc": {
   "base_numbering": 1,
   "nav_menu": {},
   "number_sections": true,
   "sideBar": true,
   "skip_h1_title": false,
   "title_cell": "Table of Contents",
   "title_sidebar": "Contents",
   "toc_cell": true,
   "toc_position": {},
   "toc_section_display": true,
   "toc_window_display": true
  },
  "varInspector": {
   "cols": {
    "lenName": 16,
    "lenType": 16,
    "lenVar": 40
   },
   "kernels_config": {
    "python": {
     "delete_cmd_postfix": "",
     "delete_cmd_prefix": "del ",
     "library": "var_list.py",
     "varRefreshCmd": "print(var_dic_list())"
    },
    "r": {
     "delete_cmd_postfix": ") ",
     "delete_cmd_prefix": "rm(",
     "library": "var_list.r",
     "varRefreshCmd": "cat(var_dic_list()) "
    }
   },
   "types_to_exclude": [
    "module",
    "function",
    "builtin_function_or_method",
    "instance",
    "_Feature"
   ],
   "window_display": false
  }
 },
 "nbformat": 4,
 "nbformat_minor": 5
}
